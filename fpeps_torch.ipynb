{
 "cells": [
  {
   "cell_type": "code",
   "execution_count": 7,
   "metadata": {},
   "outputs": [],
   "source": [
    "from fermion_utils import *\n",
    "# import flax.linen as nn\n",
    "# from flax.core import FrozenDict\n",
    "# from flax import traverse_util\n",
    "import netket as nk\n",
    "import netket.experimental as nkx\n",
    "import netket.nn as nknn\n",
    "\n",
    "from math import pi\n",
    "\n",
    "from netket.experimental.operator.fermion import destroy as c\n",
    "from netket.experimental.operator.fermion import create as cdag\n",
    "from netket.experimental.operator.fermion import number as nc"
   ]
  },
  {
   "cell_type": "code",
   "execution_count": 8,
   "metadata": {},
   "outputs": [
    {
     "name": "stdout",
     "output_type": "stream",
     "text": [
      "Exact ground state energy per site: -0.39863830653922744\n"
     ]
    }
   ],
   "source": [
    "# Define the lattice shape\n",
    "L = 4  # Side of the square\n",
    "Lx = int(L)\n",
    "Ly = int(L/2)\n",
    "# graph = nk.graph.Square(L)\n",
    "graph = nk.graph.Grid([Lx,Ly], pbc=False)\n",
    "N = graph.n_nodes\n",
    "\n",
    "\n",
    "# Define the fermion filling and the Hilbert space\n",
    "N_f = int(Lx*Ly/2-1)\n",
    "hi = nkx.hilbert.SpinOrbitalFermions(N, s=None, n_fermions=N_f)\n",
    "\n",
    "\n",
    "# Define the Hubbard Hamiltonian\n",
    "t = 1.0\n",
    "V = 4.0\n",
    "H = 0.0\n",
    "for (i, j) in graph.edges(): # Definition of the Hubbard Hamiltonian\n",
    "    H -= t * (cdag(hi,i) * c(hi,j) + cdag(hi,j) * c(hi,i))\n",
    "    H += V * nc(hi,i) * nc(hi,j)\n",
    "\n",
    "\n",
    "# Exact diagonalization of the Hamiltonian for benchmark\n",
    "sp_h = H.to_sparse() # Convert the Hamiltonian to a sparse matrix\n",
    "from scipy.sparse.linalg import eigsh\n",
    "eig_vals, eig_vecs = eigsh(sp_h, k=2, which=\"SA\")\n",
    "E_gs = eig_vals[0]\n",
    "print(\"Exact ground state energy per site:\", E_gs/N)"
   ]
  },
  {
   "cell_type": "code",
   "execution_count": 9,
   "metadata": {},
   "outputs": [
    {
     "name": "stderr",
     "output_type": "stream",
     "text": [
      "n=50, tau=0.3000, energy~-0.359807: 100%|##########| 50/50 [00:01<00:00, 29.89it/s]\n",
      "n=100, tau=0.1000, energy~-0.399986: 100%|##########| 50/50 [00:01<00:00, 29.56it/s]\n"
     ]
    },
    {
     "data": {
      "text/html": [
       "<samp style='font-size: 12px;'><details><summary><b style=\"color: #da64a1;\">fPEPS</b>(tensors=8, indices=18, Lx=4, Ly=2, max_bond=6)</summary><samp style='font-size: 12px;'><details><summary><b style=\"color: #e55471;\">Tensor</b>(shape=(<b style=\"color: #a4de79;\">6</b>, <b style=\"color: #a4de79;\">6</b>, <b style=\"color: #828fdd;\">2</b>), inds=[<b style=\"color: #5ee1a8;\">b(0, 0)-(0, 1)</b>, <b style=\"color: #959bdf;\">b(0, 0)-(1, 0)</b>, <b style=\"color: #5fce5e;\">k0,0</b>], tags={<b style=\"color: #8b77de;\">I0,0</b>, <b style=\"color: #d44388;\">X0</b>, <b style=\"color: #b1d42e;\">Y0</b>}),</summary>backend=<b style=\"color: #5ee466;\">symmray</b>, dtype=<b style=\"color: #75d2c6;\">float64</b>, data=U1FermionicArray(shape~(6, 6, 2):[+++], charge=0, num_blocks=5)</details></samp><samp style='font-size: 12px;'><details><summary><b style=\"color: #e55471;\">Tensor</b>(shape=(<b style=\"color: #a4de79;\">6</b>, <b style=\"color: #a4de79;\">6</b>, <b style=\"color: #828fdd;\">2</b>), inds=[<b style=\"color: #5ee1a8;\">b(0, 0)-(0, 1)</b>, <b style=\"color: #d1e38e;\">b(0, 1)-(1, 1)</b>, <b style=\"color: #de9a98;\">k0,1</b>], tags={<b style=\"color: #92d399;\">I0,1</b>, <b style=\"color: #d44388;\">X0</b>, <b style=\"color: #6c45d0;\">Y1</b>}),</summary>backend=<b style=\"color: #5ee466;\">symmray</b>, dtype=<b style=\"color: #75d2c6;\">float64</b>, data=U1FermionicArray(shape~(6, 6, 2):[-++], charge=0, num_blocks=5)</details></samp><samp style='font-size: 12px;'><details><summary><b style=\"color: #e55471;\">Tensor</b>(shape=(<b style=\"color: #a4de79;\">6</b>, <b style=\"color: #a4de79;\">6</b>, <b style=\"color: #a4de79;\">6</b>, <b style=\"color: #828fdd;\">2</b>), inds=[<b style=\"color: #959bdf;\">b(0, 0)-(1, 0)</b>, <b style=\"color: #a5e49d;\">b(1, 0)-(1, 1)</b>, <b style=\"color: #46d59d;\">b(1, 0)-(2, 0)</b>, <b style=\"color: #84ce75;\">k1,0</b>], tags={<b style=\"color: #c28de0;\">I1,0</b>, <b style=\"color: #6fe251;\">X1</b>, <b style=\"color: #b1d42e;\">Y0</b>}),</summary>backend=<b style=\"color: #5ee466;\">symmray</b>, dtype=<b style=\"color: #75d2c6;\">float64</b>, data=...</details></samp><samp style='font-size: 12px;'><details><summary><b style=\"color: #e55471;\">Tensor</b>(shape=(<b style=\"color: #a4de79;\">6</b>, <b style=\"color: #a4de79;\">6</b>, <b style=\"color: #a4de79;\">6</b>, <b style=\"color: #828fdd;\">2</b>), inds=[<b style=\"color: #d1e38e;\">b(0, 1)-(1, 1)</b>, <b style=\"color: #a5e49d;\">b(1, 0)-(1, 1)</b>, <b style=\"color: #ce7957;\">b(1, 1)-(2, 1)</b>, <b style=\"color: #d29586;\">k1,1</b>], tags={<b style=\"color: #d67b97;\">I1,1</b>, <b style=\"color: #6fe251;\">X1</b>, <b style=\"color: #6c45d0;\">Y1</b>}),</summary>backend=<b style=\"color: #5ee466;\">symmray</b>, dtype=<b style=\"color: #75d2c6;\">float64</b>, data=...</details></samp><samp style='font-size: 12px;'><details><summary><b style=\"color: #e55471;\">Tensor</b>(shape=(<b style=\"color: #a4de79;\">6</b>, <b style=\"color: #a4de79;\">6</b>, <b style=\"color: #a4de79;\">6</b>, <b style=\"color: #828fdd;\">2</b>), inds=[<b style=\"color: #46d59d;\">b(1, 0)-(2, 0)</b>, <b style=\"color: #cd2e7d;\">b(2, 0)-(2, 1)</b>, <b style=\"color: #db39c2;\">b(2, 0)-(3, 0)</b>, <b style=\"color: #aa87d0;\">k2,0</b>], tags={<b style=\"color: #d472d0;\">I2,0</b>, <b style=\"color: #c654d5;\">X2</b>, <b style=\"color: #b1d42e;\">Y0</b>}),</summary>backend=<b style=\"color: #5ee466;\">symmray</b>, dtype=<b style=\"color: #75d2c6;\">float64</b>, data=...</details></samp><samp style='font-size: 12px;'><details><summary><b style=\"color: #e55471;\">Tensor</b>(shape=(<b style=\"color: #a4de79;\">6</b>, <b style=\"color: #a4de79;\">6</b>, <b style=\"color: #a4de79;\">6</b>, <b style=\"color: #828fdd;\">2</b>), inds=[<b style=\"color: #ce7957;\">b(1, 1)-(2, 1)</b>, <b style=\"color: #cd2e7d;\">b(2, 0)-(2, 1)</b>, <b style=\"color: #83a9d6;\">b(2, 1)-(3, 1)</b>, <b style=\"color: #e1962d;\">k2,1</b>], tags={<b style=\"color: #77df7d;\">I2,1</b>, <b style=\"color: #c654d5;\">X2</b>, <b style=\"color: #6c45d0;\">Y1</b>}),</summary>backend=<b style=\"color: #5ee466;\">symmray</b>, dtype=<b style=\"color: #75d2c6;\">float64</b>, data=...</details></samp><samp style='font-size: 12px;'><details><summary><b style=\"color: #e55471;\">Tensor</b>(shape=(<b style=\"color: #a4de79;\">6</b>, <b style=\"color: #a4de79;\">6</b>, <b style=\"color: #828fdd;\">2</b>), inds=[<b style=\"color: #db39c2;\">b(2, 0)-(3, 0)</b>, <b style=\"color: #8ede94;\">b(3, 0)-(3, 1)</b>, <b style=\"color: #42d58f;\">k3,0</b>], tags={<b style=\"color: #57ccd3;\">I3,0</b>, <b style=\"color: #e5db50;\">X3</b>, <b style=\"color: #b1d42e;\">Y0</b>}),</summary>backend=<b style=\"color: #5ee466;\">symmray</b>, dtype=<b style=\"color: #75d2c6;\">float64</b>, data=U1FermionicArray(shape~(6, 6, 2):[-++], charge=1, num_blocks=5)</details></samp><samp style='font-size: 12px;'><details><summary><b style=\"color: #e55471;\">Tensor</b>(shape=(<b style=\"color: #a4de79;\">6</b>, <b style=\"color: #a4de79;\">6</b>, <b style=\"color: #828fdd;\">2</b>), inds=[<b style=\"color: #83a9d6;\">b(2, 1)-(3, 1)</b>, <b style=\"color: #8ede94;\">b(3, 0)-(3, 1)</b>, <b style=\"color: #cf3298;\">k3,1</b>], tags={<b style=\"color: #98d482;\">I3,1</b>, <b style=\"color: #e5db50;\">X3</b>, <b style=\"color: #6c45d0;\">Y1</b>}),</summary>backend=<b style=\"color: #5ee466;\">symmray</b>, dtype=<b style=\"color: #75d2c6;\">float64</b>, data=U1FermionicArray(shape~(6, 6, 2):[--+], charge=1, num_blocks=5)</details></samp></details></samp>"
      ],
      "text/plain": [
       "fPEPS(tensors=8, indices=18, Lx=4, Ly=2, max_bond=6)"
      ]
     },
     "execution_count": 9,
     "metadata": {},
     "output_type": "execute_result"
    }
   ],
   "source": [
    "# SU in quimb\n",
    "Lx = int(L)\n",
    "Ly = int(L/2)\n",
    "D = 6\n",
    "seed = 2\n",
    "symmetry = 'U1'\n",
    "peps, parity_config = generate_random_fpeps(Lx, Ly, D, seed, symmetry, Nf=N_f)\n",
    "\n",
    "edges = qtn.edges_2d_square(Lx, Ly)\n",
    "site_info = sr.utils.parse_edges_to_site_info(\n",
    "    edges,\n",
    "    D,\n",
    "    phys_dim=2,\n",
    "    site_ind_id=\"k{},{}\",\n",
    "    site_tag_id=\"I{},{}\",\n",
    ")\n",
    "\n",
    "t = 1.0\n",
    "V = 4.0\n",
    "mu = 0.0\n",
    "\n",
    "terms = {\n",
    "    (sitea, siteb): sr.fermi_hubbard_spinless_local_array(\n",
    "        t=t, V=V, mu=mu,\n",
    "        symmetry=symmetry,\n",
    "        coordinations=(\n",
    "            site_info[sitea]['coordination'],\n",
    "            site_info[siteb]['coordination'],\n",
    "        ),\n",
    "    ).fuse((0, 1), (2, 3))\n",
    "    for (sitea, siteb) in peps.gen_bond_coos()\n",
    "}\n",
    "ham = qtn.LocalHam2D(Lx, Ly, terms)\n",
    "su = qtn.SimpleUpdateGen(peps, ham, compute_energy_per_site=True,D=D, compute_energy_opts={\"max_distance\":2}, gate_opts={'cutoff':1e-12})\n",
    "\n",
    "# cluster energies may not be accuracte yet\n",
    "su.evolve(50, tau=0.3)\n",
    "su.evolve(50, tau=0.1)\n",
    "# su.evolve(100, tau=0.03)\n",
    "# su.evolve(100, tau=0.01)\n",
    "# su.evolve(100, tau=0.003)\n",
    "\n",
    "peps = su.get_state()\n",
    "peps.equalize_norms_(value=1)\n"
   ]
  },
  {
   "cell_type": "markdown",
   "metadata": {},
   "source": [
    "# Energy check"
   ]
  },
  {
   "cell_type": "code",
   "execution_count": 10,
   "metadata": {},
   "outputs": [
    {
     "data": {
      "text/plain": [
       "-0.390940200914433"
      ]
     },
     "execution_count": 10,
     "metadata": {},
     "output_type": "execute_result"
    }
   ],
   "source": [
    "def to_array_check(peps):\n",
    "    all_config = hi.all_states()\n",
    "    psi = np.asarray([peps.get_amp(config, conj=True).contract() for config in all_config])\n",
    "    # print(psi)\n",
    "    psi = psi/do('linalg.norm', psi)\n",
    "    return psi\n",
    "\n",
    "def compute_energy_check(model, hamiltonian):\n",
    "    psi_gs = to_array_check(model)\n",
    "    return psi_gs.conj().T@(hamiltonian@psi_gs)/N\n",
    "\n",
    "hamiltonian = H\n",
    "\n",
    "compute_energy_check(peps, hamiltonian)\n"
   ]
  },
  {
   "cell_type": "code",
   "execution_count": 11,
   "metadata": {},
   "outputs": [],
   "source": [
    "import torch\n",
    "import torch.nn as nn\n",
    "\n",
    "# psi.apply_to_arrays(lambda x: torch.tensor(x, dtype=torch.float32))\n",
    "# ham.apply_to_arrays(lambda x: torch.tensor(x, dtype=torch.float32))\n",
    "ham = qtn.LocalHam2D(Lx, Ly, terms)\n",
    "def convert_to_torch(blk_arr):\n",
    "    new_blks = { sector: torch.tensor(blk, dtype=torch.float32) for sector, blk in blk_arr.blocks.items() }\n",
    "    new_blk_arr = blk_arr.copy_with(blocks=new_blks)\n",
    "    return new_blk_arr\n",
    "\n",
    "ham.apply_to_arrays(lambda x: convert_to_torch(x))\n",
    "peps.apply_to_arrays(lambda x: torch.tensor(x, dtype=torch.float32))"
   ]
  },
  {
   "cell_type": "code",
   "execution_count": 12,
   "metadata": {},
   "outputs": [
    {
     "data": {
      "text/html": [
       "<samp style='font-size: 12px;'><details><summary><b style=\"color: #cde19a;\">PEPS</b>(tensors=8, indices=10, Lx=4, Ly=2, max_bond=6)</summary><samp style='font-size: 12px;'><details><summary><b style=\"color: #e55471;\">Tensor</b>(shape=(<b style=\"color: #a4de79;\">6</b>, <b style=\"color: #a4de79;\">6</b>), inds=[<b style=\"color: #5ee1a8;\">b(0, 0)-(0, 1)</b>, <b style=\"color: #959bdf;\">b(0, 0)-(1, 0)</b>], tags={<b style=\"color: #8b77de;\">I0,0</b>, <b style=\"color: #d44388;\">X0</b>, <b style=\"color: #b1d42e;\">Y0</b>, <b style=\"color: #e54e3c;\">bra</b>}),</summary>backend=<b style=\"color: #5ee466;\">symmray</b>, dtype=<b style=\"color: #bd83d3;\">float32</b>, data=U1FermionicArray(shape~(6, 6):[++], charge=0, num_blocks=3)</details></samp><samp style='font-size: 12px;'><details><summary><b style=\"color: #e55471;\">Tensor</b>(shape=(<b style=\"color: #a4de79;\">6</b>, <b style=\"color: #a4de79;\">6</b>), inds=[<b style=\"color: #5ee1a8;\">b(0, 0)-(0, 1)</b>, <b style=\"color: #d1e38e;\">b(0, 1)-(1, 1)</b>], tags={<b style=\"color: #92d399;\">I0,1</b>, <b style=\"color: #d44388;\">X0</b>, <b style=\"color: #6c45d0;\">Y1</b>, <b style=\"color: #e54e3c;\">bra</b>}),</summary>backend=<b style=\"color: #5ee466;\">symmray</b>, dtype=<b style=\"color: #bd83d3;\">float32</b>, data=U1FermionicArray(shape~(6, 6):[-+], charge=0, num_blocks=2)</details></samp><samp style='font-size: 12px;'><details><summary><b style=\"color: #e55471;\">Tensor</b>(shape=(<b style=\"color: #a4de79;\">6</b>, <b style=\"color: #a4de79;\">6</b>, <b style=\"color: #a4de79;\">6</b>), inds=[<b style=\"color: #959bdf;\">b(0, 0)-(1, 0)</b>, <b style=\"color: #a5e49d;\">b(1, 0)-(1, 1)</b>, <b style=\"color: #46d59d;\">b(1, 0)-(2, 0)</b>], tags={<b style=\"color: #c28de0;\">I1,0</b>, <b style=\"color: #6fe251;\">X1</b>, <b style=\"color: #b1d42e;\">Y0</b>, <b style=\"color: #e54e3c;\">bra</b>}),</summary>backend=<b style=\"color: #5ee466;\">symmray</b>, dtype=<b style=\"color: #bd83d3;\">float32</b>, data=...</details></samp><samp style='font-size: 12px;'><details><summary><b style=\"color: #e55471;\">Tensor</b>(shape=(<b style=\"color: #a4de79;\">6</b>, <b style=\"color: #a4de79;\">6</b>, <b style=\"color: #a4de79;\">6</b>), inds=[<b style=\"color: #d1e38e;\">b(0, 1)-(1, 1)</b>, <b style=\"color: #a5e49d;\">b(1, 0)-(1, 1)</b>, <b style=\"color: #ce7957;\">b(1, 1)-(2, 1)</b>], tags={<b style=\"color: #d67b97;\">I1,1</b>, <b style=\"color: #6fe251;\">X1</b>, <b style=\"color: #6c45d0;\">Y1</b>, <b style=\"color: #e54e3c;\">bra</b>}),</summary>backend=<b style=\"color: #5ee466;\">symmray</b>, dtype=<b style=\"color: #bd83d3;\">float32</b>, data=...</details></samp><samp style='font-size: 12px;'><details><summary><b style=\"color: #e55471;\">Tensor</b>(shape=(<b style=\"color: #a4de79;\">6</b>, <b style=\"color: #a4de79;\">6</b>, <b style=\"color: #a4de79;\">6</b>), inds=[<b style=\"color: #46d59d;\">b(1, 0)-(2, 0)</b>, <b style=\"color: #cd2e7d;\">b(2, 0)-(2, 1)</b>, <b style=\"color: #db39c2;\">b(2, 0)-(3, 0)</b>], tags={<b style=\"color: #d472d0;\">I2,0</b>, <b style=\"color: #c654d5;\">X2</b>, <b style=\"color: #b1d42e;\">Y0</b>, <b style=\"color: #e54e3c;\">bra</b>}),</summary>backend=<b style=\"color: #5ee466;\">symmray</b>, dtype=<b style=\"color: #bd83d3;\">float32</b>, data=...</details></samp><samp style='font-size: 12px;'><details><summary><b style=\"color: #e55471;\">Tensor</b>(shape=(<b style=\"color: #a4de79;\">6</b>, <b style=\"color: #a4de79;\">6</b>, <b style=\"color: #a4de79;\">6</b>), inds=[<b style=\"color: #ce7957;\">b(1, 1)-(2, 1)</b>, <b style=\"color: #cd2e7d;\">b(2, 0)-(2, 1)</b>, <b style=\"color: #83a9d6;\">b(2, 1)-(3, 1)</b>], tags={<b style=\"color: #77df7d;\">I2,1</b>, <b style=\"color: #c654d5;\">X2</b>, <b style=\"color: #6c45d0;\">Y1</b>, <b style=\"color: #e54e3c;\">bra</b>}),</summary>backend=<b style=\"color: #5ee466;\">symmray</b>, dtype=<b style=\"color: #bd83d3;\">float32</b>, data=...</details></samp><samp style='font-size: 12px;'><details><summary><b style=\"color: #e55471;\">Tensor</b>(shape=(<b style=\"color: #a4de79;\">6</b>, <b style=\"color: #a4de79;\">6</b>), inds=[<b style=\"color: #db39c2;\">b(2, 0)-(3, 0)</b>, <b style=\"color: #8ede94;\">b(3, 0)-(3, 1)</b>], tags={<b style=\"color: #57ccd3;\">I3,0</b>, <b style=\"color: #e5db50;\">X3</b>, <b style=\"color: #b1d42e;\">Y0</b>, <b style=\"color: #e54e3c;\">bra</b>}),</summary>backend=<b style=\"color: #5ee466;\">symmray</b>, dtype=<b style=\"color: #bd83d3;\">float32</b>, data=U1FermionicArray(shape~(6, 6):[-+], charge=2, num_blocks=2)</details></samp><samp style='font-size: 12px;'><details><summary><b style=\"color: #e55471;\">Tensor</b>(shape=(<b style=\"color: #a4de79;\">6</b>, <b style=\"color: #a4de79;\">6</b>), inds=[<b style=\"color: #83a9d6;\">b(2, 1)-(3, 1)</b>, <b style=\"color: #8ede94;\">b(3, 0)-(3, 1)</b>], tags={<b style=\"color: #98d482;\">I3,1</b>, <b style=\"color: #e5db50;\">X3</b>, <b style=\"color: #6c45d0;\">Y1</b>, <b style=\"color: #e54e3c;\">bra</b>}),</summary>backend=<b style=\"color: #5ee466;\">symmray</b>, dtype=<b style=\"color: #bd83d3;\">float32</b>, data=U1FermionicArray(shape~(6, 6):[--], charge=2, num_blocks=3)</details></samp></details></samp>"
      ],
      "text/plain": [
       "PEPS(tensors=8, indices=10, Lx=4, Ly=2, max_bond=6)"
      ]
     },
     "execution_count": 12,
     "metadata": {},
     "output_type": "execute_result"
    }
   ],
   "source": [
    "def product_bra_state(config, peps, symmetry='Z2'):\n",
    "    \"\"\"Spinless fermion product bra state.\"\"\"\n",
    "    product_tn = qtn.TensorNetwork()\n",
    "    backend = peps.tensors[0].data.backend\n",
    "    iterable_oddpos = iter(range(2*peps.nsites+1))\n",
    "    for n, site in zip(config, peps.sites):\n",
    "        p_ind = peps.site_ind_id.format(*site)\n",
    "        p_tag = peps.site_tag_id.format(*site)\n",
    "        tid = peps.sites.index(site)\n",
    "        nsites = peps.nsites\n",
    "        # use autoray to ensure the correct backend is used\n",
    "        with ar.backend_like(backend):\n",
    "            if symmetry == 'Z2':\n",
    "                data = [sr.Z2FermionicArray.from_blocks(blocks={(0,):do('array', [1.0,], like=backend)}, duals=(True,),symmetry='Z2', charge=0, oddpos=2*tid+1), # It doesn't matter if oddpos is None for even parity tensor.\n",
    "                        sr.Z2FermionicArray.from_blocks(blocks={(1,):do('array', [1.0,], like=backend)}, duals=(True,),symmetry='Z2',charge=1, oddpos=2*tid+1)\n",
    "                    ]\n",
    "            elif symmetry == 'U1':\n",
    "                data = [sr.U1FermionicArray.from_blocks(blocks={(0,):do('array', [1.0,], like=backend)}, duals=(True,),symmetry='U1', charge=0, oddpos=2*tid+1),\n",
    "                        sr.U1FermionicArray.from_blocks(blocks={(1,):do('array', [1.0,], like=backend)}, duals=(True,),symmetry='U1', charge=1, oddpos=2*tid+1)\n",
    "                    ]\n",
    "        tsr_data = data[int(n)] # BUG: does not fit in jax compilation, a concrete value is needed for traced arrays\n",
    "        tsr = qtn.Tensor(data=tsr_data, inds=(p_ind,),tags=(p_tag, 'bra'))\n",
    "        product_tn |= tsr\n",
    "    return product_tn\n",
    "\n",
    "def get_amp(peps, config, inplace=False, symmetry='Z2', conj=False):\n",
    "    \"\"\"Get the amplitude of a configuration in a PEPS.\"\"\"\n",
    "    if not inplace:\n",
    "        peps = peps.copy()\n",
    "    if conj:\n",
    "        amp = peps|product_bra_state(config, peps, symmetry).conj()\n",
    "    else:\n",
    "        amp = peps|product_bra_state(config, peps, symmetry)\n",
    "    for site in peps.sites:\n",
    "        site_tag = peps.site_tag_id.format(*site)\n",
    "        amp.contract_(tags=site_tag)\n",
    "\n",
    "    amp.view_as_(\n",
    "        qtn.PEPS,\n",
    "        site_ind_id=\"k{},{}\",\n",
    "        site_tag_id=\"I{},{}\",\n",
    "        x_tag_id=\"X{}\",\n",
    "        y_tag_id=\"Y{}\",\n",
    "        Lx=peps.Lx,\n",
    "        Ly=peps.Ly,\n",
    "    )\n",
    "    return amp\n",
    "# random_input = np.asarray(hi.all_states()[0])\n",
    "random_input = do('asarray', hi.all_states()[0], like=torch)\n",
    "get_amp(peps, random_input, symmetry='U1')"
   ]
  },
  {
   "cell_type": "code",
   "execution_count": 13,
   "metadata": {},
   "outputs": [
    {
     "name": "stdout",
     "output_type": "stream",
     "text": [
      "torch.Size([1, 8])\n"
     ]
    },
    {
     "name": "stderr",
     "output_type": "stream",
     "text": [
      "/tmp/ipykernel_24172/2253982592.py:83: UserWarning: Creating a tensor from a list of numpy.ndarrays is extremely slow. Please consider converting the list to a single numpy.ndarray with numpy.array() before converting to a tensor. (Triggered internally at ../torch/csrc/utils/tensor_new.cpp:278.)\n",
      "  random_input = torch.asarray([do('asarray', hi.all_states()[0], like=torch)])\n"
     ]
    },
    {
     "data": {
      "text/plain": [
       "tensor([1.0998e-05], grad_fn=<StackBackward0>)"
      ]
     },
     "execution_count": 13,
     "metadata": {},
     "output_type": "execute_result"
    }
   ],
   "source": [
    "import ast\n",
    "\n",
    "from torch.nn.parameter import Parameter\n",
    "\n",
    "class fTNModel(torch.nn.Module):\n",
    "\n",
    "    def __init__(self, ftn):\n",
    "        super().__init__()\n",
    "        # extract the raw arrays and a skeleton of the TN\n",
    "        params, self.skeleton = qtn.pack(ftn)\n",
    "\n",
    "        # Flatten the dictionary structure and assign each parameter\n",
    "        self.torch_params = {\n",
    "            tid: nn.ParameterDict({\n",
    "                str(sector): nn.Parameter(data)\n",
    "                for sector, data in blk_array.items()\n",
    "            })\n",
    "            for tid, blk_array in params.items()\n",
    "        }\n",
    "\n",
    "        # Get symmetry\n",
    "        self.symmetry = ftn.arrays[0].symmetry\n",
    "    \n",
    "    def parameters(self):\n",
    "        # Manually yield all parameters from the nested structure\n",
    "        for tid_dict in self.torch_params.values():\n",
    "            for param in tid_dict.values():\n",
    "                yield param\n",
    "    \n",
    "    def from_params_to_vec(self):\n",
    "        return torch.cat([param.data.flatten() for param in self.parameters()])\n",
    "    \n",
    "    def params_grad_to_vec(self):\n",
    "        param_grad_vec = torch.cat([param.grad.flatten() if param.grad is not None else torch.zeros_like(param).flatten() for param in self.parameters()])\n",
    "        return param_grad_vec\n",
    "    \n",
    "    def clear_grad(self):\n",
    "        for param in self.parameters():\n",
    "            param.grad = None\n",
    "    \n",
    "    def from_vec_to_params(self, vec, quimb_format=False):\n",
    "        # Reconstruct the original parameter structure (by unpacking from the flattened dict)\n",
    "        params = {}\n",
    "        idx = 0\n",
    "        for tid, blk_array in self.torch_params.items():\n",
    "            params[tid] = {}\n",
    "            for sector, data in blk_array.items():\n",
    "                shape = data.shape\n",
    "                size = data.numel()\n",
    "                if quimb_format:\n",
    "                    params[tid][ast.literal_eval(sector)] = vec[idx:idx+size].view(shape)\n",
    "                else:\n",
    "                    params[tid][sector] = vec[idx:idx+size].view(shape)\n",
    "                idx += size\n",
    "        return params\n",
    "    \n",
    "    def amplitude(self, x):\n",
    "        # Reconstruct the original parameter structure (by unpacking from the flattened dict)\n",
    "        params = {\n",
    "            tid: {\n",
    "                ast.literal_eval(sector): data\n",
    "                for sector, data in blk_array.items()\n",
    "            }\n",
    "            for tid, blk_array in self.torch_params.items()\n",
    "        }\n",
    "        # Reconstruct the TN with the new parameters\n",
    "        psi = qtn.unpack(params, self.skeleton)\n",
    "       # `x` is expected to be batched as (batch_size, input_dim)\n",
    "        # Loop through the batch and compute amplitude for each sample\n",
    "        batch_amps = []\n",
    "        for x_i in x:\n",
    "            amp = get_amp(psi, x_i, symmetry=self.symmetry, conj=True)\n",
    "            batch_amps.append(amp.contract())\n",
    "\n",
    "        # Return the batch of amplitudes stacked as a tensor\n",
    "        return torch.stack(batch_amps)\n",
    "    \n",
    "    def forward(self, x):\n",
    "        print(x.shape)\n",
    "        return self.amplitude(x)\n",
    "\n",
    "model = fTNModel(peps)\n",
    "random_input = torch.asarray([do('asarray', hi.all_states()[0], like=torch)])\n",
    "model(random_input)"
   ]
  },
  {
   "cell_type": "code",
   "execution_count": 14,
   "metadata": {},
   "outputs": [],
   "source": [
    "vec_params = model.from_params_to_vec()\n",
    "new_params = model.from_vec_to_params(vec_params, quimb_format=True)\n",
    "skeleton = model.skeleton"
   ]
  },
  {
   "cell_type": "code",
   "execution_count": 15,
   "metadata": {},
   "outputs": [
    {
     "name": "stdout",
     "output_type": "stream",
     "text": [
      "(56, 8)\n"
     ]
    },
    {
     "data": {
      "text/plain": [
       "tensor([ 1.0998e-05,  4.6592e-06, -3.2958e-05, -2.2824e-05,  8.8280e-05,\n",
       "         6.5307e-05, -9.5897e-06,  4.2311e-04,  9.9978e-05,  7.4340e-05,\n",
       "         6.0909e-05, -2.6160e-05, -1.4989e-04,  1.3698e-04, -8.6458e-08,\n",
       "         4.4496e-05, -1.5448e-04, -1.2675e-04, -8.0154e-05, -4.0122e-05,\n",
       "         1.1961e-04,  1.2339e-04,  2.4754e-05,  6.7308e-04,  1.4402e-04,\n",
       "         1.5181e-04,  1.1296e-04,  4.6348e-05,  5.6727e-05, -2.8683e-05,\n",
       "         6.6281e-04,  4.4826e-04,  4.2873e-04,  1.3512e-04,  3.3215e-05,\n",
       "         1.0499e-04,  5.1394e-05, -9.5290e-05,  4.5726e-04,  5.3595e-05,\n",
       "         1.1716e-04,  4.1203e-05, -7.1782e-05, -1.2050e-05, -1.4464e-04,\n",
       "         1.4982e-04,  6.8793e-05,  9.6076e-05, -7.1809e-06,  1.9767e-05,\n",
       "        -1.1675e-04, -1.0074e-04, -9.0585e-05, -6.1327e-05, -9.9165e-06,\n",
       "        -2.6538e-06], grad_fn=<StackBackward0>)"
      ]
     },
     "execution_count": 15,
     "metadata": {},
     "output_type": "execute_result"
    }
   ],
   "source": [
    "all_config = hi.all_states()\n",
    "all_config = do('asarray', all_config, like=torch)\n",
    "model(all_config)"
   ]
  },
  {
   "cell_type": "code",
   "execution_count": 16,
   "metadata": {},
   "outputs": [
    {
     "name": "stdout",
     "output_type": "stream",
     "text": [
      "(56, 8)\n"
     ]
    },
    {
     "name": "stderr",
     "output_type": "stream",
     "text": [
      "/tmp/ipykernel_24172/741646048.py:14: UserWarning: The use of `x.T` on tensors of dimension other than 2 to reverse their shape is deprecated and it will throw an error in a future release. Consider `x.mT` to transpose batches of matrices or `x.permute(*torch.arange(x.ndim - 1, -1, -1))` to reverse the dimensions of a tensor. (Triggered internally at ../aten/src/ATen/native/TensorShape.cpp:3697.)\n",
      "  return psi_gs.conj().T@(hamiltonian@psi_gs)/N\n"
     ]
    },
    {
     "data": {
      "text/plain": [
       "tensor(-0.3909, grad_fn=<DivBackward0>)"
      ]
     },
     "execution_count": 16,
     "metadata": {},
     "output_type": "execute_result"
    }
   ],
   "source": [
    "# def apply_module(model, variables, x):\n",
    "#     return model.apply(variables, x)\n",
    "\n",
    "def to_array(model):\n",
    "    all_config = hi.all_states()\n",
    "    psi = model(all_config)\n",
    "    # print(psi)\n",
    "    psi = psi/do('linalg.norm', psi)\n",
    "    return psi\n",
    "\n",
    "def compute_energy(model, hamiltonian):\n",
    "    hamiltonian = torch.tensor(hamiltonian.to_dense(), dtype=torch.float32)\n",
    "    psi_gs = to_array(model)\n",
    "    return psi_gs.conj().T@(hamiltonian@psi_gs)/N\n",
    "\n",
    "hamiltonian = H\n",
    "\n",
    "compute_energy(model, hamiltonian)\n",
    "\n",
    "# def compute_norm(model, parameters):\n",
    "#     psi_gs = to_array(model, parameters)\n",
    "#     return np.linalg.norm(psi_gs)\n",
    "\n",
    "# def compute_energy_and_gradient(model, parameters, hamiltonian_sparse):\n",
    "#     grad_fun = jax.value_and_grad(compute_energy, argnums=1, holomorphic=True)\n",
    "#     return grad_fun(model, parameters, hamiltonian_sparse)\n",
    "\n",
    "# to_array(model)\n",
    "\n",
    "# # compute_norm_and_gradient(machine, variables)\n",
    "# energy_jax, grad = compute_energy_and_gradient(machine, variables, hamiltonian_sparse_jax)\n",
    "# print(energy_jax/N)\n",
    "# variables_backup = variables.copy()"
   ]
  },
  {
   "cell_type": "code",
   "execution_count": 17,
   "metadata": {},
   "outputs": [
    {
     "name": "stdout",
     "output_type": "stream",
     "text": [
      "torch.Size([1, 8])\n",
      "torch.Size([583])\n"
     ]
    },
    {
     "data": {
      "text/plain": [
       "tensor([True, True, True, True, True, True, True, True, True, True, True, True,\n",
       "        True, True, True, True, True, True, True, True, True, True, True, True,\n",
       "        True, True, True, True, True, True, True, True, True, True, True, True,\n",
       "        True, True, True, True, True, True, True, True, True, True, True, True,\n",
       "        True, True, True, True, True, True, True, True, True, True, True, True,\n",
       "        True, True, True, True, True, True, True, True, True, True, True, True,\n",
       "        True, True, True, True, True, True, True, True, True, True, True, True,\n",
       "        True, True, True, True, True, True, True, True, True, True, True, True,\n",
       "        True, True, True, True, True, True, True, True, True, True, True, True,\n",
       "        True, True, True, True, True, True, True, True, True, True, True, True,\n",
       "        True, True, True, True, True, True, True, True, True, True, True, True,\n",
       "        True, True, True, True, True, True, True, True, True, True, True, True,\n",
       "        True, True, True, True, True, True, True, True, True, True, True, True,\n",
       "        True, True, True, True, True, True, True, True, True, True, True, True,\n",
       "        True, True, True, True, True, True, True, True, True, True, True, True,\n",
       "        True, True, True, True, True, True, True, True, True, True, True, True,\n",
       "        True, True, True, True, True, True, True, True, True, True, True, True,\n",
       "        True, True, True, True, True, True, True, True, True, True, True, True,\n",
       "        True, True, True, True, True, True, True, True, True, True, True, True,\n",
       "        True, True, True, True, True, True, True, True, True, True, True, True,\n",
       "        True, True, True, True, True, True, True, True, True, True, True, True,\n",
       "        True, True, True, True, True, True, True, True, True, True, True, True,\n",
       "        True, True, True, True, True, True, True, True, True, True, True, True,\n",
       "        True, True, True, True, True, True, True, True, True, True, True, True,\n",
       "        True, True, True, True, True, True, True, True, True, True, True, True,\n",
       "        True, True, True, True, True, True, True, True, True, True, True, True,\n",
       "        True, True, True, True, True, True, True, True, True, True, True, True,\n",
       "        True, True, True, True, True, True, True, True, True, True, True, True,\n",
       "        True, True, True, True, True, True, True, True, True, True, True, True,\n",
       "        True, True, True, True, True, True, True, True, True, True, True, True,\n",
       "        True, True, True, True, True, True, True, True, True, True, True, True,\n",
       "        True, True, True, True, True, True, True, True, True, True, True, True,\n",
       "        True, True, True, True, True, True, True, True, True, True, True, True,\n",
       "        True, True, True, True, True, True, True, True, True, True, True, True,\n",
       "        True, True, True, True, True, True, True, True, True, True, True, True,\n",
       "        True, True, True, True, True, True, True, True, True, True, True, True,\n",
       "        True, True, True, True, True, True, True, True, True, True, True, True,\n",
       "        True, True, True, True, True, True, True, True, True, True, True, True,\n",
       "        True, True, True, True, True, True, True, True, True, True, True, True,\n",
       "        True, True, True, True, True, True, True, True, True, True, True, True,\n",
       "        True, True, True, True, True, True, True, True, True, True, True, True,\n",
       "        True, True, True, True, True, True, True, True, True, True, True, True,\n",
       "        True, True, True, True, True, True, True, True, True, True, True, True,\n",
       "        True, True, True, True, True, True, True, True, True, True, True, True,\n",
       "        True, True, True, True, True, True, True, True, True, True, True, True,\n",
       "        True, True, True, True, True, True, True, True, True, True, True, True,\n",
       "        True, True, True, True, True, True, True, True, True, True, True, True,\n",
       "        True, True, True, True, True, True, True, True, True, True, True, True,\n",
       "        True, True, True, True, True, True, True])"
      ]
     },
     "execution_count": 17,
     "metadata": {},
     "output_type": "execute_result"
    }
   ],
   "source": [
    "def compute_one_amp(model, config):\n",
    "    return model(config)\n",
    "\n",
    "loss = compute_one_amp(model, random_input)\n",
    "loss.backward()\n",
    "vec_params = model.from_params_to_vec()\n",
    "print(vec_params.shape)\n",
    "\n",
    "param_grad_vec = [param.grad.flatten() if param.grad is not None else torch.zeros_like(param).flatten() for param in model.parameters()]\n",
    "param_grad_vec = torch.cat(param_grad_vec)\n",
    "\n",
    "model.params_grad_to_vec() == param_grad_vec"
   ]
  },
  {
   "cell_type": "code",
   "execution_count": 18,
   "metadata": {},
   "outputs": [],
   "source": [
    "import torch_optimizer\n",
    "\n",
    "optimizer = torch_optimizer.AdaBelief(model.parameters(), lr=0.01)"
   ]
  },
  {
   "cell_type": "code",
   "execution_count": 19,
   "metadata": {},
   "outputs": [
    {
     "name": "stderr",
     "output_type": "stream",
     "text": [
      "  0%|          | 0/200 [00:00<?, ?it/s]"
     ]
    },
    {
     "name": "stdout",
     "output_type": "stream",
     "text": [
      "(56, 8)\n"
     ]
    },
    {
     "name": "stderr",
     "output_type": "stream",
     "text": [
      "-0.39094021916389465:   0%|          | 1/200 [00:00<01:23,  2.37it/s]"
     ]
    },
    {
     "name": "stdout",
     "output_type": "stream",
     "text": [
      "(56, 8)\n"
     ]
    },
    {
     "name": "stderr",
     "output_type": "stream",
     "text": [
      "-0.3854905068874359:   1%|          | 2/200 [00:00<01:25,  2.32it/s] "
     ]
    },
    {
     "name": "stdout",
     "output_type": "stream",
     "text": [
      "(56, 8)\n"
     ]
    },
    {
     "name": "stderr",
     "output_type": "stream",
     "text": [
      "-0.39137160778045654:   2%|▏         | 3/200 [00:01<01:24,  2.34it/s]"
     ]
    },
    {
     "name": "stdout",
     "output_type": "stream",
     "text": [
      "(56, 8)\n"
     ]
    },
    {
     "name": "stderr",
     "output_type": "stream",
     "text": [
      "-0.3941406011581421:   2%|▏         | 4/200 [00:01<01:24,  2.31it/s] "
     ]
    },
    {
     "name": "stdout",
     "output_type": "stream",
     "text": [
      "(56, 8)\n"
     ]
    },
    {
     "name": "stderr",
     "output_type": "stream",
     "text": [
      "-0.3948586583137512:   2%|▎         | 5/200 [00:02<01:24,  2.32it/s]"
     ]
    },
    {
     "name": "stdout",
     "output_type": "stream",
     "text": [
      "(56, 8)\n"
     ]
    },
    {
     "name": "stderr",
     "output_type": "stream",
     "text": [
      "-0.39431625604629517:   3%|▎         | 6/200 [00:02<01:23,  2.32it/s]"
     ]
    },
    {
     "name": "stdout",
     "output_type": "stream",
     "text": [
      "(56, 8)\n"
     ]
    },
    {
     "name": "stderr",
     "output_type": "stream",
     "text": [
      "-0.3944406509399414:   4%|▎         | 7/200 [00:03<01:23,  2.30it/s] "
     ]
    },
    {
     "name": "stdout",
     "output_type": "stream",
     "text": [
      "(56, 8)\n"
     ]
    },
    {
     "name": "stderr",
     "output_type": "stream",
     "text": [
      "-0.39545297622680664:   4%|▍         | 8/200 [00:03<01:23,  2.30it/s]"
     ]
    },
    {
     "name": "stdout",
     "output_type": "stream",
     "text": [
      "(56, 8)\n"
     ]
    },
    {
     "name": "stderr",
     "output_type": "stream",
     "text": [
      "-0.3962644338607788:   4%|▍         | 9/200 [00:03<01:22,  2.32it/s] "
     ]
    },
    {
     "name": "stdout",
     "output_type": "stream",
     "text": [
      "(56, 8)\n"
     ]
    },
    {
     "name": "stderr",
     "output_type": "stream",
     "text": [
      "-0.3963989019393921:   5%|▌         | 10/200 [00:04<01:22,  2.31it/s]"
     ]
    },
    {
     "name": "stdout",
     "output_type": "stream",
     "text": [
      "(56, 8)\n"
     ]
    },
    {
     "name": "stderr",
     "output_type": "stream",
     "text": [
      "-0.3962501287460327:   6%|▌         | 11/200 [00:04<01:30,  2.09it/s]"
     ]
    },
    {
     "name": "stdout",
     "output_type": "stream",
     "text": [
      "(56, 8)\n"
     ]
    },
    {
     "name": "stderr",
     "output_type": "stream",
     "text": [
      "-0.3962417244911194:   6%|▌         | 12/200 [00:05<01:27,  2.15it/s]"
     ]
    },
    {
     "name": "stdout",
     "output_type": "stream",
     "text": [
      "(56, 8)\n"
     ]
    },
    {
     "name": "stderr",
     "output_type": "stream",
     "text": [
      "-0.39641356468200684:   6%|▋         | 13/200 [00:05<01:25,  2.19it/s]"
     ]
    },
    {
     "name": "stdout",
     "output_type": "stream",
     "text": [
      "(56, 8)\n"
     ]
    },
    {
     "name": "stderr",
     "output_type": "stream",
     "text": [
      "-0.39662545919418335:   7%|▋         | 14/200 [00:06<01:23,  2.22it/s]"
     ]
    },
    {
     "name": "stdout",
     "output_type": "stream",
     "text": [
      "(56, 8)\n"
     ]
    },
    {
     "name": "stderr",
     "output_type": "stream",
     "text": [
      "-0.39680540561676025:   8%|▊         | 15/200 [00:06<01:22,  2.25it/s]"
     ]
    },
    {
     "name": "stdout",
     "output_type": "stream",
     "text": [
      "(56, 8)\n"
     ]
    },
    {
     "name": "stderr",
     "output_type": "stream",
     "text": [
      "-0.3969985246658325:   8%|▊         | 16/200 [00:07<01:20,  2.27it/s] "
     ]
    },
    {
     "name": "stdout",
     "output_type": "stream",
     "text": [
      "(56, 8)\n"
     ]
    },
    {
     "name": "stderr",
     "output_type": "stream",
     "text": [
      "-0.3972352147102356:   8%|▊         | 17/200 [00:07<01:20,  2.29it/s]"
     ]
    },
    {
     "name": "stdout",
     "output_type": "stream",
     "text": [
      "(56, 8)\n"
     ]
    },
    {
     "name": "stderr",
     "output_type": "stream",
     "text": [
      "-0.3974316716194153:   9%|▉         | 18/200 [00:07<01:19,  2.30it/s]"
     ]
    },
    {
     "name": "stdout",
     "output_type": "stream",
     "text": [
      "(56, 8)\n"
     ]
    },
    {
     "name": "stderr",
     "output_type": "stream",
     "text": [
      "-0.3974841833114624:  10%|▉         | 19/200 [00:08<01:18,  2.31it/s]"
     ]
    },
    {
     "name": "stdout",
     "output_type": "stream",
     "text": [
      "(56, 8)\n"
     ]
    },
    {
     "name": "stderr",
     "output_type": "stream",
     "text": [
      "-0.397411584854126:  10%|█         | 20/200 [00:08<01:17,  2.33it/s] "
     ]
    },
    {
     "name": "stdout",
     "output_type": "stream",
     "text": [
      "(56, 8)\n"
     ]
    },
    {
     "name": "stderr",
     "output_type": "stream",
     "text": [
      "-0.39734646677970886:  10%|█         | 21/200 [00:09<01:16,  2.33it/s]"
     ]
    },
    {
     "name": "stdout",
     "output_type": "stream",
     "text": [
      "(56, 8)\n"
     ]
    },
    {
     "name": "stderr",
     "output_type": "stream",
     "text": [
      "-0.3974045217037201:  11%|█         | 22/200 [00:09<01:16,  2.33it/s] "
     ]
    },
    {
     "name": "stdout",
     "output_type": "stream",
     "text": [
      "(56, 8)\n"
     ]
    },
    {
     "name": "stderr",
     "output_type": "stream",
     "text": [
      "-0.39758747816085815:  12%|█▏        | 23/200 [00:10<01:16,  2.32it/s]"
     ]
    },
    {
     "name": "stdout",
     "output_type": "stream",
     "text": [
      "(56, 8)\n"
     ]
    },
    {
     "name": "stderr",
     "output_type": "stream",
     "text": [
      "-0.3978005647659302:  12%|█▏        | 24/200 [00:10<01:16,  2.30it/s] "
     ]
    },
    {
     "name": "stdout",
     "output_type": "stream",
     "text": [
      "(56, 8)\n"
     ]
    },
    {
     "name": "stderr",
     "output_type": "stream",
     "text": [
      "-0.39794570207595825:  12%|█▎        | 25/200 [00:10<01:16,  2.30it/s]"
     ]
    },
    {
     "name": "stdout",
     "output_type": "stream",
     "text": [
      "(56, 8)\n"
     ]
    },
    {
     "name": "stderr",
     "output_type": "stream",
     "text": [
      "-0.3979976177215576:  13%|█▎        | 26/200 [00:11<01:17,  2.25it/s] "
     ]
    },
    {
     "name": "stdout",
     "output_type": "stream",
     "text": [
      "(56, 8)\n"
     ]
    },
    {
     "name": "stderr",
     "output_type": "stream",
     "text": [
      "-0.39800262451171875:  14%|█▎        | 27/200 [00:11<01:17,  2.22it/s]"
     ]
    },
    {
     "name": "stdout",
     "output_type": "stream",
     "text": [
      "(56, 8)\n"
     ]
    },
    {
     "name": "stderr",
     "output_type": "stream",
     "text": [
      "-0.3980230689048767:  14%|█▍        | 28/200 [00:12<01:18,  2.18it/s] "
     ]
    },
    {
     "name": "stdout",
     "output_type": "stream",
     "text": [
      "(56, 8)\n"
     ]
    },
    {
     "name": "stderr",
     "output_type": "stream",
     "text": [
      "-0.39808619022369385:  14%|█▍        | 29/200 [00:12<01:18,  2.17it/s]"
     ]
    },
    {
     "name": "stdout",
     "output_type": "stream",
     "text": [
      "(56, 8)\n"
     ]
    },
    {
     "name": "stderr",
     "output_type": "stream",
     "text": [
      "-0.3981770873069763:  15%|█▌        | 30/200 [00:13<01:19,  2.15it/s] "
     ]
    },
    {
     "name": "stdout",
     "output_type": "stream",
     "text": [
      "(56, 8)\n"
     ]
    },
    {
     "name": "stderr",
     "output_type": "stream",
     "text": [
      "-0.3982624113559723:  16%|█▌        | 31/200 [00:13<01:23,  2.03it/s]"
     ]
    },
    {
     "name": "stdout",
     "output_type": "stream",
     "text": [
      "(56, 8)\n"
     ]
    },
    {
     "name": "stderr",
     "output_type": "stream",
     "text": [
      "-0.3983175754547119:  16%|█▌        | 32/200 [00:14<01:22,  2.04it/s]"
     ]
    },
    {
     "name": "stdout",
     "output_type": "stream",
     "text": [
      "(56, 8)\n"
     ]
    },
    {
     "name": "stderr",
     "output_type": "stream",
     "text": [
      "-0.39834165573120117:  16%|█▋        | 33/200 [00:14<01:20,  2.06it/s]"
     ]
    },
    {
     "name": "stdout",
     "output_type": "stream",
     "text": [
      "(56, 8)\n"
     ]
    },
    {
     "name": "stderr",
     "output_type": "stream",
     "text": [
      "-0.39835506677627563:  17%|█▋        | 34/200 [00:15<01:19,  2.09it/s]"
     ]
    },
    {
     "name": "stdout",
     "output_type": "stream",
     "text": [
      "(56, 8)\n"
     ]
    },
    {
     "name": "stderr",
     "output_type": "stream",
     "text": [
      "-0.39838236570358276:  18%|█▊        | 35/200 [00:15<01:17,  2.13it/s]"
     ]
    },
    {
     "name": "stdout",
     "output_type": "stream",
     "text": [
      "(56, 8)\n"
     ]
    },
    {
     "name": "stderr",
     "output_type": "stream",
     "text": [
      "-0.39843082427978516:  18%|█▊        | 36/200 [00:16<01:16,  2.13it/s]"
     ]
    },
    {
     "name": "stdout",
     "output_type": "stream",
     "text": [
      "(56, 8)\n"
     ]
    },
    {
     "name": "stderr",
     "output_type": "stream",
     "text": [
      "-0.3984837532043457:  18%|█▊        | 37/200 [00:16<01:18,  2.07it/s] "
     ]
    },
    {
     "name": "stdout",
     "output_type": "stream",
     "text": [
      "(56, 8)\n"
     ]
    },
    {
     "name": "stderr",
     "output_type": "stream",
     "text": [
      "-0.3985172510147095:  19%|█▉        | 38/200 [00:17<01:18,  2.06it/s]"
     ]
    },
    {
     "name": "stdout",
     "output_type": "stream",
     "text": [
      "(56, 8)\n"
     ]
    },
    {
     "name": "stderr",
     "output_type": "stream",
     "text": [
      "-0.39852485060691833:  20%|█▉        | 39/200 [00:17<01:17,  2.07it/s]"
     ]
    },
    {
     "name": "stdout",
     "output_type": "stream",
     "text": [
      "(56, 8)\n"
     ]
    },
    {
     "name": "stderr",
     "output_type": "stream",
     "text": [
      "-0.39852428436279297:  20%|██        | 40/200 [00:18<01:16,  2.08it/s]"
     ]
    },
    {
     "name": "stdout",
     "output_type": "stream",
     "text": [
      "(56, 8)\n"
     ]
    },
    {
     "name": "stderr",
     "output_type": "stream",
     "text": [
      "-0.39853572845458984:  20%|██        | 41/200 [00:18<01:15,  2.12it/s]"
     ]
    },
    {
     "name": "stdout",
     "output_type": "stream",
     "text": [
      "(56, 8)\n"
     ]
    },
    {
     "name": "stderr",
     "output_type": "stream",
     "text": [
      "-0.39855992794036865:  21%|██        | 42/200 [00:19<01:12,  2.17it/s]"
     ]
    },
    {
     "name": "stdout",
     "output_type": "stream",
     "text": [
      "(56, 8)\n"
     ]
    },
    {
     "name": "stderr",
     "output_type": "stream",
     "text": [
      "-0.3985811471939087:  22%|██▏       | 43/200 [00:19<01:12,  2.16it/s] "
     ]
    },
    {
     "name": "stdout",
     "output_type": "stream",
     "text": [
      "(56, 8)\n"
     ]
    },
    {
     "name": "stderr",
     "output_type": "stream",
     "text": [
      "-0.39858806133270264:  22%|██▏       | 44/200 [00:19<01:11,  2.19it/s]"
     ]
    },
    {
     "name": "stdout",
     "output_type": "stream",
     "text": [
      "(56, 8)\n"
     ]
    },
    {
     "name": "stderr",
     "output_type": "stream",
     "text": [
      "-0.398584246635437:  22%|██▎       | 45/200 [00:20<01:09,  2.21it/s]  "
     ]
    },
    {
     "name": "stdout",
     "output_type": "stream",
     "text": [
      "(56, 8)\n"
     ]
    },
    {
     "name": "stderr",
     "output_type": "stream",
     "text": [
      "-0.39858105778694153:  23%|██▎       | 46/200 [00:20<01:07,  2.28it/s]"
     ]
    },
    {
     "name": "stdout",
     "output_type": "stream",
     "text": [
      "(56, 8)\n"
     ]
    },
    {
     "name": "stderr",
     "output_type": "stream",
     "text": [
      "-0.3985847234725952:  24%|██▎       | 47/200 [00:21<01:05,  2.33it/s] "
     ]
    },
    {
     "name": "stdout",
     "output_type": "stream",
     "text": [
      "(56, 8)\n"
     ]
    },
    {
     "name": "stderr",
     "output_type": "stream",
     "text": [
      "-0.39859330654144287:  24%|██▍       | 48/200 [00:21<01:04,  2.35it/s]"
     ]
    },
    {
     "name": "stdout",
     "output_type": "stream",
     "text": [
      "(56, 8)\n"
     ]
    },
    {
     "name": "stderr",
     "output_type": "stream",
     "text": [
      "-0.3986012041568756:  24%|██▍       | 49/200 [00:22<01:04,  2.33it/s] "
     ]
    },
    {
     "name": "stdout",
     "output_type": "stream",
     "text": [
      "(56, 8)\n"
     ]
    },
    {
     "name": "stderr",
     "output_type": "stream",
     "text": [
      "-0.3986048102378845:  25%|██▌       | 50/200 [00:22<01:06,  2.25it/s]"
     ]
    },
    {
     "name": "stdout",
     "output_type": "stream",
     "text": [
      "(56, 8)\n"
     ]
    },
    {
     "name": "stderr",
     "output_type": "stream",
     "text": [
      "-0.39860478043556213:  26%|██▌       | 51/200 [00:23<01:07,  2.19it/s]"
     ]
    },
    {
     "name": "stdout",
     "output_type": "stream",
     "text": [
      "(56, 8)\n"
     ]
    },
    {
     "name": "stderr",
     "output_type": "stream",
     "text": [
      "-0.3986043334007263:  26%|██▌       | 52/200 [00:23<01:06,  2.24it/s] "
     ]
    },
    {
     "name": "stdout",
     "output_type": "stream",
     "text": [
      "(56, 8)\n"
     ]
    },
    {
     "name": "stderr",
     "output_type": "stream",
     "text": [
      "-0.3986060619354248:  26%|██▋       | 53/200 [00:23<01:07,  2.19it/s]"
     ]
    },
    {
     "name": "stdout",
     "output_type": "stream",
     "text": [
      "(56, 8)\n"
     ]
    },
    {
     "name": "stderr",
     "output_type": "stream",
     "text": [
      "-0.3986095190048218:  27%|██▋       | 54/200 [00:24<01:04,  2.25it/s]"
     ]
    },
    {
     "name": "stdout",
     "output_type": "stream",
     "text": [
      "(56, 8)\n"
     ]
    },
    {
     "name": "stderr",
     "output_type": "stream",
     "text": [
      "-0.39861178398132324:  28%|██▊       | 55/200 [00:24<01:03,  2.29it/s]"
     ]
    },
    {
     "name": "stdout",
     "output_type": "stream",
     "text": [
      "(56, 8)\n"
     ]
    },
    {
     "name": "stderr",
     "output_type": "stream",
     "text": [
      "-0.3986116647720337:  28%|██▊       | 56/200 [00:25<01:03,  2.28it/s] "
     ]
    },
    {
     "name": "stdout",
     "output_type": "stream",
     "text": [
      "(56, 8)\n"
     ]
    },
    {
     "name": "stderr",
     "output_type": "stream",
     "text": [
      "-0.39861106872558594:  28%|██▊       | 57/200 [00:25<01:03,  2.26it/s]"
     ]
    },
    {
     "name": "stdout",
     "output_type": "stream",
     "text": [
      "(56, 8)\n"
     ]
    },
    {
     "name": "stderr",
     "output_type": "stream",
     "text": [
      "-0.3986130952835083:  29%|██▉       | 58/200 [00:26<01:02,  2.28it/s] "
     ]
    },
    {
     "name": "stdout",
     "output_type": "stream",
     "text": [
      "(56, 8)\n"
     ]
    },
    {
     "name": "stderr",
     "output_type": "stream",
     "text": [
      "-0.3986177444458008:  30%|██▉       | 59/200 [00:26<01:02,  2.25it/s]"
     ]
    },
    {
     "name": "stdout",
     "output_type": "stream",
     "text": [
      "(56, 8)\n"
     ]
    },
    {
     "name": "stderr",
     "output_type": "stream",
     "text": [
      "-0.3986218571662903:  30%|███       | 60/200 [00:26<01:02,  2.25it/s]"
     ]
    },
    {
     "name": "stdout",
     "output_type": "stream",
     "text": [
      "(56, 8)\n"
     ]
    },
    {
     "name": "stderr",
     "output_type": "stream",
     "text": [
      "-0.39862290024757385:  30%|███       | 61/200 [00:27<01:01,  2.25it/s]"
     ]
    },
    {
     "name": "stdout",
     "output_type": "stream",
     "text": [
      "(56, 8)\n"
     ]
    },
    {
     "name": "stderr",
     "output_type": "stream",
     "text": [
      "-0.39862197637557983:  31%|███       | 62/200 [00:27<01:00,  2.29it/s]"
     ]
    },
    {
     "name": "stdout",
     "output_type": "stream",
     "text": [
      "(56, 8)\n"
     ]
    },
    {
     "name": "stderr",
     "output_type": "stream",
     "text": [
      "-0.39862170815467834:  32%|███▏      | 63/200 [00:28<01:00,  2.27it/s]"
     ]
    },
    {
     "name": "stdout",
     "output_type": "stream",
     "text": [
      "(56, 8)\n"
     ]
    },
    {
     "name": "stderr",
     "output_type": "stream",
     "text": [
      "-0.39862358570098877:  32%|███▏      | 64/200 [00:28<01:00,  2.25it/s]"
     ]
    },
    {
     "name": "stdout",
     "output_type": "stream",
     "text": [
      "(56, 8)\n"
     ]
    },
    {
     "name": "stderr",
     "output_type": "stream",
     "text": [
      "-0.39862656593322754:  32%|███▎      | 65/200 [00:29<01:01,  2.21it/s]"
     ]
    },
    {
     "name": "stdout",
     "output_type": "stream",
     "text": [
      "(56, 8)\n"
     ]
    },
    {
     "name": "stderr",
     "output_type": "stream",
     "text": [
      "-0.3986290693283081:  33%|███▎      | 66/200 [00:29<01:01,  2.19it/s] "
     ]
    },
    {
     "name": "stdout",
     "output_type": "stream",
     "text": [
      "(56, 8)\n"
     ]
    },
    {
     "name": "stderr",
     "output_type": "stream",
     "text": [
      "-0.3986302316188812:  34%|███▎      | 67/200 [00:30<00:59,  2.22it/s]"
     ]
    },
    {
     "name": "stdout",
     "output_type": "stream",
     "text": [
      "(56, 8)\n"
     ]
    },
    {
     "name": "stderr",
     "output_type": "stream",
     "text": [
      "-0.3986303210258484:  34%|███▍      | 68/200 [00:30<01:04,  2.04it/s]"
     ]
    },
    {
     "name": "stdout",
     "output_type": "stream",
     "text": [
      "(56, 8)\n"
     ]
    },
    {
     "name": "stderr",
     "output_type": "stream",
     "text": [
      "-0.39863067865371704:  34%|███▍      | 69/200 [00:31<01:01,  2.13it/s]"
     ]
    },
    {
     "name": "stdout",
     "output_type": "stream",
     "text": [
      "(56, 8)\n"
     ]
    },
    {
     "name": "stderr",
     "output_type": "stream",
     "text": [
      "-0.3986318111419678:  35%|███▌      | 70/200 [00:31<01:01,  2.12it/s] "
     ]
    },
    {
     "name": "stdout",
     "output_type": "stream",
     "text": [
      "(56, 8)\n"
     ]
    },
    {
     "name": "stderr",
     "output_type": "stream",
     "text": [
      "-0.39863333106040955:  36%|███▌      | 71/200 [00:32<01:01,  2.11it/s]"
     ]
    },
    {
     "name": "stdout",
     "output_type": "stream",
     "text": [
      "(56, 8)\n"
     ]
    },
    {
     "name": "stderr",
     "output_type": "stream",
     "text": [
      "-0.3986346125602722:  36%|███▌      | 72/200 [00:32<00:59,  2.15it/s] "
     ]
    },
    {
     "name": "stdout",
     "output_type": "stream",
     "text": [
      "(56, 8)\n"
     ]
    },
    {
     "name": "stderr",
     "output_type": "stream",
     "text": [
      "-0.3986348807811737:  36%|███▋      | 73/200 [00:32<00:58,  2.18it/s]"
     ]
    },
    {
     "name": "stdout",
     "output_type": "stream",
     "text": [
      "(56, 8)\n"
     ]
    },
    {
     "name": "stderr",
     "output_type": "stream",
     "text": [
      "-0.3986346125602722:  37%|███▋      | 74/200 [00:33<00:56,  2.21it/s]"
     ]
    },
    {
     "name": "stdout",
     "output_type": "stream",
     "text": [
      "(56, 8)\n"
     ]
    },
    {
     "name": "stderr",
     "output_type": "stream",
     "text": [
      "-0.39863473176956177:  38%|███▊      | 75/200 [00:33<00:58,  2.14it/s]"
     ]
    },
    {
     "name": "stdout",
     "output_type": "stream",
     "text": [
      "(56, 8)\n"
     ]
    },
    {
     "name": "stderr",
     "output_type": "stream",
     "text": [
      "-0.39863553643226624:  38%|███▊      | 76/200 [00:34<00:58,  2.11it/s]"
     ]
    },
    {
     "name": "stdout",
     "output_type": "stream",
     "text": [
      "(56, 8)\n"
     ]
    },
    {
     "name": "stderr",
     "output_type": "stream",
     "text": [
      "-0.3986362814903259:  38%|███▊      | 77/200 [00:34<00:58,  2.11it/s] "
     ]
    },
    {
     "name": "stdout",
     "output_type": "stream",
     "text": [
      "(56, 8)\n"
     ]
    },
    {
     "name": "stderr",
     "output_type": "stream",
     "text": [
      "-0.39863651990890503:  39%|███▉      | 78/200 [00:35<00:56,  2.15it/s]"
     ]
    },
    {
     "name": "stdout",
     "output_type": "stream",
     "text": [
      "(56, 8)\n"
     ]
    },
    {
     "name": "stderr",
     "output_type": "stream",
     "text": [
      "-0.3986364006996155:  40%|███▉      | 79/200 [00:35<00:54,  2.21it/s] "
     ]
    },
    {
     "name": "stdout",
     "output_type": "stream",
     "text": [
      "(56, 8)\n"
     ]
    },
    {
     "name": "stderr",
     "output_type": "stream",
     "text": [
      "-0.3986363708972931:  40%|████      | 80/200 [00:36<00:53,  2.26it/s]"
     ]
    },
    {
     "name": "stdout",
     "output_type": "stream",
     "text": [
      "(56, 8)\n"
     ]
    },
    {
     "name": "stderr",
     "output_type": "stream",
     "text": [
      "-0.39863649010658264:  40%|████      | 81/200 [00:36<00:52,  2.27it/s]"
     ]
    },
    {
     "name": "stdout",
     "output_type": "stream",
     "text": [
      "(56, 8)\n"
     ]
    },
    {
     "name": "stderr",
     "output_type": "stream",
     "text": [
      "-0.3986368775367737:  41%|████      | 82/200 [00:37<00:51,  2.29it/s] "
     ]
    },
    {
     "name": "stdout",
     "output_type": "stream",
     "text": [
      "(56, 8)\n"
     ]
    },
    {
     "name": "stderr",
     "output_type": "stream",
     "text": [
      "-0.39863714575767517:  42%|████▏     | 83/200 [00:37<00:50,  2.29it/s]"
     ]
    },
    {
     "name": "stdout",
     "output_type": "stream",
     "text": [
      "(56, 8)\n"
     ]
    },
    {
     "name": "stderr",
     "output_type": "stream",
     "text": [
      "-0.3986372947692871:  42%|████▏     | 84/200 [00:37<00:50,  2.29it/s] "
     ]
    },
    {
     "name": "stdout",
     "output_type": "stream",
     "text": [
      "(56, 8)\n"
     ]
    },
    {
     "name": "stderr",
     "output_type": "stream",
     "text": [
      "-0.3986371159553528:  42%|████▎     | 85/200 [00:38<00:50,  2.29it/s]"
     ]
    },
    {
     "name": "stdout",
     "output_type": "stream",
     "text": [
      "(56, 8)\n"
     ]
    },
    {
     "name": "stderr",
     "output_type": "stream",
     "text": [
      "-0.398637056350708:  43%|████▎     | 86/200 [00:38<00:50,  2.27it/s] "
     ]
    },
    {
     "name": "stdout",
     "output_type": "stream",
     "text": [
      "(56, 8)\n"
     ]
    },
    {
     "name": "stderr",
     "output_type": "stream",
     "text": [
      "-0.39863699674606323:  44%|████▎     | 87/200 [00:39<00:49,  2.27it/s]"
     ]
    },
    {
     "name": "stdout",
     "output_type": "stream",
     "text": [
      "(56, 8)\n"
     ]
    },
    {
     "name": "stderr",
     "output_type": "stream",
     "text": [
      "-0.39863717555999756:  44%|████▍     | 88/200 [00:39<00:49,  2.28it/s]"
     ]
    },
    {
     "name": "stdout",
     "output_type": "stream",
     "text": [
      "(56, 8)\n"
     ]
    },
    {
     "name": "stderr",
     "output_type": "stream",
     "text": [
      "-0.39863741397857666:  44%|████▍     | 89/200 [00:40<00:48,  2.28it/s]"
     ]
    },
    {
     "name": "stdout",
     "output_type": "stream",
     "text": [
      "(56, 8)\n"
     ]
    },
    {
     "name": "stderr",
     "output_type": "stream",
     "text": [
      "-0.3986375629901886:  45%|████▌     | 90/200 [00:40<00:47,  2.30it/s] "
     ]
    },
    {
     "name": "stdout",
     "output_type": "stream",
     "text": [
      "(56, 8)\n"
     ]
    },
    {
     "name": "stderr",
     "output_type": "stream",
     "text": [
      "-0.39863744378089905:  46%|████▌     | 91/200 [00:40<00:47,  2.32it/s]"
     ]
    },
    {
     "name": "stdout",
     "output_type": "stream",
     "text": [
      "(56, 8)\n"
     ]
    },
    {
     "name": "stderr",
     "output_type": "stream",
     "text": [
      "-0.39863747358322144:  46%|████▌     | 92/200 [00:41<00:46,  2.31it/s]"
     ]
    },
    {
     "name": "stdout",
     "output_type": "stream",
     "text": [
      "(56, 8)\n"
     ]
    },
    {
     "name": "stderr",
     "output_type": "stream",
     "text": [
      "-0.398637592792511:  46%|████▋     | 93/200 [00:41<00:46,  2.29it/s]  "
     ]
    },
    {
     "name": "stdout",
     "output_type": "stream",
     "text": [
      "(56, 8)\n"
     ]
    },
    {
     "name": "stderr",
     "output_type": "stream",
     "text": [
      "-0.39863771200180054:  47%|████▋     | 94/200 [00:42<00:45,  2.31it/s]"
     ]
    },
    {
     "name": "stdout",
     "output_type": "stream",
     "text": [
      "(56, 8)\n"
     ]
    },
    {
     "name": "stderr",
     "output_type": "stream",
     "text": [
      "-0.3986378312110901:  48%|████▊     | 95/200 [00:42<00:45,  2.30it/s] "
     ]
    },
    {
     "name": "stdout",
     "output_type": "stream",
     "text": [
      "(56, 8)\n"
     ]
    },
    {
     "name": "stderr",
     "output_type": "stream",
     "text": [
      "-0.3986378312110901:  48%|████▊     | 96/200 [00:43<00:44,  2.31it/s]"
     ]
    },
    {
     "name": "stdout",
     "output_type": "stream",
     "text": [
      "(56, 8)\n"
     ]
    },
    {
     "name": "stderr",
     "output_type": "stream",
     "text": [
      "-0.3986378610134125:  48%|████▊     | 97/200 [00:43<00:44,  2.32it/s]"
     ]
    },
    {
     "name": "stdout",
     "output_type": "stream",
     "text": [
      "(56, 8)\n"
     ]
    },
    {
     "name": "stderr",
     "output_type": "stream",
     "text": [
      "-0.39863789081573486:  49%|████▉     | 98/200 [00:43<00:44,  2.31it/s]"
     ]
    },
    {
     "name": "stdout",
     "output_type": "stream",
     "text": [
      "(56, 8)\n"
     ]
    },
    {
     "name": "stderr",
     "output_type": "stream",
     "text": [
      "-0.39863795042037964:  50%|████▉     | 99/200 [00:44<00:45,  2.21it/s]"
     ]
    },
    {
     "name": "stdout",
     "output_type": "stream",
     "text": [
      "(56, 8)\n"
     ]
    },
    {
     "name": "stderr",
     "output_type": "stream",
     "text": [
      "-0.3986380398273468:  50%|█████     | 100/200 [00:44<00:45,  2.18it/s]"
     ]
    },
    {
     "name": "stdout",
     "output_type": "stream",
     "text": [
      "(56, 8)\n"
     ]
    },
    {
     "name": "stderr",
     "output_type": "stream",
     "text": [
      "-0.3986380100250244:  50%|█████     | 101/200 [00:45<00:44,  2.22it/s]"
     ]
    },
    {
     "name": "stdout",
     "output_type": "stream",
     "text": [
      "(56, 8)\n"
     ]
    },
    {
     "name": "stderr",
     "output_type": "stream",
     "text": [
      "-0.3986380696296692:  51%|█████     | 102/200 [00:45<00:44,  2.20it/s]"
     ]
    },
    {
     "name": "stdout",
     "output_type": "stream",
     "text": [
      "(56, 8)\n"
     ]
    },
    {
     "name": "stderr",
     "output_type": "stream",
     "text": [
      "-0.3986380696296692:  52%|█████▏    | 103/200 [00:46<00:45,  2.13it/s]"
     ]
    },
    {
     "name": "stdout",
     "output_type": "stream",
     "text": [
      "(56, 8)\n"
     ]
    },
    {
     "name": "stderr",
     "output_type": "stream",
     "text": [
      "-0.39863815903663635:  52%|█████▏    | 104/200 [00:46<00:48,  1.99it/s]"
     ]
    },
    {
     "name": "stdout",
     "output_type": "stream",
     "text": [
      "(56, 8)\n"
     ]
    },
    {
     "name": "stderr",
     "output_type": "stream",
     "text": [
      "-0.39863818883895874:  52%|█████▎    | 105/200 [00:47<00:48,  1.98it/s]"
     ]
    },
    {
     "name": "stdout",
     "output_type": "stream",
     "text": [
      "(56, 8)\n"
     ]
    },
    {
     "name": "stderr",
     "output_type": "stream",
     "text": [
      "-0.39863812923431396:  53%|█████▎    | 106/200 [00:47<00:47,  1.99it/s]"
     ]
    },
    {
     "name": "stdout",
     "output_type": "stream",
     "text": [
      "(56, 8)\n"
     ]
    },
    {
     "name": "stderr",
     "output_type": "stream",
     "text": [
      "-0.39863821864128113:  54%|█████▎    | 107/200 [00:48<00:46,  2.01it/s]"
     ]
    },
    {
     "name": "stdout",
     "output_type": "stream",
     "text": [
      "(56, 8)\n"
     ]
    },
    {
     "name": "stderr",
     "output_type": "stream",
     "text": [
      "-0.39863818883895874:  54%|█████▍    | 108/200 [00:48<00:45,  2.00it/s]"
     ]
    },
    {
     "name": "stdout",
     "output_type": "stream",
     "text": [
      "(56, 8)\n"
     ]
    },
    {
     "name": "stderr",
     "output_type": "stream",
     "text": [
      "-0.39863818883895874:  55%|█████▍    | 109/200 [00:49<00:44,  2.05it/s]"
     ]
    },
    {
     "name": "stdout",
     "output_type": "stream",
     "text": [
      "(56, 8)\n"
     ]
    },
    {
     "name": "stderr",
     "output_type": "stream",
     "text": [
      "-0.39863818883895874:  55%|█████▌    | 110/200 [00:49<00:43,  2.09it/s]"
     ]
    },
    {
     "name": "stdout",
     "output_type": "stream",
     "text": [
      "(56, 8)\n"
     ]
    },
    {
     "name": "stderr",
     "output_type": "stream",
     "text": [
      "-0.3986382484436035:  56%|█████▌    | 111/200 [00:50<00:41,  2.13it/s] "
     ]
    },
    {
     "name": "stdout",
     "output_type": "stream",
     "text": [
      "(56, 8)\n"
     ]
    },
    {
     "name": "stderr",
     "output_type": "stream",
     "text": [
      "-0.3986382782459259:  56%|█████▌    | 112/200 [00:50<00:40,  2.15it/s]"
     ]
    },
    {
     "name": "stdout",
     "output_type": "stream",
     "text": [
      "(56, 8)\n"
     ]
    },
    {
     "name": "stderr",
     "output_type": "stream",
     "text": [
      "-0.3986382484436035:  56%|█████▋    | 113/200 [00:51<00:40,  2.16it/s]"
     ]
    },
    {
     "name": "stdout",
     "output_type": "stream",
     "text": [
      "(56, 8)\n"
     ]
    },
    {
     "name": "stderr",
     "output_type": "stream",
     "text": [
      "-0.3986382484436035:  57%|█████▋    | 114/200 [00:51<00:39,  2.16it/s]"
     ]
    },
    {
     "name": "stdout",
     "output_type": "stream",
     "text": [
      "(56, 8)\n"
     ]
    },
    {
     "name": "stderr",
     "output_type": "stream",
     "text": [
      "-0.3986382484436035:  57%|█████▊    | 115/200 [00:52<00:39,  2.16it/s]"
     ]
    },
    {
     "name": "stdout",
     "output_type": "stream",
     "text": [
      "(56, 8)\n"
     ]
    },
    {
     "name": "stderr",
     "output_type": "stream",
     "text": [
      "-0.3986382484436035:  58%|█████▊    | 116/200 [00:52<00:38,  2.17it/s]"
     ]
    },
    {
     "name": "stdout",
     "output_type": "stream",
     "text": [
      "(56, 8)\n"
     ]
    },
    {
     "name": "stderr",
     "output_type": "stream",
     "text": [
      "-0.3986382484436035:  58%|█████▊    | 117/200 [00:53<00:37,  2.21it/s]"
     ]
    },
    {
     "name": "stdout",
     "output_type": "stream",
     "text": [
      "(56, 8)\n"
     ]
    },
    {
     "name": "stderr",
     "output_type": "stream",
     "text": [
      "-0.3986382484436035:  59%|█████▉    | 118/200 [00:53<00:36,  2.22it/s]"
     ]
    },
    {
     "name": "stdout",
     "output_type": "stream",
     "text": [
      "(56, 8)\n"
     ]
    },
    {
     "name": "stderr",
     "output_type": "stream",
     "text": [
      "-0.3986383080482483:  60%|█████▉    | 119/200 [00:53<00:36,  2.23it/s]"
     ]
    },
    {
     "name": "stdout",
     "output_type": "stream",
     "text": [
      "(56, 8)\n"
     ]
    },
    {
     "name": "stderr",
     "output_type": "stream",
     "text": [
      "-0.3986382782459259:  60%|██████    | 120/200 [00:54<00:36,  2.17it/s]"
     ]
    },
    {
     "name": "stdout",
     "output_type": "stream",
     "text": [
      "(56, 8)\n"
     ]
    },
    {
     "name": "stderr",
     "output_type": "stream",
     "text": [
      "-0.3986383080482483:  60%|██████    | 121/200 [00:54<00:36,  2.15it/s]"
     ]
    },
    {
     "name": "stdout",
     "output_type": "stream",
     "text": [
      "(56, 8)\n"
     ]
    },
    {
     "name": "stderr",
     "output_type": "stream",
     "text": [
      "-0.3986382782459259:  61%|██████    | 122/200 [00:55<00:39,  1.95it/s]"
     ]
    },
    {
     "name": "stdout",
     "output_type": "stream",
     "text": [
      "(56, 8)\n"
     ]
    },
    {
     "name": "stderr",
     "output_type": "stream",
     "text": [
      "-0.3986383378505707:  62%|██████▏   | 123/200 [00:55<00:38,  2.00it/s]"
     ]
    },
    {
     "name": "stdout",
     "output_type": "stream",
     "text": [
      "(56, 8)\n"
     ]
    },
    {
     "name": "stderr",
     "output_type": "stream",
     "text": [
      "-0.3986382782459259:  62%|██████▏   | 124/200 [00:56<00:37,  2.03it/s]"
     ]
    },
    {
     "name": "stdout",
     "output_type": "stream",
     "text": [
      "(56, 8)\n"
     ]
    },
    {
     "name": "stderr",
     "output_type": "stream",
     "text": [
      "-0.3986383378505707:  62%|██████▎   | 125/200 [00:56<00:37,  2.03it/s]"
     ]
    },
    {
     "name": "stdout",
     "output_type": "stream",
     "text": [
      "(56, 8)\n"
     ]
    },
    {
     "name": "stderr",
     "output_type": "stream",
     "text": [
      "-0.3986383080482483:  63%|██████▎   | 126/200 [00:57<00:36,  2.05it/s]"
     ]
    },
    {
     "name": "stdout",
     "output_type": "stream",
     "text": [
      "(56, 8)\n"
     ]
    },
    {
     "name": "stderr",
     "output_type": "stream",
     "text": [
      "-0.3986383378505707:  64%|██████▎   | 127/200 [00:57<00:34,  2.10it/s]"
     ]
    },
    {
     "name": "stdout",
     "output_type": "stream",
     "text": [
      "(56, 8)\n"
     ]
    },
    {
     "name": "stderr",
     "output_type": "stream",
     "text": [
      "-0.3986382484436035:  64%|██████▍   | 128/200 [00:58<00:33,  2.13it/s]"
     ]
    },
    {
     "name": "stdout",
     "output_type": "stream",
     "text": [
      "(56, 8)\n"
     ]
    },
    {
     "name": "stderr",
     "output_type": "stream",
     "text": [
      "-0.3986383080482483:  64%|██████▍   | 129/200 [00:58<00:33,  2.11it/s]"
     ]
    },
    {
     "name": "stdout",
     "output_type": "stream",
     "text": [
      "(56, 8)\n"
     ]
    },
    {
     "name": "stderr",
     "output_type": "stream",
     "text": [
      "-0.3986382782459259:  65%|██████▌   | 130/200 [00:59<00:33,  2.12it/s]"
     ]
    },
    {
     "name": "stdout",
     "output_type": "stream",
     "text": [
      "(56, 8)\n"
     ]
    },
    {
     "name": "stderr",
     "output_type": "stream",
     "text": [
      "-0.39863836765289307:  66%|██████▌   | 131/200 [00:59<00:32,  2.14it/s]"
     ]
    },
    {
     "name": "stdout",
     "output_type": "stream",
     "text": [
      "(56, 8)\n"
     ]
    },
    {
     "name": "stderr",
     "output_type": "stream",
     "text": [
      "-0.3986383080482483:  66%|██████▌   | 132/200 [01:00<00:31,  2.14it/s] "
     ]
    },
    {
     "name": "stdout",
     "output_type": "stream",
     "text": [
      "(56, 8)\n"
     ]
    },
    {
     "name": "stderr",
     "output_type": "stream",
     "text": [
      "-0.3986383080482483:  66%|██████▋   | 133/200 [01:00<00:31,  2.14it/s]"
     ]
    },
    {
     "name": "stdout",
     "output_type": "stream",
     "text": [
      "(56, 8)\n"
     ]
    },
    {
     "name": "stderr",
     "output_type": "stream",
     "text": [
      "-0.3986382782459259:  67%|██████▋   | 134/200 [01:01<00:31,  2.13it/s]"
     ]
    },
    {
     "name": "stdout",
     "output_type": "stream",
     "text": [
      "(56, 8)\n"
     ]
    },
    {
     "name": "stderr",
     "output_type": "stream",
     "text": [
      "-0.3986382782459259:  68%|██████▊   | 135/200 [01:01<00:32,  2.02it/s]"
     ]
    },
    {
     "name": "stdout",
     "output_type": "stream",
     "text": [
      "(56, 8)\n"
     ]
    },
    {
     "name": "stderr",
     "output_type": "stream",
     "text": [
      "-0.39863836765289307:  68%|██████▊   | 136/200 [01:02<00:32,  1.99it/s]"
     ]
    },
    {
     "name": "stdout",
     "output_type": "stream",
     "text": [
      "(56, 8)\n"
     ]
    },
    {
     "name": "stderr",
     "output_type": "stream",
     "text": [
      "-0.3986383080482483:  68%|██████▊   | 137/200 [01:02<00:32,  1.97it/s] "
     ]
    },
    {
     "name": "stdout",
     "output_type": "stream",
     "text": [
      "(56, 8)\n"
     ]
    },
    {
     "name": "stderr",
     "output_type": "stream",
     "text": [
      "-0.3986383080482483:  69%|██████▉   | 138/200 [01:03<00:31,  1.97it/s]"
     ]
    },
    {
     "name": "stdout",
     "output_type": "stream",
     "text": [
      "(56, 8)\n"
     ]
    },
    {
     "name": "stderr",
     "output_type": "stream",
     "text": [
      "-0.3986382484436035:  70%|██████▉   | 139/200 [01:03<00:30,  1.99it/s]"
     ]
    },
    {
     "name": "stdout",
     "output_type": "stream",
     "text": [
      "(56, 8)\n"
     ]
    },
    {
     "name": "stderr",
     "output_type": "stream",
     "text": [
      "-0.3986382782459259:  70%|███████   | 140/200 [01:04<00:29,  2.02it/s]"
     ]
    },
    {
     "name": "stdout",
     "output_type": "stream",
     "text": [
      "(56, 8)\n"
     ]
    },
    {
     "name": "stderr",
     "output_type": "stream",
     "text": [
      "-0.3986383378505707:  70%|███████   | 141/200 [01:04<00:29,  1.99it/s]"
     ]
    },
    {
     "name": "stdout",
     "output_type": "stream",
     "text": [
      "(56, 8)\n"
     ]
    },
    {
     "name": "stderr",
     "output_type": "stream",
     "text": [
      "-0.3986383378505707:  71%|███████   | 142/200 [01:05<00:29,  1.99it/s]"
     ]
    },
    {
     "name": "stdout",
     "output_type": "stream",
     "text": [
      "(56, 8)\n"
     ]
    },
    {
     "name": "stderr",
     "output_type": "stream",
     "text": [
      "-0.3986383080482483:  72%|███████▏  | 143/200 [01:05<00:28,  2.01it/s]"
     ]
    },
    {
     "name": "stdout",
     "output_type": "stream",
     "text": [
      "(56, 8)\n"
     ]
    },
    {
     "name": "stderr",
     "output_type": "stream",
     "text": [
      "-0.3986383378505707:  72%|███████▏  | 144/200 [01:06<00:27,  2.04it/s]"
     ]
    },
    {
     "name": "stdout",
     "output_type": "stream",
     "text": [
      "(56, 8)\n"
     ]
    },
    {
     "name": "stderr",
     "output_type": "stream",
     "text": [
      "-0.39863836765289307:  72%|███████▎  | 145/200 [01:06<00:26,  2.04it/s]"
     ]
    },
    {
     "name": "stdout",
     "output_type": "stream",
     "text": [
      "(56, 8)\n"
     ]
    },
    {
     "name": "stderr",
     "output_type": "stream",
     "text": [
      "-0.3986382484436035:  73%|███████▎  | 146/200 [01:07<00:26,  2.02it/s] "
     ]
    },
    {
     "name": "stdout",
     "output_type": "stream",
     "text": [
      "(56, 8)\n"
     ]
    },
    {
     "name": "stderr",
     "output_type": "stream",
     "text": [
      "-0.3986383080482483:  74%|███████▎  | 147/200 [01:07<00:26,  2.02it/s]"
     ]
    },
    {
     "name": "stdout",
     "output_type": "stream",
     "text": [
      "(56, 8)\n"
     ]
    },
    {
     "name": "stderr",
     "output_type": "stream",
     "text": [
      "-0.3986383080482483:  74%|███████▍  | 148/200 [01:08<00:26,  1.99it/s]"
     ]
    },
    {
     "name": "stdout",
     "output_type": "stream",
     "text": [
      "(56, 8)\n"
     ]
    },
    {
     "name": "stderr",
     "output_type": "stream",
     "text": [
      "-0.3986383080482483:  74%|███████▍  | 149/200 [01:08<00:25,  1.97it/s]"
     ]
    },
    {
     "name": "stdout",
     "output_type": "stream",
     "text": [
      "(56, 8)\n"
     ]
    },
    {
     "name": "stderr",
     "output_type": "stream",
     "text": [
      "-0.3986383378505707:  75%|███████▌  | 150/200 [01:09<00:24,  2.00it/s]"
     ]
    },
    {
     "name": "stdout",
     "output_type": "stream",
     "text": [
      "(56, 8)\n"
     ]
    },
    {
     "name": "stderr",
     "output_type": "stream",
     "text": [
      "-0.3986383080482483:  76%|███████▌  | 151/200 [01:09<00:23,  2.05it/s]"
     ]
    },
    {
     "name": "stdout",
     "output_type": "stream",
     "text": [
      "(56, 8)\n"
     ]
    },
    {
     "name": "stderr",
     "output_type": "stream",
     "text": [
      "-0.3986382782459259:  76%|███████▌  | 152/200 [01:10<00:23,  2.07it/s]"
     ]
    },
    {
     "name": "stdout",
     "output_type": "stream",
     "text": [
      "(56, 8)\n"
     ]
    },
    {
     "name": "stderr",
     "output_type": "stream",
     "text": [
      "-0.3986382484436035:  76%|███████▋  | 153/200 [01:10<00:22,  2.08it/s]"
     ]
    },
    {
     "name": "stdout",
     "output_type": "stream",
     "text": [
      "(56, 8)\n"
     ]
    },
    {
     "name": "stderr",
     "output_type": "stream",
     "text": [
      "-0.3986383378505707:  77%|███████▋  | 154/200 [01:11<00:22,  2.06it/s]"
     ]
    },
    {
     "name": "stdout",
     "output_type": "stream",
     "text": [
      "(56, 8)\n"
     ]
    },
    {
     "name": "stderr",
     "output_type": "stream",
     "text": [
      "-0.3986383080482483:  78%|███████▊  | 155/200 [01:11<00:21,  2.06it/s]"
     ]
    },
    {
     "name": "stdout",
     "output_type": "stream",
     "text": [
      "(56, 8)\n"
     ]
    },
    {
     "name": "stderr",
     "output_type": "stream",
     "text": [
      "-0.3986382484436035:  78%|███████▊  | 156/200 [01:12<00:21,  2.04it/s]"
     ]
    },
    {
     "name": "stdout",
     "output_type": "stream",
     "text": [
      "(56, 8)\n"
     ]
    },
    {
     "name": "stderr",
     "output_type": "stream",
     "text": [
      "-0.3986383080482483:  78%|███████▊  | 157/200 [01:12<00:21,  2.04it/s]"
     ]
    },
    {
     "name": "stdout",
     "output_type": "stream",
     "text": [
      "(56, 8)\n"
     ]
    },
    {
     "name": "stderr",
     "output_type": "stream",
     "text": [
      "-0.3986383080482483:  79%|███████▉  | 158/200 [01:13<00:20,  2.03it/s]"
     ]
    },
    {
     "name": "stdout",
     "output_type": "stream",
     "text": [
      "(56, 8)\n"
     ]
    },
    {
     "name": "stderr",
     "output_type": "stream",
     "text": [
      "-0.3986383080482483:  80%|███████▉  | 159/200 [01:13<00:20,  2.02it/s]"
     ]
    },
    {
     "name": "stdout",
     "output_type": "stream",
     "text": [
      "(56, 8)\n"
     ]
    },
    {
     "name": "stderr",
     "output_type": "stream",
     "text": [
      "-0.3986383080482483:  80%|████████  | 160/200 [01:14<00:19,  2.03it/s]"
     ]
    },
    {
     "name": "stdout",
     "output_type": "stream",
     "text": [
      "(56, 8)\n"
     ]
    },
    {
     "name": "stderr",
     "output_type": "stream",
     "text": [
      "-0.3986383080482483:  80%|████████  | 161/200 [01:14<00:18,  2.06it/s]"
     ]
    },
    {
     "name": "stdout",
     "output_type": "stream",
     "text": [
      "(56, 8)\n"
     ]
    },
    {
     "name": "stderr",
     "output_type": "stream",
     "text": [
      "-0.3986383080482483:  81%|████████  | 162/200 [01:15<00:18,  2.06it/s]"
     ]
    },
    {
     "name": "stdout",
     "output_type": "stream",
     "text": [
      "(56, 8)\n"
     ]
    },
    {
     "name": "stderr",
     "output_type": "stream",
     "text": [
      "-0.3986382782459259:  82%|████████▏ | 163/200 [01:15<00:17,  2.08it/s]"
     ]
    },
    {
     "name": "stdout",
     "output_type": "stream",
     "text": [
      "(56, 8)\n"
     ]
    },
    {
     "name": "stderr",
     "output_type": "stream",
     "text": [
      "-0.3986383378505707:  82%|████████▏ | 164/200 [01:15<00:17,  2.08it/s]"
     ]
    },
    {
     "name": "stdout",
     "output_type": "stream",
     "text": [
      "(56, 8)\n"
     ]
    },
    {
     "name": "stderr",
     "output_type": "stream",
     "text": [
      "-0.3986383080482483:  82%|████████▎ | 165/200 [01:16<00:16,  2.08it/s]"
     ]
    },
    {
     "name": "stdout",
     "output_type": "stream",
     "text": [
      "(56, 8)\n"
     ]
    },
    {
     "name": "stderr",
     "output_type": "stream",
     "text": [
      "-0.3986383080482483:  83%|████████▎ | 166/200 [01:16<00:16,  2.10it/s]"
     ]
    },
    {
     "name": "stdout",
     "output_type": "stream",
     "text": [
      "(56, 8)\n"
     ]
    },
    {
     "name": "stderr",
     "output_type": "stream",
     "text": [
      "-0.3986383080482483:  84%|████████▎ | 167/200 [01:17<00:15,  2.11it/s]"
     ]
    },
    {
     "name": "stdout",
     "output_type": "stream",
     "text": [
      "(56, 8)\n"
     ]
    },
    {
     "name": "stderr",
     "output_type": "stream",
     "text": [
      "-0.3986382782459259:  84%|████████▍ | 168/200 [01:17<00:15,  2.12it/s]"
     ]
    },
    {
     "name": "stdout",
     "output_type": "stream",
     "text": [
      "(56, 8)\n"
     ]
    },
    {
     "name": "stderr",
     "output_type": "stream",
     "text": [
      "-0.3986383080482483:  84%|████████▍ | 169/200 [01:18<00:14,  2.12it/s]"
     ]
    },
    {
     "name": "stdout",
     "output_type": "stream",
     "text": [
      "(56, 8)\n"
     ]
    },
    {
     "name": "stderr",
     "output_type": "stream",
     "text": [
      "-0.3986382782459259:  85%|████████▌ | 170/200 [01:18<00:14,  2.09it/s]"
     ]
    },
    {
     "name": "stdout",
     "output_type": "stream",
     "text": [
      "(56, 8)\n"
     ]
    },
    {
     "name": "stderr",
     "output_type": "stream",
     "text": [
      "-0.3986383080482483:  86%|████████▌ | 171/200 [01:19<00:13,  2.11it/s]"
     ]
    },
    {
     "name": "stdout",
     "output_type": "stream",
     "text": [
      "(56, 8)\n"
     ]
    },
    {
     "name": "stderr",
     "output_type": "stream",
     "text": [
      "-0.39863836765289307:  86%|████████▌ | 172/200 [01:19<00:13,  2.11it/s]"
     ]
    },
    {
     "name": "stdout",
     "output_type": "stream",
     "text": [
      "(56, 8)\n"
     ]
    },
    {
     "name": "stderr",
     "output_type": "stream",
     "text": [
      "-0.3986383080482483:  86%|████████▋ | 173/200 [01:20<00:13,  2.07it/s] "
     ]
    },
    {
     "name": "stdout",
     "output_type": "stream",
     "text": [
      "(56, 8)\n"
     ]
    },
    {
     "name": "stderr",
     "output_type": "stream",
     "text": [
      "-0.3986383080482483:  87%|████████▋ | 174/200 [01:20<00:12,  2.12it/s]"
     ]
    },
    {
     "name": "stdout",
     "output_type": "stream",
     "text": [
      "(56, 8)\n"
     ]
    },
    {
     "name": "stderr",
     "output_type": "stream",
     "text": [
      "-0.3986383080482483:  88%|████████▊ | 175/200 [01:21<00:11,  2.12it/s]"
     ]
    },
    {
     "name": "stdout",
     "output_type": "stream",
     "text": [
      "(56, 8)\n"
     ]
    },
    {
     "name": "stderr",
     "output_type": "stream",
     "text": [
      "-0.39863836765289307:  88%|████████▊ | 176/200 [01:21<00:12,  1.94it/s]"
     ]
    },
    {
     "name": "stdout",
     "output_type": "stream",
     "text": [
      "(56, 8)\n"
     ]
    },
    {
     "name": "stderr",
     "output_type": "stream",
     "text": [
      "-0.3986383080482483:  88%|████████▊ | 177/200 [01:22<00:11,  2.02it/s] "
     ]
    },
    {
     "name": "stdout",
     "output_type": "stream",
     "text": [
      "(56, 8)\n"
     ]
    },
    {
     "name": "stderr",
     "output_type": "stream",
     "text": [
      "-0.3986383080482483:  89%|████████▉ | 178/200 [01:22<00:10,  2.11it/s]"
     ]
    },
    {
     "name": "stdout",
     "output_type": "stream",
     "text": [
      "(56, 8)\n"
     ]
    },
    {
     "name": "stderr",
     "output_type": "stream",
     "text": [
      "-0.3986383080482483:  90%|████████▉ | 179/200 [01:23<00:09,  2.17it/s]"
     ]
    },
    {
     "name": "stdout",
     "output_type": "stream",
     "text": [
      "(56, 8)\n"
     ]
    },
    {
     "name": "stderr",
     "output_type": "stream",
     "text": [
      "-0.3986383080482483:  90%|█████████ | 180/200 [01:23<00:08,  2.22it/s]"
     ]
    },
    {
     "name": "stdout",
     "output_type": "stream",
     "text": [
      "(56, 8)\n"
     ]
    },
    {
     "name": "stderr",
     "output_type": "stream",
     "text": [
      "-0.3986383080482483:  90%|█████████ | 181/200 [01:23<00:08,  2.26it/s]"
     ]
    },
    {
     "name": "stdout",
     "output_type": "stream",
     "text": [
      "(56, 8)\n"
     ]
    },
    {
     "name": "stderr",
     "output_type": "stream",
     "text": [
      "-0.3986382782459259:  91%|█████████ | 182/200 [01:24<00:08,  2.22it/s]"
     ]
    },
    {
     "name": "stdout",
     "output_type": "stream",
     "text": [
      "(56, 8)\n"
     ]
    },
    {
     "name": "stderr",
     "output_type": "stream",
     "text": [
      "-0.3986383378505707:  92%|█████████▏| 183/200 [01:24<00:07,  2.27it/s]"
     ]
    },
    {
     "name": "stdout",
     "output_type": "stream",
     "text": [
      "(56, 8)\n"
     ]
    },
    {
     "name": "stderr",
     "output_type": "stream",
     "text": [
      "-0.3986383080482483:  92%|█████████▏| 184/200 [01:25<00:07,  2.23it/s]"
     ]
    },
    {
     "name": "stdout",
     "output_type": "stream",
     "text": [
      "(56, 8)\n"
     ]
    },
    {
     "name": "stderr",
     "output_type": "stream",
     "text": [
      "-0.3986382782459259:  92%|█████████▎| 185/200 [01:25<00:06,  2.23it/s]"
     ]
    },
    {
     "name": "stdout",
     "output_type": "stream",
     "text": [
      "(56, 8)\n"
     ]
    },
    {
     "name": "stderr",
     "output_type": "stream",
     "text": [
      "-0.3986383080482483:  93%|█████████▎| 186/200 [01:26<00:06,  2.26it/s]"
     ]
    },
    {
     "name": "stdout",
     "output_type": "stream",
     "text": [
      "(56, 8)\n"
     ]
    },
    {
     "name": "stderr",
     "output_type": "stream",
     "text": [
      "-0.3986383080482483:  94%|█████████▎| 187/200 [01:26<00:05,  2.26it/s]"
     ]
    },
    {
     "name": "stdout",
     "output_type": "stream",
     "text": [
      "(56, 8)\n"
     ]
    },
    {
     "name": "stderr",
     "output_type": "stream",
     "text": [
      "-0.3986383378505707:  94%|█████████▍| 188/200 [01:27<00:05,  2.29it/s]"
     ]
    },
    {
     "name": "stdout",
     "output_type": "stream",
     "text": [
      "(56, 8)\n"
     ]
    },
    {
     "name": "stderr",
     "output_type": "stream",
     "text": [
      "-0.3986383080482483:  94%|█████████▍| 189/200 [01:27<00:04,  2.25it/s]"
     ]
    },
    {
     "name": "stdout",
     "output_type": "stream",
     "text": [
      "(56, 8)\n"
     ]
    },
    {
     "name": "stderr",
     "output_type": "stream",
     "text": [
      "-0.3986383378505707:  95%|█████████▌| 190/200 [01:27<00:04,  2.28it/s]"
     ]
    },
    {
     "name": "stdout",
     "output_type": "stream",
     "text": [
      "(56, 8)\n"
     ]
    },
    {
     "name": "stderr",
     "output_type": "stream",
     "text": [
      "-0.3986383378505707:  96%|█████████▌| 191/200 [01:28<00:04,  2.24it/s]"
     ]
    },
    {
     "name": "stdout",
     "output_type": "stream",
     "text": [
      "(56, 8)\n"
     ]
    },
    {
     "name": "stderr",
     "output_type": "stream",
     "text": [
      "-0.3986383378505707:  96%|█████████▌| 192/200 [01:28<00:03,  2.24it/s]"
     ]
    },
    {
     "name": "stdout",
     "output_type": "stream",
     "text": [
      "(56, 8)\n"
     ]
    },
    {
     "name": "stderr",
     "output_type": "stream",
     "text": [
      "-0.3986382782459259:  96%|█████████▋| 193/200 [01:29<00:03,  2.24it/s]"
     ]
    },
    {
     "name": "stdout",
     "output_type": "stream",
     "text": [
      "(56, 8)\n"
     ]
    },
    {
     "name": "stderr",
     "output_type": "stream",
     "text": [
      "-0.39863836765289307:  97%|█████████▋| 194/200 [01:29<00:02,  2.25it/s]"
     ]
    },
    {
     "name": "stdout",
     "output_type": "stream",
     "text": [
      "(56, 8)\n"
     ]
    },
    {
     "name": "stderr",
     "output_type": "stream",
     "text": [
      "-0.3986383080482483:  98%|█████████▊| 195/200 [01:30<00:02,  2.25it/s] "
     ]
    },
    {
     "name": "stdout",
     "output_type": "stream",
     "text": [
      "(56, 8)\n"
     ]
    },
    {
     "name": "stderr",
     "output_type": "stream",
     "text": [
      "-0.3986383378505707:  98%|█████████▊| 196/200 [01:30<00:01,  2.27it/s]"
     ]
    },
    {
     "name": "stdout",
     "output_type": "stream",
     "text": [
      "(56, 8)\n"
     ]
    },
    {
     "name": "stderr",
     "output_type": "stream",
     "text": [
      "-0.3986383080482483:  98%|█████████▊| 197/200 [01:31<00:01,  2.31it/s]"
     ]
    },
    {
     "name": "stdout",
     "output_type": "stream",
     "text": [
      "(56, 8)\n"
     ]
    },
    {
     "name": "stderr",
     "output_type": "stream",
     "text": [
      "-0.3986382782459259:  99%|█████████▉| 198/200 [01:31<00:00,  2.32it/s]"
     ]
    },
    {
     "name": "stdout",
     "output_type": "stream",
     "text": [
      "(56, 8)\n"
     ]
    },
    {
     "name": "stderr",
     "output_type": "stream",
     "text": [
      "-0.3986383378505707: 100%|█████████▉| 199/200 [01:31<00:00,  2.20it/s]"
     ]
    },
    {
     "name": "stdout",
     "output_type": "stream",
     "text": [
      "(56, 8)\n"
     ]
    },
    {
     "name": "stderr",
     "output_type": "stream",
     "text": [
      "-0.3986383080482483: 100%|██████████| 200/200 [01:32<00:00,  2.16it/s]\n"
     ]
    }
   ],
   "source": [
    "import tqdm\n",
    "\n",
    "its = 200\n",
    "pbar = tqdm.tqdm(range(its))\n",
    "energy_list = []\n",
    "\n",
    "for _ in pbar:\n",
    "    optimizer.zero_grad()\n",
    "    loss = compute_energy(model, hamiltonian)\n",
    "    loss.backward()\n",
    "    optimizer.step()\n",
    "    # print(loss)\n",
    "    pbar.set_description(f\"{loss}\")\n",
    "    energy_list.append(loss)"
   ]
  },
  {
   "cell_type": "code",
   "execution_count": 20,
   "metadata": {},
   "outputs": [
    {
     "data": {
      "image/png": "[encoded data removed]",
      "text/plain": [
       "<Figure size 640x480 with 1 Axes>"
      ]
     },
     "metadata": {},
     "output_type": "display_data"
    }
   ],
   "source": [
    "# plot the energy\n",
    "import matplotlib.pyplot as plt\n",
    "# detach the tensor and convert to numpy\n",
    "energy_list = [x.detach().numpy() for x in energy_list]\n",
    "plt.plot(energy_list)\n",
    "# exact energy\n",
    "plt.axhline(y=E_gs/N, color='r', linestyle='-')\n",
    "plt.xlabel('Iteration')\n",
    "plt.ylabel('Energy')\n",
    "plt.show()"
   ]
  }
 ],
 "metadata": {
  "kernelspec": {
   "display_name": "symmray_nqs",
   "language": "python",
   "name": "python3"
  },
  "language_info": {
   "codemirror_mode": {
    "name": "ipython",
    "version": 3
   },
   "file_extension": ".py",
   "mimetype": "text/x-python",
   "name": "python",
   "nbconvert_exporter": "python",
   "pygments_lexer": "ipython3",
   "version": "3.9.19"
  }
 },
 "nbformat": 4,
 "nbformat_minor": 2
}
