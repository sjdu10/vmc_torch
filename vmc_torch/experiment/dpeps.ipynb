{
 "cells": [
  {
   "cell_type": "code",
   "execution_count": 40,
   "metadata": {},
   "outputs": [],
   "source": [
    "import quimb.tensor as qtn"
   ]
  },
  {
   "cell_type": "code",
   "execution_count": 41,
   "metadata": {},
   "outputs": [],
   "source": [
    "Lx = 10\n",
    "Ly = 10"
   ]
  },
  {
   "cell_type": "code",
   "execution_count": 42,
   "metadata": {},
   "outputs": [],
   "source": [
    "peps = qtn.PEPS.rand(Lx, Ly, 2, seed=42)"
   ]
  },
  {
   "cell_type": "code",
   "execution_count": 43,
   "metadata": {},
   "outputs": [],
   "source": [
    "def delocalize_in_cross(peps, diag=False):\n",
    "\n",
    "    peps = peps.copy()\n",
    "\n",
    "    for (i, j) in peps.sites:\n",
    "        t = peps[i, j]\n",
    "\n",
    "        if diag:\n",
    "            neighbors = [\n",
    "                (i + 1, j + 1),\n",
    "                (i - 1, j - 1),\n",
    "                (i + 1, j - 1),\n",
    "                (i - 1, j + 1),\n",
    "            ]\n",
    "        else:\n",
    "            neighbors = [\n",
    "                (i + 1, j),\n",
    "                (i - 1, j),\n",
    "                (i, j + 1),\n",
    "                (i, j - 1),\n",
    "            ]\n",
    "        for neighbor in neighbors:\n",
    "            if peps.valid_coo(neighbor):\n",
    "                t.new_ind(peps.site_ind(neighbor), mode=\"repeat\", size=2)\n",
    "    return peps"
   ]
  },
  {
   "cell_type": "code",
   "execution_count": 44,
   "metadata": {},
   "outputs": [],
   "source": [
    "dpeps = delocalize_in_cross(peps, diag=False)"
   ]
  },
  {
   "cell_type": "code",
   "execution_count": 45,
   "metadata": {},
   "outputs": [
    {
     "data": {
      "image/png": "[encoded data removed]",
      "text/plain": [
       "<Figure size 600x600 with 1 Axes>"
      ]
     },
     "metadata": {
      "needs_background": "light"
     },
     "output_type": "display_data"
    }
   ],
   "source": [
    "dpeps.draw()"
   ]
  },
  {
   "cell_type": "code",
   "execution_count": 47,
   "metadata": {},
   "outputs": [],
   "source": [
    "from vmc_torch.experiment.tn_model import PEPS_model, PEPS_delocalized_Model"
   ]
  },
  {
   "cell_type": "code",
   "execution_count": 48,
   "metadata": {},
   "outputs": [],
   "source": [
    "import torch\n",
    "peps.apply_to_arrays(torch.tensor)\n",
    "dpeps.apply_to_arrays(torch.tensor)\n",
    "peps_model = PEPS_model(peps)\n",
    "dpeps_model = PEPS_delocalized_Model(peps, diag=False)"
   ]
  },
  {
   "cell_type": "code",
   "execution_count": 49,
   "metadata": {},
   "outputs": [
    {
     "data": {
      "text/plain": [
       "(2592, 36992)"
      ]
     },
     "execution_count": 49,
     "metadata": {},
     "output_type": "execute_result"
    }
   ],
   "source": [
    "len(peps_model.from_params_to_vec()), len(dpeps_model.from_params_to_vec())"
   ]
  },
  {
   "cell_type": "code",
   "execution_count": 39,
   "metadata": {},
   "outputs": [
    {
     "data": {
      "text/plain": [
       "3200"
      ]
     },
     "execution_count": 39,
     "metadata": {},
     "output_type": "execute_result"
    }
   ],
   "source": [
    "peps1 = qtn.PEPS.rand(Lx, Ly, 4, seed=42)\n",
    "peps1.apply_to_arrays(torch.tensor)\n",
    "peps1_model = PEPS_model(peps1)\n",
    "len(peps1_model.from_params_to_vec())"
   ]
  },
  {
   "cell_type": "code",
   "execution_count": 37,
   "metadata": {},
   "outputs": [
    {
     "data": {
      "text/plain": [
       "4896"
      ]
     },
     "execution_count": 37,
     "metadata": {},
     "output_type": "execute_result"
    }
   ],
   "source": [
    "test_mlp = torch.nn.Sequential(\n",
    "    torch.nn.Linear(16, 288),\n",
    ")\n",
    "# number of parameters in the test_mlp\n",
    "sum(p.numel() for p in test_mlp.parameters())"
   ]
  }
 ],
 "metadata": {
  "kernelspec": {
   "display_name": "vmc_torch",
   "language": "python",
   "name": "python3"
  },
  "language_info": {
   "codemirror_mode": {
    "name": "ipython",
    "version": 3
   },
   "file_extension": ".py",
   "mimetype": "text/x-python",
   "name": "python",
   "nbconvert_exporter": "python",
   "pygments_lexer": "ipython3",
   "version": "3.9.20"
  }
 },
 "nbformat": 4,
 "nbformat_minor": 2
}
