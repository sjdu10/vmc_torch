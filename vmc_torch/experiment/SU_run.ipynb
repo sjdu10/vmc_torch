{
 "cells": [
  {
   "cell_type": "markdown",
   "metadata": {},
   "source": [
    "2D Spinful Fermi Hubbard model"
   ]
  },
  {
   "cell_type": "code",
   "execution_count": 26,
   "metadata": {},
   "outputs": [
    {
     "name": "stdout",
     "output_type": "stream",
     "text": [
      "0.0\n"
     ]
    },
    {
     "name": "stderr",
     "output_type": "stream",
     "text": [
      "n=12, tau=0.3, max|dS|=1, energy~-0.546799: 100%|##########| 12/12 [00:10<00:00,  1.18it/s]\n"
     ]
    }
   ],
   "source": [
    "import os\n",
    "os.environ[\"NUMBA_NUM_THREADS\"] = \"20\"\n",
    "\n",
    "import netket as nk\n",
    "import netket.experimental as nkx\n",
    "import netket.nn as nknn\n",
    "\n",
    "from math import pi\n",
    "\n",
    "from netket.experimental.operator.fermion import destroy as c\n",
    "from netket.experimental.operator.fermion import create as cdag\n",
    "from netket.experimental.operator.fermion import number as nc\n",
    "\n",
    "from vmc_torch.fermion_utils import generate_random_fpeps\n",
    "import quimb.tensor as qtn\n",
    "import symmray as sr\n",
    "import pickle\n",
    "\n",
    "# Define the lattice shape\n",
    "Lx = 4\n",
    "Ly = 16\n",
    "spinless = False\n",
    "# graph = nk.graph.Square(L)\n",
    "graph = nk.graph.Grid([Lx,Ly], pbc=False)\n",
    "N = graph.n_nodes\n",
    "\n",
    "# Define the fermion filling and the Hilbert space\n",
    "N_f = int(Lx*Ly-8)\n",
    "n_fermions_per_spin = (N_f//2, N_f//2)\n",
    "hi = nkx.hilbert.SpinOrbitalFermions(N, s=1/2, n_fermions_per_spin=n_fermions_per_spin)\n",
    "\n",
    "\n",
    "# # Define the Hubbard Hamiltonian\n",
    "# t = 1.0\n",
    "# U = 8.0\n",
    "# mu = 0.0\n",
    "\n",
    "# H = 0.0\n",
    "# for (i, j) in graph.edges(): # Definition of the Hubbard Hamiltonian\n",
    "#     for spin in (1,-1):\n",
    "#         H -= t * (cdag(hi,i,spin) * c(hi,j,spin) + cdag(hi,j,spin) * c(hi,i,spin))\n",
    "# for i in graph.nodes():\n",
    "#     H += U * nc(hi,i,+1) * nc(hi,i,-1)\n",
    "\n",
    "\n",
    "# # Exact diagonalization of the Hamiltonian for benchmark\n",
    "# sp_h = H.to_sparse() # Convert the Hamiltonian to a sparse matrix\n",
    "# from scipy.sparse.linalg import eigsh\n",
    "# eig_vals, eig_vecs = eigsh(sp_h, k=2, which=\"SA\")\n",
    "# E_gs = eig_vals[0]\n",
    "# print(\"Exact ground state energy per site:\", E_gs/N)\n",
    "\n",
    "\n",
    "# SU in quimb\n",
    "D = 4\n",
    "seed = 2\n",
    "symmetry = 'U1'\n",
    "spinless = False\n",
    "peps = generate_random_fpeps(Lx, Ly, D=D, seed=2, symmetry=symmetry, Nf=N_f, spinless=spinless)[0]\n",
    "edges = qtn.edges_2d_square(Lx, Ly, cyclic=False)\n",
    "try:\n",
    "    parse_edges_to_site_info = sr.utils.parse_edges_to_site_info\n",
    "except AttributeError:\n",
    "    parse_edges_to_site_info = sr.parse_edges_to_site_info\n",
    "site_info = parse_edges_to_site_info(\n",
    "    edges,\n",
    "    D,\n",
    "    phys_dim=4,\n",
    "    site_ind_id=\"k{},{}\",\n",
    "    site_tag_id=\"I{},{}\",\n",
    ")\n",
    "\n",
    "t = 1.0\n",
    "U = 8.0\n",
    "if N_f == int(Lx*Ly-2) or N_f == int(Lx*Ly-8):\n",
    "    mu = 0.0 if symmetry == 'U1' else (U*N_f/(2*N)-2.42)#(U*N_f/(2*N)-2.3)\n",
    "elif N_f == int(Lx*Ly):\n",
    "    mu = 0.0 if symmetry == 'U1' else (U/2)\n",
    "\n",
    "print(mu)\n",
    "\n",
    "terms = {\n",
    "    (sitea, siteb): sr.fermi_hubbard_local_array(\n",
    "        t=t, U=U, mu=mu,\n",
    "        symmetry=symmetry,\n",
    "        coordinations=(\n",
    "            site_info[sitea]['coordination'],\n",
    "            site_info[siteb]['coordination'],\n",
    "        ),\n",
    "    )\n",
    "    for (sitea, siteb) in peps.gen_bond_coos()\n",
    "}\n",
    "N_terms = {\n",
    "    site: sr.fermi_number_operator_spinful_local_array(\n",
    "        symmetry=symmetry\n",
    "    )\n",
    "    for site in peps.gen_site_coos()\n",
    "}\n",
    "occ_fn = lambda su: print(f'N per site:{su.get_state().compute_local_expectation(N_terms, normalized=True, max_bond=128,)/N}') if su.n%50==0 else None\n",
    "\n",
    "ham = qtn.LocalHam2D(Lx, Ly, terms)\n",
    "\n",
    "su = qtn.SimpleUpdateGen(peps, ham, compute_energy_per_site=True,D=D, compute_energy_opts={\"max_distance\":1}, gate_opts={'cutoff':1e-12}, callback=occ_fn)\n",
    "\n",
    "# cluster energies may not be accuracte yet\n",
    "su.evolve(12, tau=0.3)\n",
    "# su.evolve(50, tau=0.1)\n",
    "# su.evolve(50, tau=0.03)\n",
    "# # su.evolve(50, tau=0.01)\n",
    "# # su.evolve(50, tau=0.003)\n",
    "\n",
    "# peps = su.get_state()\n",
    "# peps.equalize_norms_(value=1)\n",
    "\n",
    "# # save the state\n",
    "# params, skeleton = qtn.pack(peps)\n",
    "\n",
    "# import os\n",
    "# os.makedirs(f'../../data/{Lx}x{Ly}/t={t}_U={U}/N={N_f}/{symmetry}/D={D}', exist_ok=True)\n",
    "\n",
    "# with open(f'../../data/{Lx}x{Ly}/t={t}_U={U}/N={N_f}/{symmetry}/D={D}/peps_skeleton.pkl', 'wb') as f:\n",
    "#     pickle.dump(skeleton, f)\n",
    "# with open(f'../../data/{Lx}x{Ly}/t={t}_U={U}/N={N_f}/{symmetry}/D={D}/peps_su_params.pkl', 'wb') as f:\n",
    "#     pickle.dump(params, f)\n",
    "    "
   ]
  },
  {
   "cell_type": "code",
   "execution_count": 46,
   "metadata": {},
   "outputs": [
    {
     "data": {
      "image/png": "[encoded data removed]",
      "text/plain": [
       "<Figure size 600x600 with 1 Axes>"
      ]
     },
     "metadata": {
      "needs_background": "light"
     },
     "output_type": "display_data"
    },
    {
     "data": {
      "text/plain": [
       "np.float64(5.409387534096024e-31)"
      ]
     },
     "execution_count": 46,
     "metadata": {},
     "output_type": "execute_result"
    }
   ],
   "source": [
    "from vmc_torch.hamiltonian import spinful_Fermi_Hubbard_square_lattice\n",
    "n_fermions_per_spin = (N_f//2, N_f//2)\n",
    "H = spinful_Fermi_Hubbard_square_lattice(Lx, Ly, t, U, N_f, pbc=False, n_fermions_per_spin=n_fermions_per_spin)\n",
    "hi = H.hilbert\n",
    "import numpy as np\n",
    "rkey = np.random.randint(2**32)\n",
    "rconfig = hi.random_state(rkey)\n",
    "amp = su.state.get_amp(rconfig)\n",
    "amp.draw()\n",
    "amp.contract()"
   ]
  },
  {
   "cell_type": "code",
   "execution_count": 2,
   "metadata": {},
   "outputs": [
    {
     "data": {
      "text/plain": [
       "(-0.5639499999999997, -0.5767899999999997)"
      ]
     },
     "execution_count": 2,
     "metadata": {},
     "output_type": "execute_result"
    }
   ],
   "source": [
    "-1.61395+(U*N_f/(2*N)-2.3)*0.875, -1.62679+(U*N_f/(2*N)-2.3)*0.875"
   ]
  },
  {
   "cell_type": "markdown",
   "metadata": {},
   "source": [
    "1D Spinful Fermi Hubbard model"
   ]
  },
  {
   "cell_type": "code",
   "execution_count": 1,
   "metadata": {},
   "outputs": [
    {
     "name": "stderr",
     "output_type": "stream",
     "text": [
      "An NVIDIA GPU may be present on this machine, but a CUDA-enabled jaxlib is not installed. Falling back to cpu.\n",
      "/home/sijingdu/anaconda3/envs/vmc_torch/lib/python3.9/site-packages/tqdm/auto.py:21: TqdmWarning: IProgress not found. Please update jupyter and ipywidgets. See https://ipywidgets.readthedocs.io/en/stable/user_install.html\n",
      "  from .autonotebook import tqdm as notebook_tqdm\n",
      "/home/sijingdu/TNVMC/VMC_code/quimb/quimb/core.py:45: UserWarning: 'NUMBA_NUM_THREADS' has been set elsewhere and doesn't match the value 'quimb' has tried to set - 20 vs 10.\n",
      "  warnings.warn(\n",
      "/home/sijingdu/anaconda3/envs/vmc_torch/lib/python3.9/site-packages/numba/np/ufunc/parallel.py:371: NumbaWarning: \u001b[1mThe TBB threading layer requires TBB version 2021 update 6 or later i.e., TBB_INTERFACE_VERSION >= 12060. Found TBB_INTERFACE_VERSION = 12050. The TBB threading layer is disabled.\u001b[0m\n",
      "  warnings.warn(problem)\n",
      "/home/sijingdu/anaconda3/envs/vmc_torch/lib/python3.9/site-packages/cotengra/hyperoptimizers/hyper.py:33: UserWarning: Couldn't import `kahypar` - skipping from default hyper optimizer and using basic `labels` method instead.\n",
      "  warnings.warn(\n"
     ]
    },
    {
     "name": "stdout",
     "output_type": "stream",
     "text": [
      "Exact ground state energy per site: -0.3026039250046885\n",
      "{0: {'inds': ['b0-1', 'k0'], 'duals': [0, 0], 'shape': [8, 4], 'coordination': 1, 'tags': ('I0',)}, 1: {'inds': ['b0-1', 'b1-2', 'k1'], 'duals': [1, 0, 0], 'shape': [8, 8, 4], 'coordination': 2, 'tags': ('I1',)}, 2: {'inds': ['b1-2', 'b2-3', 'k2'], 'duals': [1, 0, 0], 'shape': [8, 8, 4], 'coordination': 2, 'tags': ('I2',)}, 3: {'inds': ['b2-3', 'b3-4', 'k3'], 'duals': [1, 0, 0], 'shape': [8, 8, 4], 'coordination': 2, 'tags': ('I3',)}, 4: {'inds': ['b3-4', 'b4-5', 'k4'], 'duals': [1, 0, 0], 'shape': [8, 8, 4], 'coordination': 2, 'tags': ('I4',)}, 5: {'inds': ['b4-5', 'b5-6', 'k5'], 'duals': [1, 0, 0], 'shape': [8, 8, 4], 'coordination': 2, 'tags': ('I5',)}, 6: {'inds': ['b5-6', 'b6-7', 'k6'], 'duals': [1, 0, 0], 'shape': [8, 8, 4], 'coordination': 2, 'tags': ('I6',)}, 7: {'inds': ['b6-7', 'k7'], 'duals': [1, 0], 'shape': [8, 4], 'coordination': 1, 'tags': ('I7',)}}\n"
     ]
    },
    {
     "name": "stderr",
     "output_type": "stream",
     "text": [
      "n=50, tau=0.3, max|dS|=0.13, energy~-0.250075: 100%|##########| 50/50 [00:01<00:00, 29.71it/s]  \n",
      "n=100, tau=0.1, max|dS|=0.00059, energy~-0.295697: 100%|##########| 50/50 [00:01<00:00, 40.95it/s]\n",
      "n=150, tau=0.03, max|dS|=0.022, energy~-0.301662: 100%|##########| 50/50 [00:01<00:00, 40.37it/s]  \n",
      "n=250, tau=0.01, max|dS|=0.0081, energy~-0.30182: 100%|##########| 100/100 [00:02<00:00, 42.01it/s] \n"
     ]
    },
    {
     "data": {
      "text/html": [
       "<samp style='font-size: 12px;'><details><summary><b style=\"color: #d64dd7;\">fMPS</b>(tensors=8, indices=15, L=8, max_bond=8)</summary><samp style='font-size: 12px;'><details><summary><b style=\"color: #e55471;\">Tensor</b>(shape=(<b style=\"color: #80d749;\">4</b>, <b style=\"color: #80d749;\">4</b>), inds=[<b style=\"color: #d5b090;\">b0-1</b>, <b style=\"color: #b1dc61;\">k0</b>], tags={<b style=\"color: #d2b137;\">I0</b>}),</summary>backend=<b style=\"color: #5ee466;\">symmray</b>, dtype=<b style=\"color: #75d2c6;\">float64</b>, data=U1FermionicArray(shape~(4, 4):[++], charge=0, num_blocks=3)</details></samp><samp style='font-size: 12px;'><details><summary><b style=\"color: #e55471;\">Tensor</b>(shape=(<b style=\"color: #80d749;\">4</b>, <b style=\"color: #39acd6;\">8</b>, <b style=\"color: #80d749;\">4</b>), inds=[<b style=\"color: #d5b090;\">b0-1</b>, <b style=\"color: #7cdc93;\">b1-2</b>, <b style=\"color: #8aa5db;\">k1</b>], tags={<b style=\"color: #d19b78;\">I1</b>}),</summary>backend=<b style=\"color: #5ee466;\">symmray</b>, dtype=<b style=\"color: #75d2c6;\">float64</b>, data=...</details></samp><samp style='font-size: 12px;'><details><summary><b style=\"color: #e55471;\">Tensor</b>(shape=(<b style=\"color: #39acd6;\">8</b>, <b style=\"color: #39acd6;\">8</b>, <b style=\"color: #80d749;\">4</b>), inds=[<b style=\"color: #7cdc93;\">b1-2</b>, <b style=\"color: #48e482;\">b2-3</b>, <b style=\"color: #df546d;\">k2</b>], tags={<b style=\"color: #dd5dd7;\">I2</b>}),</summary>backend=<b style=\"color: #5ee466;\">symmray</b>, dtype=<b style=\"color: #75d2c6;\">float64</b>, data=...</details></samp><samp style='font-size: 12px;'><details><summary><b style=\"color: #e55471;\">Tensor</b>(shape=(<b style=\"color: #39acd6;\">8</b>, <b style=\"color: #39acd6;\">8</b>, <b style=\"color: #80d749;\">4</b>), inds=[<b style=\"color: #48e482;\">b2-3</b>, <b style=\"color: #3fdd4f;\">b3-4</b>, <b style=\"color: #4c7be1;\">k3</b>], tags={<b style=\"color: #dd65d9;\">I3</b>}),</summary>backend=<b style=\"color: #5ee466;\">symmray</b>, dtype=<b style=\"color: #75d2c6;\">float64</b>, data=...</details></samp><samp style='font-size: 12px;'><details><summary><b style=\"color: #e55471;\">Tensor</b>(shape=(<b style=\"color: #39acd6;\">8</b>, <b style=\"color: #39acd6;\">8</b>, <b style=\"color: #80d749;\">4</b>), inds=[<b style=\"color: #3fdd4f;\">b3-4</b>, <b style=\"color: #cf34a1;\">b4-5</b>, <b style=\"color: #462edc;\">k4</b>], tags={<b style=\"color: #998ad1;\">I4</b>}),</summary>backend=<b style=\"color: #5ee466;\">symmray</b>, dtype=<b style=\"color: #75d2c6;\">float64</b>, data=...</details></samp><samp style='font-size: 12px;'><details><summary><b style=\"color: #e55471;\">Tensor</b>(shape=(<b style=\"color: #39acd6;\">8</b>, <b style=\"color: #39acd6;\">8</b>, <b style=\"color: #80d749;\">4</b>), inds=[<b style=\"color: #cf34a1;\">b4-5</b>, <b style=\"color: #d778c8;\">b5-6</b>, <b style=\"color: #85dfdf;\">k5</b>], tags={<b style=\"color: #97dddc;\">I5</b>}),</summary>backend=<b style=\"color: #5ee466;\">symmray</b>, dtype=<b style=\"color: #75d2c6;\">float64</b>, data=...</details></samp><samp style='font-size: 12px;'><details><summary><b style=\"color: #e55471;\">Tensor</b>(shape=(<b style=\"color: #39acd6;\">8</b>, <b style=\"color: #80d749;\">4</b>, <b style=\"color: #80d749;\">4</b>), inds=[<b style=\"color: #d778c8;\">b5-6</b>, <b style=\"color: #ab4bd7;\">b6-7</b>, <b style=\"color: #2cb7d3;\">k6</b>], tags={<b style=\"color: #b2de5f;\">I6</b>}),</summary>backend=<b style=\"color: #5ee466;\">symmray</b>, dtype=<b style=\"color: #75d2c6;\">float64</b>, data=...</details></samp><samp style='font-size: 12px;'><details><summary><b style=\"color: #e55471;\">Tensor</b>(shape=(<b style=\"color: #80d749;\">4</b>, <b style=\"color: #80d749;\">4</b>), inds=[<b style=\"color: #ab4bd7;\">b6-7</b>, <b style=\"color: #53e08f;\">k7</b>], tags={<b style=\"color: #5582d6;\">I7</b>}),</summary>backend=<b style=\"color: #5ee466;\">symmray</b>, dtype=<b style=\"color: #75d2c6;\">float64</b>, data=U1FermionicArray(shape~(4, 4):[-+], charge=1, num_blocks=3)</details></samp></details></samp>"
      ],
      "text/plain": [
       "fMPS(tensors=8, indices=15, L=8, max_bond=8)"
      ]
     },
     "execution_count": 1,
     "metadata": {},
     "output_type": "execute_result"
    }
   ],
   "source": [
    "import os\n",
    "os.environ[\"NUMBA_NUM_THREADS\"] = \"20\"\n",
    "\n",
    "import netket as nk\n",
    "import netket.experimental as nkx\n",
    "import netket.nn as nknn\n",
    "\n",
    "from math import pi\n",
    "\n",
    "from netket.experimental.operator.fermion import destroy as c\n",
    "from netket.experimental.operator.fermion import create as cdag\n",
    "from netket.experimental.operator.fermion import number as nc\n",
    "\n",
    "from vmc_torch.fermion_utils import generate_random_fmps\n",
    "import quimb.tensor as qtn\n",
    "import symmray as sr\n",
    "import pickle\n",
    "\n",
    "# Define the lattice shape\n",
    "L = 8 # length of the chain\n",
    "spinless = False\n",
    "cyclic = False\n",
    "# graph = nk.graph.Square(L)\n",
    "graph = nk.graph.Chain(L, pbc=cyclic)\n",
    "N = graph.n_nodes\n",
    "\n",
    "# Define the fermion filling and the Hilbert space\n",
    "N_f = int(L)\n",
    "n_fermions_per_spin = (N_f//2, N_f//2)\n",
    "hi = nkx.hilbert.SpinOrbitalFermions(N, s=1/2, n_fermions_per_spin=n_fermions_per_spin)\n",
    "\n",
    "# Define the Hubbard Hamiltonian\n",
    "t = 1.0\n",
    "U = 8.0\n",
    "mu = 0.0\n",
    "\n",
    "H = 0.0\n",
    "for (i, j) in graph.edges(): # Definition of the Hubbard Hamiltonian\n",
    "    for spin in (1,-1):\n",
    "        H -= t * (cdag(hi,i,spin) * c(hi,j,spin) + cdag(hi,j,spin) * c(hi,i,spin))\n",
    "for i in graph.nodes():\n",
    "    H += U * nc(hi,i,+1) * nc(hi,i,-1)\n",
    "\n",
    "\n",
    "# Exact diagonalization of the Hamiltonian for benchmark\n",
    "sp_h = H.to_sparse() # Convert the Hamiltonian to a sparse matrix\n",
    "from scipy.sparse.linalg import eigsh\n",
    "eig_vals, eig_vecs = eigsh(sp_h, k=2, which=\"SA\")\n",
    "E_gs = eig_vals[0]\n",
    "print(\"Exact ground state energy per site:\", E_gs/N)\n",
    "\n",
    "# fMPS spinful\n",
    "D = 8\n",
    "symmetry = 'U1'\n",
    "seed = 2\n",
    "# SU in quimb\n",
    "fmps, charge_config = generate_random_fmps(L, D, seed, symmetry, Nf=N_f, cyclic=cyclic, spinless=spinless)\n",
    "edges = qtn.edges_1d_chain(L, cyclic=False)\n",
    "# def site_charge(site):\n",
    "#     # put two fermions on odd sites -> half filling\n",
    "#     return 2 * (site % 2)\n",
    "# fmps = sr.TN_fermionic_from_edges_rand(\n",
    "#     symmetry, \n",
    "#     edges, \n",
    "#     bond_dim=D, \n",
    "#     phys_dim=4,\n",
    "#     seed=42,\n",
    "#     site_charge=site_charge\n",
    "# )\n",
    "\n",
    "try:\n",
    "    parse_edges_to_site_info = sr.utils.parse_edges_to_site_info\n",
    "except AttributeError:\n",
    "    parse_edges_to_site_info = sr.parse_edges_to_site_info\n",
    "\n",
    "site_info = parse_edges_to_site_info(\n",
    "    edges,\n",
    "    D,\n",
    "    phys_dim=2 if spinless else 4,\n",
    "    site_ind_id=\"k{}\",\n",
    "    site_tag_id=\"I{}\",\n",
    ")\n",
    "print(site_info)\n",
    "\n",
    "terms = {\n",
    "    (sitea, siteb): sr.fermi_hubbard_local_array(\n",
    "        t=t, U=U, mu=mu,\n",
    "        symmetry=symmetry,\n",
    "        coordinations=(\n",
    "            site_info[sitea]['coordination'],\n",
    "            site_info[siteb]['coordination'],\n",
    "        ),\n",
    "    )\n",
    "    for (sitea, siteb) in fmps.gen_bond_coos()\n",
    "}\n",
    "ham = qtn.LocalHam1D(L, terms, cyclic=False)\n",
    "\n",
    "su = qtn.SimpleUpdateGen(\n",
    "    fmps, \n",
    "    ham, \n",
    "    compute_energy_per_site=True,\n",
    "    compute_energy_every=10, \n",
    "    D=D, \n",
    "    gate_opts={'cutoff':1e-10}\n",
    ")\n",
    "\n",
    "# cluster energies may not be accuracte yet\n",
    "su.evolve(50, tau=0.3)\n",
    "su.evolve(50, tau=0.1)\n",
    "su.evolve(50, tau=0.03)\n",
    "su.evolve(100, tau=0.01)\n",
    "# su.evolve(100, tau=0.003)\n",
    "\n",
    "mps = su.get_state()\n",
    "mps.equalize_norms_(value=1)\n",
    "\n",
    "# # save the state\n",
    "# params, skeleton = qtn.pack(mps)\n",
    "\n",
    "# import os\n",
    "# os.makedirs(f'../../data/L={L}/t={t}_U={U}/N={N_f}/{symmetry}/D={D}', exist_ok=True)\n",
    "\n",
    "# with open(f'../../data/L={L}/t={t}_U={U}/N={N_f}/{symmetry}/D={D}/mps_skeleton.pkl', 'wb') as f:\n",
    "#     pickle.dump(skeleton, f)\n",
    "# with open(f'../../data/L={L}/t={t}_U={U}/N={N_f}/{symmetry}/D={D}/mps_su_params.pkl', 'wb') as f:\n",
    "#     pickle.dump(params, f)"
   ]
  },
  {
   "cell_type": "markdown",
   "metadata": {},
   "source": [
    "Heisenberg model"
   ]
  },
  {
   "cell_type": "code",
   "execution_count": null,
   "metadata": {},
   "outputs": [],
   "source": [
    "import quimb.tensor as qtn\n",
    "import quimb as qu\n",
    "\n",
    "import netket as nk\n",
    "from vmc_torch.hamiltonian import spin_Heisenberg_square_lattice\n",
    "import numpy as np\n",
    "from math import pi\n",
    "from autoray import do\n",
    "\n",
    "ndim = 2\n",
    "Lx = 2\n",
    "Ly = 2\n",
    "L = 2\n",
    "pbc = False\n",
    "total_sz = 0.0\n",
    "print(f\"Total Sz = {total_sz}\")\n",
    "D = 4\n",
    "\n",
    "# Build square lattice with nearest and next-nearest neighbor edges\n",
    "# lattice = nk.graph.Square(L, max_neighbor_order=1, pbc=False)\n",
    "# g = lattice = nk.graph.Hypercube(L, ndim, pbc=pbc)\n",
    "g = lattice = nk.graph.Grid([Lx, Ly], pbc=pbc)\n",
    "# g = lattice = nk.graph.Pyrochlore([L, L, L], pbc=pbc)\n",
    "\n",
    "n = lattice.n_nodes\n",
    "hi = nk.hilbert.Spin(s=1 / 2, total_sz=0.0, N=n)\n",
    "# Heisenberg with coupling J=1.0 for nearest neighbors\n",
    "# and J=0.5 for next-nearest neighbors\n",
    "# H = nk.operator.Ising(hilbert=hi, graph=lattice, J=1.0, h=1.0)\n",
    "H = nk.operator.Heisenberg(hilbert=hi, graph=lattice, J=1.0, sign_rule=False) # In Netket, the spin operators are Pauli matrices, while in Quimb they are 1/2*Pauli matrices\n",
    "\n",
    "ham0 = spin_Heisenberg_square_lattice(Lx, Ly, J=1.0, pbc=pbc,total_sz=total_sz)\n",
    "hi0 = ham0.hilbert"
   ]
  },
  {
   "cell_type": "code",
   "execution_count": null,
   "metadata": {},
   "outputs": [],
   "source": [
    "# compute the ground-state energy (here we only need the lowest energy, and do not need the eigenstate)\n",
    "evals = nk.exact.lanczos_ed(H, compute_eigenvectors=False)\n",
    "exact_gs_energy = evals[0]\n",
    "print('The exact ground-state energy is E0=',exact_gs_energy)\n",
    "print(exact_gs_energy/(Lx*Ly)/4)"
   ]
  },
  {
   "cell_type": "code",
   "execution_count": null,
   "metadata": {},
   "outputs": [],
   "source": [
    "# PEPS tensor network\n",
    "psi = qtn.PEPS.rand(Lx=Lx, Ly=Ly, bond_dim=D, phys_dim=2) # initialization from PEPS\n",
    "J=1.0\n",
    "ham = qtn.ham_2d_heis(Lx=Lx, Ly=Ly, j=J)\n",
    "su = qtn.tensor_arbgeom_tebd.SimpleUpdateGen(\n",
    "    psi, \n",
    "    ham,\n",
    "    compute_energy_every=10,\n",
    "    compute_energy_per_site=True,\n",
    ")\n",
    "for tau in [1.0, 0.3, 0.1, 0.03, 0.01]:\n",
    "    su.evolve(100, tau=tau)\n",
    "psi_su = su.state\n",
    "\n",
    "# peps = su.get_state()\n",
    "# peps.equalize_norms_(value=1)\n",
    "\n",
    "# # save the state\n",
    "# params, skeleton = qtn.pack(peps)\n",
    "\n",
    "# import os\n",
    "# import pickle\n",
    "# os.makedirs(f'../../data/{Lx}x{Ly}/J={J}/D={D}', exist_ok=True)\n",
    "\n",
    "# with open(f'../../data/{Lx}x{Ly}/J={J}/D={D}/peps_skeleton.pkl', 'wb') as f:\n",
    "#     pickle.dump(skeleton, f)\n",
    "# with open(f'../../data/{Lx}x{Ly}/J={J}/D={D}/peps_su_params.pkl', 'wb') as f:\n",
    "#     pickle.dump(params, f)\n",
    "    "
   ]
  },
  {
   "cell_type": "markdown",
   "metadata": {},
   "source": [
    "J1-J2 model"
   ]
  },
  {
   "cell_type": "code",
   "execution_count": 4,
   "metadata": {},
   "outputs": [
    {
     "name": "stdout",
     "output_type": "stream",
     "text": [
      "False\n",
      "Total Sz = 0.0\n"
     ]
    },
    {
     "name": "stderr",
     "output_type": "stream",
     "text": [
      "n=50, tau=1, energy~-0.350154: 100%|##########| 50/50 [00:16<00:00,  3.06it/s]   \n",
      "n=100, tau=0.3, energy~-0.447207: 100%|##########| 50/50 [00:15<00:00,  3.32it/s]\n",
      "n=150, tau=0.1, energy~-0.450289: 100%|##########| 50/50 [00:14<00:00,  3.34it/s]\n",
      "n=200, tau=0.03, energy~-0.303382: 100%|##########| 50/50 [00:14<00:00,  3.38it/s]\n",
      "n=250, tau=0.01, energy~-0.317036: 100%|##########| 50/50 [00:14<00:00,  3.35it/s]\n"
     ]
    }
   ],
   "source": [
    "import torch\n",
    "print(torch.cuda.is_available())\n",
    "import quimb.tensor as qtn\n",
    "import quimb as qu\n",
    "\n",
    "import netket as nk\n",
    "from netket.graph import Lattice\n",
    "from vmc_torch.hamiltonian import spin_Heisenberg_square_lattice\n",
    "import numpy as np\n",
    "from math import pi\n",
    "from autoray import do\n",
    "\n",
    "ndim = 2\n",
    "Lx = 10\n",
    "Ly = 10\n",
    "# L = 4\n",
    "pbc = False\n",
    "total_sz = 0.0\n",
    "print(f\"Total Sz = {total_sz}\")\n",
    "D = 3\n",
    "\n",
    "basis = np.array([\n",
    "     [1.0,0.0],\n",
    "     [0.0,1.0],\n",
    " ])\n",
    "custom_edges = [\n",
    "     (0, 0, [1.0,0.0], 0),\n",
    "     (0, 0, [0.0,1.0], 0),\n",
    "     (0, 0, [1.0, 1.0], 1),\n",
    "     (0, 0, [1.0, -1.0], 1),\n",
    " ]\n",
    "\n",
    "g = Lattice(basis_vectors=basis, pbc=False, extent=[Lx, Ly],\n",
    "     custom_edges=custom_edges)\n",
    "\n",
    "n = g.n_nodes\n",
    "hi = nk.hilbert.Spin(s=1/2, total_sz=0.0, N=n)\n",
    "# Heisenberg with coupling J=1.0 for nearest neighbors\n",
    "# and J=0.5 for next-nearest neighbors\n",
    "H = nk.operator.Heisenberg(hilbert=hi, graph=g, J=(1.0,0.5)) # In Netket, the spin operators are Pauli matrices, while in Quimb they are 1/2*Pauli matrices\n",
    "\n",
    "# # compute the ground-state energy (here we only need the lowest energy, and do not need the eigenstate)\n",
    "# evals = nk.exact.lanczos_ed(H, compute_eigenvectors=False)\n",
    "# exact_gs_energy = evals[0]\n",
    "# print('The exact ground-state energy is E0=',exact_gs_energy)\n",
    "# print(exact_gs_energy/(Lx*Ly)/4)\n",
    "\n",
    "# def to_backend(x):\n",
    "#     # return torch.tensor(x, dtype=torch.float64, device='cuda' if torch.cuda.is_available() else 'cpu')\n",
    "#     return x\n",
    "# PEPS tensor network\n",
    "psi = qtn.PEPS.rand(Lx=Lx, Ly=Ly, bond_dim=D, phys_dim=2) # initialization from PEPS\n",
    "J1=1.0\n",
    "J2=0.5\n",
    "ham = qtn.ham_2d_j1j2(Lx, Ly, j1=J1, j2=J2)\n",
    "# ham = qtn.ham_2d_heis(Lx=Lx, Ly=Ly, j=1)\n",
    "\n",
    "# psi.apply_to_arrays(to_backend)\n",
    "# ham.apply_to_arrays(to_backend)\n",
    "\n",
    "su = qtn.tensor_2d_tebd.SimpleUpdate(\n",
    "    psi, \n",
    "    ham,\n",
    "    D=D,\n",
    "    compute_energy_every=100,\n",
    "    compute_energy_per_site=True,\n",
    ")\n",
    "for tau in [1.0, 0.3, 0.1, 0.03, 0.01]:\n",
    "    su.evolve(50, tau=tau)\n",
    "psi_su = su.state\n",
    "\n",
    "peps = su.get_state()\n",
    "peps.equalize_norms_(value=1)\n",
    "\n",
    "# save the state\n",
    "params, skeleton = qtn.pack(peps)\n",
    "\n",
    "import os\n",
    "import pickle\n",
    "os.makedirs(f'../../data/{Lx}x{Ly}/J1={J1}_J2={J2}/D={D}', exist_ok=True)\n",
    "\n",
    "with open(f'../../data/{Lx}x{Ly}/J1={J1}_J2={J2}/D={D}/peps_skeleton.pkl', 'wb') as f:\n",
    "    pickle.dump(skeleton, f)\n",
    "with open(f'../../data/{Lx}x{Ly}/J1={J1}_J2={J2}/D={D}/peps_su_params.pkl', 'wb') as f:\n",
    "    pickle.dump(params, f)"
   ]
  },
  {
   "cell_type": "code",
   "execution_count": 17,
   "metadata": {},
   "outputs": [
    {
     "data": {
      "text/plain": [
       "(device(type='cuda', index=0),\n",
       " tensor([1., 1., 1., 1., 1., 1., 1., 1., 1., 1.], dtype=torch.float64),\n",
       " 'torch')"
      ]
     },
     "execution_count": 17,
     "metadata": {},
     "output_type": "execute_result"
    }
   ],
   "source": [
    "import autoray as ar\n",
    "arr = psi.arrays[0]\n",
    "arr.device, do('ones', (10,), like=arr, device='cuda'), ar.infer_backend(arr)"
   ]
  },
  {
   "cell_type": "code",
   "execution_count": null,
   "metadata": {},
   "outputs": [],
   "source": []
  }
 ],
 "metadata": {
  "kernelspec": {
   "display_name": "vmc_torch",
   "language": "python",
   "name": "python3"
  },
  "language_info": {
   "codemirror_mode": {
    "name": "ipython",
    "version": 3
   },
   "file_extension": ".py",
   "mimetype": "text/x-python",
   "name": "python",
   "nbconvert_exporter": "python",
   "pygments_lexer": "ipython3",
   "version": "3.9.20"
  }
 },
 "nbformat": 4,
 "nbformat_minor": 2
}
