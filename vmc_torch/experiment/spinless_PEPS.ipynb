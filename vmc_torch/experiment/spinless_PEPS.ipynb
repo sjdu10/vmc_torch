{
 "cells": [
  {
   "cell_type": "code",
   "execution_count": 14,
   "metadata": {},
   "outputs": [
    {
     "name": "stdout",
     "output_type": "stream",
     "text": [
      "Exact ground state energy per site: -0.2033383116428346 Total energy: -1.626706493142677\n"
     ]
    }
   ],
   "source": [
    "import netket as nk\n",
    "import netket.experimental as nkx\n",
    "import netket.nn as nknn\n",
    "\n",
    "from math import pi\n",
    "\n",
    "from netket.experimental.operator.fermion import destroy as c\n",
    "from netket.experimental.operator.fermion import create as cdag\n",
    "from netket.experimental.operator.fermion import number as nc\n",
    "\n",
    "from vmc_torch.fermion_utils import generate_random_fpeps, product_bra_state, get_amp\n",
    "import quimb.tensor as qtn\n",
    "from autoray import do\n",
    "import symmray as sr\n",
    "import pickle\n",
    "import os\n",
    "os.environ['NUMBA_NUM_THREADS'] = '20'\n",
    "\n",
    "# Define the lattice shape\n",
    "L = 4  # Side of the square\n",
    "Lx = int(L)\n",
    "Ly = int(L//2)\n",
    "# graph = nk.graph.Square(L)\n",
    "graph = nk.graph.Grid([Lx,Ly], pbc=False)\n",
    "N = graph.n_nodes\n",
    "\n",
    "\n",
    "# Define the fermion filling and the Hilbert space\n",
    "N_f = int(Lx*Ly/2)\n",
    "hi = nkx.hilbert.SpinOrbitalFermions(N, s=None, n_fermions=N_f)\n",
    "\n",
    "\n",
    "# Define the Hubbard Hamiltonian\n",
    "t = 1.0\n",
    "V = 4.0\n",
    "H = 0.0\n",
    "for (i, j) in graph.edges(): # Definition of the Hubbard Hamiltonian\n",
    "    # print(i,j)\n",
    "    H -= t * (cdag(hi,i) * c(hi,j) + cdag(hi,j) * c(hi,i))\n",
    "    H += V * nc(hi,i) * nc(hi,j)\n",
    "\n",
    "\n",
    "# Exact diagonalization of the Hamiltonian for benchmark\n",
    "sp_h = H.to_sparse() # Convert the Hamiltonian to a sparse matrix\n",
    "from scipy.sparse.linalg import eigsh\n",
    "eig_vals, eig_vecs = eigsh(sp_h, k=2, which=\"SA\")\n",
    "E_gs = eig_vals[0]\n",
    "print(\"Exact ground state energy per site:\", E_gs/N, 'Total energy:', E_gs)"
   ]
  },
  {
   "cell_type": "code",
   "execution_count": 15,
   "metadata": {},
   "outputs": [
    {
     "name": "stderr",
     "output_type": "stream",
     "text": [
      "n=50, tau=0.3000, energy~-0.121510: 100%|##########| 50/50 [00:01<00:00, 29.40it/s]\n"
     ]
    },
    {
     "data": {
      "text/html": [
       "<samp style='font-size: 12px;'><details><summary><b style=\"color: #da64a1;\">fPEPS</b>(tensors=8, indices=18, Lx=4, Ly=2, max_bond=4)</summary><samp style='font-size: 12px;'><details><summary><b style=\"color: #e55471;\">Tensor</b>(shape=(<b style=\"color: #80d749;\">4</b>, <b style=\"color: #80d749;\">4</b>, <b style=\"color: #828fdd;\">2</b>), inds=[<b style=\"color: #5ee1a8;\">b(0, 0)-(0, 1)</b>, <b style=\"color: #959bdf;\">b(0, 0)-(1, 0)</b>, <b style=\"color: #5fce5e;\">k0,0</b>], tags={<b style=\"color: #8b77de;\">I0,0</b>, <b style=\"color: #d44388;\">X0</b>, <b style=\"color: #b1d42e;\">Y0</b>}),</summary>backend=<b style=\"color: #5ee466;\">symmray</b>, dtype=<b style=\"color: #75d2c6;\">float64</b>, data=U1FermionicArray(shape~(4, 4, 2):[+++], charge=0, num_blocks=5)</details></samp><samp style='font-size: 12px;'><details><summary><b style=\"color: #e55471;\">Tensor</b>(shape=(<b style=\"color: #80d749;\">4</b>, <b style=\"color: #80d749;\">4</b>, <b style=\"color: #828fdd;\">2</b>), inds=[<b style=\"color: #5ee1a8;\">b(0, 0)-(0, 1)</b>, <b style=\"color: #d1e38e;\">b(0, 1)-(1, 1)</b>, <b style=\"color: #de9a98;\">k0,1</b>], tags={<b style=\"color: #92d399;\">I0,1</b>, <b style=\"color: #d44388;\">X0</b>, <b style=\"color: #6c45d0;\">Y1</b>}),</summary>backend=<b style=\"color: #5ee466;\">symmray</b>, dtype=<b style=\"color: #75d2c6;\">float64</b>, data=U1FermionicArray(shape~(4, 4, 2):[-++], charge=0, num_blocks=5)</details></samp><samp style='font-size: 12px;'><details><summary><b style=\"color: #e55471;\">Tensor</b>(shape=(<b style=\"color: #80d749;\">4</b>, <b style=\"color: #80d749;\">4</b>, <b style=\"color: #80d749;\">4</b>, <b style=\"color: #828fdd;\">2</b>), inds=[<b style=\"color: #959bdf;\">b(0, 0)-(1, 0)</b>, <b style=\"color: #a5e49d;\">b(1, 0)-(1, 1)</b>, <b style=\"color: #46d59d;\">b(1, 0)-(2, 0)</b>, <b style=\"color: #84ce75;\">k1,0</b>], tags={<b style=\"color: #c28de0;\">I1,0</b>, <b style=\"color: #6fe251;\">X1</b>, <b style=\"color: #b1d42e;\">Y0</b>}),</summary>backend=<b style=\"color: #5ee466;\">symmray</b>, dtype=<b style=\"color: #75d2c6;\">float64</b>, data=...</details></samp><samp style='font-size: 12px;'><details><summary><b style=\"color: #e55471;\">Tensor</b>(shape=(<b style=\"color: #80d749;\">4</b>, <b style=\"color: #80d749;\">4</b>, <b style=\"color: #80d749;\">4</b>, <b style=\"color: #828fdd;\">2</b>), inds=[<b style=\"color: #d1e38e;\">b(0, 1)-(1, 1)</b>, <b style=\"color: #a5e49d;\">b(1, 0)-(1, 1)</b>, <b style=\"color: #ce7957;\">b(1, 1)-(2, 1)</b>, <b style=\"color: #d29586;\">k1,1</b>], tags={<b style=\"color: #d67b97;\">I1,1</b>, <b style=\"color: #6fe251;\">X1</b>, <b style=\"color: #6c45d0;\">Y1</b>}),</summary>backend=<b style=\"color: #5ee466;\">symmray</b>, dtype=<b style=\"color: #75d2c6;\">float64</b>, data=...</details></samp><samp style='font-size: 12px;'><details><summary><b style=\"color: #e55471;\">Tensor</b>(shape=(<b style=\"color: #80d749;\">4</b>, <b style=\"color: #80d749;\">4</b>, <b style=\"color: #80d749;\">4</b>, <b style=\"color: #828fdd;\">2</b>), inds=[<b style=\"color: #46d59d;\">b(1, 0)-(2, 0)</b>, <b style=\"color: #cd2e7d;\">b(2, 0)-(2, 1)</b>, <b style=\"color: #db39c2;\">b(2, 0)-(3, 0)</b>, <b style=\"color: #aa87d0;\">k2,0</b>], tags={<b style=\"color: #d472d0;\">I2,0</b>, <b style=\"color: #c654d5;\">X2</b>, <b style=\"color: #b1d42e;\">Y0</b>}),</summary>backend=<b style=\"color: #5ee466;\">symmray</b>, dtype=<b style=\"color: #75d2c6;\">float64</b>, data=...</details></samp><samp style='font-size: 12px;'><details><summary><b style=\"color: #e55471;\">Tensor</b>(shape=(<b style=\"color: #80d749;\">4</b>, <b style=\"color: #80d749;\">4</b>, <b style=\"color: #80d749;\">4</b>, <b style=\"color: #828fdd;\">2</b>), inds=[<b style=\"color: #ce7957;\">b(1, 1)-(2, 1)</b>, <b style=\"color: #cd2e7d;\">b(2, 0)-(2, 1)</b>, <b style=\"color: #83a9d6;\">b(2, 1)-(3, 1)</b>, <b style=\"color: #e1962d;\">k2,1</b>], tags={<b style=\"color: #77df7d;\">I2,1</b>, <b style=\"color: #c654d5;\">X2</b>, <b style=\"color: #6c45d0;\">Y1</b>}),</summary>backend=<b style=\"color: #5ee466;\">symmray</b>, dtype=<b style=\"color: #75d2c6;\">float64</b>, data=...</details></samp><samp style='font-size: 12px;'><details><summary><b style=\"color: #e55471;\">Tensor</b>(shape=(<b style=\"color: #80d749;\">4</b>, <b style=\"color: #80d749;\">4</b>, <b style=\"color: #828fdd;\">2</b>), inds=[<b style=\"color: #db39c2;\">b(2, 0)-(3, 0)</b>, <b style=\"color: #8ede94;\">b(3, 0)-(3, 1)</b>, <b style=\"color: #42d58f;\">k3,0</b>], tags={<b style=\"color: #57ccd3;\">I3,0</b>, <b style=\"color: #e5db50;\">X3</b>, <b style=\"color: #b1d42e;\">Y0</b>}),</summary>backend=<b style=\"color: #5ee466;\">symmray</b>, dtype=<b style=\"color: #75d2c6;\">float64</b>, data=U1FermionicArray(shape~(4, 4, 2):[-++], charge=1, num_blocks=5)</details></samp><samp style='font-size: 12px;'><details><summary><b style=\"color: #e55471;\">Tensor</b>(shape=(<b style=\"color: #80d749;\">4</b>, <b style=\"color: #80d749;\">4</b>, <b style=\"color: #828fdd;\">2</b>), inds=[<b style=\"color: #83a9d6;\">b(2, 1)-(3, 1)</b>, <b style=\"color: #8ede94;\">b(3, 0)-(3, 1)</b>, <b style=\"color: #cf3298;\">k3,1</b>], tags={<b style=\"color: #98d482;\">I3,1</b>, <b style=\"color: #e5db50;\">X3</b>, <b style=\"color: #6c45d0;\">Y1</b>}),</summary>backend=<b style=\"color: #5ee466;\">symmray</b>, dtype=<b style=\"color: #75d2c6;\">float64</b>, data=U1FermionicArray(shape~(4, 4, 2):[--+], charge=1, num_blocks=5)</details></samp></details></samp>"
      ],
      "text/plain": [
       "fPEPS(tensors=8, indices=18, Lx=4, Ly=2, max_bond=4)"
      ]
     },
     "execution_count": 15,
     "metadata": {},
     "output_type": "execute_result"
    }
   ],
   "source": [
    "# SU in quimb\n",
    "D = 4\n",
    "seed = 2\n",
    "symmetry = 'U1'\n",
    "peps, parity_config = generate_random_fpeps(Lx, Ly, D, seed, symmetry, Nf=N_f)\n",
    "\n",
    "edges = qtn.edges_2d_square(Lx, Ly)\n",
    "site_info = sr.utils.parse_edges_to_site_info(\n",
    "    edges,\n",
    "    D,\n",
    "    phys_dim=2,\n",
    "    site_ind_id=\"k{},{}\",\n",
    "    site_tag_id=\"I{},{}\",\n",
    ")\n",
    "\n",
    "t = 1.0\n",
    "V = 4.0\n",
    "mu = 0.0\n",
    "\n",
    "terms = {\n",
    "    (sitea, siteb): sr.fermi_hubbard_spinless_local_array(\n",
    "        t=t, V=V, mu=mu,\n",
    "        symmetry=symmetry,\n",
    "        coordinations=(\n",
    "            site_info[sitea]['coordination'],\n",
    "            site_info[siteb]['coordination'],\n",
    "        ),\n",
    "    ).fuse((0, 1), (2, 3))\n",
    "    for (sitea, siteb) in peps.gen_bond_coos()\n",
    "}\n",
    "ham = qtn.LocalHam2D(Lx, Ly, terms)\n",
    "su = qtn.SimpleUpdateGen(peps, ham, compute_energy_per_site=True,D=D, compute_energy_opts={\"max_distance\":2}, gate_opts={'cutoff':1e-12})\n",
    "\n",
    "# cluster energies may not be accuracte yet\n",
    "su.evolve(50, tau=0.3)\n",
    "# su.evolve(50, tau=0.1)\n",
    "# su.evolve(100, tau=0.03)\n",
    "# su.evolve(100, tau=0.01)\n",
    "# su.evolve(100, tau=0.003)\n",
    "\n",
    "peps = su.get_state()\n",
    "peps.equalize_norms_(value=1)\n"
   ]
  },
  {
   "cell_type": "code",
   "execution_count": 16,
   "metadata": {},
   "outputs": [
    {
     "name": "stdout",
     "output_type": "stream",
     "text": [
      "-0.11196752267224776\n"
     ]
    }
   ],
   "source": [
    "# Netket Hamiltonian energy\n",
    "import numpy as np\n",
    "all_configs = hi.all_states()\n",
    "psi_vec = np.array([peps.get_amp(config).contract() for config in all_configs])\n",
    "psi_vec /= np.linalg.norm(psi_vec)\n",
    "hamiltonian = H.to_dense()\n",
    "print((psi_vec.conj().T @ (hamiltonian @ psi_vec))/N)"
   ]
  },
  {
   "cell_type": "code",
   "execution_count": 17,
   "metadata": {},
   "outputs": [
    {
     "data": {
      "text/plain": [
       "np.float64(-0.11196752267224798)"
      ]
     },
     "execution_count": 17,
     "metadata": {},
     "output_type": "execute_result"
    }
   ],
   "source": [
    "# Quimb energy\n",
    "peps.compute_local_expectation(\n",
    "    ham.terms, normalized=True, max_bond=64,\n",
    ")/N"
   ]
  },
  {
   "cell_type": "code",
   "execution_count": 18,
   "metadata": {},
   "outputs": [
    {
     "data": {
      "text/plain": [
       "8"
      ]
     },
     "execution_count": 18,
     "metadata": {},
     "output_type": "execute_result"
    }
   ],
   "source": [
    "hi.n_orbitals"
   ]
  }
 ],
 "metadata": {
  "kernelspec": {
   "display_name": "vmc_torch",
   "language": "python",
   "name": "python3"
  },
  "language_info": {
   "codemirror_mode": {
    "name": "ipython",
    "version": 3
   },
   "file_extension": ".py",
   "mimetype": "text/x-python",
   "name": "python",
   "nbconvert_exporter": "python",
   "pygments_lexer": "ipython3",
   "version": "3.9.20"
  }
 },
 "nbformat": 4,
 "nbformat_minor": 2
}
