{
 "cells": [
  {
   "cell_type": "markdown",
   "metadata": {},
   "source": [
    "J1J2 model"
   ]
  },
  {
   "cell_type": "code",
   "execution_count": 1,
   "metadata": {},
   "outputs": [
    {
     "name": "stderr",
     "output_type": "stream",
     "text": [
      "/home/sijingdu/anaconda3/envs/vmc_torch/lib/python3.9/site-packages/numba/np/ufunc/parallel.py:371: NumbaWarning: \u001b[1mThe TBB threading layer requires TBB version 2021 update 6 or later i.e., TBB_INTERFACE_VERSION >= 12060. Found TBB_INTERFACE_VERSION = 12050. The TBB threading layer is disabled.\u001b[0m\n",
      "  warnings.warn(problem)\n",
      "/home/sijingdu/anaconda3/envs/vmc_torch/lib/python3.9/site-packages/cotengra/hyperoptimizers/hyper.py:33: UserWarning: Couldn't import `kahypar` - skipping from default hyper optimizer and using basic `labels` method instead.\n",
      "  warnings.warn(\n",
      "An NVIDIA GPU may be present on this machine, but a CUDA-enabled jaxlib is not installed. Falling back to cpu.\n",
      "/home/sijingdu/anaconda3/envs/vmc_torch/lib/python3.9/site-packages/tqdm/auto.py:21: TqdmWarning: IProgress not found. Please update jupyter and ipywidgets. See https://ipywidgets.readthedocs.io/en/stable/user_install.html\n",
      "  from .autonotebook import tqdm as notebook_tqdm\n"
     ]
    },
    {
     "name": "stdout",
     "output_type": "stream",
     "text": [
      "Total Sz = 0.0\n"
     ]
    }
   ],
   "source": [
    "import quimb.tensor as qtn\n",
    "import quimb as qu\n",
    "\n",
    "import netket as nk\n",
    "from netket.graph import Lattice\n",
    "from vmc_torch.hamiltonian import spin_Heisenberg_square_lattice\n",
    "import numpy as np\n",
    "from math import pi\n",
    "from autoray import do\n",
    "\n",
    "ndim = 2\n",
    "Lx = 4\n",
    "Ly = 4\n",
    "L = 2\n",
    "pbc = False\n",
    "total_sz = 0.0\n",
    "print(f\"Total Sz = {total_sz}\")\n",
    "D = 2\n",
    "\n",
    "basis = np.array([\n",
    "     [1.0,0.0],\n",
    "     [0.0,1.0],\n",
    " ])\n",
    "custom_edges = [\n",
    "     (0, 0, [1.0,0.0], 0),\n",
    "     (0, 0, [0.0,1.0], 0),\n",
    "     (0, 0, [1.0, 1.0], 1),\n",
    "     (0, 0, [1.0, -1.0], 1),\n",
    " ]\n",
    "\n",
    "g = Lattice(basis_vectors=basis, pbc=False, extent=[Lx, Ly],\n",
    "     custom_edges=custom_edges)\n",
    "\n",
    "n = g.n_nodes\n",
    "hi = nk.hilbert.Spin(s=1/2, total_sz=0.0, N=n)\n",
    "# Heisenberg with coupling J=1.0 for nearest neighbors\n",
    "# and J=0.5 for next-nearest neighbors\n",
    "H = nk.operator.Heisenberg(hilbert=hi, graph=g, J=(1.0,0.5)) # In Netket, the spin operators are Pauli matrices, while in Quimb they are 1/2*Pauli matrices\n",
    "# ham0 = spin_Heisenberg_square_lattice(Lx, Ly, J=1.0, pbc=pbc,total_sz=total_sz)\n",
    "# hi0 = ham0.hilbert"
   ]
  },
  {
   "cell_type": "code",
   "execution_count": 2,
   "metadata": {},
   "outputs": [
    {
     "name": "stdout",
     "output_type": "stream",
     "text": [
      "The exact ground-state energy is E0= -30.02222780032426\n",
      "-0.46909730938006655\n"
     ]
    }
   ],
   "source": [
    "# compute the ground-state energy (here we only need the lowest energy, and do not need the eigenstate)\n",
    "evals = nk.exact.lanczos_ed(H, compute_eigenvectors=False)\n",
    "exact_gs_energy = evals[0]\n",
    "print('The exact ground-state energy is E0=',exact_gs_energy)\n",
    "print(exact_gs_energy/(Lx*Ly)/4)"
   ]
  },
  {
   "cell_type": "code",
   "execution_count": 3,
   "metadata": {},
   "outputs": [
    {
     "name": "stderr",
     "output_type": "stream",
     "text": [
      "n=100, tau=1.0000, energy~-0.317397: 100%|##########| 100/100 [00:07<00:00, 14.08it/s]\n",
      "n=200, tau=0.3000, energy~-0.410094: 100%|##########| 100/100 [00:03<00:00, 29.36it/s]\n",
      "n=300, tau=0.1000, energy~-0.433409: 100%|##########| 100/100 [00:03<00:00, 29.70it/s]\n",
      "n=400, tau=0.0300, energy~-0.426412: 100%|##########| 100/100 [00:03<00:00, 29.08it/s]\n",
      "n=500, tau=0.0100, energy~-0.427732: 100%|##########| 100/100 [00:03<00:00, 29.56it/s]\n"
     ]
    }
   ],
   "source": [
    "# PEPS tensor network\n",
    "psi = qtn.PEPS.rand(Lx=Lx, Ly=Ly, bond_dim=D, phys_dim=2) # initialization from PEPS\n",
    "J1=1.0\n",
    "J2=0.5\n",
    "# ham = qtn.ham_2d_heis(Lx=Lx, Ly=Ly, j=4*J)\n",
    "ham = qtn.ham_2d_j1j2(Lx, Ly, j1=J1, j2=J2)\n",
    "# su = qtn.tensor_arbgeom_tebd.SimpleUpdateGen(\n",
    "#     psi, \n",
    "#     ham,\n",
    "#     compute_energy_every=10,\n",
    "#     compute_energy_per_site=True,\n",
    "# )\n",
    "\n",
    "su = qtn.tensor_2d_tebd.SimpleUpdate(\n",
    "    psi, \n",
    "    ham,\n",
    "    compute_energy_every=10,\n",
    "    compute_energy_per_site=True,\n",
    ")\n",
    "\n",
    "for tau in [1.0, 0.3, 0.1, 0.03, 0.01]:\n",
    "    su.evolve(100, tau=tau)\n",
    "psi_su = su.state\n",
    "\n",
    "peps = su.get_state()\n",
    "peps.equalize_norms_(value=1)\n",
    "\n",
    "# save the state\n",
    "params, skeleton = qtn.pack(peps)\n",
    "\n",
    "import os\n",
    "import pickle\n",
    "os.makedirs(f'../../data/{Lx}x{Ly}/J1={J1}_J2={J2}/D={D}', exist_ok=True)\n",
    "\n",
    "with open(f'../../data/{Lx}x{Ly}/J1={J1}_J2={J2}/D={D}/peps_skeleton.pkl', 'wb') as f:\n",
    "    pickle.dump(skeleton, f)\n",
    "with open(f'../../data/{Lx}x{Ly}/J1={J1}_J2={J2}/D={D}/peps_su_params.pkl', 'wb') as f:\n",
    "    pickle.dump(params, f)"
   ]
  },
  {
   "cell_type": "markdown",
   "metadata": {},
   "source": [
    "Heisenberg model"
   ]
  },
  {
   "cell_type": "code",
   "execution_count": 36,
   "metadata": {},
   "outputs": [
    {
     "name": "stdout",
     "output_type": "stream",
     "text": [
      "Total Sz = 0.0\n"
     ]
    }
   ],
   "source": [
    "import quimb.tensor as qtn\n",
    "import quimb as qu\n",
    "\n",
    "import netket as nk\n",
    "from vmc_torch.hamiltonian import spin_Heisenberg_square_lattice\n",
    "import numpy as np\n",
    "from math import pi\n",
    "from autoray import do\n",
    "\n",
    "ndim = 2\n",
    "Lx = 2\n",
    "Ly = 2\n",
    "L = 2\n",
    "pbc = False\n",
    "total_sz = 0.0\n",
    "print(f\"Total Sz = {total_sz}\")\n",
    "D = 4\n",
    "\n",
    "# Build square lattice with nearest and next-nearest neighbor edges\n",
    "# lattice = nk.graph.Square(L, max_neighbor_order=1, pbc=False)\n",
    "# g = lattice = nk.graph.Hypercube(L, ndim, pbc=pbc)\n",
    "g = lattice = nk.graph.Grid([Lx, Ly], pbc=pbc)\n",
    "# g = lattice = nk.graph.Pyrochlore([L, L, L], pbc=pbc)\n",
    "\n",
    "n = lattice.n_nodes\n",
    "hi = nk.hilbert.Spin(s=1 / 2, total_sz=0.0, N=n)\n",
    "# Heisenberg with coupling J=1.0 for nearest neighbors\n",
    "# and J=0.5 for next-nearest neighbors\n",
    "# H = nk.operator.Ising(hilbert=hi, graph=lattice, J=1.0, h=1.0)\n",
    "H = nk.operator.Heisenberg(hilbert=hi, graph=lattice, J=1.0, sign_rule=False) # In Netket, the spin operators are Pauli matrices, while in Quimb they are 1/2*Pauli matrices\n",
    "\n",
    "ham0 = spin_Heisenberg_square_lattice(Lx, Ly, J=1.0, pbc=pbc,total_sz=total_sz)\n",
    "hi0 = ham0.hilbert"
   ]
  },
  {
   "cell_type": "code",
   "execution_count": 37,
   "metadata": {},
   "outputs": [
    {
     "name": "stdout",
     "output_type": "stream",
     "text": [
      "The exact ground-state energy is E0= -7.999999999999999\n",
      "-0.49999999999999994\n"
     ]
    }
   ],
   "source": [
    "# compute the ground-state energy (here we only need the lowest energy, and do not need the eigenstate)\n",
    "evals = nk.exact.lanczos_ed(H, compute_eigenvectors=False)\n",
    "exact_gs_energy = evals[0]\n",
    "print('The exact ground-state energy is E0=',exact_gs_energy)\n",
    "print(exact_gs_energy/(Lx*Ly)/4)"
   ]
  },
  {
   "cell_type": "code",
   "execution_count": 38,
   "metadata": {},
   "outputs": [
    {
     "name": "stderr",
     "output_type": "stream",
     "text": [
      "n=0, tau=0.0000, energy~-0.030482:   0%|          | 0/100 [00:00<?, ?it/s]"
     ]
    },
    {
     "name": "stderr",
     "output_type": "stream",
     "text": [
      "n=100, tau=1.0000, energy~-0.405688: 100%|##########| 100/100 [00:03<00:00, 33.27it/s]\n",
      "n=200, tau=0.3000, energy~-0.433009: 100%|##########| 100/100 [00:01<00:00, 69.20it/s]\n",
      "n=300, tau=0.1000, energy~-0.430127: 100%|##########| 100/100 [00:01<00:00, 71.67it/s]\n",
      "n=400, tau=0.0300, energy~-0.436944: 100%|##########| 100/100 [00:01<00:00, 73.32it/s]\n",
      "n=500, tau=0.0100, energy~-0.439450: 100%|##########| 100/100 [00:00<00:00, 113.96it/s]\n"
     ]
    }
   ],
   "source": [
    "# PEPS tensor network\n",
    "psi = qtn.PEPS.rand(Lx=Lx, Ly=Ly, bond_dim=D, phys_dim=2) # initialization from PEPS\n",
    "J=1.0\n",
    "ham = qtn.ham_2d_heis(Lx=Lx, Ly=Ly, j=J)\n",
    "su = qtn.tensor_arbgeom_tebd.SimpleUpdateGen(\n",
    "    psi, \n",
    "    ham,\n",
    "    compute_energy_every=10,\n",
    "    compute_energy_per_site=True,\n",
    ")\n",
    "for tau in [1.0, 0.3, 0.1, 0.03, 0.01]:\n",
    "    su.evolve(100, tau=tau)\n",
    "psi_su = su.state\n",
    "\n",
    "# peps = su.get_state()\n",
    "# peps.equalize_norms_(value=1)\n",
    "\n",
    "# # save the state\n",
    "# params, skeleton = qtn.pack(peps)\n",
    "\n",
    "# import os\n",
    "# import pickle\n",
    "# os.makedirs(f'../../data/{Lx}x{Ly}/J={J}/D={D}', exist_ok=True)\n",
    "\n",
    "# with open(f'../../data/{Lx}x{Ly}/J={J}/D={D}/peps_skeleton.pkl', 'wb') as f:\n",
    "#     pickle.dump(skeleton, f)\n",
    "# with open(f'../../data/{Lx}x{Ly}/J={J}/D={D}/peps_su_params.pkl', 'wb') as f:\n",
    "#     pickle.dump(params, f)\n",
    "    "
   ]
  },
  {
   "cell_type": "code",
   "execution_count": 189,
   "metadata": {},
   "outputs": [],
   "source": [
    "def from_netket_to_quimb_spin_config(config):\n",
    "    \"\"\"From (-1,1) to (0,1) basis\"\"\"\n",
    "    def func(x):\n",
    "        return do('array',(x + 1) / 2, dtype=int)\n",
    "    if len(config.shape) == 1:\n",
    "        return func(config)\n",
    "    else:\n",
    "        return np.array([func(c) for c in config])\n",
    "\n",
    "def get_amp(psi, config):\n",
    "    return psi.isel({psi.site_inds[i]: int(s) for i, s in enumerate(config)})\n",
    "\n",
    "def to_array(psi):\n",
    "    return psi.to_dense()\n",
    "\n",
    "def to_array_amps(psi, configs_netket):\n",
    "    configs = from_netket_to_quimb_spin_config(configs_netket)\n",
    "    return np.array([get_amp(psi, config).contract() for config in configs])\n",
    "\n",
    "def to_array_config_dict(psi, configs_netket):\n",
    "    configs = from_netket_to_quimb_spin_config(configs_netket)\n",
    "    return {tuple(config): get_amp(psi, config).contract() for config in configs}"
   ]
  },
  {
   "cell_type": "code",
   "execution_count": 190,
   "metadata": {},
   "outputs": [],
   "source": [
    "psi_vec = to_array_amps(psi_su, hi.all_states())\n",
    "# psi_dict = to_array_config_dict(psi_su, hi.all_states())"
   ]
  },
  {
   "cell_type": "code",
   "execution_count": 192,
   "metadata": {},
   "outputs": [
    {
     "name": "stdout",
     "output_type": "stream",
     "text": [
      "Energy from Quimb: -0.528558043149109\n"
     ]
    }
   ],
   "source": [
    "hamiltonian = H.to_dense()\n",
    "\n",
    "print(\"Energy from Quimb:\", np.vdot(psi_vec, hamiltonian @ psi_vec).real / np.vdot(psi_vec, psi_vec).real/(Lx*Ly)/4)"
   ]
  },
  {
   "cell_type": "code",
   "execution_count": 193,
   "metadata": {},
   "outputs": [
    {
     "data": {
      "text/plain": [
       "-0.49680707385756656"
      ]
     },
     "execution_count": 193,
     "metadata": {},
     "output_type": "execute_result"
    }
   ],
   "source": [
    "# psi_su.view_as_(qtn.PEPS)\n",
    "psi_su.compute_local_expectation(ham.terms, normalized=True, max_bond=128)/(Lx*Ly)/4"
   ]
  },
  {
   "cell_type": "code",
   "execution_count": 153,
   "metadata": {},
   "outputs": [],
   "source": [
    "import numpy as np\n",
    "from quimb.utils import progbar as Progbar\n",
    "from mpi4py import MPI\n",
    "import pickle\n",
    "import os\n",
    "os.environ[\"OPENBLAS_NUM_THREADS\"] = \"1\"\n",
    "os.environ[\"MKL_NUM_THREADS\"] = \"1\"\n",
    "\n",
    "# torch\n",
    "from torch.nn.parameter import Parameter\n",
    "import torch\n",
    "import torch.nn as nn\n",
    "torch.autograd.set_detect_anomaly(False)\n",
    "\n",
    "# quimb\n",
    "import quimb as qu\n",
    "import quimb.tensor as qtn\n",
    "import autoray as ar\n",
    "from autoray import do\n",
    "\n",
    "from vmc_torch.experiment.tn_model import PEPS_model, PEPS_NN_Model, init_weights_to_zero, PEPS_NNproj_Model\n",
    "from vmc_torch.sampler import MetropolisExchangeSamplerSpinless, MetropolisExchangeSamplerSpinful\n",
    "from vmc_torch.variational_state import Variational_State\n",
    "from vmc_torch.optimizer import TrivialPreconditioner, SignedSGD, SGD, SR\n",
    "from vmc_torch.VMC import VMC\n",
    "from vmc_torch.hamiltonian import square_lattice_spin_Heisenberg, spin_Heisenberg_square_lattice\n",
    "from vmc_torch.torch_utils import SVD,QR\n",
    "\n",
    "# Register safe SVD and QR functions to torch\n",
    "ar.register_function('torch','linalg.svd',SVD.apply)\n",
    "ar.register_function('torch','linalg.qr',QR.apply)\n",
    "\n",
    "from vmc_torch.global_var import DEBUG\n",
    "\n",
    "\n",
    "COMM = MPI.COMM_WORLD\n",
    "SIZE = COMM.Get_size()\n",
    "RANK = COMM.Get_rank()\n",
    "\n",
    "# Hamiltonian parameters\n",
    "J = 1.0\n",
    "# H, hi, graph = square_lattice_spinful_Fermi_Hubbard(Lx, Ly, t, U, N_f)\n",
    "H = spin_Heisenberg_square_lattice(L, J, total_sz=0.0)\n",
    "graph = H.graph\n",
    "# TN parameters\n",
    "D = 2\n",
    "chi = -1\n",
    "dtype=torch.float64\n",
    "\n",
    "# Load PEPS\n",
    "skeleton = pickle.load(open(f\"../../data/{L}x{L}/J={J}/D={D}/peps_skeleton.pkl\", \"rb\"))\n",
    "peps_params = pickle.load(open(f\"../../data/{L}x{L}/J={J}/D={D}/peps_su_params.pkl\", \"rb\"))\n",
    "peps = qtn.unpack(peps_params, skeleton)\n",
    "peps.apply_to_arrays(lambda x: torch.tensor(x, dtype=dtype))\n",
    "\n",
    "# VMC sample size\n",
    "N_samples = 2**10\n",
    "N_samples = N_samples - N_samples % SIZE + SIZE\n",
    "if (N_samples/SIZE)%2 != 0:\n",
    "    N_samples += SIZE\n",
    "\n",
    "model = PEPS_model(peps, max_bond=None)\n",
    "# model = PEPS_NN_Model(peps, max_bond=chi, nn_eta=1.0, nn_hidden_dim=L**2)\n",
    "# model = PEPS_NNproj_Model(peps, max_bond=chi, nn_eta=1.0, nn_hidden_dim=L**2)\n",
    "# model.apply(init_weights_to_zero)\n",
    "model_names = {\n",
    "    PEPS_model: 'PEPS',\n",
    "    PEPS_NN_Model: 'PEPS_NN',\n",
    "    PEPS_NNproj_Model: 'PEPS_NNproj'\n",
    "}\n",
    "model_name = model_names.get(type(model), 'UnknownModel')\n",
    "\n",
    "init_step = 0\n",
    "total_steps = 200\n",
    "if init_step != 0:\n",
    "    saved_model_params = torch.load(f'../../data/{L}x{L}/J={J}/D={D}/{model_name}/chi={chi}/model_params_step{init_step}.pth')\n",
    "    saved_model_state_dict = saved_model_params['model_state_dict']\n",
    "    saved_model_params_vec = torch.tensor(saved_model_params['model_params_vec'])\n",
    "    try:\n",
    "        model.load_state_dict(saved_model_state_dict)\n",
    "    except:\n",
    "        model.load_params(saved_model_params_vec)\n",
    "\n",
    "# optimizer = SignedSGD(learning_rate=0.05)\n",
    "optimizer = SGD(learning_rate=0.05)\n",
    "sampler = MetropolisExchangeSamplerSpinless(H.hilbert, graph, N_samples=N_samples, burn_in_steps=20, reset_chain=False, random_edge=False, dtype=dtype)\n",
    "variational_state = Variational_State(model, hi=H.hilbert, sampler=sampler, dtype=dtype)\n",
    "preconditioner = SR(dense=False, exact=True if sampler is None else False, use_MPI4Solver=True, diag_eta=0.05, iter_step=1e5, dtype=dtype)\n",
    "vmc = VMC(H, variational_state, optimizer, preconditioner)\n"
   ]
  },
  {
   "cell_type": "code",
   "execution_count": 161,
   "metadata": {},
   "outputs": [],
   "source": [
    "batchsize = 500\n",
    "# samples = sampler.sample(H, variational_state, chain_length=batchsize)\n",
    "# samples[0]/batchsize/L**2/4\n",
    "samples = sampler.sample_expectation(variational_state, H, chain_length=batchsize)"
   ]
  },
  {
   "cell_type": "code",
   "execution_count": 170,
   "metadata": {},
   "outputs": [
    {
     "data": {
      "text/plain": [
       "np.float64(-0.49400048802251967)"
      ]
     },
     "execution_count": 170,
     "metadata": {},
     "output_type": "execute_result"
    }
   ],
   "source": [
    "O_loc = np.asarray(samples[1])/L**2/4\n",
    "samples[0]/L**2/4"
   ]
  }
 ],
 "metadata": {
  "kernelspec": {
   "display_name": "vmc_torch",
   "language": "python",
   "name": "python3"
  },
  "language_info": {
   "codemirror_mode": {
    "name": "ipython",
    "version": 3
   },
   "file_extension": ".py",
   "mimetype": "text/x-python",
   "name": "python",
   "nbconvert_exporter": "python",
   "pygments_lexer": "ipython3",
   "version": "3.9.20"
  }
 },
 "nbformat": 4,
 "nbformat_minor": 2
}
