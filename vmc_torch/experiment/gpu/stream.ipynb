{
 "cells": [
  {
   "cell_type": "code",
   "execution_count": 5,
   "metadata": {},
   "outputs": [
    {
     "name": "stdout",
     "output_type": "stream",
     "text": [
      "Stream (2×4) : 0.0029 s\n",
      "Sequential(8): 0.0009 s\n",
      "vmap(8)      : 0.0009 s\n"
     ]
    }
   ],
   "source": [
    "import time\n",
    "import torch\n",
    "\n",
    "# Suppose you want num_streams=2, batch_size=4, so total=8 samples\n",
    "num_streams = 2\n",
    "batch_size = 4\n",
    "M, N = 1000, 1000\n",
    "\n",
    "# Create a single tensor of shape (total, M, N)\n",
    "total = num_streams * batch_size\n",
    "x_total = torch.randn(total, M, N, device='cuda')\n",
    "\n",
    "# Split x_total into 2 chunks of size 4\n",
    "chunks = x_total.chunk(num_streams, dim=0)\n",
    "\n",
    "# Preallocate outputs\n",
    "outs_stream = [torch.empty_like(chunks[i].transpose(1,2).bmm(chunks[i])) \n",
    "               for i in range(num_streams)]\n",
    "streams = [torch.cuda.Stream() for _ in range(num_streams)]\n",
    "\n",
    "torch.cuda.synchronize()\n",
    "t0 = time.time()\n",
    "for i, (inp, out, stream) in enumerate(zip(chunks, outs_stream, streams)):\n",
    "    with torch.cuda.stream(stream):\n",
    "        out.copy_(torch.bmm(inp, inp.transpose(1,2)))\n",
    "torch.cuda.synchronize()\n",
    "stream_time = time.time() - t0\n",
    "\n",
    "\n",
    "from torch.func import vmap\n",
    "\n",
    "# Define per-sample function\n",
    "def f_single(x):\n",
    "    return x @ x.transpose(0, 1)  # (M,N) -> (M,M)\n",
    "\n",
    "# Batch-lift it\n",
    "f_vmap = vmap(f_single)\n",
    "\n",
    "torch.cuda.synchronize()\n",
    "t0 = time.time()\n",
    "outs_vmap = f_vmap(x_total)    # processes all 8 samples\n",
    "torch.cuda.synchronize()\n",
    "vmap_time = time.time() - t0\n",
    "\n",
    "outs_seq = torch.empty(total, M, M, device='cuda')\n",
    "\n",
    "torch.cuda.synchronize()\n",
    "t0 = time.time()\n",
    "for i in range(total):\n",
    "    outs_seq[i].copy_(x_total[i] @ x_total[i].transpose(0,1))\n",
    "torch.cuda.synchronize()\n",
    "seq_time = time.time() - t0\n",
    "\n",
    "print(f\"Stream (2×4) : {stream_time:.4f} s\")\n",
    "print(f\"Sequential(8): {seq_time:.4f} s\")\n",
    "print(f\"vmap(8)      : {vmap_time:.4f} s\")\n"
   ]
  }
 ],
 "metadata": {
  "kernelspec": {
   "display_name": "mpsds",
   "language": "python",
   "name": "python3"
  },
  "language_info": {
   "codemirror_mode": {
    "name": "ipython",
    "version": 3
   },
   "file_extension": ".py",
   "mimetype": "text/x-python",
   "name": "python",
   "nbconvert_exporter": "python",
   "pygments_lexer": "ipython3",
   "version": "3.11.11"
  }
 },
 "nbformat": 4,
 "nbformat_minor": 2
}
