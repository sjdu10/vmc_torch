{
 "cells": [
  {
   "cell_type": "markdown",
   "metadata": {},
   "source": [
    "# PEPS"
   ]
  },
  {
   "cell_type": "code",
   "execution_count": 1,
   "metadata": {},
   "outputs": [
    {
     "name": "stderr",
     "output_type": "stream",
     "text": [
      "/global/u1/s/sijingdu/VMC/fermion/vmc_torch_experiment/vmc_torch/fermion_utils.py:256: SyntaxWarning: \"is not\" with a literal. Did you mean \"!=\"?\n",
      "  new_oddpos = ftsdata.oddpos + (new_oddpos1,) if new_oddpos1 is not () else ftsdata.oddpos\n",
      "/global/u1/s/sijingdu/VMC/fermion/vmc_torch_experiment/vmc_torch/fermion_utils.py:760: SyntaxWarning: \"is not\" with a literal. Did you mean \"!=\"?\n",
      "  new_oddpos1 = FermionicOperator(new_oddpos, dual=True) if new_oddpos is not () else ()\n",
      "/global/u1/s/sijingdu/VMC/fermion/vmc_torch_experiment/vmc_torch/fermion_utils.py:761: SyntaxWarning: \"is not\" with a literal. Did you mean \"!=\"?\n",
      "  new_oddpos = ftsdata.oddpos + (new_oddpos1,) if new_oddpos1 is not () else ftsdata.oddpos\n"
     ]
    },
    {
     "name": "stdout",
     "output_type": "stream",
     "text": [
      "[2 2 1 2 0 0 3 2 1 0 3 1 3 1 0 3]\n"
     ]
    }
   ],
   "source": [
    "import quimb.tensor as qtn\n",
    "import symmray as sr\n",
    "import numpy as np\n",
    "from vmc_torch.fermion_utils import from_quimb_config_to_netket_config, from_netket_config_to_quimb_config, from_spinful_ind_to_charge, fPEPS\n",
    "seed = np.random.randint(0, 2**32)  # Random seed for reproducibility\n",
    "D = 8\n",
    "Lx, Ly = 4, 4\n",
    "nelec = int(Lx*Ly)\n",
    "nu, nd = int(nelec/2), int(nelec/2)  # number of up and down fermions for charge configuration\n",
    "edges = qtn.edges_2d_square(Lx, Ly, cyclic=False)\n",
    "site_info = sr.parse_edges_to_site_info(\n",
    "    edges,\n",
    "    D,\n",
    "    phys_dim=4,\n",
    "    site_ind_id=\"k{},{}\",\n",
    "    site_tag_id=\"I{},{}\",\n",
    ")\n",
    "\n",
    "peps = qtn.TensorNetwork()\n",
    "rng = np.random.default_rng(seed)\n",
    "charge_config = np.zeros(Lx*Ly, dtype=int)\n",
    "\n",
    "charge_config_netket = from_quimb_config_to_netket_config(charge_config)\n",
    "charge_config_netket_u = charge_config_netket[:len(charge_config_netket)//2]  # up spins\n",
    "charge_config_netket_d = charge_config_netket[len(charge_config_netket)//2:]  # down spins\n",
    "# put nu 1s in the first half of the configuration (up spins) and shuffle\n",
    "charge_config_netket_u[:nu] = 1  # assign nu up spins\n",
    "rng.shuffle(charge_config_netket_u)  # shuffle the up spins to randomize their positions\n",
    "# put nd 1s in the second half of the configuration (down spins) and shuffle\n",
    "charge_config_netket_d[:nd] = 1  # assign nd down spins\n",
    "rng.shuffle(charge_config_netket_d)  # shuffle the down spins to randomize their positions\n",
    "# combine the up and down configurations back into a single netket configuration\n",
    "charge_config_netket = np.concatenate((charge_config_netket_u, charge_config_netket_d))\n",
    "charge_config = from_spinful_ind_to_charge(from_netket_config_to_quimb_config(charge_config_netket), symmetry='U1U1')\n",
    "print(from_netket_config_to_quimb_config(charge_config_netket))\n",
    "# charge_config_netket, sum(charge_config_netket[:len(charge_config_netket)//2]), sum(charge_config_netket[len(charge_config_netket)//2:]), charge_config"
   ]
  },
  {
   "cell_type": "code",
   "execution_count": 2,
   "metadata": {},
   "outputs": [],
   "source": [
    "peps = qtn.TensorNetwork()\n",
    "for site, info in sorted(site_info.items()):\n",
    "    tid = site[0] * Ly + site[1]\n",
    "    # bond index charge distribution\n",
    "    block_indices = [\n",
    "        sr.BlockIndex({(0, 0): d//4, (0, 1): d//4, (1, 0): d//4, (1, 1): d//4}, dual=dual)\n",
    "        for d, dual in zip(info[\"shape\"][:-1], info[\"duals\"][:-1])\n",
    "    ]\n",
    "    # physical index\n",
    "    p = info['shape'][-1]\n",
    "\n",
    "    block_indices.append(\n",
    "        sr.BlockIndex({(0, 0): p//4, (0, 1): p//4, (1, 0): p//4, (1, 1): p//4}, dual=info[\"duals\"][-1])\n",
    "    )\n",
    "\n",
    "    data = sr.U1U1FermionicArray.random(\n",
    "            block_indices,\n",
    "            charge=charge_config[tid],\n",
    "            seed=rng,\n",
    "            oddpos=3*tid,\n",
    "        )\n",
    "    # *first_charges, last_charges = data.charges  # unpack the charges for logging\n",
    "    peps |= qtn.Tensor(\n",
    "            data=data,\n",
    "            inds=info[\"inds\"],\n",
    "            tags=info[\"tags\"],\n",
    "        )\n",
    "\n",
    "# required to view general TN as an actual PEPS\n",
    "for i, j in site_info:\n",
    "    peps[f\"I{i},{j}\"].add_tag([f\"X{i}\", f\"Y{j}\"])\n",
    "\n",
    "peps.view_as_(\n",
    "    fPEPS,\n",
    "    site_ind_id=\"k{},{}\",\n",
    "    site_tag_id=\"I{},{}\",\n",
    "    x_tag_id=\"X{}\",\n",
    "    y_tag_id=\"Y{}\",\n",
    "    Lx=Lx,\n",
    "    Ly=Ly,\n",
    ")\n",
    "peps = peps.copy() # set symmetry during initialization"
   ]
  },
  {
   "cell_type": "code",
   "execution_count": 3,
   "metadata": {},
   "outputs": [
    {
     "name": "stdout",
     "output_type": "stream",
     "text": [
      "0.0\n"
     ]
    },
    {
     "name": "stderr",
     "output_type": "stream",
     "text": [
      "n=25, tau=0.3, max|dS|=1: 100%|##########| 25/25 [00:09<00:00,  2.98it/s]   /global/homes/s/sijingdu/VMC/fermion/mpsds/mpsds/lib/python3.11/site-packages/tqdm/auto.py:21: TqdmWarning: IProgress not found. Please update jupyter and ipywidgets. See https://ipywidgets.readthedocs.io/en/stable/user_install.html\n",
      "  from .autonotebook import tqdm as notebook_tqdm\n",
      "n=25, tau=0.3, max|dS|=1, energy~-0.28226: 100%|##########| 25/25 [00:11<00:00,  2.23it/s]\n"
     ]
    }
   ],
   "source": [
    "from vmc_torch.fermion_utils import generate_random_fpeps\n",
    "\n",
    "# SU in quimb\n",
    "D = 4\n",
    "seed = 0\n",
    "symmetry = 'U1U1'\n",
    "spinless = False\n",
    "peps = generate_random_fpeps(Lx, Ly, D=D, seed=seed, symmetry=symmetry, Nf=nelec, spinless=spinless)[0]\n",
    "edges = qtn.edges_2d_square(Lx, Ly, cyclic=False)\n",
    "try:\n",
    "    parse_edges_to_site_info = sr.utils.parse_edges_to_site_info\n",
    "except AttributeError:\n",
    "    parse_edges_to_site_info = sr.parse_edges_to_site_info\n",
    "site_info = parse_edges_to_site_info(\n",
    "    edges,\n",
    "    D,\n",
    "    phys_dim=4,\n",
    "    site_ind_id=\"k{},{}\",\n",
    "    site_tag_id=\"I{},{}\",\n",
    ")\n",
    "\n",
    "t = 1.0\n",
    "U = 8.0\n",
    "if nelec == int(Lx*Ly-2) or nelec == int(Lx*Ly-8):\n",
    "    mu = 0.0 if symmetry in ['U1', 'U1U1'] else (U*nelec/(2*N)-2.42)#(U*nelec/(2*N)-2.3)\n",
    "elif nelec == int(Lx*Ly):\n",
    "    mu = 0.0 if symmetry in ['U1', 'U1U1'] else (U/2)\n",
    "elif nelec == int(Lx*Ly-4):\n",
    "    mu = 0.0 if symmetry in ['U1', 'U1U1'] else (U/2)-U*0.3\n",
    "else:\n",
    "    mu = 0.0\n",
    "\n",
    "print(mu)\n",
    "\n",
    "terms = {\n",
    "    (sitea, siteb): sr.fermi_hubbard_local_array(\n",
    "        t=t, U=U, mu=mu,\n",
    "        symmetry=symmetry,\n",
    "        coordinations=(\n",
    "            site_info[sitea]['coordination'],\n",
    "            site_info[siteb]['coordination'],\n",
    "        ),\n",
    "    )\n",
    "    for (sitea, siteb) in peps.gen_bond_coos()\n",
    "}\n",
    "N_terms = {\n",
    "    site: sr.fermi_number_operator_spinful_local_array(\n",
    "        symmetry=symmetry\n",
    "    )\n",
    "    for site in peps.gen_site_coos()\n",
    "}\n",
    "occ_fn = lambda su: print(f'N per site:{su.get_state().compute_local_expectation(N_terms, normalized=True, max_bond=64,)/int(Lx*Ly)}') if su.n%50==0 else None\n",
    "\n",
    "ham = qtn.LocalHam2D(Lx, Ly, terms)\n",
    "\n",
    "su = qtn.SimpleUpdateGen(peps, ham, compute_energy_per_site=True,D=D, compute_energy_opts={\"max_distance\":1}, gate_opts={'cutoff':1e-12}, callback=occ_fn)\n",
    "\n",
    "# cluster energies may not be accuracte yet\n",
    "su.evolve(25, tau=0.3)\n",
    "# su.evolve(50, tau=0.1)\n",
    "# su.evolve(50, tau=0.03)\n",
    "# # su.evolve(50, tau=0.01)\n",
    "# # su.evolve(50, tau=0.003)\n",
    "\n",
    "peps = su.get_state()\n",
    "peps.equalize_norms_(value=1)\n",
    "\n",
    "# save the state\n",
    "params, skeleton = qtn.pack(peps)\n",
    "    "
   ]
  },
  {
   "cell_type": "code",
   "execution_count": 79,
   "metadata": {},
   "outputs": [
    {
     "name": "stdout",
     "output_type": "stream",
     "text": [
      "[1 1 0 1 1 2 2 3 3 2 0 2 3 0 2 1]\n",
      "-1.2005917933861655e-08\n",
      "-1.2005917933861655e-08\n"
     ]
    }
   ],
   "source": [
    "charge_config = np.zeros(Lx*Ly, dtype=int)\n",
    "\n",
    "charge_config_netket = from_quimb_config_to_netket_config(charge_config)\n",
    "charge_config_netket_u = charge_config_netket[:len(charge_config_netket)//2]  # up spins\n",
    "charge_config_netket_d = charge_config_netket[len(charge_config_netket)//2:]  # down spins\n",
    "# put nu 1s in the first half of the configuration (up spins) and shuffle\n",
    "charge_config_netket_u[:nu] = 1  # assign nu up spins\n",
    "rng.shuffle(charge_config_netket_u)  # shuffle the up spins to randomize their positions\n",
    "# put nd 1s in the second half of the configuration (down spins) and shuffle\n",
    "charge_config_netket_d[:nd] = 1  # assign nd down spins\n",
    "rng.shuffle(charge_config_netket_d)  # shuffle the down spins to randomize their positions\n",
    "# combine the up and down configurations back into a single netket configuration\n",
    "charge_config_netket = np.concatenate((charge_config_netket_u, charge_config_netket_d))\n",
    "charge_config = from_spinful_ind_to_charge(from_netket_config_to_quimb_config(charge_config_netket), symmetry='U1U1')\n",
    "random_arr = from_netket_config_to_quimb_config(charge_config_netket)\n",
    "print(random_arr)\n",
    "print(peps.get_amp(random_arr, efficient=False).contract())\n",
    "print(peps.get_amp(random_arr, efficient=True).contract())\n",
    "# count how many 3s in random_arr"
   ]
  },
  {
   "cell_type": "code",
   "execution_count": null,
   "metadata": {},
   "outputs": [
    {
     "ename": "StopIteration",
     "evalue": "",
     "output_type": "error",
     "traceback": [
      "\u001b[31m---------------------------------------------------------------------------\u001b[39m",
      "\u001b[31mStopIteration\u001b[39m                             Traceback (most recent call last)",
      "\u001b[36mCell\u001b[39m\u001b[36m \u001b[39m\u001b[32mIn[34]\u001b[39m\u001b[32m, line 5\u001b[39m\n\u001b[32m      3\u001b[39m seed = \u001b[32m2\u001b[39m\n\u001b[32m      4\u001b[39m peps = generate_random_fpeps(Lx, Ly, D=D, seed=seed, symmetry=\u001b[33m'\u001b[39m\u001b[33mU1U1\u001b[39m\u001b[33m'\u001b[39m, Nf=\u001b[38;5;28mint\u001b[39m(Lx*Ly), spinless=\u001b[38;5;28;01mFalse\u001b[39;00m)[\u001b[32m0\u001b[39m]\n\u001b[32m----> \u001b[39m\u001b[32m5\u001b[39m \u001b[43mpeps\u001b[49m\u001b[43m.\u001b[49m\u001b[43mget_amp\u001b[49m\u001b[43m(\u001b[49m\u001b[43mrandom_arr\u001b[49m\u001b[43m)\u001b[49m.contract()\n",
      "\u001b[36mFile \u001b[39m\u001b[32m/global/u1/s/sijingdu/VMC/fermion/vmc_torch_experiment/vmc_torch/fermion_utils.py:161\u001b[39m, in \u001b[36mfPEPS.get_amp\u001b[39m\u001b[34m(self, config, inplace, conj, reverse, contract, efficient)\u001b[39m\n\u001b[32m    159\u001b[39m \u001b[38;5;250m\u001b[39m\u001b[33;03m\"\"\"Get the amplitude of a configuration in a PEPS.\"\"\"\u001b[39;00m\n\u001b[32m    160\u001b[39m \u001b[38;5;28;01mif\u001b[39;00m efficient:\n\u001b[32m--> \u001b[39m\u001b[32m161\u001b[39m     \u001b[38;5;28;01mreturn\u001b[39;00m \u001b[38;5;28;43mself\u001b[39;49m\u001b[43m.\u001b[49m\u001b[43mget_amp_efficient\u001b[49m\u001b[43m(\u001b[49m\u001b[43mconfig\u001b[49m\u001b[43m,\u001b[49m\u001b[43m \u001b[49m\u001b[43minplace\u001b[49m\u001b[43m=\u001b[49m\u001b[43minplace\u001b[49m\u001b[43m)\u001b[49m\n\u001b[32m    162\u001b[39m peps = \u001b[38;5;28mself\u001b[39m \u001b[38;5;28;01mif\u001b[39;00m inplace \u001b[38;5;28;01melse\u001b[39;00m \u001b[38;5;28mself\u001b[39m.copy()\n\u001b[32m    163\u001b[39m product_state = \u001b[38;5;28mself\u001b[39m.product_bra_state(config, reverse=reverse).conj() \u001b[38;5;28;01mif\u001b[39;00m conj \u001b[38;5;28;01melse\u001b[39;00m \u001b[38;5;28mself\u001b[39m.product_bra_state(config, reverse=reverse)\n",
      "\u001b[36mFile \u001b[39m\u001b[32m/global/u1/s/sijingdu/VMC/fermion/vmc_torch_experiment/vmc_torch/fermion_utils.py:258\u001b[39m, in \u001b[36mfPEPS.get_amp_efficient\u001b[39m\u001b[34m(self, config, inplace)\u001b[39m\n\u001b[32m    255\u001b[39m     new_oddpos = ftsdata.oddpos + (new_oddpos1,) \u001b[38;5;28;01mif\u001b[39;00m new_oddpos1 \u001b[38;5;129;01mis\u001b[39;00m \u001b[38;5;129;01mnot\u001b[39;00m () \u001b[38;5;28;01melse\u001b[39;00m ftsdata.oddpos\n\u001b[32m    256\u001b[39m     oddpos = \u001b[38;5;28mlist\u001b[39m(new_oddpos)[::-\u001b[32m1\u001b[39m]\n\u001b[32m--> \u001b[39m\u001b[32m258\u001b[39m     new_fts_data = \u001b[43msr\u001b[49m\u001b[43m.\u001b[49m\u001b[43mFermionicArray\u001b[49m\u001b[43m.\u001b[49m\u001b[43mfrom_blocks\u001b[49m\u001b[43m(\u001b[49m\u001b[43mnew_charge_sec_data_dict\u001b[49m\u001b[43m,\u001b[49m\u001b[43m \u001b[49m\u001b[43mduals\u001b[49m\u001b[43m=\u001b[49m\u001b[43mnew_duals\u001b[49m\u001b[43m,\u001b[49m\u001b[43m \u001b[49m\u001b[43mcharge\u001b[49m\u001b[43m=\u001b[49m\u001b[43mcharge\u001b[49m\u001b[43m \u001b[49m\u001b[43m+\u001b[49m\u001b[43m \u001b[49m\u001b[43mftsdata\u001b[49m\u001b[43m.\u001b[49m\u001b[43mcharge\u001b[49m\u001b[43m,\u001b[49m\u001b[43m \u001b[49m\u001b[43moddpos\u001b[49m\u001b[43m=\u001b[49m\u001b[43moddpos\u001b[49m\u001b[43m,\u001b[49m\u001b[43m \u001b[49m\u001b[43msymmetry\u001b[49m\u001b[43m=\u001b[49m\u001b[43mftsdata\u001b[49m\u001b[43m.\u001b[49m\u001b[43msymmetry\u001b[49m\u001b[43m)\u001b[49m\n\u001b[32m    259\u001b[39m     fts.modify(data=new_fts_data, inds=new_fts_inds, left_inds=\u001b[38;5;28;01mNone\u001b[39;00m)\n\u001b[32m    261\u001b[39m amp = qtn.PEPS(peps)\n",
      "\u001b[36mFile \u001b[39m\u001b[32m~/VMC/fermion/mpsds/mpsds/lib/python3.11/site-packages/symmray/abelian_core.py:1330\u001b[39m, in \u001b[36mAbelianArray.from_blocks\u001b[39m\u001b[34m(cls, blocks, duals, charge, symmetry, **kwargs)\u001b[39m\n\u001b[32m   1327\u001b[39m \u001b[38;5;28;01melse\u001b[39;00m:\n\u001b[32m   1328\u001b[39m     charge = charge\n\u001b[32m-> \u001b[39m\u001b[32m1330\u001b[39m ndim = \u001b[38;5;28mlen\u001b[39m(\u001b[38;5;28mnext\u001b[39m(\u001b[38;5;28miter\u001b[39m(blocks.keys())))\n\u001b[32m   1331\u001b[39m charge_size_maps = [{} \u001b[38;5;28;01mfor\u001b[39;00m _ \u001b[38;5;129;01min\u001b[39;00m \u001b[38;5;28mrange\u001b[39m(ndim)]\n\u001b[32m   1333\u001b[39m \u001b[38;5;28;01mfor\u001b[39;00m sector, array \u001b[38;5;129;01min\u001b[39;00m blocks.items():\n",
      "\u001b[31mStopIteration\u001b[39m: "
     ]
    }
   ],
   "source": [
    "from vmc_torch.fermion_utils import generate_random_fpeps\n",
    "# # seed = np.random.randint(0, 2**32)  # Random seed for reproducibility\n",
    "seed = 2\n",
    "peps = generate_random_fpeps(Lx, Ly, D=D, seed=seed, symmetry='U1U1', Nf=int(Lx*Ly), spinless=False)[0]\n",
    "# peps.get_amp(random_arr).contract()"
   ]
  }
 ],
 "metadata": {
  "kernelspec": {
   "display_name": "mpsds",
   "language": "python",
   "name": "python3"
  },
  "language_info": {
   "codemirror_mode": {
    "name": "ipython",
    "version": 3
   },
   "file_extension": ".py",
   "mimetype": "text/x-python",
   "name": "python",
   "nbconvert_exporter": "python",
   "pygments_lexer": "ipython3",
   "version": "3.11.11"
  }
 },
 "nbformat": 4,
 "nbformat_minor": 2
}
