{
 "cells": [
  {
   "cell_type": "markdown",
   "metadata": {},
   "source": [
    "# 2D"
   ]
  },
  {
   "cell_type": "code",
   "execution_count": null,
   "metadata": {},
   "outputs": [],
   "source": [
    "import os\n",
    "import pickle\n",
    "from vmc_torch.fermion_utils import *\n",
    "import quimb.tensor as qtn\n",
    "Lx = 6\n",
    "Ly = 6\n",
    "# Define the fermion filling and the Hilbert space\n",
    "N_f = int(Lx*Ly-4)\n",
    "# SU in quimb\n",
    "D = 6\n",
    "\n",
    "t=1.0\n",
    "U=8.0\n",
    "\n",
    "# Load PEPS\n",
    "pwd = '/home/sijingdu/TNVMC/VMC_code/vmc_torch/data'\n",
    "skeleton = pickle.load(open(pwd+f\"/{Lx}x{Ly}/t={t}_U={U}/N={N_f}/U1/D={D}/peps_skeleton.pkl\", \"rb\"))\n",
    "peps_params = pickle.load(open(pwd+f\"/{Lx}x{Ly}/t={t}_U={U}/N={N_f}/U1/D={D}/peps_su_params.pkl\", \"rb\"))\n",
    "\n",
    "# Define the PEPS\n",
    "peps = qtn.unpack(peps_params, skeleton)\n",
    "z2peps = u1peps_to_z2peps(peps)\n",
    "\n",
    "params, skeleton = qtn.pack(z2peps)\n",
    "\n",
    "os.makedirs(pwd+f'/{Lx}x{Ly}/t={t}_U={U}/N={N_f}/Z2/D={D}', exist_ok=True)\n",
    "\n",
    "with open(pwd+f'/{Lx}x{Ly}/t={t}_U={U}/N={N_f}/Z2/D={D}/peps_skeleton.pkl', 'wb') as f:\n",
    "    pickle.dump(skeleton, f)\n",
    "with open(pwd+f'/{Lx}x{Ly}/t={t}_U={U}/N={N_f}/Z2/D={D}/peps_su_params.pkl', 'wb') as f:\n",
    "    pickle.dump(params, f)\n",
    "\n",
    "z2peps"
   ]
  },
  {
   "cell_type": "markdown",
   "metadata": {},
   "source": [
    "# 1D"
   ]
  },
  {
   "cell_type": "code",
   "execution_count": 3,
   "metadata": {},
   "outputs": [
    {
     "data": {
      "text/html": [
       "<samp style='font-size: 12px;'><details><summary><b style=\"color: #d64dd7;\">fMPS</b>(tensors=10, indices=19, L=10, max_bond=8)</summary><samp style='font-size: 12px;'><details><summary><b style=\"color: #e55471;\">Tensor</b>(shape=(<b style=\"color: #80d749;\">4</b>, <b style=\"color: #80d749;\">4</b>), inds=[<b style=\"color: #d5b090;\">b0-1</b>, <b style=\"color: #b1dc61;\">k0</b>], tags={<b style=\"color: #d2b137;\">I0</b>}),</summary>backend=<b style=\"color: #5ee466;\">symmray</b>, dtype=<b style=\"color: #75d2c6;\">float64</b>, data=Z2FermionicArray(shape~(4, 4):[++], charge=1, num_blocks=2)</details></samp><samp style='font-size: 12px;'><details><summary><b style=\"color: #e55471;\">Tensor</b>(shape=(<b style=\"color: #80d749;\">4</b>, <b style=\"color: #39acd6;\">8</b>, <b style=\"color: #80d749;\">4</b>), inds=[<b style=\"color: #d5b090;\">b0-1</b>, <b style=\"color: #7cdc93;\">b1-2</b>, <b style=\"color: #8aa5db;\">k1</b>], tags={<b style=\"color: #d19b78;\">I1</b>}),</summary>backend=<b style=\"color: #5ee466;\">symmray</b>, dtype=<b style=\"color: #75d2c6;\">float64</b>, data=...</details></samp><samp style='font-size: 12px;'><details><summary><b style=\"color: #e55471;\">Tensor</b>(shape=(<b style=\"color: #39acd6;\">8</b>, <b style=\"color: #39acd6;\">8</b>, <b style=\"color: #80d749;\">4</b>), inds=[<b style=\"color: #7cdc93;\">b1-2</b>, <b style=\"color: #48e482;\">b2-3</b>, <b style=\"color: #df546d;\">k2</b>], tags={<b style=\"color: #dd5dd7;\">I2</b>}),</summary>backend=<b style=\"color: #5ee466;\">symmray</b>, dtype=<b style=\"color: #75d2c6;\">float64</b>, data=...</details></samp><samp style='font-size: 12px;'><details><summary><b style=\"color: #e55471;\">Tensor</b>(shape=(<b style=\"color: #39acd6;\">8</b>, <b style=\"color: #39acd6;\">8</b>, <b style=\"color: #80d749;\">4</b>), inds=[<b style=\"color: #48e482;\">b2-3</b>, <b style=\"color: #3fdd4f;\">b3-4</b>, <b style=\"color: #4c7be1;\">k3</b>], tags={<b style=\"color: #dd65d9;\">I3</b>}),</summary>backend=<b style=\"color: #5ee466;\">symmray</b>, dtype=<b style=\"color: #75d2c6;\">float64</b>, data=...</details></samp><samp style='font-size: 12px;'><details><summary><b style=\"color: #e55471;\">Tensor</b>(shape=(<b style=\"color: #39acd6;\">8</b>, <b style=\"color: #39acd6;\">8</b>, <b style=\"color: #80d749;\">4</b>), inds=[<b style=\"color: #3fdd4f;\">b3-4</b>, <b style=\"color: #cf34a1;\">b4-5</b>, <b style=\"color: #462edc;\">k4</b>], tags={<b style=\"color: #998ad1;\">I4</b>}),</summary>backend=<b style=\"color: #5ee466;\">symmray</b>, dtype=<b style=\"color: #75d2c6;\">float64</b>, data=...</details></samp><samp style='font-size: 12px;'><details><summary><b style=\"color: #e55471;\">Tensor</b>(shape=(<b style=\"color: #39acd6;\">8</b>, <b style=\"color: #39acd6;\">8</b>, <b style=\"color: #80d749;\">4</b>), inds=[<b style=\"color: #cf34a1;\">b4-5</b>, <b style=\"color: #d778c8;\">b5-6</b>, <b style=\"color: #85dfdf;\">k5</b>], tags={<b style=\"color: #97dddc;\">I5</b>}),</summary>backend=<b style=\"color: #5ee466;\">symmray</b>, dtype=<b style=\"color: #75d2c6;\">float64</b>, data=...</details></samp><samp style='font-size: 12px;'><details><summary><b style=\"color: #e55471;\">Tensor</b>(shape=(<b style=\"color: #39acd6;\">8</b>, <b style=\"color: #39acd6;\">8</b>, <b style=\"color: #80d749;\">4</b>), inds=[<b style=\"color: #d778c8;\">b5-6</b>, <b style=\"color: #ab4bd7;\">b6-7</b>, <b style=\"color: #2cb7d3;\">k6</b>], tags={<b style=\"color: #b2de5f;\">I6</b>}),</summary>backend=<b style=\"color: #5ee466;\">symmray</b>, dtype=<b style=\"color: #75d2c6;\">float64</b>, data=...</details></samp><samp style='font-size: 12px;'><details><summary><b style=\"color: #e55471;\">Tensor</b>(shape=(<b style=\"color: #39acd6;\">8</b>, <b style=\"color: #39acd6;\">8</b>, <b style=\"color: #80d749;\">4</b>), inds=[<b style=\"color: #ab4bd7;\">b6-7</b>, <b style=\"color: #66bde2;\">b7-8</b>, <b style=\"color: #53e08f;\">k7</b>], tags={<b style=\"color: #5582d6;\">I7</b>}),</summary>backend=<b style=\"color: #5ee466;\">symmray</b>, dtype=<b style=\"color: #75d2c6;\">float64</b>, data=...</details></samp><samp style='font-size: 12px;'><details><summary><b style=\"color: #e55471;\">Tensor</b>(shape=(<b style=\"color: #39acd6;\">8</b>, <b style=\"color: #80d749;\">4</b>, <b style=\"color: #80d749;\">4</b>), inds=[<b style=\"color: #66bde2;\">b7-8</b>, <b style=\"color: #6cd5bc;\">b8-9</b>, <b style=\"color: #7bcd9f;\">k8</b>], tags={<b style=\"color: #8a3dd8;\">I8</b>}),</summary>backend=<b style=\"color: #5ee466;\">symmray</b>, dtype=<b style=\"color: #75d2c6;\">float64</b>, data=...</details></samp><samp style='font-size: 12px;'><details><summary><b style=\"color: #e55471;\">Tensor</b>(shape=(<b style=\"color: #80d749;\">4</b>, <b style=\"color: #80d749;\">4</b>), inds=[<b style=\"color: #6cd5bc;\">b8-9</b>, <b style=\"color: #cc70c1;\">k9</b>], tags={<b style=\"color: #d74979;\">I9</b>}),</summary>backend=<b style=\"color: #5ee466;\">symmray</b>, dtype=<b style=\"color: #75d2c6;\">float64</b>, data=Z2FermionicArray(shape~(4, 4):[-+], charge=1, num_blocks=2)</details></samp></details></samp>"
      ],
      "text/plain": [
       "fMPS(tensors=10, indices=19, L=10, max_bond=8)"
      ]
     },
     "execution_count": 3,
     "metadata": {},
     "output_type": "execute_result"
    }
   ],
   "source": [
    "import os\n",
    "import pickle\n",
    "import quimb.tensor as qtn\n",
    "\n",
    "from vmc_torch.fermion_utils import *\n",
    "L = 10\n",
    "# Define the fermion filling and the Hilbert space\n",
    "N_f = int(L-2)\n",
    "# SU in quimb\n",
    "D=8\n",
    "\n",
    "t=1.0\n",
    "U=8.0\n",
    "\n",
    "# Load PEPS\n",
    "pwd = '/home/sijingdu/TNVMC/VMC_code/vmc_torch/data'\n",
    "skeleton = pickle.load(open(pwd+f\"/L={L}/t={t}_U={U}/N={N_f}/U1/D={D}/mps_skeleton.pkl\", \"rb\"))\n",
    "mps_params = pickle.load(open(pwd+f\"/L={L}/t={t}_U={U}/N={N_f}/U1/D={D}/mps_su_params.pkl\", \"rb\"))\n",
    "\n",
    "# Define the PEPS\n",
    "mps = qtn.unpack(mps_params, skeleton)\n",
    "z2mps = u1peps_to_z2peps(mps)\n",
    "\n",
    "params, skeleton = qtn.pack(z2mps)\n",
    "\n",
    "os.makedirs(pwd+f'/L={L}/t={t}_U={U}/N={N_f}/Z2/D={D}', exist_ok=True)\n",
    "\n",
    "with open(pwd+f'/L={L}/t={t}_U={U}/N={N_f}/Z2/D={D}/mps_skeleton.pkl', 'wb') as f:\n",
    "    pickle.dump(skeleton, f)\n",
    "with open(pwd+f'/L={L}/t={t}_U={U}/N={N_f}/Z2/D={D}/mps_su_params.pkl', 'wb') as f:\n",
    "    pickle.dump(params, f)\n",
    "\n",
    "z2mps"
   ]
  }
 ],
 "metadata": {
  "kernelspec": {
   "display_name": "vmc_torch",
   "language": "python",
   "name": "python3"
  },
  "language_info": {
   "codemirror_mode": {
    "name": "ipython",
    "version": 3
   },
   "file_extension": ".py",
   "mimetype": "text/x-python",
   "name": "python",
   "nbconvert_exporter": "python",
   "pygments_lexer": "ipython3",
   "version": "3.9.20"
  }
 },
 "nbformat": 4,
 "nbformat_minor": 2
}
