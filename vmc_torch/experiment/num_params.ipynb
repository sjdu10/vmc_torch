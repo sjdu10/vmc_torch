{
 "cells": [
  {
   "cell_type": "code",
   "execution_count": 4,
   "id": "f01a1799",
   "metadata": {},
   "outputs": [
    {
     "data": {
      "text/plain": [
       "640"
      ]
     },
     "execution_count": 4,
     "metadata": {},
     "output_type": "execute_result"
    }
   ],
   "source": [
    "import quimb.tensor as qtn\n",
    "from vmc_torch.experiment.tn_model import *\n",
    "from vmc_torch.fermion_utils import *\n",
    "import torch\n",
    "from vmc_torch.hamiltonian_torch import *\n",
    "\n",
    "Lx=4\n",
    "Ly=2\n",
    "N_f = int(Lx*Ly-2)\n",
    "t=1\n",
    "U=8\n",
    "n_fermions_per_spin = (N_f//2, N_f//2)\n",
    "H = spinful_Fermi_Hubbard_square_lattice_torch(Lx, Ly, t, U, N_f, pbc=False, n_fermions_per_spin=n_fermions_per_spin)\n",
    "# SU in quimb\n",
    "D = 4\n",
    "seed = 0\n",
    "symmetry = 'Z2'\n",
    "spinless = False\n",
    "peps = generate_random_fpeps(Lx, Ly, D=D, seed=seed, symmetry=symmetry, Nf=N_f, spinless=spinless)[0]\n",
    "edges = qtn.edges_2d_square(Lx, Ly, cyclic=False)\n",
    "try:\n",
    "    parse_edges_to_site_info = sr.utils.parse_edges_to_site_info\n",
    "except AttributeError:\n",
    "    parse_edges_to_site_info = sr.parse_edges_to_site_info\n",
    "site_info = parse_edges_to_site_info(\n",
    "    edges,\n",
    "    D,\n",
    "    phys_dim=4,\n",
    "    site_ind_id=\"k{},{}\",\n",
    "    site_tag_id=\"I{},{}\",\n",
    ")\n",
    "peps.apply_to_arrays(lambda x: torch.tensor(x, dtype=torch.float32))\n",
    "peps_model = fTNModel(peps, max_bond=-1)\n",
    "peps_model.num_params"
   ]
  },
  {
   "cell_type": "code",
   "execution_count": 5,
   "id": "35d20b8e",
   "metadata": {},
   "outputs": [
    {
     "data": {
      "text/plain": [
       "15824"
      ]
     },
     "execution_count": 5,
     "metadata": {},
     "output_type": "execute_result"
    }
   ],
   "source": [
    "D8_peps = generate_random_fpeps(Lx, Ly, D=4, seed=seed, symmetry=symmetry, Nf=N_f, spinless=spinless)[0]\n",
    "D8_peps.apply_to_arrays(lambda x: torch.tensor(x, dtype=torch.float32))\n",
    "peps_nn_model = fTN_backflow_attn_Tensorwise_Model_v1(D8_peps, max_bond=-1, embedding_dim=16, attention_heads=4, nn_final_dim=8)\n",
    "peps_nn_model.num_params"
   ]
  },
  {
   "cell_type": "code",
   "execution_count": 10,
   "id": "d73f5e08",
   "metadata": {},
   "outputs": [
    {
     "data": {
      "text/plain": [
       "15888"
      ]
     },
     "execution_count": 10,
     "metadata": {},
     "output_type": "execute_result"
    }
   ],
   "source": [
    "dtype = torch.float64\n",
    "model = NNBF_attention(\n",
    "    nsite=Lx*Ly,\n",
    "    hilbert=H.hilbert,\n",
    "    param_dtype=dtype,\n",
    "    hidden_dim=64,\n",
    "    embed_dim=16,\n",
    "    nn_eta=0.0,\n",
    "    attention_heads=4,\n",
    "    phys_dim=4,\n",
    "    spinflip_symmetry=False,\n",
    ")\n",
    "\n",
    "model.num_params"
   ]
  },
  {
   "cell_type": "code",
   "execution_count": 9,
   "id": "a5c4c1ef",
   "metadata": {},
   "outputs": [
    {
     "data": {
      "text/plain": [
       "96"
      ]
     },
     "execution_count": 9,
     "metadata": {},
     "output_type": "execute_result"
    }
   ],
   "source": [
    "sd = SlaterDeterminant(\n",
    "    H.hilbert,\n",
    "    param_dtype=dtype,\n",
    ")\n",
    "sd.num_params"
   ]
  }
 ],
 "metadata": {
  "kernelspec": {
   "display_name": "mpsds",
   "language": "python",
   "name": "python3"
  },
  "language_info": {
   "codemirror_mode": {
    "name": "ipython",
    "version": 3
   },
   "file_extension": ".py",
   "mimetype": "text/x-python",
   "name": "python",
   "nbconvert_exporter": "python",
   "pygments_lexer": "ipython3",
   "version": "3.11.11"
  }
 },
 "nbformat": 4,
 "nbformat_minor": 5
}
