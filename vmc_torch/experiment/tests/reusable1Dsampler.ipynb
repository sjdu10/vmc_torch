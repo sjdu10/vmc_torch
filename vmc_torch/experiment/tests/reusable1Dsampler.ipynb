{
 "cells": [
  {
   "cell_type": "code",
   "execution_count": 16,
   "id": "6e93bc96",
   "metadata": {},
   "outputs": [],
   "source": [
    "import quimb.tensor as qtn\n",
    "\n",
    "test_mps = qtn.MPS_rand_state(4, 4, 4)\n",
    "amp = test_mps.isel({'k0':0, 'k1':0, 'k2':0, 'k3':0})\n",
    "\n",
    "right_env = amp.compute_right_environments()\n",
    "left_env = amp.compute_left_environments()"
   ]
  },
  {
   "cell_type": "code",
   "execution_count": 20,
   "id": "f5e51ce3",
   "metadata": {},
   "outputs": [
    {
     "data": {
      "text/plain": [
       "({2: Tensor(shape=(4,), inds=('_c10f42AAABC',), tags=oset([])),\n",
       "  1: Tensor(shape=(4,), inds=('_c10f42AAABB',), tags=oset([])),\n",
       "  0: Tensor(shape=(4,), inds=('_c10f42AAABA',), tags=oset(['I1']))},\n",
       " {1: Tensor(shape=(4,), inds=('_c10f42AAABA',), tags=oset([])),\n",
       "  2: Tensor(shape=(4,), inds=('_c10f42AAABB',), tags=oset([])),\n",
       "  3: Tensor(shape=(4,), inds=('_c10f42AAABC',), tags=oset(['I2']))})"
      ]
     },
     "execution_count": 20,
     "metadata": {},
     "output_type": "execute_result"
    }
   ],
   "source": [
    "right_env, left_env"
   ]
  }
 ],
 "metadata": {
  "kernelspec": {
   "display_name": "mpsds",
   "language": "python",
   "name": "python3"
  },
  "language_info": {
   "codemirror_mode": {
    "name": "ipython",
    "version": 3
   },
   "file_extension": ".py",
   "mimetype": "text/x-python",
   "name": "python",
   "nbconvert_exporter": "python",
   "pygments_lexer": "ipython3",
   "version": "3.11.11"
  }
 },
 "nbformat": 4,
 "nbformat_minor": 5
}
