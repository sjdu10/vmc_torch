{
 "cells": [
  {
   "cell_type": "code",
   "execution_count": 1,
   "id": "8dd6a456",
   "metadata": {},
   "outputs": [
    {
     "name": "stdout",
     "output_type": "stream",
     "text": [
      "torch.Size([4, 5, 6])\n"
     ]
    }
   ],
   "source": [
    "import torch\n",
    "import torch.nn as nn\n",
    "import string\n",
    "\n",
    "class CPTensor(nn.Module):\n",
    "    def __init__(self, shape, rank):\n",
    "        \"\"\"\n",
    "        Args:\n",
    "            shape (tuple of ints): (d1, d2, ..., dN)\n",
    "            rank  (int): number of CP components M\n",
    "        \"\"\"\n",
    "        super().__init__()\n",
    "        self.shape = shape\n",
    "        self.rank = rank\n",
    "        # factor matrices U^(k): shape (d_k, rank)\n",
    "        self.factors = nn.ParameterList([\n",
    "            nn.Parameter(torch.randn(d, rank))\n",
    "            for d in shape\n",
    "        ])\n",
    "        # component weights λ of shape (rank,)\n",
    "        self.weights = nn.Parameter(torch.randn(rank))\n",
    "\n",
    "    def reconstruct(self):\n",
    "        # Build einsum equation, e.g. \"ar,br,cr->abc\" for N=3\n",
    "        letters = string.ascii_lowercase\n",
    "        in_subs = [f\"{letters[i]}r\" for i in range(len(self.shape))]\n",
    "        out_subs = \"\".join(letters[:len(self.shape)])\n",
    "        eq = \",\".join(in_subs) + \"->\" + out_subs\n",
    "\n",
    "        # apply weights to first factor\n",
    "        F = [self.factors[0] * self.weights.view(1, -1)] + list(self.factors[1:])\n",
    "        # einsum to reconstruct full tensor\n",
    "        return torch.einsum(eq, *F)\n",
    "\n",
    "# Example usage:\n",
    "shape = (4, 5, 6)   # e.g. a 3-mode tensor\n",
    "rank  = 10          # desired CP rank M\n",
    "cp    = CPTensor(shape, rank)\n",
    "\n",
    "# factors cp.factors, weights cp.weights are your variational parameters\n",
    "T = cp.reconstruct()   # full tensor of shape (4,5,6)\n",
    "print(T.shape)         # => torch.Size([4, 5, 6])\n"
   ]
  }
 ],
 "metadata": {
  "kernelspec": {
   "display_name": "mpsds",
   "language": "python",
   "name": "python3"
  },
  "language_info": {
   "codemirror_mode": {
    "name": "ipython",
    "version": 3
   },
   "file_extension": ".py",
   "mimetype": "text/x-python",
   "name": "python",
   "nbconvert_exporter": "python",
   "pygments_lexer": "ipython3",
   "version": "3.11.11"
  }
 },
 "nbformat": 4,
 "nbformat_minor": 5
}
