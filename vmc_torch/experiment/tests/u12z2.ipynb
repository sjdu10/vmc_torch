{
 "cells": [
  {
   "cell_type": "code",
   "execution_count": null,
   "metadata": {},
   "outputs": [
    {
     "name": "stdout",
     "output_type": "stream",
     "text": [
      "0.0\n"
     ]
    },
    {
     "name": "stderr",
     "output_type": "stream",
     "text": [
      "n=50, tau=0.3, max|dS|=0.15: 100%|##########| 50/50 [00:06<00:00,  8.02it/s] "
     ]
    },
    {
     "name": "stdout",
     "output_type": "stream",
     "text": [
      "N per site:0.8749999093994323\n"
     ]
    },
    {
     "name": "stderr",
     "output_type": "stream",
     "text": [
      "n=50, tau=0.3, max|dS|=0.15, energy~-0.533988: 100%|##########| 50/50 [00:09<00:00,  5.44it/s]\n"
     ]
    }
   ],
   "source": [
    "import os\n",
    "os.environ[\"NUMBA_NUM_THREADS\"] = \"20\"\n",
    "\n",
    "import netket as nk\n",
    "import netket.experimental as nkx\n",
    "\n",
    "from vmc_torch.fermion_utils import generate_random_fpeps\n",
    "import quimb.tensor as qtn\n",
    "import symmray as sr\n",
    "import autoray as ar\n",
    "\n",
    "\n",
    "# Define the lattice shape\n",
    "Lx = 4\n",
    "Ly = 4\n",
    "spinless = False\n",
    "# graph = nk.graph.Square(L)\n",
    "graph = nk.graph.Grid([Lx,Ly], pbc=False)\n",
    "N = graph.n_nodes\n",
    "\n",
    "# Define the fermion filling and the Hilbert space\n",
    "N_f = int(Lx*Ly-2)\n",
    "n_fermions_per_spin = (N_f//2, N_f//2)\n",
    "hi = nkx.hilbert.SpinOrbitalFermions(N, s=1/2, n_fermions_per_spin=n_fermions_per_spin)\n",
    "\n",
    "# SU in quimb\n",
    "D = 4\n",
    "seed = 0\n",
    "symmetry = 'U1'\n",
    "spinless = False\n",
    "peps = generate_random_fpeps(Lx, Ly, D=D, seed=seed, symmetry=symmetry, Nf=N_f, spinless=spinless)[0]\n",
    "edges = qtn.edges_2d_square(Lx, Ly, cyclic=False)\n",
    "try:\n",
    "    parse_edges_to_site_info = sr.utils.parse_edges_to_site_info\n",
    "except AttributeError:\n",
    "    parse_edges_to_site_info = sr.parse_edges_to_site_info\n",
    "site_info = parse_edges_to_site_info(\n",
    "    edges,\n",
    "    D,\n",
    "    phys_dim=4,\n",
    "    site_ind_id=\"k{},{}\",\n",
    "    site_tag_id=\"I{},{}\",\n",
    ")\n",
    "\n",
    "t = 1.0\n",
    "U = 8.0\n",
    "if N_f == int(Lx*Ly-2) or N_f == int(Lx*Ly-8):\n",
    "    mu = 0.0 if symmetry == 'U1' else (U*N_f/(2*N)-2.42)#(U*N_f/(2*N)-2.3)\n",
    "elif N_f == int(Lx*Ly):\n",
    "    mu = 0.0 if symmetry == 'U1' else (U/2)\n",
    "elif N_f == int(Lx*Ly-4):\n",
    "    mu = 0.0 if symmetry == 'U1' else (U/2)-U*0.3\n",
    "else:\n",
    "    mu = 0.0\n",
    "\n",
    "print(mu)\n",
    "\n",
    "terms = {\n",
    "    (sitea, siteb): sr.fermi_hubbard_local_array(\n",
    "        t=t, U=U, mu=mu,\n",
    "        symmetry=symmetry,\n",
    "        coordinations=(\n",
    "            site_info[sitea]['coordination'],\n",
    "            site_info[siteb]['coordination'],\n",
    "        ),\n",
    "    )\n",
    "    for (sitea, siteb) in peps.gen_bond_coos()\n",
    "}\n",
    "N_terms = {\n",
    "    site: sr.fermi_number_operator_spinful_local_array(\n",
    "        symmetry=symmetry\n",
    "    )\n",
    "    for site in peps.gen_site_coos()\n",
    "}\n",
    "occ_fn = lambda su: print(f'N per site:{su.get_state().compute_local_expectation(N_terms, normalized=True, max_bond=64,)/N}') if su.n%50==0 else None\n",
    "\n",
    "ham = qtn.LocalHam2D(Lx, Ly, terms)\n",
    "\n",
    "su = qtn.SimpleUpdateGen(peps, ham, compute_energy_per_site=True,D=D, compute_energy_opts={\"max_distance\":1}, gate_opts={'cutoff':1e-12}, callback=occ_fn)\n",
    "\n",
    "# cluster energies may not be accuracte yet\n",
    "su.evolve(50, tau=0.3)\n",
    "# su.evolve(50, tau=0.1)\n",
    "# su.evolve(50, tau=0.03)\n",
    "# # su.evolve(50, tau=0.01)\n",
    "# # su.evolve(50, tau=0.003)\n",
    "\n",
    "peps = su.get_state()\n",
    "peps.equalize_norms_(value=1)\n",
    "\n",
    "# save the state\n",
    "params, skeleton = qtn.pack(peps)\n"
   ]
  },
  {
   "cell_type": "code",
   "execution_count": null,
   "metadata": {},
   "outputs": [],
   "source": [
    "\n",
    "u1array = peps.arrays[0]\n",
    "u1indices = u1array.indices\n",
    "u1charge = u1array.charge\n",
    "u1blocks = u1array.blocks\n",
    "u1oddpos = u1array.oddpos\n",
    "# u1array.to_dense()\n",
    "# sr.Z2FermionicArray.from_dense(u1array.to_dense())\n",
    "u1duals = u1array.duals\n",
    "# ar.shape(u1array.to_dense())\n",
    "u1array.to_dense()[3][2][0], u1blocks\n",
    "def u1ind_to_z2indmap(u1indices):\n",
    "    index_maps = []\n",
    "    for blockind in u1indices:\n",
    "        index_map = {}\n",
    "        indicator = 0 #max value=blocind.size_total-1\n",
    "        for c, dim in blockind.chargemap.items():\n",
    "            for i in range(indicator, indicator+dim):\n",
    "                index_map[i]=int(c%2)\n",
    "            indicator+=dim\n",
    "        index_maps.append(index_map)\n",
    "    return index_maps\n",
    "# index_map1={0:1,1:0,2:0,3:1}\n",
    "# index_map2={0:1,1:0,2:0,3:1}\n",
    "# index_map3={0:0,1:1,2:1,3:0}\n",
    "\n",
    "# index_maps = [index_map1, index_map2, index_map3]\n",
    "index_maps = u1ind_to_z2indmap(u1indices)\n",
    "\n",
    "z2array=sr.Z2FermionicArray.from_dense(u1array.to_dense(), index_maps=index_maps, duals=u1duals, charge=u1charge, oddpos=u1oddpos)\n",
    "def u1arr_to_z2arr(u1array):\n",
    "    \"\"\"\n",
    "    Convert a FermionicArray with U1 symmetry to a FermionicArray with Z2 symmetry\n",
    "    \"\"\"\n",
    "    u1indices = u1array.indices\n",
    "    u1charge = u1array.charge\n",
    "    u1oddpos = u1array.oddpos\n",
    "    u1duals = u1array.duals\n",
    "    index_maps = u1ind_to_z2indmap(u1indices)\n",
    "    z2array=sr.Z2FermionicArray.from_dense(u1array.to_dense(), index_maps=index_maps, duals=u1duals, charge=u1charge%2, oddpos=u1oddpos)\n",
    "    return z2array\n",
    "\n",
    "def u1peps_to_z2peps(peps):\n",
    "    \"\"\"\n",
    "    Convert a PEPS with U1 symmetry to a PEPS with Z2 symmetry\n",
    "    \"\"\"\n",
    "    pepsu1 = peps.copy()\n",
    "    for ts in pepsu1.tensors:\n",
    "        ts.modify(data=u1arr_to_z2arr(ts.data))\n",
    "    return pepsu1.copy()\n",
    "\n",
    "z2array = u1arr_to_z2arr(u1array)\n",
    "peps = su.get_state()\n",
    "for ts in peps.tensors:\n",
    "    ts.modify(data=u1arr_to_z2arr(ts.data))\n",
    "pepsu1 = su.get_state()\n",
    "pepsz2 = peps.copy()\n",
    "\n",
    "\n"
   ]
  },
  {
   "cell_type": "code",
   "execution_count": 145,
   "metadata": {},
   "outputs": [
    {
     "data": {
      "text/plain": [
       "(1.6823871013676544e-07, np.float64(1.682387101367663e-07), <U1>, <Z2>)"
      ]
     },
     "execution_count": 145,
     "metadata": {},
     "output_type": "execute_result"
    }
   ],
   "source": [
    "from vmc_torch.hamiltonian import spinful_Fermi_Hubbard_square_lattice\n",
    "import numpy as np\n",
    "H = spinful_Fermi_Hubbard_square_lattice(Lx, Ly, t, U, N_f, pbc=False, n_fermions_per_spin=n_fermions_per_spin)\n",
    "random_config = H.hilbert.random_state(np.random.randint(2**32-1))\n",
    "# random_config = torch.tensor(random_config, dtype=dtype)\n",
    "ampu1 = pepsu1.get_amp(random_config)\n",
    "ampz2 = pepsz2.get_amp(random_config)\n",
    "ampu1.contract(), ampz2.contract(), pepsu1.symmetry, pepsz2.symmetry"
   ]
  },
  {
   "cell_type": "code",
   "execution_count": 149,
   "metadata": {},
   "outputs": [
    {
     "data": {
      "text/plain": [
       "np.float64(0.8749999093994322)"
      ]
     },
     "execution_count": 149,
     "metadata": {},
     "output_type": "execute_result"
    }
   ],
   "source": [
    "N_terms = {\n",
    "    site: sr.fermi_number_operator_spinful_local_array(\n",
    "        symmetry='Z2'\n",
    "    )\n",
    "    for site in peps.gen_site_coos()\n",
    "}\n",
    "pepsz2.compute_local_expectation(N_terms, normalized=True, max_bond=64,)/N"
   ]
  },
  {
   "cell_type": "code",
   "execution_count": 150,
   "metadata": {},
   "outputs": [
    {
     "data": {
      "text/plain": [
       "np.float64(0.8749999093994323)"
      ]
     },
     "execution_count": 150,
     "metadata": {},
     "output_type": "execute_result"
    }
   ],
   "source": [
    "N_terms = {\n",
    "    site: sr.fermi_number_operator_spinful_local_array(\n",
    "        symmetry='U1'\n",
    "    )\n",
    "    for site in peps.gen_site_coos()\n",
    "}\n",
    "pepsu1.compute_local_expectation(N_terms, normalized=True, max_bond=64,)/N"
   ]
  }
 ],
 "metadata": {
  "kernelspec": {
   "display_name": "vmc_torch",
   "language": "python",
   "name": "python3"
  },
  "language_info": {
   "codemirror_mode": {
    "name": "ipython",
    "version": 3
   },
   "file_extension": ".py",
   "mimetype": "text/x-python",
   "name": "python",
   "nbconvert_exporter": "python",
   "pygments_lexer": "ipython3",
   "version": "3.9.20"
  }
 },
 "nbformat": 4,
 "nbformat_minor": 2
}
