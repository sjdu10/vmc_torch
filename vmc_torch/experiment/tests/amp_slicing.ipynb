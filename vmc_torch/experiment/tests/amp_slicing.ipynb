{
 "cells": [
  {
   "cell_type": "code",
   "execution_count": 1,
   "metadata": {},
   "outputs": [
    {
     "name": "stderr",
     "output_type": "stream",
     "text": [
      "/home/sijingdu/anaconda3/envs/vmc_torch/lib/python3.9/site-packages/cotengra/hyperoptimizers/hyper.py:33: UserWarning: Couldn't import `kahypar` - skipping from default hyper optimizer and using basic `labels` method instead.\n",
      "  warnings.warn(\n"
     ]
    }
   ],
   "source": [
    "from vmc_torch.fermion_utils import *\n",
    "import symmray as sr\n",
    "import quimb.tensor as qtn\n",
    "import numpy as np"
   ]
  },
  {
   "cell_type": "code",
   "execution_count": 2,
   "metadata": {},
   "outputs": [
    {
     "data": {
      "text/plain": [
       "{(0,\n",
       "  0,\n",
       "  0): array([[[-0.01680116, -0.85304393],\n",
       "         [ 0.87939797,  0.77779194]],\n",
       " \n",
       "        [[ 0.0660307 ,  1.12724121],\n",
       "         [ 0.46750934, -0.85929246]]]),\n",
       " (0,\n",
       "  1,\n",
       "  1): array([[[ 0.36875078, -0.9588826 ],\n",
       "         [ 0.8784503 , -0.04992591]],\n",
       " \n",
       "        [[-0.18486236, -0.68092954],\n",
       "         [ 1.22254134, -0.15452948]]]),\n",
       " (1,\n",
       "  0,\n",
       "  1): array([[[-0.42832782, -0.35213355],\n",
       "         [ 0.53230919,  0.36544406]],\n",
       " \n",
       "        [[ 0.41273261,  0.430821  ],\n",
       "         [ 2.1416476 , -0.40641502]]]),\n",
       " (1,\n",
       "  1,\n",
       "  0): array([[[-0.51224273, -0.81377273],\n",
       "         [ 0.61597942,  1.12897229]],\n",
       " \n",
       "        [[-0.11394746, -0.84015648],\n",
       "         [-0.82448122,  0.65059279]]])}"
      ]
     },
     "execution_count": 2,
     "metadata": {},
     "output_type": "execute_result"
    }
   ],
   "source": [
    "random_mps = generate_random_fmps(4, 4, Nf=4, seed=42)[0]\n",
    "random_mps_1 = random_mps.copy()\n",
    "config = [1,1,1,1]\n",
    "\n",
    "tid = list(random_mps.ind_map['k1'])[0]\n",
    "fts = random_mps[tid]\n",
    "ftsdata = random_mps[tid].data\n",
    "phys_ind_order = fts.inds.index('k1')\n",
    "input_charge = 1\n",
    "input_vec = np.array([1,0])\n",
    "charge_sec_data_dict = ftsdata.blocks\n",
    "# \"\"\"charge_sec_data_dict = {(0,\n",
    "#   0): array([[ 0.30471708, -1.03998411],\n",
    "#         [ 0.7504512 ,  0.94056472]]),\n",
    "#  (1,\n",
    "#   1): array([[-1.95103519, -1.30217951],\n",
    "#         [ 0.1278404 , -0.31624259]])}\"\"\"\n",
    "new_fts_inds = fts.inds[:phys_ind_order] + fts.inds[phys_ind_order+1:]\n",
    "ftsdata.blocks"
   ]
  },
  {
   "cell_type": "code",
   "execution_count": 3,
   "metadata": {},
   "outputs": [
    {
     "name": "stdout",
     "output_type": "stream",
     "text": [
      "(2, 2, 2)\n",
      "[[ 0.36875078  0.8784503 ]\n",
      " [-0.18486236  1.22254134]]\n",
      "(2, 2, 2)\n",
      "[[-0.42832782  0.53230919]\n",
      " [ 0.41273261  2.1416476 ]]\n"
     ]
    }
   ],
   "source": [
    "for charge_blk, data in charge_sec_data_dict.items():\n",
    "    if charge_blk[phys_ind_order] == input_charge:\n",
    "        print(data.shape)\n",
    "        print(data @ input_vec)\n",
    "        new_data = data @ input_vec\n",
    "        # remove the charge_blk[phys_ind_order]\n",
    "        new_charge_blk = charge_blk[:phys_ind_order] + charge_blk[phys_ind_order+1:]\n",
    "\n",
    "new_duals = ftsdata.duals[:phys_ind_order] + ftsdata.duals[phys_ind_order+1:]\n",
    "new_indinces = ftsdata.indices[:phys_ind_order] + ftsdata.indices[phys_ind_order+1:]\n",
    "new_oddpos = (3*tid+1)*(-1)\n",
    "new_charge = 1\n",
    "new_charge_blk, new_data\n",
    "\n",
    "new_charge_sec_data_dict = {new_charge_blk: new_data}\n",
    "new_fts_data = sr.Z2FermionicArray.from_blocks(new_charge_sec_data_dict, duals = new_duals, charge=new_charge, oddpos=new_oddpos, symmetry=ftsdata.symmetry)"
   ]
  },
  {
   "cell_type": "code",
   "execution_count": 15,
   "metadata": {},
   "outputs": [
    {
     "name": "stdout",
     "output_type": "stream",
     "text": [
      "1751.9922062562068\n"
     ]
    },
    {
     "data": {
      "text/plain": [
       "(BlockIndex(chargemap={1: 3}, dual=True),)"
      ]
     },
     "execution_count": 15,
     "metadata": {},
     "output_type": "execute_result"
    }
   ],
   "source": [
    "import pyinstrument\n",
    "L=20\n",
    "random_mps = generate_random_fmps(L, 6, Nf=L, seed=20)[0]\n",
    "config = np.ones(L)\n",
    "# config = np.array([1,1,1,1])\n",
    "random_mps_1 = random_mps.copy()\n",
    "charge_map = {0:0,1:1,2:1,3:0}\n",
    "input_vec_map = {0:np.array([1,0]), 1:np.array([1,0]), 2:np.array([0,1]), 3:np.array([0,1])}\n",
    "with pyinstrument.Profiler() as p:\n",
    "    for n, site in zip(config, random_mps.sites):\n",
    "        p_ind = random_mps.site_ind_id.format(site)\n",
    "        tid = random_mps.sites.index(site)\n",
    "        fts = random_mps[tid]\n",
    "        ftsdata = random_mps[tid].data\n",
    "        phys_ind_order = fts.inds.index(p_ind)\n",
    "        charge = charge_map[n]\n",
    "        input_vec = input_vec_map[n]\n",
    "        charge_sec_data_dict = ftsdata.blocks\n",
    "        new_fts_inds = fts.inds[:phys_ind_order] + fts.inds[phys_ind_order+1:]\n",
    "        new_charge_sec_data_dict = {}\n",
    "        for charge_blk, data in charge_sec_data_dict.items():\n",
    "            if charge_blk[phys_ind_order] == charge:\n",
    "                new_data = data @ input_vec\n",
    "                new_charge_blk = charge_blk[:phys_ind_order] + charge_blk[phys_ind_order+1:]\n",
    "                new_charge_sec_data_dict[new_charge_blk]=new_data\n",
    "                \n",
    "        new_duals = ftsdata.duals[:phys_ind_order] + ftsdata.duals[phys_ind_order+1:]\n",
    "\n",
    "        if int(n) == 1:\n",
    "            oddpos = (3*tid+1)*(-1)\n",
    "        elif int(n) == 2:\n",
    "            oddpos = (3*tid+2)*(-1)\n",
    "        elif int(n) == 3 or int(n) == 0:\n",
    "            oddpos = None\n",
    "        # print(ftsdata.oddpos)\n",
    "        \n",
    "        new_fts_data = (-1)**(int(n)//3)*sr.Z2FermionicArray.from_blocks(new_charge_sec_data_dict, duals = new_duals, charge=charge, oddpos=oddpos, symmetry=ftsdata.symmetry)\n",
    "        # if int(n) == 3:\n",
    "        #     new_fts_data.apply_to_arrays(lambda x: -x)\n",
    "        fts.modify(data=new_fts_data, inds=new_fts_inds, left_inds=None)\n",
    "\n",
    "\n",
    "    amp1 = qtn.MatrixProductState(random_mps)\n",
    "    print(amp1.contract())\n",
    "\n",
    "# print(new_fts_data.indices, ftsdata.indices)\n",
    "# p.print()\n",
    "\n",
    "with pyinstrument.Profiler() as p:\n",
    "    amp = random_mps_1.get_amp(config)\n",
    "    # print(amp.contract())\n",
    "# p.print()\n",
    "amp.tensors[-1].data.indices"
   ]
  },
  {
   "cell_type": "code",
   "execution_count": 43,
   "metadata": {},
   "outputs": [
    {
     "name": "stdout",
     "output_type": "stream",
     "text": [
      "1751.9922062562068\n",
      "\n",
      "  _     ._   __/__   _ _  _  _ _/_   Recorded: 02:47:39  Samples:  17\n",
      " /_//_/// /_\\ / //_// / //_'/ //     Duration: 0.018     CPU time: 0.018\n",
      "/   _/                      v4.7.3\n",
      "\n",
      "Profile at /tmp/ipykernel_4810/597359715.py:1\n",
      "\n",
      "0.017 <module>  ../../../../../tmp/ipykernel_4810/597359715.py:1\n",
      "├─ 0.011 fMPS.get_amp  vmc_torch/fermion_utils.py:476\n",
      "│  ├─ 0.010 TensorNetwork.contract  quimb/tensor/tensor_core.py:8438\n",
      "│  │  └─ 0.010 TensorNetwork.contract_tags  quimb/tensor/tensor_core.py:8328\n",
      "│  │     └─ 0.010 wrapper  functools.py:883\n",
      "│  │           [2 frames hidden]  functools, weakref\n",
      "│  │              0.009 tensor_contract  quimb/tensor/tensor_core.py:207\n",
      "│  │              ├─ 0.008 array_contract  quimb/tensor/contraction.py:273\n",
      "│  │              │  └─ 0.008 array_contract  cotengra/interface.py:735\n",
      "│  │              │        [7 frames hidden]  cotengra\n",
      "│  │              │           0.006 wrapper  functools.py:883\n",
      "│  │              │           └─ 0.006 tensordot_fermionic  symmray/fermionic_core.py:762\n",
      "│  │              │              └─ 0.006 tensordot_abelian  symmray/abelian_core.py:2347\n",
      "│  │              │                 └─ 0.006 _tensordot_via_fused  symmray/abelian_core.py:2289\n",
      "│  │              │                    ├─ 0.003 Z2FermionicArray.fuse  symmray/abelian_core.py:1775\n",
      "│  │              │                    │  └─ 0.003 Z2FermionicArray._fuse_core  symmray/abelian_core.py:1663\n",
      "│  │              │                    │     ├─ 0.002 Z2FermionicArray.cached_fuse_block_info  symmray/abelian_core.py:821\n",
      "│  │              │                    │     │  ├─ 0.001 [self]  symmray/abelian_core.py\n",
      "│  │              │                    │     │  └─ 0.001 <genexpr>  symmray/abelian_core.py:834\n",
      "│  │              │                    │     └─ 0.001 <dictcomp>  symmray/abelian_core.py:1765\n",
      "│  │              │                    │        └─ 0.001 _recurse_concat  symmray/abelian_core.py:1716\n",
      "│  │              │                    ├─ 0.001 Z2FermionicArray.unfuse  symmray/abelian_core.py:1828\n",
      "│  │              │                    ├─ 0.001 _tensordot_blockwise  symmray/abelian_core.py:2137\n",
      "│  │              │                    │  └─ 0.001 <genexpr>  symmray/abelian_core.py:2194\n",
      "│  │              │                    │     └─ 0.001 tensordot  numpy/core/numeric.py:932\n",
      "│  │              │                    │           [1 frames hidden]  <built-in>\n",
      "│  │              │                    └─ 0.001 Z2FermionicArray.drop_missing_blocks  symmray/abelian_core.py:1091\n",
      "│  │              │                       └─ 0.001 all  numpy/core/fromnumeric.py:2421\n",
      "│  │              │                             [2 frames hidden]  numpy\n",
      "│  │              └─ 0.001 oset_union  quimb/tensor/tensor_core.py:115\n",
      "│  │                 └─ 0.001 oset.__init__  quimb/utils.py:338\n",
      "│  └─ 0.001 TensorNetwork.conj  quimb/tensor/tensor_core.py:4263\n",
      "│     └─ 0.001 Tensor.conj  quimb/tensor/tensor_core.py:1912\n",
      "│        └─ 0.001 Tensor.modify  quimb/tensor/tensor_core.py:1549\n",
      "│           └─ 0.001 Tensor._apply_function  quimb/tensor/tensor_core.py:1546\n",
      "│              └─ 0.001 conj  autoray/autoray.py:1049\n",
      "│                    [0 frames hidden]  \n",
      "│                       0.001 do  autoray/autoray.py:30\n",
      "│                       └─ 0.001 conj  symmray/interface.py:8\n",
      "│                          └─ 0.001 FermionicArray.conj  symmray/fermionic_core.py:451\n",
      "└─ 0.006 MatrixProductState.contract  quimb/tensor/tensor_core.py:8438\n",
      "   └─ 0.006 MatrixProductState.contract_structured  quimb/tensor/tensor_1d.py:510\n",
      "      └─ 0.006 MatrixProductState.contract_cumulative  quimb/tensor/tensor_core.py:8552\n",
      "         └─ 0.006 MatrixProductState.contract_tags  quimb/tensor/tensor_core.py:8328\n",
      "            ├─ 0.005 wrapper  functools.py:883\n",
      "            │  └─ 0.005 tensor_contract  quimb/tensor/tensor_core.py:207\n",
      "            │     └─ 0.005 array_contract  quimb/tensor/contraction.py:273\n",
      "            │        └─ 0.005 array_contract  cotengra/interface.py:735\n",
      "            │              [1 frames hidden]  cotengra\n",
      "            │                 0.005 wrapper  functools.py:883\n",
      "            │                 └─ 0.005 tensordot_fermionic  symmray/fermionic_core.py:762\n",
      "            │                    ├─ 0.004 tensordot_abelian  symmray/abelian_core.py:2347\n",
      "            │                    │  └─ 0.004 _tensordot_via_fused  symmray/abelian_core.py:2289\n",
      "            │                    │     ├─ 0.003 _tensordot_blockwise  symmray/abelian_core.py:2137\n",
      "            │                    │     │  └─ 0.003 <genexpr>  symmray/abelian_core.py:2194\n",
      "            │                    │     │     ├─ 0.002 tensordot  numpy/core/numeric.py:932\n",
      "            │                    │     │     └─ 0.001 [self]  symmray/abelian_core.py\n",
      "            │                    │     └─ 0.001 [self]  symmray/abelian_core.py\n",
      "            │                    └─ 0.001 Z2FermionicArray.transpose  symmray/fermionic_core.py:261\n",
      "            │                       └─ 0.001 Z2FermionicArray.transpose  symmray/abelian_core.py:1518\n",
      "            │                          └─ 0.001 <dictcomp>  symmray/abelian_core.py:1530\n",
      "            │                             └─ 0.001 permuted  symmray/abelian_core.py:356\n",
      "            └─ 0.001 MatrixProductState.partition_tensors  quimb/tensor/tensor_core.py:5087\n",
      "               └─ 0.001 MatrixProductState._get_tids_from_tags  quimb/tensor/tensor_arbgeom.py:603\n",
      "                  └─ 0.001 MatrixProductState._get_tids_from_tags  quimb/tensor/tensor_core.py:4664\n",
      "\n",
      "\n"
     ]
    }
   ],
   "source": [
    "with pyinstrument.Profiler() as p:\n",
    "    amp = random_mps_1.get_amp(config, efficient=False)\n",
    "    print(amp.contract())\n",
    "\n",
    "p.print()"
   ]
  },
  {
   "cell_type": "code",
   "execution_count": 47,
   "metadata": {},
   "outputs": [
    {
     "name": "stdout",
     "output_type": "stream",
     "text": [
      "1751.9922062562068\n",
      "\n",
      "  _     ._   __/__   _ _  _  _ _/_   Recorded: 02:47:42  Samples:  7\n",
      " /_//_/// /_\\ / //_// / //_'/ //     Duration: 0.008     CPU time: 0.008\n",
      "/   _/                      v4.7.3\n",
      "\n",
      "Profile at /tmp/ipykernel_4810/1071023817.py:1\n",
      "\n",
      "0.007 <module>  ../../../../../tmp/ipykernel_4810/1071023817.py:1\n",
      "├─ 0.006 MatrixProductState.contract  quimb/tensor/tensor_core.py:8438\n",
      "│  └─ 0.006 MatrixProductState.contract_structured  quimb/tensor/tensor_1d.py:510\n",
      "│     └─ 0.006 MatrixProductState.contract_cumulative  quimb/tensor/tensor_core.py:8552\n",
      "│        └─ 0.006 MatrixProductState.contract_tags  quimb/tensor/tensor_core.py:8328\n",
      "│           └─ 0.006 wrapper  functools.py:883\n",
      "│              └─ 0.006 tensor_contract  quimb/tensor/tensor_core.py:207\n",
      "│                 └─ 0.006 array_contract  quimb/tensor/contraction.py:273\n",
      "│                    └─ 0.006 array_contract  cotengra/interface.py:735\n",
      "│                          [2 frames hidden]  cotengra, autoray\n",
      "│                             0.004 wrapper  functools.py:883\n",
      "│                             └─ 0.004 tensordot_fermionic  symmray/fermionic_core.py:762\n",
      "│                                ├─ 0.002 tensordot_abelian  symmray/abelian_core.py:2347\n",
      "│                                │  └─ 0.002 _tensordot_via_fused  symmray/abelian_core.py:2289\n",
      "│                                │     ├─ 0.001 _tensordot_blockwise  symmray/abelian_core.py:2137\n",
      "│                                │     │  └─ 0.001 <genexpr>  symmray/abelian_core.py:2194\n",
      "│                                │     │     └─ 0.001 tensordot  numpy/core/numeric.py:932\n",
      "│                                │     └─ 0.001 Z2FermionicArray.fuse  symmray/abelian_core.py:1775\n",
      "│                                │        └─ 0.001 Z2FermionicArray._fuse_core  symmray/abelian_core.py:1663\n",
      "│                                │           └─ 0.001 Z2FermionicArray.cached_fuse_block_info  symmray/abelian_core.py:821\n",
      "│                                │              └─ 0.001 hasher  symmray/abelian_core.py:21\n",
      "│                                │                 └─ 0.001 HASH.hexdigest  <built-in>\n",
      "│                                ├─ 0.001 Z2FermionicArray.transpose  symmray/fermionic_core.py:261\n",
      "│                                │  └─ 0.001 Z2FermionicArray.transpose  symmray/abelian_core.py:1518\n",
      "│                                │     └─ 0.001 permuted  symmray/abelian_core.py:356\n",
      "│                                └─ 0.001 resolve_combined_oddpos  symmray/fermionic_core.py:46\n",
      "│                                   └─ 0.001 FermionicOperator.__lt__  symmray/fermionic_local_operators.py:36\n",
      "│                             0.002 import_lib_fn  autoray/autoray.py:455\n",
      "└─ 0.001 fMPS.get_amp_efficient  vmc_torch/fermion_utils.py:547\n",
      "   └─ 0.001 fMPS.__getitem__  quimb/tensor/tensor_core.py:5038\n",
      "      └─ 0.001 fMPS.select_tensors  quimb/tensor/tensor_core.py:4729\n",
      "         └─ 0.001 fMPS._get_tids_from_tags  quimb/tensor/tensor_arbgeom.py:603\n",
      "            └─ 0.001 fMPS._get_tids_from_tags  quimb/tensor/tensor_core.py:4664\n",
      "\n",
      "\n"
     ]
    }
   ],
   "source": [
    "with pyinstrument.Profiler() as p:\n",
    "    amp = random_mps_1.get_amp_efficient(config)\n",
    "    print(amp.contract())\n",
    "\n",
    "p.print()"
   ]
  },
  {
   "cell_type": "code",
   "execution_count": 6,
   "metadata": {},
   "outputs": [
    {
     "name": "stdout",
     "output_type": "stream",
     "text": [
      "(BlockIndex(chargemap={1: 3}, dual=False),) {(1,): array([-0.9141207 , -0.99843127, -0.05629192])}\n",
      "(BlockIndex(chargemap={0: 3, 1: 3}, dual=True), BlockIndex(chargemap={0: 3, 1: 3}, dual=False)) {(0, 1): array([[-0.23527948,  0.17052219,  0.64643563],\n",
      "       [ 0.43659917, -0.61343336,  0.47600246],\n",
      "       [ 0.6501621 , -0.42597679, -0.48352906]]), (1, 0): array([[-1.74428461,  0.59557528,  0.16914278],\n",
      "       [ 0.52018694,  1.29351947, -1.63057243],\n",
      "       [ 1.8142719 ,  0.99733253, -2.4650048 ]])}\n",
      "(BlockIndex(chargemap={0: 3, 1: 3}, dual=True), BlockIndex(chargemap={0: 3, 1: 3}, dual=False)) {(0, 1): array([[ 0.49015258, -2.36840306, -0.32175781],\n",
      "       [ 1.68781126,  0.46888332, -0.71654015],\n",
      "       [ 0.79306274, -1.65147665,  0.4393643 ]]), (1, 0): array([[-0.0916904 , -0.06519452, -1.93173922],\n",
      "       [ 0.80764047,  0.10247752, -0.44591067],\n",
      "       [ 1.6304031 ,  0.13477257,  0.45542962]])}\n",
      "(BlockIndex(chargemap={1: 3}, dual=True),) {(1,): array([-0.1884522 , -0.15451561, -0.80172102])}\n"
     ]
    }
   ],
   "source": [
    "for ts in amp1.tensors:\n",
    "    print(ts.data.indices, ts.data.blocks)"
   ]
  },
  {
   "cell_type": "code",
   "execution_count": 7,
   "metadata": {},
   "outputs": [
    {
     "name": "stdout",
     "output_type": "stream",
     "text": [
      "(BlockIndex(chargemap={1: 3}, dual=False),) {(1,): array([-0.9141207 , -0.99843127, -0.05629192])}\n",
      "(BlockIndex(chargemap={0: 3, 1: 3}, dual=True), BlockIndex(chargemap={0: 3, 1: 3}, dual=False)) {(0, 1): array([[-0.23527948,  0.17052219,  0.64643563],\n",
      "       [ 0.43659917, -0.61343336,  0.47600246],\n",
      "       [ 0.6501621 , -0.42597679, -0.48352906]]), (1, 0): array([[-1.74428461,  0.59557528,  0.16914278],\n",
      "       [ 0.52018694,  1.29351947, -1.63057243],\n",
      "       [ 1.8142719 ,  0.99733253, -2.4650048 ]])}\n",
      "(BlockIndex(chargemap={0: 3, 1: 3}, dual=True), BlockIndex(chargemap={0: 3, 1: 3}, dual=False)) {(0, 1): array([[ 0.49015258, -2.36840306, -0.32175781],\n",
      "       [ 1.68781126,  0.46888332, -0.71654015],\n",
      "       [ 0.79306274, -1.65147665,  0.4393643 ]]), (1, 0): array([[-0.0916904 , -0.06519452, -1.93173922],\n",
      "       [ 0.80764047,  0.10247752, -0.44591067],\n",
      "       [ 1.6304031 ,  0.13477257,  0.45542962]])}\n",
      "(BlockIndex(chargemap={1: 3}, dual=True),) {(1,): array([-0.1884522 , -0.15451561, -0.80172102])}\n"
     ]
    }
   ],
   "source": [
    "for ts in amp2.tensors:\n",
    "    print(ts.data.indices, ts.data.blocks)"
   ]
  },
  {
   "cell_type": "code",
   "execution_count": 8,
   "metadata": {},
   "outputs": [
    {
     "data": {
      "text/plain": [
       "(Z2FermionicArray(shape~(3,):[+], charge=1, num_blocks=1),\n",
       " Z2FermionicArray(shape~(3,):[+], charge=1, num_blocks=1))"
      ]
     },
     "execution_count": 8,
     "metadata": {},
     "output_type": "execute_result"
    }
   ],
   "source": [
    "amp1.tensors[0].data, amp2.tensors[0].data"
   ]
  },
  {
   "cell_type": "code",
   "execution_count": null,
   "metadata": {},
   "outputs": [
    {
     "name": "stdout",
     "output_type": "stream",
     "text": [
      "1751.9922062562068\n",
      "\n",
      "  _     ._   __/__   _ _  _  _ _/_   Recorded: 00:41:57  Samples:  17\n",
      " /_//_/// /_\\ / //_// / //_'/ //     Duration: 0.018     CPU time: 0.019\n",
      "/   _/                      v4.7.3\n",
      "\n",
      "Profile at /tmp/ipykernel_3051/775229312.py:1\n",
      "\n",
      "0.017 <module>  ../../../../../tmp/ipykernel_3051/775229312.py:1\n",
      "├─ 0.011 fMPS.get_amp  vmc_torch/fermion_utils.py:474\n",
      "│  ├─ 0.010 TensorNetwork.contract  quimb/tensor/tensor_core.py:8438\n",
      "│  │  └─ 0.010 TensorNetwork.contract_tags  quimb/tensor/tensor_core.py:8328\n",
      "│  │     └─ 0.010 wrapper  functools.py:883\n",
      "│  │        └─ 0.010 tensor_contract  quimb/tensor/tensor_core.py:207\n",
      "│  │           ├─ 0.008 array_contract  quimb/tensor/contraction.py:273\n",
      "│  │           │  └─ 0.008 array_contract  cotengra/interface.py:735\n",
      "│  │           │        [1 frames hidden]  cotengra\n",
      "│  │           │           0.008 wrapper  functools.py:883\n",
      "│  │           │           └─ 0.008 tensordot_fermionic  symmray/fermionic_core.py:762\n",
      "│  │           │              └─ 0.008 tensordot_abelian  symmray/abelian_core.py:2347\n",
      "│  │           │                 └─ 0.008 _tensordot_via_fused  symmray/abelian_core.py:2289\n",
      "│  │           │                    ├─ 0.004 Z2FermionicArray.fuse  symmray/abelian_core.py:1775\n",
      "│  │           │                    │  └─ 0.004 Z2FermionicArray._fuse_core  symmray/abelian_core.py:1663\n",
      "│  │           │                    │     ├─ 0.003 <dictcomp>  symmray/abelian_core.py:1765\n",
      "│  │           │                    │     │  └─ 0.003 _recurse_concat  symmray/abelian_core.py:1716\n",
      "│  │           │                    │     │     ├─ 0.002 [self]  symmray/abelian_core.py\n",
      "│  │           │                    │     │     └─ 0.001 <genexpr>  symmray/abelian_core.py:1758\n",
      "│  │           │                    │     │        └─ 0.001 _recurse_concat  symmray/abelian_core.py:1716\n",
      "│  │           │                    │     └─ 0.001 FermionicArray.cached_fuse_block_info  symmray/abelian_core.py:821\n",
      "│  │           │                    │        └─ 0.001 hasher  symmray/abelian_core.py:21\n",
      "│  │           │                    │           └─ 0.001 dumps  <built-in>\n",
      "│  │           │                    ├─ 0.002 Z2FermionicArray.drop_missing_blocks  symmray/abelian_core.py:1091\n",
      "│  │           │                    │  ├─ 0.001 [self]  symmray/abelian_core.py\n",
      "│  │           │                    │  └─ 0.001 all  numpy/core/fromnumeric.py:2421\n",
      "│  │           │                    ├─ 0.001 _tensordot_blockwise  symmray/abelian_core.py:2137\n",
      "│  │           │                    │  └─ 0.001 <genexpr>  symmray/abelian_core.py:2194\n",
      "│  │           │                    │     └─ 0.001 tensordot  numpy/core/numeric.py:932\n",
      "│  │           │                    │           [1 frames hidden]  <built-in>\n",
      "│  │           │                    └─ 0.001 Z2FermionicArray.unfuse  symmray/abelian_core.py:1828\n",
      "│  │           │                       └─ 0.001 Z2FermionicArray.modify  symmray/fermionic_core.py:212\n",
      "│  │           ├─ 0.001 <genexpr>  quimb/tensor/tensor_core.py:277\n",
      "│  │           │  └─ 0.001 Tensor.shape  quimb/tensor/tensor_core.py:1925\n",
      "│  │           │     └─ 0.001 Composed.__call__  autoray/autoray.py:921\n",
      "│  │           │           [0 frames hidden]  \n",
      "│  │           │              0.001 shape  autoray/autoray.py:970\n",
      "│  │           │              └─ 0.001 FermionicArray.shape  symmray/abelian_core.py:993\n",
      "│  │           │                 └─ 0.001 <genexpr>  symmray/abelian_core.py:996\n",
      "│  │           └─ 0.001 Tensor.__init__  quimb/tensor/tensor_core.py:1378\n",
      "│  │              └─ 0.001 Tensor._set_data  quimb/tensor/tensor_core.py:1406\n",
      "│  └─ 0.001 TensorNetwork.conj  quimb/tensor/tensor_core.py:4263\n",
      "└─ 0.006 MatrixProductState.contract  quimb/tensor/tensor_core.py:8438\n",
      "   └─ 0.006 MatrixProductState.contract_structured  quimb/tensor/tensor_1d.py:510\n",
      "      └─ 0.006 MatrixProductState.contract_cumulative  quimb/tensor/tensor_core.py:8552\n",
      "         └─ 0.006 MatrixProductState.contract_tags  quimb/tensor/tensor_core.py:8328\n",
      "            └─ 0.006 wrapper  functools.py:883\n",
      "               └─ 0.006 tensor_contract  quimb/tensor/tensor_core.py:207\n",
      "                  └─ 0.006 array_contract  quimb/tensor/contraction.py:273\n",
      "                     └─ 0.006 array_contract  cotengra/interface.py:735\n",
      "                           [1 frames hidden]  cotengra\n",
      "                              0.006 wrapper  functools.py:883\n",
      "                              └─ 0.006 tensordot_fermionic  symmray/fermionic_core.py:762\n",
      "                                 ├─ 0.004 tensordot_abelian  symmray/abelian_core.py:2347\n",
      "                                 │  └─ 0.004 _tensordot_via_fused  symmray/abelian_core.py:2289\n",
      "                                 │     ├─ 0.002 _tensordot_blockwise  symmray/abelian_core.py:2137\n",
      "                                 │     │  ├─ 0.001 <genexpr>  symmray/abelian_core.py:2194\n",
      "                                 │     │  │  └─ 0.001 tensordot  numpy/core/numeric.py:932\n",
      "                                 │     │  └─ 0.001 Z2FermionicArray.backend  symmray/block_core.py:60\n",
      "                                 │     │     └─ 0.001 Z2FermionicArray.get_any_array  symmray/block_core.py:49\n",
      "                                 │     └─ 0.002 drop_misaligned_sectors  symmray/abelian_core.py:2214\n",
      "                                 │        ├─ 0.001 [self]  symmray/abelian_core.py\n",
      "                                 │        └─ 0.001 set.discard  <built-in>\n",
      "                                 ├─ 0.001 Z2FermionicArray.transpose  symmray/fermionic_core.py:261\n",
      "                                 │  └─ 0.001 Z2FermionicArray.transpose  symmray/abelian_core.py:1518\n",
      "                                 └─ 0.001 resolve_combined_oddpos  symmray/fermionic_core.py:46\n",
      "                                    └─ 0.001 FermionicOperator.__lt__  symmray/fermionic_local_operators.py:36\n",
      "\n",
      "\n"
     ]
    }
   ],
   "source": []
  }
 ],
 "metadata": {
  "kernelspec": {
   "display_name": "vmc_torch",
   "language": "python",
   "name": "python3"
  },
  "language_info": {
   "codemirror_mode": {
    "name": "ipython",
    "version": 3
   },
   "file_extension": ".py",
   "mimetype": "text/x-python",
   "name": "python",
   "nbconvert_exporter": "python",
   "pygments_lexer": "ipython3",
   "version": "3.9.20"
  }
 },
 "nbformat": 4,
 "nbformat_minor": 2
}
