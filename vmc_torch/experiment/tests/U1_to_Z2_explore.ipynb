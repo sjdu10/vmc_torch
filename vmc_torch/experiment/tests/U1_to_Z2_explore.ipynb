{
 "cells": [
  {
   "cell_type": "code",
   "execution_count": 1,
   "metadata": {},
   "outputs": [
    {
     "name": "stderr",
     "output_type": "stream",
     "text": [
      "/home/sijingdu/anaconda3/envs/vmc_torch/lib/python3.9/site-packages/numba/np/ufunc/parallel.py:371: NumbaWarning: The TBB threading layer requires TBB version 2021 update 6 or later i.e., TBB_INTERFACE_VERSION >= 12060. Found TBB_INTERFACE_VERSION = 12050. The TBB threading layer is disabled.\n",
      "  warnings.warn(problem)\n",
      "/home/sijingdu/anaconda3/envs/vmc_torch/lib/python3.9/site-packages/cotengra/hyperoptimizers/hyper.py:33: UserWarning: Couldn't import `kahypar` - skipping from default hyper optimizer and using basic `labels` method instead.\n",
      "  warnings.warn(\n"
     ]
    }
   ],
   "source": [
    "from mpi4py import MPI\n",
    "import ast\n",
    "# torch\n",
    "import torch\n",
    "import torch.nn as nn\n",
    "\n",
    "import os\n",
    "os.environ[\"OPENBLAS_NUM_THREADS\"] = \"1\"\n",
    "os.environ[\"MKL_NUM_THREADS\"] = \"1\"\n",
    "\n",
    "# quimb\n",
    "import quimb.tensor as qtn\n",
    "import symmray as sr\n",
    "import autoray as ar\n",
    "from autoray import do\n",
    "\n",
    "from vmc_torch.fermion_utils import *"
   ]
  },
  {
   "cell_type": "markdown",
   "metadata": {},
   "source": [
    "## U1 to Z2 cannot avoid the dynamic shapes in TNS"
   ]
  },
  {
   "cell_type": "code",
   "execution_count": 2,
   "metadata": {},
   "outputs": [
    {
     "name": "stderr",
     "output_type": "stream",
     "text": [
      "100%|##########| 10/10 [00:02<00:00,  4.12it/s]/home/sijingdu/anaconda3/envs/vmc_torch/lib/python3.9/site-packages/cotengra/hyperoptimizers/hyper.py:54: UserWarning: Couldn't find `optuna`, `baytune (btb)`, `chocolate`, `nevergrad` or `skopt` so will use completely random sampling in place of hyper-optimization.\n",
      "  warnings.warn(\n",
      "n=10, tau=0.3000, energy~-0.413470: 100%|##########| 10/10 [00:03<00:00,  2.78it/s]\n"
     ]
    }
   ],
   "source": [
    "Lx = 6\n",
    "Ly = 6\n",
    "D = 4\n",
    "symmetry = 'U1'\n",
    "N_f = int(4*4/2)-2\n",
    "# Create a random PEPS\n",
    "peps, parity_config_u1 = generate_random_fpeps(Lx, Ly, D, seed=2, symmetry=symmetry, Nf=N_f)\n",
    "\n",
    "# Create a random configuration\n",
    "random_conf = np.zeros(Lx*Ly)\n",
    "random_conf[:N_f] = 1\n",
    "np.random.seed(1)\n",
    "np.random.shuffle(random_conf)\n",
    "\n",
    "t = 1.0\n",
    "V = 4.0\n",
    "mu = 0.0\n",
    "edges = qtn.edges_2d_square(Lx, Ly)\n",
    "site_info = sr.utils.parse_edges_to_site_info(\n",
    "    edges,\n",
    "    D,\n",
    "    phys_dim=2,\n",
    "    site_ind_id=\"k{},{}\",\n",
    "    site_tag_id=\"I{},{}\",\n",
    ")\n",
    "terms = {\n",
    "    (sitea, siteb): sr.fermi_hubbard_spinless_local_array(\n",
    "        t=t, V=V, mu=mu,\n",
    "        symmetry=symmetry,\n",
    "        coordinations=(\n",
    "            site_info[sitea]['coordination'],\n",
    "            site_info[siteb]['coordination'],\n",
    "        ),\n",
    "    ).fuse((0, 1), (2, 3))\n",
    "    for (sitea, siteb) in peps.gen_bond_coos()\n",
    "}\n",
    "ham = qtn.LocalHam2D(Lx, Ly, terms)\n",
    "su_u1 = qtn.SimpleUpdateGen(peps, ham, compute_energy_per_site=True,D=D, compute_energy_opts={\"max_distance\":1}, gate_opts={'cutoff':1e-10})\n",
    "su_u1.evolve(10, 0.3)\n",
    "# su_u1.evolve(50, 0.1)\n",
    "peps_U1 = su_u1.state"
   ]
  },
  {
   "cell_type": "code",
   "execution_count": 3,
   "metadata": {},
   "outputs": [
    {
     "name": "stderr",
     "output_type": "stream",
     "text": [
      "n=5, tau=0.3000, energy~-0.225428: 100%|##########| 5/5 [00:01<00:00,  3.49it/s]\n"
     ]
    }
   ],
   "source": [
    "Lx = 6\n",
    "Ly = 6\n",
    "D = 4\n",
    "symmetry = 'Z2'\n",
    "N_f = int(4*4/2)-2\n",
    "# Create a random PEPS\n",
    "peps, parity_config_z2 = generate_random_fpeps(Lx, Ly, D, seed=2, symmetry=symmetry, Nf=N_f)\n",
    "\n",
    "# Create a random configuration\n",
    "random_conf = np.zeros(Lx*Ly)\n",
    "random_conf[:N_f] = 1\n",
    "np.random.seed(1)\n",
    "np.random.shuffle(random_conf)\n",
    "\n",
    "t = 1.0\n",
    "V = 4.0\n",
    "mu = 0.0\n",
    "edges = qtn.edges_2d_square(Lx, Ly)\n",
    "site_info = sr.utils.parse_edges_to_site_info(\n",
    "    edges,\n",
    "    D,\n",
    "    phys_dim=2,\n",
    "    site_ind_id=\"k{},{}\",\n",
    "    site_tag_id=\"I{},{}\",\n",
    ")\n",
    "terms = {\n",
    "    (sitea, siteb): sr.fermi_hubbard_spinless_local_array(\n",
    "        t=t, V=V, mu=mu,\n",
    "        symmetry=symmetry,\n",
    "        coordinations=(\n",
    "            site_info[sitea]['coordination'],\n",
    "            site_info[siteb]['coordination'],\n",
    "        ),\n",
    "    ).fuse((0, 1), (2, 3))\n",
    "    for (sitea, siteb) in peps.gen_bond_coos()\n",
    "}\n",
    "ham = qtn.LocalHam2D(Lx, Ly, terms)\n",
    "su_z2 = qtn.SimpleUpdateGen(peps, ham, compute_energy_per_site=True,D=D, compute_energy_opts={\"max_distance\":1}, gate_opts={'cutoff':1e-10})\n",
    "su_z2.evolve(5, 0.3)\n",
    "# su_z2.evolve(50, 0.1)\n",
    "peps_Z2 = su_z2.state"
   ]
  },
  {
   "cell_type": "code",
   "execution_count": 4,
   "metadata": {},
   "outputs": [
    {
     "data": {
      "text/plain": [
       "(BlockIndex(chargemap={0: 2, 1: 2}, dual=True),\n",
       " BlockIndex(chargemap={0: 2, 1: 2}, dual=False),\n",
       " BlockIndex(chargemap={0: 2, 1: 2}, dual=False),\n",
       " BlockIndex(chargemap={0: 1, 1: 1}, dual=False))"
      ]
     },
     "execution_count": 4,
     "metadata": {},
     "output_type": "execute_result"
    }
   ],
   "source": [
    "peps_Z2.arrays[4].indices"
   ]
  },
  {
   "cell_type": "code",
   "execution_count": 5,
   "metadata": {},
   "outputs": [
    {
     "data": {
      "text/plain": [
       "(BlockIndex(chargemap={-1: 1, 0: 2, 1: 1}, dual=True),\n",
       " BlockIndex(chargemap={-1: 1, 0: 2, 1: 1}, dual=False),\n",
       " BlockIndex(chargemap={0: 1, 1: 1}, dual=False))"
      ]
     },
     "execution_count": 5,
     "metadata": {},
     "output_type": "execute_result"
    }
   ],
   "source": [
    "peps_U1.arrays[5].indices"
   ]
  },
  {
   "cell_type": "code",
   "execution_count": 6,
   "metadata": {},
   "outputs": [
    {
     "data": {
      "text/plain": [
       "(8-,)"
      ]
     },
     "execution_count": 6,
     "metadata": {},
     "output_type": "execute_result"
    }
   ],
   "source": [
    "peps_U1.arrays[5].oddpos + peps_U1.arrays[4].oddpos"
   ]
  },
  {
   "cell_type": "code",
   "execution_count": 7,
   "metadata": {},
   "outputs": [
    {
     "data": {
      "text/plain": [
       "(BlockIndex(chargemap={0: 6, 1: 4}, dual=True, subinfo=SubIndexInfo(indices=(BlockIndex(chargemap={-1: 1, 0: 2, 1: 1}, dual=True), BlockIndex(chargemap={-1: 1, 0: 2, 1: 1}, dual=False)), extents={0: {(-1, -1): 1, (0, 0): 4, (1, 1): 1}, 1: {(0, -1): 2, (1, 0): 2}})),\n",
       " BlockIndex(chargemap={0: 1, 1: 1}, dual=False))"
      ]
     },
     "execution_count": 7,
     "metadata": {},
     "output_type": "execute_result"
    }
   ],
   "source": [
    "from quimb.utils import oset\n",
    "test_ts = peps_U1.tensors[5]\n",
    "test_ts_arr = test_ts.data\n",
    "left_inds = oset(test_ts.inds[:2])\n",
    "right_inds = oset(test_ts.inds) - oset(left_inds)\n",
    "TT = test_ts.transpose(*left_inds, *right_inds)\n",
    "# TT.data, TT.data.indices\n",
    "left_dims = TT.shape[: len(left_inds)]\n",
    "right_dims = TT.shape[len(left_inds) :]\n",
    "TT_data_fused = TT.data.reshape((prod(left_dims), prod(right_dims)))\n",
    "TT_data_fused.indices"
   ]
  },
  {
   "cell_type": "code",
   "execution_count": 8,
   "metadata": {},
   "outputs": [
    {
     "data": {
      "text/plain": [
       "((), (((0, 1),),), ())"
      ]
     },
     "execution_count": 8,
     "metadata": {},
     "output_type": "execute_result"
    }
   ],
   "source": [
    "def calc_reshape_args(shape, newshape, subsizes, squeeze=True):\n",
    "    # tracks position in input shape\n",
    "    i = 0\n",
    "    # tracks position in output shape\n",
    "    j = 0\n",
    "    # tracks position in post-fuse / pre-expand shape\n",
    "    k = 0\n",
    "\n",
    "    ndim_old = len(shape)\n",
    "    ndim_new = len(newshape)\n",
    "\n",
    "    term = []  # dnyamically updated labelled dimensions\n",
    "    axs_squeeze = []\n",
    "    unfuse_sizes = {}\n",
    "    fuse_sizes = {}\n",
    "    axs_expand = []\n",
    "    any_singleton = False\n",
    "    any_fused = False\n",
    "\n",
    "    while i < ndim_old and j < ndim_new:\n",
    "        di = shape[i]\n",
    "        dj = newshape[j]\n",
    "\n",
    "        if subsizes[i] is not None and subsizes[i][0] == dj and j != ndim_new - 1 and subsizes[i][1] == newshape[j + 1]:\n",
    "            # unfuse, check first\n",
    "            label = f\"u{len(unfuse_sizes)}\"\n",
    "            s = 0\n",
    "            for ds in subsizes[i]:\n",
    "                dj = newshape[j]\n",
    "                if ds != dj:\n",
    "                    raise ValueError(\"Shape mismatch for unfuse.\")\n",
    "                s += 1\n",
    "                j += 1\n",
    "                k += 1\n",
    "            unfuse_sizes[label] = s\n",
    "            term.append(label)\n",
    "            i += 1\n",
    "        elif di == dj:\n",
    "            # output dimension already\n",
    "            term.append(\"o\")\n",
    "            i += 1\n",
    "            j += 1\n",
    "            k += 1\n",
    "        elif di == 1:\n",
    "            # have to handle squeezed dimensions after unfusing\n",
    "            term.append(\"s\")\n",
    "            axs_squeeze.append(i)\n",
    "            any_singleton = True\n",
    "            i += 1\n",
    "        elif dj == 1:\n",
    "            # record expansion location relative to *post* fuse shape\n",
    "            axs_expand.append(k)\n",
    "            j += 1\n",
    "        elif di < dj:\n",
    "            # need to fuse\n",
    "            label = f\"g{len(fuse_sizes)}\"\n",
    "            term.append(label)\n",
    "            s = 1\n",
    "            i += 1\n",
    "            while di < dj:\n",
    "                di *= shape[i]\n",
    "                term.append(label)\n",
    "                i += 1\n",
    "                s += 1\n",
    "            if di != dj:\n",
    "                raise ValueError(\"Shape mismatch for fuse.\")\n",
    "            fuse_sizes[label] = s\n",
    "            any_fused = True\n",
    "            j += 1\n",
    "            k += 1\n",
    "        else:\n",
    "            raise ValueError(\"Shape mismatch.\")\n",
    "\n",
    "    # check trailing dimensions, which should be size 1\n",
    "    for i in range(i, ndim_old):\n",
    "        any_singleton = True\n",
    "        term.append(\"s\")\n",
    "    for j in range(j, ndim_new):\n",
    "        axs_expand.append(k)\n",
    "\n",
    "    # first we handle unfusings\n",
    "    axs_unfuse = []\n",
    "    for label, s in unfuse_sizes.items():\n",
    "        ax = term.index(label)\n",
    "        axs_unfuse.append(ax)\n",
    "        term = term[:ax] + [\"o\"] * s + term[ax + 1 :]\n",
    "\n",
    "    # handle squeezes by converting them into fuse groups\n",
    "    if any_singleton:\n",
    "        i = 0\n",
    "        label = term[i]\n",
    "        if label == \"s\":\n",
    "            # if we have squeeze axes on left, we have to group into right\n",
    "            while label == \"s\":\n",
    "                i += 1\n",
    "                label = term[i]\n",
    "\n",
    "            if label[0] == \"g\":\n",
    "                # adjacent to existing group\n",
    "                g = label\n",
    "            elif label == \"o\":\n",
    "                # or new group\n",
    "                g = f\"g{len(fuse_sizes)}\"\n",
    "                term[i] = g\n",
    "                fuse_sizes[g] = 1\n",
    "\n",
    "            # mark all axs up to this point\n",
    "            for j in range(0, i):\n",
    "                fuse_sizes[g] += 1\n",
    "                term[j] = g\n",
    "\n",
    "        # process rest of term, now preferring grouping into left\n",
    "        i += 1\n",
    "        while i < len(term):\n",
    "            label = term[i]\n",
    "            if label == \"s\":\n",
    "                left = term[i - 1]\n",
    "                if left[0] == \"g\":\n",
    "                    g = left\n",
    "                elif left == \"o\":\n",
    "                    g = f\"g{len(fuse_sizes)}\"\n",
    "                    term[i - 1] = g\n",
    "                    fuse_sizes[g] = 1\n",
    "\n",
    "                # update any right block of squeeze axs to g\n",
    "                while label == \"s\":\n",
    "                    term[i] = g\n",
    "                    fuse_sizes[g] += 1\n",
    "                    i += 1\n",
    "                    if i == len(term):\n",
    "                        break\n",
    "                    label = term[i]\n",
    "            i += 1\n",
    "\n",
    "    # now we handle fusing\n",
    "    axs_fuse = []\n",
    "    if any_fused or any_singleton:\n",
    "        # complexity here is we want to simulteneously fuse adjacent groups for\n",
    "        # efficiency, but also need to handle non-adjacent groups\n",
    "        current_groups = []\n",
    "        i = 0\n",
    "        while i < len(term):\n",
    "            label = term[i]\n",
    "            if label not in fuse_sizes:\n",
    "                if current_groups:\n",
    "                    # start of groups\n",
    "                    i0 = i - sum(map(len, current_groups))\n",
    "                    ng = len(current_groups)\n",
    "                    term = term[:i0] + [\"o\"] * ng + term[i:]\n",
    "                    axs_fuse.append(tuple(current_groups))\n",
    "                    current_groups = []\n",
    "                    # rewind to end of new group(s)\n",
    "                    i = i0 + ng\n",
    "                else:\n",
    "                    i += 1\n",
    "                continue\n",
    "\n",
    "            s = fuse_sizes[label]\n",
    "            current_groups.append(tuple(range(i, i + s)))\n",
    "            i += s\n",
    "        if current_groups:\n",
    "            axs_fuse.append(tuple(current_groups))\n",
    "\n",
    "    # handle expansion\n",
    "    axs_expand.reverse()\n",
    "\n",
    "    return tuple(axs_unfuse), tuple(axs_fuse), tuple(axs_expand)\n",
    "calc_reshape_args((4,4,4), (16,4), (None, None, (4,4)))\n",
    "# calc_reshape_args((4,4,4), (16,4), (None, None, None))\n",
    "# calc_reshape_args((4,4,3), (16,3), ((4, 4), None, None))"
   ]
  },
  {
   "cell_type": "code",
   "execution_count": 9,
   "metadata": {},
   "outputs": [],
   "source": [
    "from symmray.abelian_core import  calc_reshape_args"
   ]
  },
  {
   "cell_type": "code",
   "execution_count": 10,
   "metadata": {},
   "outputs": [
    {
     "name": "stdout",
     "output_type": "stream",
     "text": [
      "0\n",
      "1.7040331003839164e-07\n"
     ]
    }
   ],
   "source": [
    "# Create a random configuration\n",
    "for seed in range(1):\n",
    "    random_conf = np.zeros(Lx*Ly)\n",
    "    random_conf[:N_f] = 1\n",
    "    np.random.seed(seed)\n",
    "    np.random.shuffle(random_conf)\n",
    "    print(seed)\n",
    "    amp_U1 = peps_U1.get_amp(random_conf, conj=True)\n",
    "    print(amp_U1.contract())\n",
    "    amp_U1.contract_boundary_from_ymin_(max_bond=4, yrange=(0, amp_U1.Ly//2-2),cutoff=0.0, canonize=False)#, compress_opts={'reduced':'right'})\n",
    "    amp_U1.contract_boundary_from_ymax_(max_bond=4, yrange=(amp_U1.Ly//2, amp_U1.Ly-1),cutoff=0.0, canonize=False)\n",
    "    amp_U1.contract_boundary_from_ymin_(max_bond=4, yrange=(0, amp_U1.Ly//2-1),cutoff=0.0, canonize=False)\n",
    "    # amp_U1_params = amp_U1.get_params()\n",
    "    # amp_U1.draw()\n",
    "# # shape is dynamiclly changing based on the input configuration\n",
    "# for tid, blocks in amp_U1_params.items():\n",
    "#     for blk, data in blocks.items():\n",
    "#         print(data.shape)"
   ]
  },
  {
   "cell_type": "code",
   "execution_count": 11,
   "metadata": {},
   "outputs": [
    {
     "data": {
      "image/png": "[encoded data removed]",
      "text/plain": [
       "<Figure size 600x600 with 1 Axes>"
      ]
     },
     "metadata": {
      "needs_background": "light"
     },
     "output_type": "display_data"
    }
   ],
   "source": [
    "amp_U1.draw(color=['I0,1', 'I1,1', 'I2,1', 'I3,1'])"
   ]
  },
  {
   "cell_type": "code",
   "execution_count": 12,
   "metadata": {},
   "outputs": [
    {
     "data": {
      "text/plain": [
       "(BlockIndex(chargemap={-2: 1, -1: 1, 0: 1, 1: 1}, dual=True),\n",
       " BlockIndex(chargemap={-1: 1, 0: 2, 1: 1}, dual=False),\n",
       " BlockIndex(chargemap={-1: 1, 0: 1, 1: 1, 2: 1}, dual=False))"
      ]
     },
     "execution_count": 12,
     "metadata": {},
     "output_type": "execute_result"
    }
   ],
   "source": [
    "# amp_U1.compress_between('I2,1', 'I3,1', max_bond=4, cutoff=0.0, reduced='left')\n",
    "ts = amp_U1.select(tags=['I2,1']).tensors[0]\n",
    "ts.data.indices"
   ]
  },
  {
   "cell_type": "markdown",
   "metadata": {},
   "source": [
    "## Consider dynamic output NN model - Transformer"
   ]
  },
  {
   "cell_type": "code",
   "execution_count": 13,
   "metadata": {},
   "outputs": [
    {
     "name": "stderr",
     "output_type": "stream",
     "text": [
      "/home/sijingdu/anaconda3/envs/vmc_torch/lib/python3.9/site-packages/torch/nn/modules/transformer.py:307: UserWarning: enable_nested_tensor is True, but self.use_nested_tensor is False because encoder_layer.self_attn.batch_first was not True(use batch_first for better inference performance)\n",
      "  warnings.warn(f\"enable_nested_tensor is True, but self.use_nested_tensor is False because {why_not_sparsity_fast_path}\")\n"
     ]
    }
   ],
   "source": [
    "import torch\n",
    "import torch.nn as nn\n",
    "import torch.nn.functional as F\n",
    "\n",
    "class PositionalEncoding(nn.Module):\n",
    "    def __init__(self, d_model, max_len=5000):\n",
    "        super(PositionalEncoding, self).__init__()\n",
    "        pe = torch.zeros(max_len, d_model)\n",
    "        position = torch.arange(0, max_len, dtype=torch.float).unsqueeze(1)\n",
    "        div_term = torch.exp(torch.arange(0, d_model, 2).float() * (-torch.log(torch.tensor(10000.0)) / d_model))\n",
    "        pe[:, 0::2] = torch.sin(position * div_term)\n",
    "        pe[:, 1::2] = torch.cos(position * div_term)\n",
    "        pe = pe.unsqueeze(0).transpose(0, 1)\n",
    "        self.register_buffer('pe', pe)\n",
    "\n",
    "    def forward(self, x):\n",
    "        return x + self.pe[:x.size(0), :]\n",
    "\n",
    "class TransformerModel(nn.Module):\n",
    "    def __init__(self, input_size, output_size, d_model=128, nhead=8, num_encoder_layers=6, num_decoder_layers=6, dim_feedforward=512, dropout=0.1):\n",
    "        super(TransformerModel, self).__init__()\n",
    "        \n",
    "        # Embedding layer for integer input sequence\n",
    "        self.embedding = nn.Embedding(input_size, d_model)\n",
    "        \n",
    "        # Positional encoding for fixed-length sequences\n",
    "        self.pos_encoder = PositionalEncoding(d_model)\n",
    "        \n",
    "        # Transformer layers\n",
    "        self.transformer = nn.Transformer(d_model, nhead, num_encoder_layers, num_decoder_layers, dim_feedforward, dropout)\n",
    "        \n",
    "        # Linear layer for output generation (predicting floating-point values)\n",
    "        self.fc_out = nn.Linear(d_model, output_size)\n",
    "        \n",
    "    def forward(self, src, tgt, src_mask=None, tgt_mask=None):\n",
    "        \n",
    "        src = src.transpose(0, 1)\n",
    "        tgt = tgt.transpose(0, 1)\n",
    "\n",
    "        # Encode source (input) sequence\n",
    "        src = self.embedding(src) * torch.sqrt(torch.tensor(self.embedding.embedding_dim, dtype=torch.float32))\n",
    "        src = self.pos_encoder(src)\n",
    "        \n",
    "        # Positional encoding for target (output) sequence\n",
    "        tgt = self.pos_encoder(tgt)\n",
    "        \n",
    "        # Apply transformer\n",
    "        output = self.transformer(src, tgt, src_mask=src_mask, tgt_mask=tgt_mask)\n",
    "        \n",
    "        # Predict floating-point values for each output token\n",
    "        output = self.fc_out(output)\n",
    "\n",
    "        # Transpose output to match the shape [batch_size, seq_len, output_size]\n",
    "        output = output.transpose(0, 1)\n",
    "        \n",
    "        return output\n",
    "\n",
    "# Example usage for binary string\n",
    "input_size = 2  # Assume input integers range from 0 to 99\n",
    "output_size = 1   # Each output is a single floating-point number\n",
    "\n",
    "# Create the model\n",
    "model = TransformerModel(input_size, output_size)\n",
    "\n",
    "# # Example input: a fixed-length sequence of integers (batch size = 1, seq length = 10)\n",
    "# src = torch.tensor([[1, 0, 1, 1], [1, 0, 1, 1]], dtype=torch.long)  # Shape: [batch_size, seq_len]\n",
    "\n",
    "# # Example target (dynamic length sequence): start with a few steps (2 in this case)\n",
    "# tgt = torch.zeros((2, 2, 128))  # Shape: [batch_size, seq_len,  d_model]\n",
    "\n",
    "# # Forward pass\n",
    "# output = model(src, tgt)\n",
    "\n",
    "# print(output.shape)\n"
   ]
  },
  {
   "cell_type": "code",
   "execution_count": 22,
   "metadata": {},
   "outputs": [
    {
     "name": "stdout",
     "output_type": "stream",
     "text": [
      "9.672725148729228e-08\n",
      "379\n",
      "torch.Size([1, 36])\n",
      "-6.62919670252867e-07\n"
     ]
    },
    {
     "name": "stderr",
     "output_type": "stream",
     "text": [
      "\n",
      "pyinstrument ........................................\n",
      ".\n",
      ".  Block at /tmp/ipykernel_7419/3205206528.py:7\n",
      ".\n",
      ".  0.231 <module>  ../../../../../tmp/ipykernel_7419/3205206528.py:7\n",
      ".  ├─ 0.065 PEPS.contract  quimb/tensor/tensor_core.py:8396\n",
      ".  │     [5 frames hidden]  functools, quimb, cotengra\n",
      ".  │        0.062 wrapper  functools.py:883\n",
      ".  │        └─ 0.061 tensordot_fermionic  symmray/fermionic_core.py:711\n",
      ".  │           ├─ 0.041 tensordot_abelian  symmray/abelian_core.py:1997\n",
      ".  │           │  └─ 0.040 _tensordot_via_fused  symmray/abelian_core.py:1942\n",
      ".  │           │     ├─ 0.018 U1FermionicArray.fuse  symmray/abelian_core.py:1419\n",
      ".  │           │     │  ├─ 0.007 U1FermionicArray.cached_fuse_block_info  symmray/abelian_core.py:670\n",
      ".  │           │     │  │  └─ 0.005 U1FermionicArray.calc_fuse_block_info  symmray/abelian_core.py:534\n",
      ".  │           │     │  ├─ 0.006 <dictcomp>  symmray/abelian_core.py:1525\n",
      ".  │           │     │  │  └─ 0.006 _recurse_concat  symmray/abelian_core.py:1485\n",
      ".  │           │     │  │     └─ 0.004 <genexpr>  symmray/abelian_core.py:1518\n",
      ".  │           │     │  │        └─ 0.003 _recurse_concat  symmray/abelian_core.py:1485\n",
      ".  │           │     │  └─ 0.003 [self]  symmray/abelian_core.py\n",
      ".  │           │     ├─ 0.009 U1FermionicArray.unfuse  symmray/abelian_core.py:1537\n",
      ".  │           │     │  └─ 0.006 [self]  symmray/abelian_core.py\n",
      ".  │           │     ├─ 0.008 _tensordot_blockwise  symmray/abelian_core.py:1832\n",
      ".  │           │     │  └─ 0.008 <genexpr>  symmray/abelian_core.py:1886\n",
      ".  │           │     │     └─ 0.007 tensordot  numpy/_core/numeric.py:978\n",
      ".  │           │     └─ 0.005 drop_misaligned_sectors  symmray/abelian_core.py:1900\n",
      ".  │           ├─ 0.013 U1FermionicArray.transpose  symmray/fermionic_core.py:232\n",
      ".  │           │  └─ 0.007 U1FermionicArray.transpose  symmray/abelian_core.py:1271\n",
      ".  │           │     └─ 0.006 <dictcomp>  symmray/abelian_core.py:1282\n",
      ".  │           │        └─ 0.003 permuted  symmray/abelian_core.py:270\n",
      ".  │           └─ 0.003 U1FermionicArray.phase_flip  symmray/fermionic_core.py:282\n",
      ".  ├─ 0.047 PEPS.contract_boundary_from_ymin  quimb/tensor/tensor_2d.py:2003\n",
      ".  │     [31 frames hidden]  quimb, functools, autoray, cotengra\n",
      ".  │        0.008 wrapper  functools.py:883\n",
      ".  │        └─ 0.008 tensordot_fermionic  symmray/fermionic_core.py:711\n",
      ".  │           └─ 0.006 tensordot_abelian  symmray/abelian_core.py:1997\n",
      ".  │              └─ 0.006 _tensordot_via_fused  symmray/abelian_core.py:1942\n",
      ".  │        0.006 do  autoray/autoray.py:30\n",
      ".  │        └─ 0.006 fuse  symmray/interface.py:117\n",
      ".  │           └─ 0.006 U1FermionicArray.fuse  symmray/fermionic_core.py:556\n",
      ".  │              └─ 0.003 U1FermionicArray.fuse  symmray/abelian_core.py:1419\n",
      ".  │        0.003 Composed.__call__  autoray/autoray.py:921\n",
      ".  │        └─ 0.003 svd_truncated  symmray/linalg.py:212\n",
      ".  │           └─ 0.003 wrapper  functools.py:883\n",
      ".  │              └─ 0.003 svd_fermionic  symmray/linalg.py:173\n",
      ".  │                 └─ 0.003 svd  symmray/linalg.py:123\n",
      ".  │                    └─ 0.002 default_not_full_matrices  autoray/autoray.py:1141\n",
      ".  │                          [1 frames hidden]  numpy\n",
      ".  │        0.009 wrapper  functools.py:883\n",
      ".  │        └─ 0.009 tensordot_fermionic  symmray/fermionic_core.py:711\n",
      ".  │           └─ 0.007 tensordot_abelian  symmray/abelian_core.py:1997\n",
      ".  │              └─ 0.007 _tensordot_via_fused  symmray/abelian_core.py:1942\n",
      ".  │                 └─ 0.004 U1FermionicArray.fuse  symmray/abelian_core.py:1419\n",
      ".  ├─ 0.045 TransformerModel._wrapped_call_impl  torch/nn/modules/module.py:1549\n",
      ".  │     [0 frames hidden]  \n",
      ".  │        0.045 TransformerModel._call_impl  torch/nn/modules/module.py:1555\n",
      ".  │        └─ 0.045 TransformerModel.forward  ../../../../../tmp/ipykernel_7419/953560398.py:35\n",
      ".  │           └─ 0.045 Transformer._wrapped_call_impl  torch/nn/modules/module.py:1549\n",
      ".  │                 [39 frames hidden]  torch, <built-in>\n",
      ".  ├─ 0.044 PEPS.contract_boundary_from_ymax  quimb/tensor/tensor_2d.py:2137\n",
      ".  │     [37 frames hidden]  quimb, functools, autoray, cotengra\n",
      ".  │        0.005 do  autoray/autoray.py:30\n",
      ".  │        └─ 0.005 reshape  symmray/interface.py:58\n",
      ".  │           └─ 0.005 U1FermionicArray.reshape  symmray/abelian_core.py:1620\n",
      ".  │              └─ 0.004 U1FermionicArray.fuse  symmray/fermionic_core.py:556\n",
      ".  │                 └─ 0.003 U1FermionicArray.fuse  symmray/abelian_core.py:1419\n",
      ".  │        0.005 do  autoray/autoray.py:30\n",
      ".  │        └─ 0.005 fuse  symmray/interface.py:117\n",
      ".  │           └─ 0.005 U1FermionicArray.fuse  symmray/fermionic_core.py:556\n",
      ".  │              └─ 0.003 U1FermionicArray.transpose  symmray/fermionic_core.py:232\n",
      ".  │                 └─ 0.003 U1FermionicArray.transpose  symmray/abelian_core.py:1271\n",
      ".  │                    └─ 0.003 <dictcomp>  symmray/abelian_core.py:1282\n",
      ".  │        0.004 wrapper  functools.py:883\n",
      ".  │        └─ 0.004 tensordot_fermionic  symmray/fermionic_core.py:711\n",
      ".  │           └─ 0.003 tensordot_abelian  symmray/abelian_core.py:1997\n",
      ".  │              └─ 0.003 _tensordot_via_fused  symmray/abelian_core.py:1942\n",
      ".  │                 └─ 0.003 U1FermionicArray.fuse  symmray/abelian_core.py:1419\n",
      ".  │        0.004 do  autoray/autoray.py:30\n",
      ".  │        └─ 0.004 reshape  symmray/interface.py:58\n",
      ".  │           └─ 0.004 U1FermionicArray.reshape  symmray/abelian_core.py:1620\n",
      ".  │        0.005 wrapper  functools.py:883\n",
      ".  │        └─ 0.005 tensordot_fermionic  symmray/fermionic_core.py:711\n",
      ".  └─ 0.026 fPEPS.get_amp  vmc_torch/fermion_utils.py:32\n",
      ".     └─ 0.021 TensorNetwork.contract  quimb/tensor/tensor_core.py:8396\n",
      ".           [6 frames hidden]  quimb, functools, cotengra\n",
      ".              0.014 wrapper  functools.py:883\n",
      ".              └─ 0.014 tensordot_fermionic  symmray/fermionic_core.py:711\n",
      ".                 ├─ 0.010 tensordot_abelian  symmray/abelian_core.py:1997\n",
      ".                 │  └─ 0.009 _tensordot_via_fused  symmray/abelian_core.py:1942\n",
      ".                 │     ├─ 0.004 drop_misaligned_sectors  symmray/abelian_core.py:1900\n",
      ".                 │     │  └─ 0.003 <dictcomp>  symmray/abelian_core.py:1917\n",
      ".                 │     └─ 0.003 U1FermionicArray.fuse  symmray/abelian_core.py:1419\n",
      ".                 └─ 0.003 U1FermionicArray.transpose  symmray/fermionic_core.py:232\n",
      ".  \n",
      ".....................................................\n",
      "\n"
     ]
    }
   ],
   "source": [
    "import pyinstrument\n",
    "# Create a random configuration\n",
    "random_conf = np.zeros(Lx*Ly)\n",
    "random_conf[:N_f] = 1\n",
    "# np.random.seed(1)\n",
    "np.random.shuffle(random_conf)\n",
    "with pyinstrument.profile():\n",
    "    amp_U1 = peps_U1.get_amp(random_conf, conj=True)\n",
    "    print(amp_U1.contract())\n",
    "    amp_U1.contract_boundary_from_ymin_(max_bond=8, yrange=(0, amp_U1.Ly//2-1),cutoff=0.0)\n",
    "    amp_U1.contract_boundary_from_ymax_(max_bond=8, yrange=(amp_U1.Ly//2, amp_U1.Ly-1),cutoff=0.0)\n",
    "    amp_U1_params, amp_U1_skeleton = qtn.pack(amp_U1)\n",
    "    flattend_params = flatten_proj_params(amp_U1_params)\n",
    "    vec_len = len(flattend_params)\n",
    "    print(vec_len)\n",
    "    random_conf = torch.tensor(random_conf, dtype=torch.int32)\n",
    "    # input is the random configuration\n",
    "    # src = torch.tensor([random_conf], dtype=torch.long) # Shape: [batch_size, seq_len]\n",
    "    src = random_conf.unsqueeze(0)\n",
    "    # target output is a vector of the shape of the flattened parameters\n",
    "    tgt = torch.zeros((1, vec_len, 128)) # Shape: [batch_size, seq_len,  d_model]\n",
    "\n",
    "    # Forward pass\n",
    "    output = model(src, tgt) # shape [batch_size, seq_len, output_size]\n",
    "\n",
    "    # concatenate the output to get the final vector of length vec_len\n",
    "    output = output.view(-1)\n",
    "\n",
    "    new_flattend_params = flattend_params + 0.01*output.detach().numpy()\n",
    "    new_params = reconstruct_proj_params(new_flattend_params, amp_U1_params)\n",
    "\n",
    "    new_amp_U1 = qtn.unpack(new_params, amp_U1_skeleton)\n",
    "    print(new_amp_U1.contract())"
   ]
  }
 ],
 "metadata": {
  "kernelspec": {
   "display_name": "vmc_torch",
   "language": "python",
   "name": "python3"
  },
  "language_info": {
   "codemirror_mode": {
    "name": "ipython",
    "version": 3
   },
   "file_extension": ".py",
   "mimetype": "text/x-python",
   "name": "python",
   "nbconvert_exporter": "python",
   "pygments_lexer": "ipython3",
   "version": "3.9.20"
  }
 },
 "nbformat": 4,
 "nbformat_minor": 2
}
