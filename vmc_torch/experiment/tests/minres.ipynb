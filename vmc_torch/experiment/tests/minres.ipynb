{
 "cells": [
  {
   "cell_type": "code",
   "execution_count": 162,
   "metadata": {},
   "outputs": [
    {
     "name": "stdout",
     "output_type": "stream",
     "text": [
      "Ax=b, where A=|x><x|, b=|x>. Solve for x. Assume exact pseudo-inverse solution is |x>.\n",
      "Shape of A: (10, 10), Rank(A): 1\n",
      "\n",
      "Initial guess: x0=[0. 0. 0. 0. 0. 0. 0. 0. 0. 0.]\n",
      "    solution error (diag_shift=0) :  1.259409243559162e-15\n",
      "    solution error (diag_shift=1e-05):  2.8890035605626252e-05\n",
      "\n",
      "Initial guess: x0=[0.34962956 0.68093522 0.56074742 0.42663743 0.62131052 0.80465751\n",
      " 0.67937642 0.40957323 0.52467966 0.57979014]\n",
      "    solution error (diag_shift=0) :  2.1649821526264676\n",
      "    solution error (diag_shift=1e-05):  2.164987850026096\n"
     ]
    }
   ],
   "source": [
    "import numpy as np\n",
    "\n",
    "# MINRES iterative solver\n",
    "from scipy.sparse.linalg import minres\n",
    "\n",
    "# artificial low-rank matrix A = |x><x|, where x is a random vector of dimension N, and <x|x>=1.\n",
    "# Ax=b, where b=|x>. Solve for x. Exact solution is |x>.\n",
    "N = 10\n",
    "b = np.random.rand(N)\n",
    "b = b/np.linalg.norm(b)\n",
    "A = np.outer(b, b)\n",
    "print(f'Ax=b, where A=|x><x|, b=|x>. Solve for x. Assume exact pseudo-inverse solution is |x>.')\n",
    "print(f'Shape of A: {A.shape}, Rank(A): {np.linalg.matrix_rank(A)}')\n",
    "\n",
    "# initialize x to be zero vector\n",
    "x0 = np.zeros(N)\n",
    "# x0 = np.random.rand(N)\n",
    "print(f'\\nInitial guess: x0={x0}')\n",
    "# solve Ax=b using MINRES\n",
    "x, exitCode = minres(A, b, x0=x0)\n",
    "shift = 1e-5\n",
    "y, exitCode = minres(A, b, x0=x0, shift=shift)  # shift the diagonal by 1e-3\n",
    "\n",
    "# check the solution\n",
    "print(\"    solution error (diag_shift=0) : \", np.abs(x-b).sum())\n",
    "print(f\"    solution error (diag_shift={shift}): \", np.abs(y-b).sum())\n",
    "\n",
    "# initialize x to be random vector\n",
    "x0 = np.random.rand(N)\n",
    "\n",
    "print(f'\\nInitial guess: x0={x0}')\n",
    "# solve Ax=b using MINRES\n",
    "# solve Ax=b using MINRES\n",
    "x, exitCode = minres(A, b, x0=x0)\n",
    "shift = 1e-5\n",
    "y, exitCode = minres(A, b, x0=x0, shift=shift)  # shift the diagonal by 1e-3\n",
    "\n",
    "# check the solution\n",
    "print(\"    solution error (diag_shift=0) : \", np.abs(x-b).sum())\n",
    "print(f\"    solution error (diag_shift={shift}): \", np.abs(y-b).sum())"
   ]
  },
  {
   "cell_type": "code",
   "execution_count": 37,
   "metadata": {},
   "outputs": [
    {
     "data": {
      "text/plain": [
       "(array([0.66402424, 0.05649865, 0.06444245, 0.37624823]),\n",
       " array([0.79178428, 0.06736914, 0.07684135, 0.4486394 ]))"
      ]
     },
     "execution_count": 37,
     "metadata": {},
     "output_type": "execute_result"
    }
   ],
   "source": [
    "A@b, b"
   ]
  },
  {
   "cell_type": "code",
   "execution_count": 6,
   "metadata": {},
   "outputs": [
    {
     "data": {
      "text/plain": [
       "array([0.08692288, 0.11170427, 0.11742411, 0.0157782 , 0.1288675 ,\n",
       "       0.04380615, 0.0570321 , 0.10130391, 0.16327746, 0.1378418 ,\n",
       "       0.02809902, 0.1010686 , 0.04854366, 0.09012003, 0.0462129 ,\n",
       "       0.06624709, 0.04932089, 0.16784433, 0.09615618, 0.04676622])"
      ]
     },
     "execution_count": 6,
     "metadata": {},
     "output_type": "execute_result"
    }
   ],
   "source": [
    "x"
   ]
  }
 ],
 "metadata": {
  "kernelspec": {
   "display_name": "vmc_torch",
   "language": "python",
   "name": "python3"
  },
  "language_info": {
   "codemirror_mode": {
    "name": "ipython",
    "version": 3
   },
   "file_extension": ".py",
   "mimetype": "text/x-python",
   "name": "python",
   "nbconvert_exporter": "python",
   "pygments_lexer": "ipython3",
   "version": "3.9.20"
  }
 },
 "nbformat": 4,
 "nbformat_minor": 2
}
