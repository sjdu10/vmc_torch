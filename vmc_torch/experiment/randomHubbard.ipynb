{
 "cells": [
  {
   "cell_type": "markdown",
   "metadata": {},
   "source": [
    "Netket implementation"
   ]
  },
  {
   "cell_type": "code",
   "execution_count": 1,
   "metadata": {},
   "outputs": [
    {
     "name": "stderr",
     "output_type": "stream",
     "text": [
      "An NVIDIA GPU may be present on this machine, but a CUDA-enabled jaxlib is not installed. Falling back to cpu.\n",
      "/home/sijingdu/anaconda3/envs/vmc_torch/lib/python3.9/site-packages/tqdm/auto.py:21: TqdmWarning: IProgress not found. Please update jupyter and ipywidgets. See https://ipywidgets.readthedocs.io/en/stable/user_install.html\n",
      "  from .autonotebook import tqdm as notebook_tqdm\n",
      "/home/sijingdu/TNVMC/VMC_code/quimb/quimb/core.py:45: UserWarning: 'NUMBA_NUM_THREADS' has been set elsewhere and doesn't match the value 'quimb' has tried to set - 20 vs 10.\n",
      "  warnings.warn(\n",
      "/home/sijingdu/anaconda3/envs/vmc_torch/lib/python3.9/site-packages/cotengra/hyperoptimizers/hyper.py:33: UserWarning: Couldn't import `kahypar` - skipping from default hyper optimizer and using basic `labels` method instead.\n",
      "  warnings.warn(\n"
     ]
    }
   ],
   "source": [
    "import os\n",
    "os.environ[\"NUMBA_NUM_THREADS\"] = \"20\"\n",
    "\n",
    "import netket as nk\n",
    "import netket.experimental as nkx\n",
    "import netket.nn as nknn\n",
    "from netket.experimental.operator.fermion import destroy as c\n",
    "from netket.experimental.operator.fermion import create as cdag\n",
    "from netket.experimental.operator.fermion import number as nc\n",
    "\n",
    "from math import pi\n",
    "import numpy as np\n",
    "from vmc_torch.fermion_utils import generate_random_fmps\n",
    "import quimb.tensor as qtn\n",
    "import symmray as sr"
   ]
  },
  {
   "cell_type": "code",
   "execution_count": 2,
   "metadata": {},
   "outputs": [
    {
     "name": "stdout",
     "output_type": "stream",
     "text": [
      "Number of nodes: 8\n",
      "Number of edges: 28\n",
      "Exact ground state energy per site: -0.8921806612391815\n",
      "Exact ground state energy: -7.137445289913452\n"
     ]
    }
   ],
   "source": [
    "# Define the number of nodes\n",
    "L = 8  # Replace with your desired number of nodes\n",
    "spinless = False\n",
    "cyclic = False\n",
    "seed = 2\n",
    "np.random.seed(seed)\n",
    "# Generate all possible edges for a fully connected graph\n",
    "edges = [(i, j) for i in range(L) for j in range(i + 1, L)]\n",
    "# edges = qtn.edges_1d_chain(L, cyclic=cyclic)\n",
    "\n",
    "# Create the fully connected graph\n",
    "graph = nk.graph.Graph(edges=edges)\n",
    "N = graph.n_nodes\n",
    "# Display information about the graph\n",
    "print(f\"Number of nodes: {graph.n_nodes}\")\n",
    "print(f\"Number of edges: {graph.n_edges}\")\n",
    "\n",
    "# Define the fermion filling and the Hilbert space\n",
    "N_f = int(L)\n",
    "n_fermions_per_spin = (N_f//2, N_f//2)\n",
    "hi = nkx.hilbert.SpinOrbitalFermions(N, s=1/2, n_fermions_per_spin=n_fermions_per_spin)\n",
    "\n",
    "# Define the random hopping fully connected Hubbard model Hamiltonian\n",
    "U = 8.0\n",
    "t_mean = 0.0\n",
    "t_std = 1.0\n",
    "mu = 0.0\n",
    "# Generate edge-hopping dictionary\n",
    "edge_to_hopping = {}\n",
    "for (i,j) in graph.edges():\n",
    "    t = np.random.normal(t_mean, t_std)\n",
    "    edge_to_hopping[(i,j)] = t\n",
    "\n",
    "H = 0.0\n",
    "for (i,j) in graph.edges():\n",
    "    t = edge_to_hopping[(i,j)]\n",
    "    for spin in (1,-1):\n",
    "        H -= t * (cdag(hi,i,spin) * c(hi,j,spin) + cdag(hi,j,spin) * c(hi,i,spin))\n",
    "for i in graph.nodes():\n",
    "    H += U * nc(hi,i,+1) * nc(hi,i,-1)\n",
    "\n",
    "# Exact diagonalization of the Hamiltonian for benchmark\n",
    "sp_h = H.to_sparse() # Convert the Hamiltonian to a sparse matrix\n",
    "from scipy.sparse.linalg import eigsh\n",
    "eig_vals, eig_vecs = eigsh(sp_h, k=2, which=\"SA\")\n",
    "E_gs = eig_vals[0]\n",
    "print(\"Exact ground state energy per site:\", E_gs/N)\n",
    "print(\"Exact ground state energy:\", E_gs)"
   ]
  },
  {
   "cell_type": "code",
   "execution_count": 57,
   "metadata": {},
   "outputs": [],
   "source": [
    "# fMPS spinful\n",
    "D = 4\n",
    "symmetry = 'U1'\n",
    "seed = 2\n",
    "# SU in quimb\n",
    "fmps, charge_config = generate_random_fmps(L, D, seed, symmetry, Nf=N_f, cyclic=cyclic, spinless=spinless)\n",
    "try:\n",
    "    parse_edges_to_site_info = sr.utils.parse_edges_to_site_info\n",
    "except AttributeError:\n",
    "    parse_edges_to_site_info = sr.parse_edges_to_site_info\n",
    "\n",
    "site_info = parse_edges_to_site_info(\n",
    "    edges,\n",
    "    D,\n",
    "    phys_dim=2 if spinless else 4,\n",
    "    site_ind_id=\"k{}\",\n",
    "    site_tag_id=\"I{}\",\n",
    ")\n",
    "\n",
    "terms = {\n",
    "    (sitea, siteb): sr.fermi_hubbard_local_array(\n",
    "        t=t, U=U, mu=mu,\n",
    "        symmetry=symmetry,\n",
    "        coordinations=(\n",
    "            site_info[sitea]['coordination'],\n",
    "            site_info[siteb]['coordination'],\n",
    "        ),\n",
    "    )\n",
    "    for (sitea, siteb), t in edge_to_hopping.items()\n",
    "}\n",
    "\n",
    "ham = qtn.LocalHam1D(L=L, H2=terms, cyclic=cyclic)\n",
    "su = qtn.SimpleUpdateGen(fmps, ham, compute_energy_per_site=True, D=D, gate_opts={'cutoff':1e-12})\n",
    "\n",
    "# # cluster energies may not be accuracte yet\n",
    "# su.evolve(50, tau=0.3)\n",
    "# su.evolve(50, tau=0.1)\n"
   ]
  },
  {
   "cell_type": "code",
   "execution_count": 47,
   "metadata": {},
   "outputs": [
    {
     "data": {
      "text/plain": [
       "U1FermionicArray(shape~(16, 16):[+-], charge=0, num_blocks=5)"
      ]
     },
     "execution_count": 47,
     "metadata": {},
     "output_type": "execute_result"
    }
   ],
   "source": [
    "ham.get_gate_expm((0, 1), 0.1)"
   ]
  },
  {
   "cell_type": "code",
   "execution_count": null,
   "metadata": {},
   "outputs": [
    {
     "data": {
      "image/png": "[encoded data removed]",
      "text/plain": [
       "<Figure size 600x600 with 1 Axes>"
      ]
     },
     "metadata": {
      "needs_background": "light"
     },
     "output_type": "display_data"
    }
   ],
   "source": [
    "chain_edges = qtn.edges_1d_chain(L, cyclic=cyclic)\n",
    "test_fmps = sr.TN_abelian_from_edges_rand(symmetry, edges=chain_edges, bond_dim=D, phys_dim=2 if spinless else 4)\n",
    "sr.ham_fermi_hubbard_from_edges"
   ]
  }
 ],
 "metadata": {
  "kernelspec": {
   "display_name": "vmc_torch",
   "language": "python",
   "name": "python3"
  },
  "language_info": {
   "codemirror_mode": {
    "name": "ipython",
    "version": 3
   },
   "file_extension": ".py",
   "mimetype": "text/x-python",
   "name": "python",
   "nbconvert_exporter": "python",
   "pygments_lexer": "ipython3",
   "version": "3.9.20"
  }
 },
 "nbformat": 4,
 "nbformat_minor": 2
}
