{
 "cells": [
  {
   "cell_type": "code",
   "execution_count": 1,
   "metadata": {},
   "outputs": [
    {
     "name": "stderr",
     "output_type": "stream",
     "text": [
      "An NVIDIA GPU may be present on this machine, but a CUDA-enabled jaxlib is not installed. Falling back to cpu.\n",
      "/home/sijingdu/anaconda3/envs/vmc_torch/lib/python3.9/site-packages/tqdm/auto.py:21: TqdmWarning: IProgress not found. Please update jupyter and ipywidgets. See https://ipywidgets.readthedocs.io/en/stable/user_install.html\n",
      "  from .autonotebook import tqdm as notebook_tqdm\n",
      "/home/sijingdu/anaconda3/envs/vmc_torch/lib/python3.9/site-packages/numba/np/ufunc/parallel.py:371: NumbaWarning: \u001b[1mThe TBB threading layer requires TBB version 2021 update 6 or later i.e., TBB_INTERFACE_VERSION >= 12060. Found TBB_INTERFACE_VERSION = 12050. The TBB threading layer is disabled.\u001b[0m\n",
      "  warnings.warn(problem)\n",
      "/home/sijingdu/anaconda3/envs/vmc_torch/lib/python3.9/site-packages/cotengra/hyperoptimizers/hyper.py:33: UserWarning: Couldn't import `kahypar` - skipping from default hyper optimizer and using basic `labels` method instead.\n",
      "  warnings.warn(\n"
     ]
    }
   ],
   "source": [
    "import netket as nk\n",
    "import netket.experimental as nkx\n",
    "import netket.nn as nknn\n",
    "\n",
    "from math import pi\n",
    "\n",
    "from netket.experimental.operator.fermion import destroy as c\n",
    "from netket.experimental.operator.fermion import create as cdag\n",
    "from netket.experimental.operator.fermion import number as nc\n",
    "\n",
    "from vmc_torch.fermion_utils import generate_random_fpeps, product_bra_state, get_amp\n",
    "import quimb.tensor as qtn\n",
    "from autoray import do\n",
    "import symmray as sr\n",
    "import pickle\n",
    "import os\n",
    "os.environ['NUMBA_NUM_THREADS'] = '20'\n",
    "\n",
    "# Define the lattice shape\n",
    "L = 4  # Side of the square\n",
    "Lx = int(L)\n",
    "Ly = int(L)\n",
    "# graph = nk.graph.Square(L)\n",
    "graph = nk.graph.Grid([Lx,Ly], pbc=False)\n",
    "N = graph.n_nodes\n",
    "\n",
    "\n",
    "# Define the fermion filling and the Hilbert space\n",
    "N_f = int(Lx*Ly)\n",
    "hi = nkx.hilbert.SpinOrbitalFermions(N, s=1/2, n_fermions=N_f)\n",
    "# hi = nkx.hilbert.SpinOrbitalFermions(N, s=1/2, n_fermions_per_spin=(N_f//2,N_f//2))\n",
    "\n",
    "# Define the Hubbard Hamiltonian\n",
    "t = 1.0\n",
    "U = 8.0\n",
    "mu = 0.0\n",
    "\n",
    "H = 0.0\n",
    "for (i, j) in graph.edges(): # Definition of the Hubbard Hamiltonian\n",
    "    for spin in (1,-1):\n",
    "        H -= t * (cdag(hi,i,spin) * c(hi,j,spin) + cdag(hi,j,spin) * c(hi,i,spin))\n",
    "for i in graph.nodes():\n",
    "    H += U * nc(hi,i,+1) * nc(hi,i,-1)\n",
    "\n",
    "\n",
    "# # Exact diagonalization of the Hamiltonian for benchmark\n",
    "# sp_h = H.to_sparse() # Convert the Hamiltonian to a sparse matrix\n",
    "# from scipy.sparse.linalg import eigsh\n",
    "# from scipy.linalg import eigh\n",
    "# try:\n",
    "#     eig_vals, eig_vecs = eigsh(sp_h, k=2, which=\"SA\")\n",
    "#     E_gs = eig_vals[0]\n",
    "#     psi_gs = eig_vecs[:,0]\n",
    "# except:\n",
    "#     eig_val, eig_vec = eigh(sp_h.toarray())\n",
    "#     E_gs = eig_val\n",
    "#     psi_gs = eig_vec[:,0]\n",
    "\n",
    "# print(\"Exact ground state energy per site:\", E_gs/N)"
   ]
  },
  {
   "cell_type": "code",
   "execution_count": 2,
   "metadata": {},
   "outputs": [],
   "source": [
    "import jax\n",
    "import numpy as np\n",
    "random_seed = np.random.randint(2**32 - 1)\n",
    "config = hi.random_state(key=jax.random.PRNGKey(random_seed))\n",
    "\n",
    "# --- Utils ---\n",
    "def from_netket_config_to_quimb_config(netket_configs):\n",
    "    def func(netket_config):\n",
    "        \"\"\"Translate netket spin-1/2 config to tensor network product state config\"\"\"\n",
    "        total_sites = len(netket_config)//2\n",
    "        spin_up = netket_config[:total_sites]\n",
    "        spin_down = netket_config[total_sites:]\n",
    "        sum_spin = spin_up + spin_down\n",
    "        quimb_config = np.zeros(total_sites, dtype=int)\n",
    "        for i in range(total_sites):\n",
    "            if sum_spin[i] == 0:\n",
    "                quimb_config[i] = 0\n",
    "            if sum_spin[i] == 2:\n",
    "                quimb_config[i] = 3\n",
    "            if sum_spin[i] == 1:\n",
    "                if spin_down[i] == 1:\n",
    "                    quimb_config[i] = 1\n",
    "                else:\n",
    "                    quimb_config[i] = 2\n",
    "        return quimb_config\n",
    "    if len(netket_configs.shape) == 1:\n",
    "        return func(netket_configs)\n",
    "    else:\n",
    "        # batched\n",
    "        return np.array([func(netket_config) for netket_config in netket_configs])\n",
    "\n",
    "def from_quimb_config_to_netket_config(quimb_config):\n",
    "    \"\"\"Translate tensor network product state config to netket spin-1/2 config\"\"\"\n",
    "    total_sites = len(quimb_config)\n",
    "    spin_up = np.zeros(total_sites, dtype=int)\n",
    "    spin_down = np.zeros(total_sites, dtype=int)\n",
    "    for i in range(total_sites):\n",
    "        if quimb_config[i] == 0:\n",
    "            spin_up[i] = 0\n",
    "            spin_down[i] = 0\n",
    "        if quimb_config[i] == 1:\n",
    "            spin_up[i] = 0\n",
    "            spin_down[i] = 1\n",
    "        if quimb_config[i] == 2:\n",
    "            spin_up[i] = 1\n",
    "            spin_down[i] = 0\n",
    "        if quimb_config[i] == 3:\n",
    "            spin_up[i] = 1\n",
    "            spin_down[i] = 1\n",
    "    return np.concatenate((spin_up, spin_down))"
   ]
  },
  {
   "cell_type": "markdown",
   "metadata": {},
   "source": [
    "# Spinful PEPS"
   ]
  },
  {
   "cell_type": "code",
   "execution_count": 13,
   "metadata": {},
   "outputs": [],
   "source": [
    "D = 4\n",
    "seed = 2\n",
    "symmetry = 'U1'\n",
    "spinless = False\n",
    "peps = generate_random_fpeps(Lx, Ly, D=D, seed=2, symmetry=symmetry, Nf=N_f, spinless=spinless)[0]\n",
    "edges = qtn.edges_2d_square(Lx, Ly, cyclic=False)\n",
    "site_info = sr.utils.parse_edges_to_site_info(\n",
    "    edges,\n",
    "    D,\n",
    "    phys_dim=4,\n",
    "    site_ind_id=\"k{},{}\",\n",
    "    site_tag_id=\"I{},{}\",\n",
    ")\n",
    "\n",
    "terms = {\n",
    "    (sitea, siteb): sr.fermi_hubbard_local_array(\n",
    "        t=t, U=U, mu=mu,\n",
    "        symmetry=symmetry,\n",
    "        coordinations=(\n",
    "            site_info[sitea]['coordination'],\n",
    "            site_info[siteb]['coordination'],\n",
    "        ),\n",
    "    ).fuse((0, 1), (2, 3))\n",
    "    for (sitea, siteb) in peps.gen_bond_coos()\n",
    "}\n",
    "\n",
    "ham = qtn.LocalHam2D(Lx, Ly, terms)\n",
    "from functools import partial\n",
    "su = qtn.SimpleUpdateGen(\n",
    "    peps, \n",
    "    ham, \n",
    "    compute_energy_per_site=True, \n",
    "    D=D, \n",
    "    compute_energy_opts={\"max_distance\":1}, \n",
    "    gate_opts={'cutoff':1e-10},\n",
    "    # compute_energy_fn=qtn.PEPS.compute_local_expectation,\n",
    "    # compute_energy_fn = partial(qtn.PEPS.compute_local_expectation, terms=ham.terms, normalized=True),\n",
    "    # compute_energy_fn = lambda x: x._psi.compute_local_expectation(terms=x.ham.terms, normalized=True),\n",
    "    )\n",
    "# # cluster energies may not be accuracte yet\n",
    "# su.evolve(50, tau=0.3)\n",
    "# su.evolve(50, tau=0.1)\n",
    "# su.evolve(50, tau=0.03)\n",
    "# peps = su.get_state()\n",
    "# gs = su.get_state()\n",
    "\n",
    "# peps.equalize_norms_(value=1)\n",
    "\n",
    "# # save the state\n",
    "# params, skeleton = qtn.pack(peps)\n",
    "\n",
    "# import os\n",
    "# os.makedirs(f'../../data/{Lx}x{Ly}/t={t}_U={U}/N={N_f}/{symmetry}/D={D}', exist_ok=True)\n",
    "\n",
    "# with open(f'../../data/{Lx}x{Ly}/t={t}_U={U}/N={N_f}/{symmetry}/D={D}/peps_skeleton.pkl', 'wb') as f:\n",
    "#     pickle.dump(skeleton, f)\n",
    "# with open(f'../../data/{Lx}x{Ly}/t={t}_U={U}/N={N_f}/{symmetry}/D={D}/peps_su_params.pkl', 'wb') as f:\n",
    "#     pickle.dump(params, f)"
   ]
  },
  {
   "cell_type": "code",
   "execution_count": 16,
   "metadata": {},
   "outputs": [
    {
     "data": {
      "text/plain": [
       "28"
      ]
     },
     "execution_count": 16,
     "metadata": {},
     "output_type": "execute_result"
    }
   ],
   "source": [
    "from vmc_torch.experiment.tn_model import fTNModel, fTN_NN_proj_variable_Model\n",
    "import torch\n",
    "peps.apply_to_arrays(torch.tensor)\n",
    "peps_model = fTN_NN_proj_variable_Model(peps, max_bond=4, nn_hidden_dim=32,)\n",
    "peps_model.proj_params_vec_len\n"
   ]
  },
  {
   "cell_type": "code",
   "execution_count": 6,
   "metadata": {},
   "outputs": [
    {
     "data": {
      "text/plain": [
       "-0.7866901561460139"
      ]
     },
     "execution_count": 6,
     "metadata": {},
     "output_type": "execute_result"
    }
   ],
   "source": [
    "peps = su.get_state()\n",
    "peps.compute_local_expectation(ham.terms, normalized=True, max_bond=32)/N"
   ]
  },
  {
   "cell_type": "code",
   "execution_count": 5,
   "metadata": {},
   "outputs": [],
   "source": [
    "random_config = from_netket_config_to_quimb_config(hi.random_state(key=jax.random.PRNGKey(random_seed)))\n",
    "amp = peps.get_amp(random_config)"
   ]
  },
  {
   "cell_type": "code",
   "execution_count": 7,
   "metadata": {},
   "outputs": [
    {
     "name": "stdout",
     "output_type": "stream",
     "text": [
      "\n",
      "  _     ._   __/__   _ _  _  _ _/_   Recorded: 16:15:03  Samples:  40\n",
      " /_//_/// /_\\ / //_// / //_'/ //     Duration: 0.041     CPU time: 0.041\n",
      "/   _/                      v4.7.3\n",
      "\n",
      "Profile at /tmp/ipykernel_804/1337532818.py:3\n",
      "\n",
      "0.040 <module>  ../../../../../tmp/ipykernel_804/1337532818.py:3\n",
      "├─ 0.025 fPEPS.get_amp  ../fermion_utils.py:220\n",
      "│  ├─ 0.023 TensorNetwork.contract  quimb/tensor/tensor_core.py:8297\n",
      "│  │  └─ 0.023 TensorNetwork.contract_tags  quimb/tensor/tensor_core.py:8187\n",
      "│  │     ├─ 0.022 wrapper  functools.py:883\n",
      "│  │     │  └─ 0.022 tensor_contract  quimb/tensor/tensor_core.py:207\n",
      "│  │     │     ├─ 0.020 array_contract  quimb/tensor/contraction.py:273\n",
      "│  │     │     │  └─ 0.020 array_contract  cotengra/interface.py:735\n",
      "│  │     │     │        [7 frames hidden]  cotengra, functools, autoray, importl...\n",
      "│  │     │     │           0.017 wrapper  functools.py:883\n",
      "│  │     │     │           └─ 0.015 tensordot_fermionic  symmray/fermionic_core.py:725\n",
      "│  │     │     │              ├─ 0.011 tensordot_abelian  symmray/abelian_core.py:2063\n",
      "│  │     │     │              │  └─ 0.011 _tensordot_via_fused  symmray/abelian_core.py:2005\n",
      "│  │     │     │              │     ├─ 0.004 U1FermionicArray.fuse  symmray/abelian_core.py:1548\n",
      "│  │     │     │              │     │  ├─ 0.003 U1FermionicArray._fuse_core  symmray/abelian_core.py:1444\n",
      "│  │     │     │              │     │  │  ├─ 0.001 U1FermionicArray.cached_fuse_block_info  symmray/abelian_core.py:694\n",
      "│  │     │     │              │     │  │  ├─ 0.001 _transpose_dispatcher  numpy/_core/fromnumeric.py:598\n",
      "│  │     │     │              │     │  │  └─ 0.001 _reshape_dispatcher  numpy/_core/fromnumeric.py:209\n",
      "│  │     │     │              │     │  └─ 0.001 [self]  symmray/abelian_core.py\n",
      "│  │     │     │              │     ├─ 0.004 drop_misaligned_sectors  symmray/abelian_core.py:1963\n",
      "│  │     │     │              │     │  ├─ 0.002 U1FermionicArray.copy_with  symmray/fermionic_core.py:193\n",
      "│  │     │     │              │     │  │  ├─ 0.001 [self]  symmray/fermionic_core.py\n",
      "│  │     │     │              │     │  │  └─ 0.001 U1FermionicArray.copy_with  symmray/abelian_core.py:785\n",
      "│  │     │     │              │     │  └─ 0.002 <dictcomp>  symmray/abelian_core.py:1980\n",
      "│  │     │     │              │     │     ├─ 0.001 [self]  symmray/abelian_core.py\n",
      "│  │     │     │              │     │     └─ 0.001 <genexpr>  symmray/abelian_core.py:1981\n",
      "│  │     │     │              │     ├─ 0.002 U1FermionicArray.drop_missing_blocks  symmray/abelian_core.py:916\n",
      "│  │     │     │              │     │  └─ 0.002 all  numpy/_core/fromnumeric.py:2513\n",
      "│  │     │     │              │     │        [3 frames hidden]  numpy, <built-in>\n",
      "│  │     │     │              │     └─ 0.001 U1FermionicArray.unfuse  symmray/abelian_core.py:1602\n",
      "│  │     │     │              │        └─ 0.001 Composed.__call__  autoray/autoray.py:921\n",
      "│  │     │     │              ├─ 0.003 U1FermionicArray.transpose  symmray/fermionic_core.py:228\n",
      "│  │     │     │              │  └─ 0.003 U1FermionicArray.transpose  symmray/abelian_core.py:1296\n",
      "│  │     │     │              │     └─ 0.003 <dictcomp>  symmray/abelian_core.py:1307\n",
      "│  │     │     │              │        ├─ 0.001 permuted  symmray/abelian_core.py:271\n",
      "│  │     │     │              │        │  └─ 0.001 IPythonKernel._clean_thread_parent_frames  ipykernel/ipkernel.py:775\n",
      "│  │     │     │              │        │        [1 frames hidden]  threading\n",
      "│  │     │     │              │        ├─ 0.001 transpose  numpy/_core/fromnumeric.py:602\n",
      "│  │     │     │              │        │     [1 frames hidden]  numpy\n",
      "│  │     │     │              │        └─ 0.001 [self]  symmray/abelian_core.py\n",
      "│  │     │     │              └─ 0.001 resolve_combined_oddpos  symmray/fermionic_core.py:46\n",
      "│  │     │     ├─ 0.001 _gen_output_inds  quimb/tensor/tensor_core.py:141\n",
      "│  │     │     └─ 0.001 Tensor.__init__  quimb/tensor/tensor_core.py:1378\n",
      "│  │     │        └─ 0.001 Tensor._set_tags  quimb/tensor/tensor_core.py:1412\n",
      "│  │     └─ 0.001 TensorNetwork.add_tensor  quimb/tensor/tensor_core.py:3924\n",
      "│  │        └─ 0.001 TensorNetwork._link_tags  quimb/tensor/tensor_core.py:3858\n",
      "│  ├─ 0.001 fPEPS.product_bra_state  ../fermion_utils.py:157\n",
      "│  │  └─ 0.001 TensorNetwork.__ior__  quimb/tensor/tensor_core.py:3998\n",
      "│  │     └─ 0.001 TensorNetwork.add  quimb/tensor/tensor_core.py:3957\n",
      "│  │        └─ 0.001 TensorNetwork.add_tensor  quimb/tensor/tensor_core.py:3924\n",
      "│  │           └─ 0.001 TensorNetwork._link_tags  quimb/tensor/tensor_core.py:3858\n",
      "│  │              └─ 0.001 oset.__init__  quimb/utils.py:338\n",
      "│  │                 └─ 0.001 IPythonKernel._clean_thread_parent_frames  ipykernel/ipkernel.py:775\n",
      "│  └─ 0.001 TensorNetwork.conj  quimb/tensor/tensor_core.py:4216\n",
      "│     └─ 0.001 FermionicArray.phase_flip  symmray/fermionic_core.py:278\n",
      "├─ 0.014 PEPS.contract  quimb/tensor/tensor_core.py:8297\n",
      "│  └─ 0.014 wrapper  functools.py:883\n",
      "│     └─ 0.014 tensor_contract  quimb/tensor/tensor_core.py:207\n",
      "│        └─ 0.014 array_contract  quimb/tensor/contraction.py:273\n",
      "│           └─ 0.014 array_contract  cotengra/interface.py:735\n",
      "│                 [1 frames hidden]  cotengra\n",
      "│                    0.014 wrapper  functools.py:883\n",
      "│                    └─ 0.014 tensordot_fermionic  symmray/fermionic_core.py:725\n",
      "│                       ├─ 0.012 tensordot_abelian  symmray/abelian_core.py:2063\n",
      "│                       │  └─ 0.012 _tensordot_via_fused  symmray/abelian_core.py:2005\n",
      "│                       │     ├─ 0.006 U1FermionicArray.fuse  symmray/abelian_core.py:1548\n",
      "│                       │     │  └─ 0.006 U1FermionicArray._fuse_core  symmray/abelian_core.py:1444\n",
      "│                       │     │     ├─ 0.002 [self]  symmray/abelian_core.py\n",
      "│                       │     │     ├─ 0.002 reshape  numpy/_core/fromnumeric.py:214\n",
      "│                       │     │     │     [3 frames hidden]  numpy, <built-in>\n",
      "│                       │     │     ├─ 0.001 <dictcomp>  symmray/abelian_core.py:1536\n",
      "│                       │     │     │  └─ 0.001 _recurse_concat  symmray/abelian_core.py:1496\n",
      "│                       │     │     │     └─ 0.001 <genexpr>  symmray/abelian_core.py:1529\n",
      "│                       │     │     │        └─ 0.001 _recurse_concat  symmray/abelian_core.py:1496\n",
      "│                       │     │     │           └─ 0.001 <listcomp>  symmray/abelian_core.py:1500\n",
      "│                       │     │     └─ 0.001 U1FermionicArray.cached_fuse_block_info  symmray/abelian_core.py:694\n",
      "│                       │     ├─ 0.003 _tensordot_blockwise  symmray/abelian_core.py:1897\n",
      "│                       │     │  ├─ 0.001 U1.combine  symmray/symmetries.py:95\n",
      "│                       │     │  ├─ 0.001 <genexpr>  symmray/abelian_core.py:1950\n",
      "│                       │     │  │  └─ 0.001 tensordot  numpy/_core/numeric.py:978\n",
      "│                       │     │  │        [1 frames hidden]  <built-in>\n",
      "│                       │     │  └─ 0.001 [self]  symmray/abelian_core.py\n",
      "│                       │     ├─ 0.002 U1FermionicArray.unfuse  symmray/abelian_core.py:1602\n",
      "│                       │     └─ 0.001 drop_misaligned_sectors  symmray/abelian_core.py:1963\n",
      "│                       │        └─ 0.001 <dictcomp>  symmray/abelian_core.py:1983\n",
      "│                       ├─ 0.001 U1FermionicArray.phase_flip  symmray/fermionic_core.py:278\n",
      "│                       └─ 0.001 [self]  symmray/fermionic_core.py\n",
      "└─ 0.001 [self]  ../../../../../tmp/ipykernel_804/1337532818.py\n",
      "\n",
      "\n"
     ]
    }
   ],
   "source": [
    "import pyinstrument\n",
    "\n",
    "with pyinstrument.Profiler() as prof:\n",
    "    peps.get_amp(random_config).contract()\n",
    "\n",
    "prof.print()"
   ]
  },
  {
   "cell_type": "code",
   "execution_count": 59,
   "metadata": {},
   "outputs": [],
   "source": [
    "from symmray.symmetries import  calc_phase_permutation\n",
    "import numpy\n",
    "all_configs = hi.all_states()\n",
    "if not spinless:\n",
    "    # all_configs = [from_netket_config_to_quimb_config(config) for config in all_configs]\n",
    "    all_configs = from_netket_config_to_quimb_config(all_configs)\n",
    "phase_list = []\n",
    "axes = tuple(range(peps.nsites - 1, -1, -1))\n",
    "parity_map = {0:0, 1:1, 2:1, 3:0}\n",
    "\n",
    "for config in all_configs:\n",
    "    config_parity = np.array([parity_map[config[i]] for i in range(len(config))])\n",
    "    perm_phase = calc_phase_permutation(tuple(config_parity), axes)\n",
    "    # print(config, perm_phase, config_parity)\n",
    "    phase_list.append(perm_phase)\n",
    "\n",
    "ket_list = [product_bra_state(peps, config, check=True, reverse=False, dualness=False) for config in all_configs]\n",
    "bra1_list = [product_bra_state(peps, config, check=True, reverse=False, dualness=True) for config in all_configs]\n",
    "bra_list = [product_bra_state(peps, config, check=True, reverse=False, dualness=False).conj() for config in all_configs]\n",
    "hamiltonian = H.to_dense()"
   ]
  },
  {
   "cell_type": "code",
   "execution_count": 60,
   "metadata": {},
   "outputs": [],
   "source": [
    "def check_oddpos(tn):\n",
    "    oddpos_list = []\n",
    "    try:\n",
    "        for array in tn.arrays:\n",
    "            oddpos_list.append(array.oddpos)\n",
    "        return oddpos_list\n",
    "    except:\n",
    "        oddpos_list.append(tn.data.oddpos)\n",
    "        return oddpos_list"
   ]
  },
  {
   "cell_type": "code",
   "execution_count": 61,
   "metadata": {},
   "outputs": [],
   "source": [
    "from symmray.symmetries import  calc_phase_permutation\n",
    "from vmc_torch.fermion_utils import get_spinful_charge_map\n",
    "import itertools\n",
    "\n",
    "def calc_phase_hopping(where, config):\n",
    "    site1, site2 = where\n",
    "    site_ind1 = site1[0]*Ly + site1[1]\n",
    "    site_ind2 = site2[0]*Ly + site2[1]\n",
    "    parity_map = {0:0, 1:1, 2:1, 3:2}\n",
    "    parity_config = np.array([parity_map[config[i]] for i in range(len(config))])\n",
    "    if sum(parity_config[site_ind1+1:site_ind2])%2 == 0:\n",
    "        return 1\n",
    "    else:\n",
    "        return -1\n",
    "def calc_reverse_phase(config):\n",
    "    axes = tuple(range(len(config) - 1, -1, -1))\n",
    "    parity_map = {0:0, 1:1, 2:1, 3:0}\n",
    "    config_parity = np.array([parity_map[config[i]] for i in range(len(config))])\n",
    "    perm_phase = calc_phase_permutation(tuple(config_parity), axes)\n",
    "    perm_phase *= (-1)**np.count_nonzero(np.array(config)==3)\n",
    "    return perm_phase"
   ]
  },
  {
   "cell_type": "code",
   "execution_count": 62,
   "metadata": {},
   "outputs": [],
   "source": [
    "new_ham = np.zeros_like(hamiltonian)\n",
    "raw_matrix = np.zeros_like(hamiltonian)\n",
    "for i, j in itertools.product(range(len(bra_list)), repeat=2):\n",
    "    if hamiltonian[i,j] == 0:\n",
    "        continue\n",
    "    bra = bra_list[i]\n",
    "    ket = bra_list[j].conj()\n",
    "    config = all_configs[j]\n",
    "    matrix_element = 0\n",
    "    for where, G in ham.terms.items():\n",
    "        x = (bra|ket.gate(G, where=where, contract=True)).contract()\n",
    "        if x!=0:\n",
    "            raw_matrix[i,j] += x\n",
    "            # x *= calc_reverse_phase(config)\n",
    "            if i!=j:\n",
    "                x *= calc_phase_hopping(where, config)\n",
    "            matrix_element += x\n",
    "    new_ham[i,j] = matrix_element * (-1)**N_f"
   ]
  },
  {
   "cell_type": "markdown",
   "metadata": {},
   "source": [
    "# T--->---: Dual, ind-\n",
    "# T---<---: NOT dual, ind+\n",
    "\n",
    "# T1---<---T2: no parity factor, +-\n",
    "# T1--->---T2: has parity factor, -+"
   ]
  },
  {
   "cell_type": "code",
   "execution_count": 63,
   "metadata": {},
   "outputs": [
    {
     "name": "stdout",
     "output_type": "stream",
     "text": [
      "-0.2505913357410974 0.31510058433961347 0.030282680557498384\n"
     ]
    }
   ],
   "source": [
    "# Netket Hamiltonian energy check\n",
    "import numpy as np\n",
    "all_configs = hi.all_states()\n",
    "if not spinless:\n",
    "    # all_configs = [from_netket_config_to_quimb_config(config) for config in all_configs]\n",
    "    all_configs = from_netket_config_to_quimb_config(all_configs)\n",
    "\n",
    "psi_vec = np.array([gs.get_amp(config).contract() for config in all_configs])\n",
    "# psi_vec = np.array([(bra|gs).contract() for bra in bra_list])\n",
    "psi_vec_ket = np.array([(ket.conj()|gs).contract() for ket in ket_list])\n",
    "psi_vec = psi_vec/np.linalg.norm(psi_vec)\n",
    "psi_vec_ket = psi_vec_ket/np.linalg.norm(psi_vec_ket)\n",
    "\n",
    "print((psi_vec.conj().T @ (new_ham @ psi_vec))/N, (psi_vec.conj().T @ (hamiltonian @ psi_vec))/N, (psi_vec.conj().T @ (raw_matrix @ psi_vec))/N)"
   ]
  },
  {
   "cell_type": "code",
   "execution_count": 64,
   "metadata": {},
   "outputs": [
    {
     "data": {
      "text/plain": [
       "(np.float64(0.0017441641935983883), np.float64(0.0017441641935983883))"
      ]
     },
     "execution_count": 64,
     "metadata": {},
     "output_type": "execute_result"
    }
   ],
   "source": [
    "gs.get_amp(all_configs[0]).contract(), peps.get_amp(all_configs[0]).contract()"
   ]
  },
  {
   "cell_type": "code",
   "execution_count": 19,
   "metadata": {},
   "outputs": [],
   "source": [
    "def detect_hopping(configi, configj):\n",
    "    site_ls =  (configi-configj).nonzero()[0]\n",
    "    if len(site_ls) == 2:\n",
    "        return site_ls\n",
    "    else:\n",
    "        return None\n",
    "\n",
    "def calc_reverse_phase(config):\n",
    "    axes = tuple(range(len(config) - 1, -1, -1))\n",
    "    parity_map = {0:0, 1:1, 2:1, 3:0}\n",
    "    config_parity = np.array([parity_map[config[i]] for i in range(len(config))])\n",
    "    perm_phase = calc_phase_permutation(tuple(config_parity), axes)\n",
    "    perm_phase *= (-1)**np.count_nonzero(np.array(config)==3)\n",
    "    return perm_phase\n",
    "\n",
    "\n",
    "def detect_hopping(configi, configj):\n",
    "    site_ls =  (configi-configj).nonzero()[0]\n",
    "    if len(site_ls) == 2:\n",
    "        return site_ls\n",
    "    else:\n",
    "        return None\n",
    "\n",
    "def calc_phase_netket(configi, configj):\n",
    "    \"\"\"Calculate the phase factor for the matrix element in the netket basis, where all spin-up spins are placed before all spin-down spins\"\"\"\n",
    "    hopping = detect_hopping(configi, configj)\n",
    "    if hopping is not None:\n",
    "        netket_config_i = from_quimb_config_to_netket_config(configi)\n",
    "        netket_config_j = from_quimb_config_to_netket_config(configj)\n",
    "        netket_site_i, netket_site_j = (netket_config_i - netket_config_j).nonzero()[0]\n",
    "        phase = (-1)**(sum(netket_config_i[netket_site_i+1:netket_site_j])%2)\n",
    "        return phase\n",
    "    else:\n",
    "        return 1\n",
    "\n",
    "def calc_phase_symmray(configi, configj):\n",
    "    \"\"\"Calculate the operator matrix element phase in symmray, assuming local basis convention for spinful fermion is (|up, down>).\n",
    "    Globally, this convention gives a staggered spin configuration (|dududu...>) when the configuration is flattened to 1D.\"\"\"\n",
    "    hopping = detect_hopping(configi, configj)\n",
    "    if hopping is not None:\n",
    "        netket_config_i = from_quimb_config_to_netket_config(configi)\n",
    "        netket_config_j = from_quimb_config_to_netket_config(configj)\n",
    "        config_i_spin_up =netket_config_i[:len(netket_config_i)//2]\n",
    "        config_i_spin_down =netket_config_i[len(netket_config_i)//2:]\n",
    "        config_j_spin_up =netket_config_j[:len(netket_config_j)//2]\n",
    "        config_j_spin_down =netket_config_j[len(netket_config_j)//2:]\n",
    "        symmray_config_i = tuple()\n",
    "        symmray_config_j = tuple()\n",
    "        for i in range(len(config_i_spin_up)):\n",
    "            symmray_config_i += (config_i_spin_down[i], config_i_spin_up[i])\n",
    "            symmray_config_j += (config_j_spin_down[i], config_j_spin_up[i])\n",
    "        symmray_site_i, symmray_site_j = (np.asarray(symmray_config_i) - np.asarray(symmray_config_j)).nonzero()[0]\n",
    "        phase = (-1)**(sum(symmray_config_i[symmray_site_i+1:symmray_site_j])%2)\n",
    "        return phase\n",
    "    else:\n",
    "        return 1\n",
    "\n",
    "def calc_phase_correction_netket_symmray(configi, configj):\n",
    "    phase_netket = calc_phase_netket(configi, configj)\n",
    "    phase_symmray = calc_phase_symmray(configi, configj)\n",
    "    return phase_netket/phase_symmray"
   ]
  },
  {
   "cell_type": "code",
   "execution_count": 20,
   "metadata": {},
   "outputs": [],
   "source": [
    "# i_ls, j_ls = (new_ham[:20,:20]-hamiltonian[:20,:20]).nonzero()\n",
    "# i_ls, j_ls = range(20), range(20)\n",
    "new_ham1 = np.zeros_like(hamiltonian)\n",
    "corrected_hamiltonian = np.zeros_like(hamiltonian)\n",
    "for i, j in itertools.product(range(new_ham.shape[0]), repeat=2):\n",
    "    if detect_hopping(all_configs[i], all_configs[j]) is not None and hamiltonian[i,j]!=0:\n",
    "        # print(all_configs[i], all_configs[j])\n",
    "        config_i, config_j = all_configs[i], all_configs[j]\n",
    "        site_i, site_j = detect_hopping(all_configs[i], all_configs[j])\n",
    "\n",
    "        new_ham1[i,j] = calc_phase_symmray(config_i,config_j)*(-t)\n",
    "        corrected_hamiltonian[i,j] = hamiltonian[i,j]*calc_phase_correction_netket_symmray(config_i, config_j)\n",
    "        # print(corrected_hamiltonian[i,j] == hamiltonian[i,j]*calc_phase_correction_netket_symmray(config_j, config_i))\n",
    "    else:\n",
    "        if i==j:\n",
    "            # print(new_ham[i,j]==hamiltonian[i,j], new_ham[i,j], hamiltonian[i,j])\n",
    "            double_occupied_nsite = np.count_nonzero(np.array(all_configs[i])==3)\n",
    "            # print(double_occupied_nsite)\n",
    "            new_ham1[i,j] = U*double_occupied_nsite\n",
    "            corrected_hamiltonian[i,j] = U*double_occupied_nsite"
   ]
  },
  {
   "cell_type": "code",
   "execution_count": 21,
   "metadata": {},
   "outputs": [],
   "source": [
    "for i in range(len(all_configs)):\n",
    "    test_config = all_configs[i]\n",
    "    test_eta, H_etasigmas = H.get_conn(from_quimb_config_to_netket_config(test_config))\n",
    "    H_etasigmas_0 = H_etasigmas.copy()\n",
    "    correction_vector = np.array([calc_phase_correction_netket_symmray(test_config, from_netket_config_to_quimb_config(eta)) for eta in test_eta])\n",
    "    H_etasigmas *= correction_vector\n",
    "\n",
    "    # print(H_etasigmas==H_etasigmas_0)"
   ]
  },
  {
   "cell_type": "code",
   "execution_count": 22,
   "metadata": {},
   "outputs": [],
   "source": [
    "x_list, y_list = (new_ham-new_ham1).nonzero()\n",
    "for x, y in zip(x_list, y_list):\n",
    "    print(all_configs[x], all_configs[y], new_ham[x,y], new_ham1[x,y])"
   ]
  },
  {
   "cell_type": "code",
   "execution_count": 23,
   "metadata": {},
   "outputs": [
    {
     "data": {
      "text/plain": [
       "(np.float64(-0.23409300767191932), np.float64(-0.23409300767191932))"
      ]
     },
     "execution_count": 23,
     "metadata": {},
     "output_type": "execute_result"
    }
   ],
   "source": [
    "psi_vec @ (new_ham1 @ psi_vec)/N, psi_vec @ (corrected_hamiltonian @ psi_vec)/N"
   ]
  },
  {
   "cell_type": "code",
   "execution_count": 27,
   "metadata": {},
   "outputs": [
    {
     "data": {
      "text/plain": [
       "np.float64(0.022971751148022756)"
      ]
     },
     "execution_count": 27,
     "metadata": {},
     "output_type": "execute_result"
    }
   ],
   "source": [
    "peps.get_amp(all_configs[0]).contract()"
   ]
  },
  {
   "cell_type": "code",
   "execution_count": 24,
   "metadata": {},
   "outputs": [
    {
     "name": "stdout",
     "output_type": "stream",
     "text": [
      "((0, 0), (0, 1)) 0.10269596125131342\n",
      "((0, 0), (1, 0)) -0.5706058933253856\n",
      "((0, 1), (1, 1)) -0.5711794703374962\n",
      "((1, 0), (1, 1)) 0.10271737172389099\n",
      "-0.23409300767191932\n"
     ]
    }
   ],
   "source": [
    "norm, ket, bra = peps.make_norm(return_all=True)\n",
    "E_sum = 0\n",
    "for where, G in ham.terms.items():\n",
    "    tn = bra|ket.gate(G, where=where, contract=False)\n",
    "    print(where, tn.contract()/norm.contract())\n",
    "    E_sum += tn.contract()/norm.contract()\n",
    "print(E_sum/N)\n",
    "where, G = list(ham.terms.items())[0]"
   ]
  },
  {
   "cell_type": "code",
   "execution_count": 29,
   "metadata": {},
   "outputs": [
    {
     "data": {
      "image/png": "[encoded data removed]",
      "text/plain": [
       "<Figure size 600x600 with 1 Axes>"
      ]
     },
     "metadata": {
      "needs_background": "light"
     },
     "output_type": "display_data"
    }
   ],
   "source": [
    "ket.gate(G, where=where, contract=False).draw()"
   ]
  },
  {
   "cell_type": "code",
   "execution_count": 30,
   "metadata": {},
   "outputs": [
    {
     "data": {
      "text/plain": [
       "np.float64(0.06705340694576555)"
      ]
     },
     "execution_count": 30,
     "metadata": {},
     "output_type": "execute_result"
    }
   ],
   "source": [
    "import itertools\n",
    "# site 0 -- site 1\n",
    "where, G = list(ham.terms.items())[0]\n",
    "new_ham0 = np.zeros_like(hamiltonian)\n",
    "E_test=0\n",
    "for i, j in itertools.product(range(len(bra_list)), repeat=2):\n",
    "    bra = bra_list[i]\n",
    "    ket = ket_list[j]\n",
    "    x = (bra|ket.gate(G, where=where, contract=True)).contract()\n",
    "    if x!=0:\n",
    "        # print(all_configs[i], all_configs[j], x, hamiltonian[i,j])\n",
    "        x *= calc_reverse_phase(all_configs[i])\n",
    "        E_test += x * psi_vec[i].conj() * psi_vec[j]\n",
    "        new_ham0[i,j] += x\n",
    "E_test"
   ]
  },
  {
   "cell_type": "code",
   "execution_count": 82,
   "metadata": {},
   "outputs": [
    {
     "data": {
      "text/plain": [
       "np.float64(-0.5363725895655636)"
      ]
     },
     "execution_count": 82,
     "metadata": {},
     "output_type": "execute_result"
    }
   ],
   "source": [
    "# site 0 -- site 2\n",
    "where, G = list(ham.terms.items())[1]\n",
    "E_test=0\n",
    "for i, j in itertools.product(range(len(bra_list)), repeat=2):\n",
    "    bra = bra_list[i]\n",
    "    # ket = ket_list[j]\n",
    "    ket = bra_list[j].conj()\n",
    "    x = (bra|ket.gate(G, where=where, contract=True)).contract()\n",
    "    if parity_map[all_configs[j][1]]==1 and x!=0 and i!=j:\n",
    "        x*= -1\n",
    "    if x!=0:\n",
    "        # print(all_configs[i], all_configs[j], psi_vec[i].conj(), psi_vec[j], x)\n",
    "        x *= calc_reverse_phase(all_configs[i])\n",
    "        E_test += x * psi_vec[i].conj() * psi_vec[j]\n",
    "        new_ham0[i,j] += x\n",
    "E_test"
   ]
  },
  {
   "cell_type": "markdown",
   "metadata": {},
   "source": [
    "## Important:\n",
    "when computing matrix element using product states with odd parity tensors, on-site contraction of 2 product states will throw the entire tensors+oddpos away, resulting in lost track of the tensor positions. Has to manually compute the permutation phase or cotract the two product states seperately first before computing the overlap (which is expensive)."
   ]
  },
  {
   "cell_type": "code",
   "execution_count": 87,
   "metadata": {},
   "outputs": [
    {
     "data": {
      "text/plain": [
       "(-1.0, 1.0)"
      ]
     },
     "execution_count": 87,
     "metadata": {},
     "output_type": "execute_result"
    }
   ],
   "source": [
    "for i, j in itertools.product(range(len(bra_list)), repeat=2):\n",
    "    bra = bra_list[i]\n",
    "    ket = ket_list[j]\n",
    "    # ket = bra_list[j].conj()\n",
    "    x = (bra|ket.gate(G, where=where, contract=True)).contract()\n",
    "    if parity_map[all_configs[j][1]]==1 and x!=0 and i!=j:\n",
    "        break\n",
    "(bra|ket.gate(G, where=where, contract=True)).contract(), (bra.contract()|ket.gate(G, where=where, contract=True).contract()).contract()"
   ]
  },
  {
   "cell_type": "code",
   "execution_count": 84,
   "metadata": {},
   "outputs": [
    {
     "data": {
      "text/plain": [
       "(  Complete contraction:  a,b,c,d,b,d,ac->\n",
       "          Naive scaling:  4\n",
       "      Optimized scaling:  2\n",
       "       Naive FLOP count:  1.792e+3\n",
       "   Optimized FLOP count:  6.100e+1\n",
       "    Theoretical speedup:  2.938e+1\n",
       "   Largest intermediate:  4.000e+0 elements\n",
       " --------------------------------------------------------------------------------\n",
       " scaling        BLAS                current                             remaining\n",
       " --------------------------------------------------------------------------------\n",
       "    1            DOT                  b,b->                         a,c,d,d,ac,->\n",
       "    1            DOT                  d,d->                            a,c,ac,,->\n",
       "    0   OUTER/EINSUM                    ,->                             a,c,ac,->\n",
       "    1   OUTER/EINSUM                  ,a->a                              c,ac,a->\n",
       "    2           GEMM                a,ac->c                                 c,c->\n",
       "    1            DOT                  c,c->                                    ->,\n",
       " ((1, 4), (2, 3), (3, 4), (0, 3), (1, 2), (0, 1)))"
      ]
     },
     "execution_count": 84,
     "metadata": {},
     "output_type": "execute_result"
    }
   ],
   "source": [
    "(bra|ket.gate(G, where=where, contract=True)).contract(get='path-info'), (bra|ket.gate(G, where=where, contract=True)).contract(get='tree').get_path()"
   ]
  },
  {
   "cell_type": "code",
   "execution_count": 86,
   "metadata": {},
   "outputs": [
    {
     "data": {
      "text/plain": [
       "  Complete contraction:  abcd,bdac->\n",
       "         Naive scaling:  4\n",
       "     Optimized scaling:  4\n",
       "      Naive FLOP count:  5.120e+2\n",
       "  Optimized FLOP count:  5.120e+2\n",
       "   Theoretical speedup:  1.000e+0\n",
       "  Largest intermediate:  1.000e+0 elements\n",
       "--------------------------------------------------------------------------------\n",
       "scaling        BLAS                current                             remaining\n",
       "--------------------------------------------------------------------------------\n",
       "   4     DOT/EINSUM            bdac,abcd->                                    ->"
      ]
     },
     "execution_count": 86,
     "metadata": {},
     "output_type": "execute_result"
    }
   ],
   "source": [
    "(bra.contract()|ket.gate(G, where=where, contract=True).contract()).contract(get='path-info')"
   ]
  },
  {
   "cell_type": "code",
   "execution_count": 109,
   "metadata": {},
   "outputs": [
    {
     "data": {
      "text/plain": [
       "np.float64(-0.9472856447325668)"
      ]
     },
     "execution_count": 109,
     "metadata": {},
     "output_type": "execute_result"
    }
   ],
   "source": [
    "# site 1 -- site 3\n",
    "where, G = list(ham.terms.items())[2]\n",
    "E_test=0\n",
    "for i, j in itertools.product(range(len(bra_list)), repeat=2):\n",
    "    bra = bra_list[i]\n",
    "    ket = ket_list[j]\n",
    "    x = (bra|ket.gate(G, where=where, contract=True)).contract()\n",
    "    if parity_map[all_configs[j][2]]==1 and x!=0:\n",
    "        x*= -1\n",
    "    if x!=0:\n",
    "        # print(all_configs[i], all_configs[j], psi_vec[i].conj(), psi_vec[j], x)\\\n",
    "        x *= calc_reverse_phase(all_configs[i])\n",
    "        E_test += x * psi_vec[i].conj() * psi_vec[j]\n",
    "        new_ham0[i,j] += x\n",
    "E_test"
   ]
  },
  {
   "cell_type": "code",
   "execution_count": 108,
   "metadata": {},
   "outputs": [
    {
     "data": {
      "text/plain": [
       "np.float64(-0.28001258550654573)"
      ]
     },
     "execution_count": 108,
     "metadata": {},
     "output_type": "execute_result"
    }
   ],
   "source": [
    "# site 2 -- site 3\n",
    "where, G = list(ham.terms.items())[3]\n",
    "E_test=0\n",
    "for i, j in itertools.product(range(len(bra_list)), repeat=2):\n",
    "    bra = bra_list[i]\n",
    "    ket = ket_list[j]\n",
    "    x = (bra|ket.gate(G, where=where, contract=True)).contract()\n",
    "    if x!=0:\n",
    "        # print(all_configs[i], all_configs[j], psi_vec[i].conj(), psi_vec[j], x)\n",
    "        x *= calc_reverse_phase(all_configs[i])\n",
    "        E_test += x * psi_vec[i].conj() * psi_vec[j]\n",
    "        new_ham0[i,j] += x\n",
    "E_test"
   ]
  },
  {
   "cell_type": "code",
   "execution_count": 348,
   "metadata": {},
   "outputs": [
    {
     "data": {
      "text/plain": [
       "np.float64(-0.5514377150952766)"
      ]
     },
     "execution_count": 348,
     "metadata": {},
     "output_type": "execute_result"
    }
   ],
   "source": [
    "psi_vec @ (new_ham0 @ psi_vec)/N"
   ]
  },
  {
   "cell_type": "code",
   "execution_count": 25,
   "metadata": {},
   "outputs": [
    {
     "data": {
      "text/plain": [
       "(np.float64(0.12499999999999986), np.float64(-0.3220275415290801))"
      ]
     },
     "execution_count": 25,
     "metadata": {},
     "output_type": "execute_result"
    }
   ],
   "source": [
    "N_terms = {\n",
    "    site: sr.fermi_number_operator_spinful_local_array(\n",
    "        symmetry=symmetry\n",
    "    )\n",
    "    for site in peps.gen_site_coos()\n",
    "}\n",
    "gs = su.get_state()\n",
    "gs.compute_local_expectation(\n",
    "    N_terms, normalized=True, max_bond=64,\n",
    ")/N, gs.compute_local_expectation(\n",
    "    ham.terms, normalized=True, max_bond=128,\n",
    ")/N,"
   ]
  },
  {
   "cell_type": "code",
   "execution_count": null,
   "metadata": {},
   "outputs": [],
   "source": [
    "from symmray.fermionic_local_operators import  build_local_fermionic_elements, build_local_fermionic_dense, get_spinful_indexmap, build_local_fermionic_array\n",
    "au = sr.FermionicOperator(\"au\")\n",
    "ad = sr.FermionicOperator(\"ad\")\n",
    "basis_a = ((), (ad.dag,), (au.dag,), (au.dag, ad.dag))\n",
    "bases = (basis_a,)\n",
    "indexmap = get_spinful_indexmap('U1')\n",
    "terms = (\n",
    "    (1, (au.dag,)),\n",
    ")\n",
    "\n",
    "build_local_fermionic_elements(terms, bases)"
   ]
  },
  {
   "cell_type": "markdown",
   "metadata": {},
   "source": [
    "# Energy check"
   ]
  },
  {
   "cell_type": "code",
   "execution_count": null,
   "metadata": {},
   "outputs": [],
   "source": [
    "# Netket Hamiltonian energy check\n",
    "import numpy as np\n",
    "all_configs = hi.all_states()\n",
    "if not spinless:\n",
    "    # all_configs = [from_netket_config_to_quimb_config(config) for config in all_configs]\n",
    "    all_configs = from_netket_config_to_quimb_config(all_configs)\n",
    "\n",
    "psi_vec = np.array([gs.get_amp(config).contract() for config in all_configs])\n",
    "\n",
    "hamiltonian = H.to_dense()\n",
    "psi_vec = psi_vec/np.linalg.norm(psi_vec)\n",
    "print((psi_vec.conj().T @ (hamiltonian @ psi_vec))/N)"
   ]
  },
  {
   "cell_type": "code",
   "execution_count": null,
   "metadata": {},
   "outputs": [],
   "source": [
    "# Quimb energy check\n",
    "gs.compute_local_expectation(\n",
    "    ham.terms, normalized=True, max_bond=64,\n",
    ")/N"
   ]
  },
  {
   "cell_type": "code",
   "execution_count": null,
   "metadata": {},
   "outputs": [],
   "source": [
    "psi_gs, psi_vec"
   ]
  },
  {
   "cell_type": "code",
   "execution_count": null,
   "metadata": {},
   "outputs": [],
   "source": [
    "def to_array_check(peps):\n",
    "    all_config = hi.all_states()\n",
    "    if not spinless:\n",
    "        all_config = [from_netket_config_to_quimb_config(config) for config in all_config]\n",
    "    psi = np.asarray([peps.get_amp(config, conj=True).contract() for config in all_config])\n",
    "    # print(psi)\n",
    "    psi = psi/do('linalg.norm', psi)\n",
    "    return psi\n",
    "\n",
    "def compute_energy_check(model, hamiltonian):\n",
    "    psi_gs = to_array_check(model)\n",
    "    return psi_gs.conj().T@(hamiltonian@psi_gs)/N\n",
    "\n",
    "hamiltonian = H\n",
    "\n",
    "compute_energy_check(peps, hamiltonian)"
   ]
  },
  {
   "cell_type": "code",
   "execution_count": null,
   "metadata": {},
   "outputs": [],
   "source": [
    "n_site = N_terms[(0,0)]\n",
    "inda, indb = 'a', 'b'\n",
    "product_state1 = sr.FermionicArray.from_blocks(blocks={(2,):np.array([1])}, duals=(True,),symmetry='U1', charge=2, oddpos=1)\n",
    "product_state2 = sr.FermionicArray.from_blocks(blocks={(2,):np.array([1])}, duals=(True,),symmetry='U1', charge=2, oddpos=2)\n",
    "n_site_tensor = qtn.Tensor(data=n_site, inds=(inda,indb), tags=(f'I{inda},{indb}',))\n",
    "product_state_tensor1 = qtn.Tensor(data=product_state1, inds=(inda,), tags=(f'I{inda}',))\n",
    "product_state_tensor2 = qtn.Tensor(data=product_state2, inds=(indb,), tags=(f'I{indb}',))\n",
    "(product_state_tensor1.conj()|n_site_tensor|product_state_tensor2).contract(), (product_state_tensor1|product_state_tensor1.conj()).contract(), (n_site_tensor|product_state_tensor1.conj()).contract().data.to_dense()"
   ]
  },
  {
   "cell_type": "markdown",
   "metadata": {},
   "source": [
    "# Cyclic PEPS"
   ]
  },
  {
   "cell_type": "code",
   "execution_count": 5,
   "metadata": {},
   "outputs": [],
   "source": [
    "peps = qtn.PEPS.rand(4, 4, 4, cyclic=True)"
   ]
  },
  {
   "cell_type": "code",
   "execution_count": 13,
   "metadata": {},
   "outputs": [],
   "source": [
    "# SU in quimb\n",
    "D = 4\n",
    "seed = 2\n",
    "symmetry = 'Z2'\n",
    "cyclic = True\n",
    "# peps, parity_config = generate_random_fpeps(Lx, Ly, D, seed, symmetry, Nf=N_f)\n",
    "\n",
    "edges = qtn.edges_2d_square(Lx, Ly, cyclic=cyclic)\n",
    "site_info = sr.utils.parse_edges_to_site_info(\n",
    "    edges,\n",
    "    D,\n",
    "    phys_dim=2,\n",
    "    site_ind_id=\"k{},{}\",\n",
    "    site_tag_id=\"I{},{}\",\n",
    ")\n",
    "\n",
    "peps = qtn.TensorNetwork()\n",
    "parity_config = np.zeros(Lx*Ly, dtype=int)\n",
    "rng = np.random.default_rng(seed)\n",
    "for site, info in sorted(site_info.items()):\n",
    "    tid = site[0] * Ly + site[1]\n",
    "    # bond index charge distribution\n",
    "    block_indices = [\n",
    "        sr.BlockIndex({0: d // 2, 1: d // 2}, dual=dual)\n",
    "        for d, dual in zip(info[\"shape\"][:-1], info[\"duals\"][:-1])\n",
    "    ]\n",
    "\n",
    "    # physical index\n",
    "    p = info['shape'][-1]\n",
    "    block_indices.append(\n",
    "        sr.BlockIndex({0: p // 2, 1: p // 2}, dual=info[\"duals\"][-1])\n",
    "    )\n",
    "\n",
    "    data = sr.Z2FermionicArray.random(\n",
    "        block_indices,\n",
    "        charge=1 if parity_config[tid] else 0,\n",
    "        seed=rng,\n",
    "        oddpos=2*tid,\n",
    "    )\n",
    "\n",
    "    peps |= qtn.Tensor(\n",
    "        data=data,\n",
    "        inds=info[\"inds\"],\n",
    "        tags=info[\"tags\"],\n",
    "    )\n",
    "\n",
    "# required to view general TN as an actual PEPS\n",
    "for i, j in site_info:\n",
    "    peps[f\"I{i},{j}\"].add_tag([f\"X{i}\", f\"Y{j}\"])\n",
    "\n",
    "peps.view_as_(\n",
    "    fPEPS,\n",
    "    site_ind_id=\"k{},{}\",\n",
    "    site_tag_id=\"I{},{}\",\n",
    "    x_tag_id=\"X{}\",\n",
    "    y_tag_id=\"Y{}\",\n",
    "    Lx=Lx,\n",
    "    Ly=Ly,\n",
    ")\n",
    "peps = peps.copy() # set symmetry during initialization"
   ]
  },
  {
   "cell_type": "code",
   "execution_count": null,
   "metadata": {},
   "outputs": [],
   "source": [
    "peps.draw()"
   ]
  }
 ],
 "metadata": {
  "kernelspec": {
   "display_name": "vmc_torch",
   "language": "python",
   "name": "python3"
  },
  "language_info": {
   "codemirror_mode": {
    "name": "ipython",
    "version": 3
   },
   "file_extension": ".py",
   "mimetype": "text/x-python",
   "name": "python",
   "nbconvert_exporter": "python",
   "pygments_lexer": "ipython3",
   "version": "3.9.20"
  }
 },
 "nbformat": 4,
 "nbformat_minor": 2
}
