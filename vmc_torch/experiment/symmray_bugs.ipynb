{
 "cells": [
  {
   "cell_type": "code",
   "execution_count": 1,
   "metadata": {},
   "outputs": [
    {
     "data": {
      "text/plain": [
       "FermionicArray<Z2>(0.0, charge=1, num_blocks=0)"
      ]
     },
     "execution_count": 1,
     "metadata": {},
     "output_type": "execute_result"
    }
   ],
   "source": [
    "from symmray.abelian_core import _tensordot_via_fused, drop_misaligned_sectors\n",
    "import symmray as sr\n",
    "\n",
    "a = sr.FermionicArray.from_blocks(blocks={(0,):1}, charge=0, symmetry='Z2', duals=(True,))\n",
    "b = sr.FermionicArray.from_blocks(blocks={(1,):1}, charge=1, symmetry='Z2', duals=(False,), oddpos=1)\n",
    "_tensordot_via_fused(a, b, axes_a=(0,), axes_b=(0,), left_axes=(),right_axes=())\n"
   ]
  }
 ],
 "metadata": {
  "kernelspec": {
   "display_name": "vmc_torch",
   "language": "python",
   "name": "python3"
  },
  "language_info": {
   "codemirror_mode": {
    "name": "ipython",
    "version": 3
   },
   "file_extension": ".py",
   "mimetype": "text/x-python",
   "name": "python",
   "nbconvert_exporter": "python",
   "pygments_lexer": "ipython3",
   "version": "3.9.20"
  }
 },
 "nbformat": 4,
 "nbformat_minor": 2
}
