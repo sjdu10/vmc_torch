{
 "cells": [
  {
   "cell_type": "code",
   "execution_count": 14,
   "metadata": {},
   "outputs": [
    {
     "name": "stdout",
     "output_type": "stream",
     "text": [
      "Exact ground state energy per site: -0.5811388300841901\n"
     ]
    }
   ],
   "source": [
    "import netket as nk\n",
    "import netket.experimental as nkx\n",
    "import netket.nn as nknn\n",
    "\n",
    "from math import pi\n",
    "\n",
    "from netket.experimental.operator.fermion import destroy as c\n",
    "from netket.experimental.operator.fermion import create as cdag\n",
    "from netket.experimental.operator.fermion import number as nc\n",
    "\n",
    "from vmc_torch.fermion_utils import generate_random_fpeps, product_bra_state, get_amp\n",
    "import quimb.tensor as qtn\n",
    "from autoray import do\n",
    "import symmray as sr\n",
    "import pickle\n",
    "import os\n",
    "os.environ['NUMBA_NUM_THREADS'] = '20'\n",
    "\n",
    "# Define the lattice shape\n",
    "L = 4  # Side of the square\n",
    "Lx = int(L/2)\n",
    "Ly = int(L/2)\n",
    "# graph = nk.graph.Square(L)\n",
    "graph = nk.graph.Grid([Lx,Ly], pbc=False)\n",
    "N = graph.n_nodes\n",
    "\n",
    "\n",
    "# Define the fermion filling and the Hilbert space\n",
    "# N_f = int(Lx*Ly/2)\n",
    "N_f = 3\n",
    "hi = nkx.hilbert.SpinOrbitalFermions(N, s=1/2, n_fermions=N_f)\n",
    "# hi = nkx.hilbert.SpinOrbitalFermions(N, s=1/2, n_fermions_per_spin=(N_f//2,N_f//2))\n",
    "\n",
    "\n",
    "# Define the Hubbard Hamiltonian\n",
    "t = 1.0\n",
    "U = 8.0\n",
    "mu = 0.0\n",
    "\n",
    "H = 0.0\n",
    "for (i, j) in graph.edges(): # Definition of the Hubbard Hamiltonian\n",
    "    for spin in (1,-1):\n",
    "        H -= t * (cdag(hi,i,spin) * c(hi,j,spin) + cdag(hi,j,spin) * c(hi,i,spin))\n",
    "for i in graph.nodes():\n",
    "    H += U * nc(hi,i,+1) * nc(hi,i,-1)\n",
    "\n",
    "\n",
    "# Exact diagonalization of the Hamiltonian for benchmark\n",
    "sp_h = H.to_sparse() # Convert the Hamiltonian to a sparse matrix\n",
    "from scipy.sparse.linalg import eigsh\n",
    "from scipy.linalg import eigh\n",
    "try:\n",
    "    eig_vals, eig_vecs = eigsh(sp_h, k=2, which=\"SA\")\n",
    "    E_gs = eig_vals[0]\n",
    "    psi_gs = eig_vecs[:,0]\n",
    "except:\n",
    "    eig_val, eig_vec = eigh(sp_h.toarray())\n",
    "    E_gs = eig_val\n",
    "    psi_gs = eig_vec[:,0]\n",
    "\n",
    "print(\"Exact ground state energy per site:\", E_gs/N)"
   ]
  },
  {
   "cell_type": "code",
   "execution_count": 15,
   "metadata": {},
   "outputs": [],
   "source": [
    "import jax\n",
    "import numpy as np\n",
    "random_seed = np.random.randint(2**32 - 1)\n",
    "config = hi.random_state(key=jax.random.PRNGKey(random_seed))\n",
    "\n",
    "# --- Utils ---\n",
    "def from_netket_config_to_quimb_config(netket_configs):\n",
    "    def func(netket_config):\n",
    "        \"\"\"Translate netket spin-1/2 config to tensor network product state config\"\"\"\n",
    "        total_sites = len(netket_config)//2\n",
    "        spin_up = netket_config[:total_sites]\n",
    "        spin_down = netket_config[total_sites:]\n",
    "        sum_spin = spin_up + spin_down\n",
    "        quimb_config = np.zeros(total_sites, dtype=int)\n",
    "        for i in range(total_sites):\n",
    "            if sum_spin[i] == 0:\n",
    "                quimb_config[i] = 0\n",
    "            if sum_spin[i] == 2:\n",
    "                quimb_config[i] = 3\n",
    "            if sum_spin[i] == 1:\n",
    "                if spin_down[i] == 1:\n",
    "                    quimb_config[i] = 1\n",
    "                else:\n",
    "                    quimb_config[i] = 2\n",
    "        return quimb_config\n",
    "    if len(netket_configs.shape) == 1:\n",
    "        return func(netket_configs)\n",
    "    else:\n",
    "        # batched\n",
    "        return np.array([func(netket_config) for netket_config in netket_configs])\n",
    "\n",
    "def from_quimb_config_to_netket_config(quimb_config):\n",
    "    \"\"\"Translate tensor network product state config to netket spin-1/2 config\"\"\"\n",
    "    total_sites = len(quimb_config)\n",
    "    spin_up = np.zeros(total_sites, dtype=int)\n",
    "    spin_down = np.zeros(total_sites, dtype=int)\n",
    "    for i in range(total_sites):\n",
    "        if quimb_config[i] == 0:\n",
    "            spin_up[i] = 0\n",
    "            spin_down[i] = 0\n",
    "        if quimb_config[i] == 1:\n",
    "            spin_up[i] = 0\n",
    "            spin_down[i] = 1\n",
    "        if quimb_config[i] == 2:\n",
    "            spin_up[i] = 1\n",
    "            spin_down[i] = 0\n",
    "        if quimb_config[i] == 3:\n",
    "            spin_up[i] = 1\n",
    "            spin_down[i] = 1\n",
    "    return np.concatenate((spin_up, spin_down))\n"
   ]
  },
  {
   "cell_type": "markdown",
   "metadata": {},
   "source": [
    "# Spinful PEPS"
   ]
  },
  {
   "cell_type": "code",
   "execution_count": 16,
   "metadata": {},
   "outputs": [
    {
     "name": "stderr",
     "output_type": "stream",
     "text": [
      "n=25, tau=0.3000, energy~-0.531665: 100%|##########| 25/25 [00:00<00:00, 71.92it/s]\n"
     ]
    }
   ],
   "source": [
    "D = 4\n",
    "seed = 2\n",
    "symmetry = 'U1'\n",
    "spinless = False\n",
    "peps = generate_random_fpeps(Lx, Ly, D=4, seed=2, symmetry=symmetry, Nf=N_f, spinless=spinless)[0]\n",
    "edges = qtn.edges_2d_square(Lx, Ly, cyclic=False)\n",
    "site_info = sr.utils.parse_edges_to_site_info(\n",
    "    edges,\n",
    "    D,\n",
    "    phys_dim=4,\n",
    "    site_ind_id=\"k{},{}\",\n",
    "    site_tag_id=\"I{},{}\",\n",
    ")\n",
    "\n",
    "terms = {\n",
    "    (sitea, siteb): sr.fermi_hubbard_local_array(\n",
    "        t=t, U=U, mu=mu,\n",
    "        symmetry=symmetry,\n",
    "        coordinations=(\n",
    "            site_info[sitea]['coordination'],\n",
    "            site_info[siteb]['coordination'],\n",
    "        ),\n",
    "    ).fuse((0, 1), (2, 3))\n",
    "    for (sitea, siteb) in peps.gen_bond_coos()\n",
    "}\n",
    "ham = qtn.LocalHam2D(Lx, Ly, terms)\n",
    "\n",
    "su = qtn.SimpleUpdateGen(peps, ham, compute_energy_per_site=True,D=D, compute_energy_opts={\"max_distance\":2}, gate_opts={'cutoff':1e-10})\n",
    "su.evolve(25, tau=0.3)\n",
    "peps = su.state\n",
    "gs = su.get_state()"
   ]
  },
  {
   "cell_type": "code",
   "execution_count": 17,
   "metadata": {},
   "outputs": [],
   "source": [
    "import numpy as np\n",
    "def product_bra_state(psi, config, check=False,reverse=False, dualness=False):\n",
    "    product_tn = qtn.TensorNetwork()\n",
    "    backend = psi.tensors[0].data.backend\n",
    "    dtype = eval(backend+'.'+psi.tensors[0].data.dtype)\n",
    "    if psi.spinless:\n",
    "        index_map = {0: 0, 1: 1}\n",
    "        array_map = {\n",
    "            0: do('array',[1.0],like=backend,dtype=dtype), \n",
    "            1: do('array',[1.0],like=backend,dtype=dtype)\n",
    "        }\n",
    "    else:\n",
    "        if psi.symmetry == 'Z2':\n",
    "            index_map = {0:0, 1:1, 2:1, 3:0}\n",
    "            array_map = {\n",
    "                0: do('array',[1.0, 0.0],like=backend,dtype=dtype), \n",
    "                1: do('array',[1.0, 0.0],like=backend,dtype=dtype), \n",
    "                2: do('array',[0.0, 1.0],like=backend,dtype=dtype), \n",
    "                3: do('array',[0.0, 1.0],like=backend,dtype=dtype)\n",
    "            }\n",
    "        elif psi.symmetry == 'U1':\n",
    "            index_map = {0:0, 1:1, 2:1, 3:2}\n",
    "            array_map = {\n",
    "                0: do('array',[1.0],like=backend,dtype=dtype), \n",
    "                1: do('array',[1.0, 0.0],like=backend,dtype=dtype), \n",
    "                2: do('array',[0.0, 1.0],like=backend,dtype=dtype), \n",
    "                3: do('array',[1.0],like=backend,dtype=dtype)\n",
    "            }\n",
    "    iter = zip(config, psi.sites) if not reverse else zip(config[::-1], psi.sites[::-1])\n",
    "    for n, site in iter:\n",
    "        p_ind = psi.site_ind_id.format(*site)\n",
    "        p_tag = psi.site_tag_id.format(*site)\n",
    "        tid = psi.sites.index(site)\n",
    "\n",
    "        n_charge = index_map[int(n)]\n",
    "        n_array = array_map[int(n)]\n",
    "\n",
    "        oddpos = None\n",
    "        if not psi.spinless:\n",
    "            if int(n) == 1:\n",
    "                oddpos = (3*tid+1)*(-1)#**reverse\n",
    "            elif int(n) == 2:\n",
    "                oddpos = (3*tid+2)*(-1)#**reverse\n",
    "            elif int(n) == 3:\n",
    "                # oddpos = ((3*tid+1)*(-1)**reverse, (3*tid+2)*(-1)**reverse)\n",
    "                oddpos = None\n",
    "        else:\n",
    "            oddpos = (3*tid+1)*(-1)**reverse\n",
    "        \n",
    "        tsr_data = sr.FermionicArray.from_blocks(\n",
    "            blocks={(n_charge,):n_array}, \n",
    "            duals=(dualness,),\n",
    "            symmetry=psi.symmetry, \n",
    "            charge=n_charge, \n",
    "            oddpos=oddpos\n",
    "        )\n",
    "        if check:\n",
    "            if int(n)==0:\n",
    "                blocks = {(0,): do('array',[1.0],like=backend,dtype=dtype), (1,): do('array',[0.0, 0.0],like=backend,dtype=dtype), (2,):do('array',[0.0],like=backend,dtype=dtype)}\n",
    "            elif int(n)==1:\n",
    "                blocks = {(0,): do('array',[0.0],like=backend,dtype=dtype), (1,): do('array',[1.0, 0.0],like=backend,dtype=dtype), (2,):do('array',[0.0],like=backend,dtype=dtype)}\n",
    "            elif int(n)==2:\n",
    "                blocks = {(0,): do('array',[0.0],like=backend,dtype=dtype), (1,): do('array',[0.0, 1.0],like=backend,dtype=dtype), (2,):do('array',[0.0],like=backend,dtype=dtype)}\n",
    "            elif int(n)==3:\n",
    "                blocks = {(0,): do('array',[0.0],like=backend,dtype=dtype), (1,): do('array',[0.0, 0.0],like=backend,dtype=dtype), (2,):do('array',[1.0],like=backend,dtype=dtype)}\n",
    "            tsr_data = sr.FermionicArray.from_blocks(\n",
    "                blocks=blocks, \n",
    "                duals=(dualness,),\n",
    "                symmetry=psi.symmetry, \n",
    "                charge=n_charge, \n",
    "                oddpos=oddpos\n",
    "            )\n",
    "        tsr = qtn.Tensor(data=tsr_data, inds=(p_ind,),tags=(p_tag, 'bra', f'X{site[0]}', f'Y{site[1]}'))\n",
    "        product_tn |= tsr\n",
    "\n",
    "    product_tn.view_as_(\n",
    "        qtn.PEPS,\n",
    "        site_ind_id=\"k{},{}\",\n",
    "        site_tag_id=\"I{},{}\",\n",
    "        x_tag_id=\"X{}\",\n",
    "        y_tag_id=\"Y{}\",\n",
    "        Lx=psi.Lx,\n",
    "        Ly=psi.Ly,\n",
    "    )\n",
    "    return product_tn"
   ]
  },
  {
   "cell_type": "code",
   "execution_count": 18,
   "metadata": {},
   "outputs": [],
   "source": [
    "from symmray.symmetries import  calc_phase_permutation\n",
    "import numpy\n",
    "all_configs = hi.all_states()\n",
    "if not spinless:\n",
    "    # all_configs = [from_netket_config_to_quimb_config(config) for config in all_configs]\n",
    "    all_configs = from_netket_config_to_quimb_config(all_configs)\n",
    "phase_list = []\n",
    "axes = tuple(range(peps.nsites - 1, -1, -1))\n",
    "parity_map = {0:0, 1:1, 2:1, 3:0}\n",
    "\n",
    "for config in all_configs:\n",
    "    config_parity = np.array([parity_map[config[i]] for i in range(len(config))])\n",
    "    perm_phase = calc_phase_permutation(tuple(config_parity), axes)\n",
    "    # print(config, perm_phase, config_parity)\n",
    "    phase_list.append(perm_phase)\n",
    "\n",
    "ket_list = [product_bra_state(peps, config, check=True, reverse=False, dualness=False) for config in all_configs]\n",
    "bra1_list = [product_bra_state(peps, config, check=True, reverse=True, dualness=True) for config in all_configs]\n",
    "bra_list = [product_bra_state(peps, config, check=True, reverse=True, dualness=False).conj() for config in all_configs]\n",
    "hamiltonian = H.to_dense()"
   ]
  },
  {
   "cell_type": "code",
   "execution_count": 19,
   "metadata": {},
   "outputs": [],
   "source": [
    "def check_oddpos(tn):\n",
    "    oddpos_list = []\n",
    "    try:\n",
    "        for array in tn.arrays:\n",
    "            oddpos_list.append(array.oddpos)\n",
    "        return oddpos_list\n",
    "    except:\n",
    "        oddpos_list.append(tn.data.oddpos)\n",
    "        return oddpos_list"
   ]
  },
  {
   "cell_type": "code",
   "execution_count": 20,
   "metadata": {},
   "outputs": [],
   "source": [
    "from symmray.symmetries import  calc_phase_permutation\n",
    "from vmc_torch.fermion_utils import get_spinful_charge_map\n",
    "import itertools\n",
    "\n",
    "def calc_phase_hopping(where, config):\n",
    "    site1, site2 = where\n",
    "    site_ind1 = site1[0]*Ly + site1[1]\n",
    "    site_ind2 = site2[0]*Ly + site2[1]\n",
    "    parity_map = {0:0, 1:1, 2:1, 3:2}\n",
    "    parity_config = np.array([parity_map[config[i]] for i in range(len(config))])\n",
    "    if sum(parity_config[site_ind1+1:site_ind2])%2 == 0:\n",
    "        return 1\n",
    "    else:\n",
    "        return -1\n",
    "def calc_reverse_phase(config):\n",
    "    axes = tuple(range(len(config) - 1, -1, -1))\n",
    "    parity_map = {0:0, 1:1, 2:1, 3:0}\n",
    "    config_parity = np.array([parity_map[config[i]] for i in range(len(config))])\n",
    "    perm_phase = calc_phase_permutation(tuple(config_parity), axes)\n",
    "    perm_phase *= (-1)**np.count_nonzero(np.array(config)==3)\n",
    "    return perm_phase"
   ]
  },
  {
   "cell_type": "code",
   "execution_count": 21,
   "metadata": {},
   "outputs": [],
   "source": [
    "new_ham = np.zeros_like(hamiltonian)\n",
    "raw_matrix = np.zeros_like(hamiltonian)\n",
    "for i, j in itertools.product(range(len(bra_list)), repeat=2):\n",
    "    if hamiltonian[i,j] == 0:\n",
    "        continue\n",
    "    bra = bra_list[i]\n",
    "    ket = bra_list[j].conj()\n",
    "    config = all_configs[j]\n",
    "    matrix_element = 0\n",
    "    for where, G in ham.terms.items():\n",
    "        x = (bra|ket.gate(G, where=where, contract=True)).contract()\n",
    "        if x!=0:\n",
    "            raw_matrix[i,j] += x\n",
    "            # x *= calc_reverse_phase(config)\n",
    "            if i!=j:\n",
    "                x *= calc_phase_hopping(where, config)\n",
    "            matrix_element += x\n",
    "    new_ham[i,j] = matrix_element * (-1)**N_f"
   ]
  },
  {
   "cell_type": "markdown",
   "metadata": {},
   "source": [
    "# T--->---: Dual, ind-\n",
    "# T---<---: NOT dual, ind+\n",
    "\n",
    "# T1---<---T2: no parity factor, +-\n",
    "# T1--->---T2: has parity factor, -+"
   ]
  },
  {
   "cell_type": "code",
   "execution_count": 22,
   "metadata": {},
   "outputs": [
    {
     "name": "stdout",
     "output_type": "stream",
     "text": [
      "-0.5316648525122848 -0.20381149290496242 -0.0557336230549691\n"
     ]
    }
   ],
   "source": [
    "# Netket Hamiltonian energy check\n",
    "import numpy as np\n",
    "all_configs = hi.all_states()\n",
    "if not spinless:\n",
    "    # all_configs = [from_netket_config_to_quimb_config(config) for config in all_configs]\n",
    "    all_configs = from_netket_config_to_quimb_config(all_configs)\n",
    "\n",
    "# psi_vec = np.array([gs.get_amp(config).contract() for config in all_configs])\n",
    "psi_vec = np.array([(bra|gs).contract() for bra in bra_list])\n",
    "psi_vec_ket = np.array([(ket.conj()|gs).contract() for ket in ket_list])\n",
    "psi_vec = psi_vec/np.linalg.norm(psi_vec)\n",
    "psi_vec_ket = psi_vec_ket/np.linalg.norm(psi_vec_ket)\n",
    "\n",
    "print((psi_vec.conj().T @ (new_ham @ psi_vec))/N, (psi_vec.conj().T @ (hamiltonian @ psi_vec))/N, (psi_vec.conj().T @ (raw_matrix @ psi_vec))/N)"
   ]
  },
  {
   "cell_type": "code",
   "execution_count": 23,
   "metadata": {},
   "outputs": [],
   "source": [
    "def detect_hopping(configi, configj):\n",
    "    site_ls =  (configi-configj).nonzero()[0]\n",
    "    if len(site_ls) == 2:\n",
    "        return site_ls\n",
    "    else:\n",
    "        return None\n",
    "\n",
    "def calc_reverse_phase(config):\n",
    "    axes = tuple(range(len(config) - 1, -1, -1))\n",
    "    parity_map = {0:0, 1:1, 2:1, 3:0}\n",
    "    config_parity = np.array([parity_map[config[i]] for i in range(len(config))])\n",
    "    perm_phase = calc_phase_permutation(tuple(config_parity), axes)\n",
    "    perm_phase *= (-1)**np.count_nonzero(np.array(config)==3)\n",
    "    return perm_phase\n",
    "\n",
    "\n",
    "def detect_hopping(configi, configj):\n",
    "    site_ls =  (configi-configj).nonzero()[0]\n",
    "    if len(site_ls) == 2:\n",
    "        return site_ls\n",
    "    else:\n",
    "        return None\n",
    "\n",
    "def calc_phase_netket(configi, configj):\n",
    "    \"\"\"Calculate the phase factor for the matrix element in the netket basis, where all spin-up spins are placed before all spin-down spins\"\"\"\n",
    "    hopping = detect_hopping(configi, configj)\n",
    "    if hopping is not None:\n",
    "        netket_config_i = from_quimb_config_to_netket_config(configi)\n",
    "        netket_config_j = from_quimb_config_to_netket_config(configj)\n",
    "        netket_site_i, netket_site_j = (netket_config_i - netket_config_j).nonzero()[0]\n",
    "        phase = (-1)**(sum(netket_config_i[netket_site_i+1:netket_site_j])%2)\n",
    "        return phase\n",
    "    else:\n",
    "        return 1\n",
    "\n",
    "def calc_phase_symmray(configi, configj):\n",
    "    \"\"\"Calculate the operator matrix element phase in symmray, assuming local basis convention for spinful fermion is (|up, down>).\n",
    "    Globally, this convention gives a staggered spin configuration (|dududu...>) when the configuration is flattened to 1D.\"\"\"\n",
    "    hopping = detect_hopping(configi, configj)\n",
    "    if hopping is not None:\n",
    "        netket_config_i = from_quimb_config_to_netket_config(configi)\n",
    "        netket_config_j = from_quimb_config_to_netket_config(configj)\n",
    "        config_i_spin_up =netket_config_i[:len(netket_config_i)//2]\n",
    "        config_i_spin_down =netket_config_i[len(netket_config_i)//2:]\n",
    "        config_j_spin_up =netket_config_j[:len(netket_config_j)//2]\n",
    "        config_j_spin_down =netket_config_j[len(netket_config_j)//2:]\n",
    "        symmray_config_i = tuple()\n",
    "        symmray_config_j = tuple()\n",
    "        for i in range(len(config_i_spin_up)):\n",
    "            symmray_config_i += (config_i_spin_down[i], config_i_spin_up[i])\n",
    "            symmray_config_j += (config_j_spin_down[i], config_j_spin_up[i])\n",
    "        symmray_site_i, symmray_site_j = (np.asarray(symmray_config_i) - np.asarray(symmray_config_j)).nonzero()[0]\n",
    "        phase = (-1)**(sum(symmray_config_i[symmray_site_i+1:symmray_site_j])%2)\n",
    "        return phase\n",
    "    else:\n",
    "        return 1\n",
    "\n",
    "def calc_phase_correction_netket_symmray(configi, configj):\n",
    "    phase_netket = calc_phase_netket(configi, configj)\n",
    "    phase_symmray = calc_phase_symmray(configi, configj)\n",
    "    return phase_netket/phase_symmray"
   ]
  },
  {
   "cell_type": "code",
   "execution_count": 27,
   "metadata": {},
   "outputs": [],
   "source": [
    "# i_ls, j_ls = (new_ham[:20,:20]-hamiltonian[:20,:20]).nonzero()\n",
    "# i_ls, j_ls = range(20), range(20)\n",
    "new_ham1 = np.zeros_like(hamiltonian)\n",
    "corrected_hamiltonian = np.zeros_like(hamiltonian)\n",
    "for i, j in itertools.product(range(new_ham.shape[0]), repeat=2):\n",
    "    if detect_hopping(all_configs[i], all_configs[j]) is not None and hamiltonian[i,j]!=0:\n",
    "        # print(all_configs[i], all_configs[j])\n",
    "        config_i, config_j = all_configs[i], all_configs[j]\n",
    "        site_i, site_j = detect_hopping(all_configs[i], all_configs[j])\n",
    "\n",
    "        new_ham1[i,j] = calc_phase_symmray(config_i,config_j)*(-t)\n",
    "        corrected_hamiltonian[i,j] = hamiltonian[i,j]*calc_phase_correction_netket_symmray(config_i, config_j)\n",
    "    else:\n",
    "        if i==j:\n",
    "            # print(new_ham[i,j]==hamiltonian[i,j], new_ham[i,j], hamiltonian[i,j])\n",
    "            double_occupied_nsite = np.count_nonzero(np.array(all_configs[i])==3)\n",
    "            # print(double_occupied_nsite)\n",
    "            new_ham1[i,j] = U*double_occupied_nsite\n",
    "            corrected_hamiltonian[i,j] = U*double_occupied_nsite"
   ]
  },
  {
   "cell_type": "code",
   "execution_count": 28,
   "metadata": {},
   "outputs": [],
   "source": [
    "x_list, y_list = (new_ham-new_ham1).nonzero()\n",
    "for x, y in zip(x_list, y_list):\n",
    "    print(all_configs[x], all_configs[y], new_ham[x,y], new_ham1[x,y])"
   ]
  },
  {
   "cell_type": "code",
   "execution_count": 29,
   "metadata": {},
   "outputs": [
    {
     "data": {
      "text/plain": [
       "(np.float64(-0.5316648525122848), np.float64(-0.5316648525122848))"
      ]
     },
     "execution_count": 29,
     "metadata": {},
     "output_type": "execute_result"
    }
   ],
   "source": [
    "psi_vec @ (new_ham1 @ psi_vec)/N, psi_vec @ (corrected_hamiltonian @ psi_vec)/N"
   ]
  },
  {
   "cell_type": "code",
   "execution_count": 486,
   "metadata": {},
   "outputs": [
    {
     "name": "stdout",
     "output_type": "stream",
     "text": [
      "((0, 0), (0, 1)) -0.6179051591050442\n",
      "((0, 0), (1, 0)) -0.5085233505259702\n",
      "((0, 1), (1, 1)) -0.5066834316730553\n",
      "((1, 0), (1, 1)) -0.4721755616856362\n",
      "-0.5263218757474265\n"
     ]
    }
   ],
   "source": [
    "norm, ket, bra = peps.make_norm(return_all=True)\n",
    "E_sum = 0\n",
    "for where, G in ham.terms.items():\n",
    "    tn = bra|ket.gate(G, where=where, contract=False)\n",
    "    print(where, tn.contract()/norm.contract())\n",
    "    E_sum += tn.contract()/norm.contract()\n",
    "print(E_sum/N)\n",
    "where, G = list(ham.terms.items())[0]"
   ]
  },
  {
   "cell_type": "code",
   "execution_count": 89,
   "metadata": {},
   "outputs": [
    {
     "data": {
      "text/plain": [
       "np.float64(-0.48218401217401274)"
      ]
     },
     "execution_count": 89,
     "metadata": {},
     "output_type": "execute_result"
    }
   ],
   "source": [
    "import itertools\n",
    "# site 0 -- site 1\n",
    "where, G = list(ham.terms.items())[0]\n",
    "new_ham0 = np.zeros_like(hamiltonian)\n",
    "E_test=0\n",
    "for i, j in itertools.product(range(len(bra_list)), repeat=2):\n",
    "    bra = bra_list[i]\n",
    "    ket = ket_list[j]\n",
    "    x = (bra|ket.gate(G, where=where, contract=True)).contract()\n",
    "    if x!=0:\n",
    "        # print(all_configs[i], all_configs[j], x, hamiltonian[i,j])\n",
    "        x *= calc_reverse_phase(all_configs[i])\n",
    "        E_test += x * psi_vec[i].conj() * psi_vec[j]\n",
    "        new_ham0[i,j] += x\n",
    "E_test"
   ]
  },
  {
   "cell_type": "code",
   "execution_count": 91,
   "metadata": {},
   "outputs": [
    {
     "data": {
      "text/plain": [
       "np.float64(-0.6672034796311469)"
      ]
     },
     "execution_count": 91,
     "metadata": {},
     "output_type": "execute_result"
    }
   ],
   "source": [
    "# site 0 -- site 2\n",
    "where, G = list(ham.terms.items())[1]\n",
    "E_test=0\n",
    "for i, j in itertools.product(range(len(bra_list)), repeat=2):\n",
    "    bra = bra_list[i]\n",
    "    ket = ket_list[j]\n",
    "    x = (bra|ket.gate(G, where=where, contract=True)).contract()\n",
    "    if parity_map[all_configs[j][1]]==1 and x!=0 and i!=j:\n",
    "        x*= -1\n",
    "    if x!=0:\n",
    "        # print(all_configs[i], all_configs[j], psi_vec[i].conj(), psi_vec[j], x)\n",
    "        x *= calc_reverse_phase(all_configs[i])\n",
    "        E_test += x * psi_vec[i].conj() * psi_vec[j]\n",
    "        new_ham0[i,j] += x\n",
    "E_test"
   ]
  },
  {
   "cell_type": "code",
   "execution_count": 109,
   "metadata": {},
   "outputs": [
    {
     "data": {
      "text/plain": [
       "np.float64(-0.9472856447325668)"
      ]
     },
     "execution_count": 109,
     "metadata": {},
     "output_type": "execute_result"
    }
   ],
   "source": [
    "# site 1 -- site 3\n",
    "where, G = list(ham.terms.items())[2]\n",
    "E_test=0\n",
    "for i, j in itertools.product(range(len(bra_list)), repeat=2):\n",
    "    bra = bra_list[i]\n",
    "    ket = ket_list[j]\n",
    "    x = (bra|ket.gate(G, where=where, contract=True)).contract()\n",
    "    if parity_map[all_configs[j][2]]==1 and x!=0:\n",
    "        x*= -1\n",
    "    if x!=0:\n",
    "        # print(all_configs[i], all_configs[j], psi_vec[i].conj(), psi_vec[j], x)\\\n",
    "        x *= calc_reverse_phase(all_configs[i])\n",
    "        E_test += x * psi_vec[i].conj() * psi_vec[j]\n",
    "        new_ham0[i,j] += x\n",
    "E_test"
   ]
  },
  {
   "cell_type": "code",
   "execution_count": 108,
   "metadata": {},
   "outputs": [
    {
     "data": {
      "text/plain": [
       "np.float64(-0.28001258550654573)"
      ]
     },
     "execution_count": 108,
     "metadata": {},
     "output_type": "execute_result"
    }
   ],
   "source": [
    "# site 2 -- site 3\n",
    "where, G = list(ham.terms.items())[3]\n",
    "E_test=0\n",
    "for i, j in itertools.product(range(len(bra_list)), repeat=2):\n",
    "    bra = bra_list[i]\n",
    "    ket = ket_list[j]\n",
    "    x = (bra|ket.gate(G, where=where, contract=True)).contract()\n",
    "    if x!=0:\n",
    "        # print(all_configs[i], all_configs[j], psi_vec[i].conj(), psi_vec[j], x)\n",
    "        x *= calc_reverse_phase(all_configs[i])\n",
    "        E_test += x * psi_vec[i].conj() * psi_vec[j]\n",
    "        new_ham0[i,j] += x\n",
    "E_test"
   ]
  },
  {
   "cell_type": "code",
   "execution_count": 348,
   "metadata": {},
   "outputs": [
    {
     "data": {
      "text/plain": [
       "np.float64(-0.5514377150952766)"
      ]
     },
     "execution_count": 348,
     "metadata": {},
     "output_type": "execute_result"
    }
   ],
   "source": [
    "psi_vec @ (new_ham0 @ psi_vec)/N"
   ]
  },
  {
   "cell_type": "code",
   "execution_count": 25,
   "metadata": {},
   "outputs": [
    {
     "data": {
      "text/plain": [
       "(np.float64(0.12499999999999986), np.float64(-0.3220275415290801))"
      ]
     },
     "execution_count": 25,
     "metadata": {},
     "output_type": "execute_result"
    }
   ],
   "source": [
    "N_terms = {\n",
    "    site: sr.fermi_number_operator_spinful_local_array(\n",
    "        symmetry=symmetry\n",
    "    )\n",
    "    for site in peps.gen_site_coos()\n",
    "}\n",
    "gs = su.get_state()\n",
    "gs.compute_local_expectation(\n",
    "    N_terms, normalized=True, max_bond=64,\n",
    ")/N, gs.compute_local_expectation(\n",
    "    ham.terms, normalized=True, max_bond=128,\n",
    ")/N,"
   ]
  },
  {
   "cell_type": "code",
   "execution_count": null,
   "metadata": {},
   "outputs": [],
   "source": [
    "from symmray.fermionic_local_operators import  build_local_fermionic_elements, build_local_fermionic_dense, get_spinful_indexmap, build_local_fermionic_array\n",
    "au = sr.FermionicOperator(\"au\")\n",
    "ad = sr.FermionicOperator(\"ad\")\n",
    "basis_a = ((), (ad.dag,), (au.dag,), (au.dag, ad.dag))\n",
    "bases = (basis_a,)\n",
    "indexmap = get_spinful_indexmap('U1')\n",
    "terms = (\n",
    "    (1, (au.dag,)),\n",
    ")\n",
    "\n",
    "build_local_fermionic_elements(terms, bases)"
   ]
  },
  {
   "cell_type": "markdown",
   "metadata": {},
   "source": [
    "# Energy check"
   ]
  },
  {
   "cell_type": "code",
   "execution_count": null,
   "metadata": {},
   "outputs": [],
   "source": [
    "# Netket Hamiltonian energy check\n",
    "import numpy as np\n",
    "all_configs = hi.all_states()\n",
    "if not spinless:\n",
    "    # all_configs = [from_netket_config_to_quimb_config(config) for config in all_configs]\n",
    "    all_configs = from_netket_config_to_quimb_config(all_configs)\n",
    "\n",
    "psi_vec = np.array([gs.get_amp(config).contract() for config in all_configs])\n",
    "\n",
    "hamiltonian = H.to_dense()\n",
    "psi_vec = psi_vec/np.linalg.norm(psi_vec)\n",
    "print((psi_vec.conj().T @ (hamiltonian @ psi_vec))/N)"
   ]
  },
  {
   "cell_type": "code",
   "execution_count": null,
   "metadata": {},
   "outputs": [],
   "source": [
    "# Quimb energy check\n",
    "gs.compute_local_expectation(\n",
    "    ham.terms, normalized=True, max_bond=64,\n",
    ")/N"
   ]
  },
  {
   "cell_type": "code",
   "execution_count": null,
   "metadata": {},
   "outputs": [],
   "source": [
    "psi_gs, psi_vec"
   ]
  },
  {
   "cell_type": "code",
   "execution_count": null,
   "metadata": {},
   "outputs": [],
   "source": [
    "def to_array_check(peps):\n",
    "    all_config = hi.all_states()\n",
    "    if not spinless:\n",
    "        all_config = [from_netket_config_to_quimb_config(config) for config in all_config]\n",
    "    psi = np.asarray([peps.get_amp(config, conj=True).contract() for config in all_config])\n",
    "    # print(psi)\n",
    "    psi = psi/do('linalg.norm', psi)\n",
    "    return psi\n",
    "\n",
    "def compute_energy_check(model, hamiltonian):\n",
    "    psi_gs = to_array_check(model)\n",
    "    return psi_gs.conj().T@(hamiltonian@psi_gs)/N\n",
    "\n",
    "hamiltonian = H\n",
    "\n",
    "compute_energy_check(peps, hamiltonian)"
   ]
  },
  {
   "cell_type": "code",
   "execution_count": null,
   "metadata": {},
   "outputs": [],
   "source": [
    "n_site = N_terms[(0,0)]\n",
    "inda, indb = 'a', 'b'\n",
    "product_state1 = sr.FermionicArray.from_blocks(blocks={(2,):np.array([1])}, duals=(True,),symmetry='U1', charge=2, oddpos=1)\n",
    "product_state2 = sr.FermionicArray.from_blocks(blocks={(2,):np.array([1])}, duals=(True,),symmetry='U1', charge=2, oddpos=2)\n",
    "n_site_tensor = qtn.Tensor(data=n_site, inds=(inda,indb), tags=(f'I{inda},{indb}',))\n",
    "product_state_tensor1 = qtn.Tensor(data=product_state1, inds=(inda,), tags=(f'I{inda}',))\n",
    "product_state_tensor2 = qtn.Tensor(data=product_state2, inds=(indb,), tags=(f'I{indb}',))\n",
    "(product_state_tensor1.conj()|n_site_tensor|product_state_tensor2).contract(), (product_state_tensor1|product_state_tensor1.conj()).contract(), (n_site_tensor|product_state_tensor1.conj()).contract().data.to_dense()"
   ]
  },
  {
   "cell_type": "markdown",
   "metadata": {},
   "source": [
    "# Cyclic PEPS"
   ]
  },
  {
   "cell_type": "code",
   "execution_count": 5,
   "metadata": {},
   "outputs": [],
   "source": [
    "peps = qtn.PEPS.rand(4, 4, 4, cyclic=True)"
   ]
  },
  {
   "cell_type": "code",
   "execution_count": 13,
   "metadata": {},
   "outputs": [],
   "source": [
    "# SU in quimb\n",
    "D = 4\n",
    "seed = 2\n",
    "symmetry = 'Z2'\n",
    "cyclic = True\n",
    "# peps, parity_config = generate_random_fpeps(Lx, Ly, D, seed, symmetry, Nf=N_f)\n",
    "\n",
    "edges = qtn.edges_2d_square(Lx, Ly, cyclic=cyclic)\n",
    "site_info = sr.utils.parse_edges_to_site_info(\n",
    "    edges,\n",
    "    D,\n",
    "    phys_dim=2,\n",
    "    site_ind_id=\"k{},{}\",\n",
    "    site_tag_id=\"I{},{}\",\n",
    ")\n",
    "\n",
    "peps = qtn.TensorNetwork()\n",
    "parity_config = np.zeros(Lx*Ly, dtype=int)\n",
    "rng = np.random.default_rng(seed)\n",
    "for site, info in sorted(site_info.items()):\n",
    "    tid = site[0] * Ly + site[1]\n",
    "    # bond index charge distribution\n",
    "    block_indices = [\n",
    "        sr.BlockIndex({0: d // 2, 1: d // 2}, dual=dual)\n",
    "        for d, dual in zip(info[\"shape\"][:-1], info[\"duals\"][:-1])\n",
    "    ]\n",
    "\n",
    "    # physical index\n",
    "    p = info['shape'][-1]\n",
    "    block_indices.append(\n",
    "        sr.BlockIndex({0: p // 2, 1: p // 2}, dual=info[\"duals\"][-1])\n",
    "    )\n",
    "\n",
    "    data = sr.Z2FermionicArray.random(\n",
    "        block_indices,\n",
    "        charge=1 if parity_config[tid] else 0,\n",
    "        seed=rng,\n",
    "        oddpos=2*tid,\n",
    "    )\n",
    "\n",
    "    peps |= qtn.Tensor(\n",
    "        data=data,\n",
    "        inds=info[\"inds\"],\n",
    "        tags=info[\"tags\"],\n",
    "    )\n",
    "\n",
    "# required to view general TN as an actual PEPS\n",
    "for i, j in site_info:\n",
    "    peps[f\"I{i},{j}\"].add_tag([f\"X{i}\", f\"Y{j}\"])\n",
    "\n",
    "peps.view_as_(\n",
    "    fPEPS,\n",
    "    site_ind_id=\"k{},{}\",\n",
    "    site_tag_id=\"I{},{}\",\n",
    "    x_tag_id=\"X{}\",\n",
    "    y_tag_id=\"Y{}\",\n",
    "    Lx=Lx,\n",
    "    Ly=Ly,\n",
    ")\n",
    "peps = peps.copy() # set symmetry during initialization"
   ]
  },
  {
   "cell_type": "code",
   "execution_count": null,
   "metadata": {},
   "outputs": [],
   "source": [
    "peps.draw()"
   ]
  }
 ],
 "metadata": {
  "kernelspec": {
   "display_name": "vmc_torch",
   "language": "python",
   "name": "python3"
  },
  "language_info": {
   "codemirror_mode": {
    "name": "ipython",
    "version": 3
   },
   "file_extension": ".py",
   "mimetype": "text/x-python",
   "name": "python",
   "nbconvert_exporter": "python",
   "pygments_lexer": "ipython3",
   "version": "3.9.20"
  }
 },
 "nbformat": 4,
 "nbformat_minor": 2
}
