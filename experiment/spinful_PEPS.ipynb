{
 "cells": [
  {
   "cell_type": "code",
   "execution_count": 1,
   "metadata": {},
   "outputs": [
    {
     "name": "stderr",
     "output_type": "stream",
     "text": [
      "An NVIDIA GPU may be present on this machine, but a CUDA-enabled jaxlib is not installed. Falling back to cpu.\n",
      "/home/sijingdu/anaconda3/envs/vmc_torch/lib/python3.9/site-packages/tqdm/auto.py:21: TqdmWarning: IProgress not found. Please update jupyter and ipywidgets. See https://ipywidgets.readthedocs.io/en/stable/user_install.html\n",
      "  from .autonotebook import tqdm as notebook_tqdm\n",
      "/home/sijingdu/anaconda3/envs/vmc_torch/lib/python3.9/site-packages/numba/np/ufunc/parallel.py:371: NumbaWarning: The TBB threading layer requires TBB version 2021 update 6 or later i.e., TBB_INTERFACE_VERSION >= 12060. Found TBB_INTERFACE_VERSION = 12050. The TBB threading layer is disabled.\n",
      "  warnings.warn(problem)\n",
      "/home/sijingdu/anaconda3/envs/vmc_torch/lib/python3.9/site-packages/cotengra/hyperoptimizers/hyper.py:33: UserWarning: Couldn't import `kahypar` - skipping from default hyper optimizer and using basic `labels` method instead.\n",
      "  warnings.warn(\n"
     ]
    },
    {
     "name": "stdout",
     "output_type": "stream",
     "text": [
      "Exact ground state energy per site: -0.8019377358048383\n"
     ]
    }
   ],
   "source": [
    "import netket as nk\n",
    "import netket.experimental as nkx\n",
    "import netket.nn as nknn\n",
    "\n",
    "from math import pi\n",
    "\n",
    "from netket.experimental.operator.fermion import destroy as c\n",
    "from netket.experimental.operator.fermion import create as cdag\n",
    "from netket.experimental.operator.fermion import number as nc\n",
    "\n",
    "from vmc_torch.fermion_utils import generate_random_fpeps, product_bra_state\n",
    "import quimb.tensor as qtn\n",
    "from autoray import do\n",
    "import symmray as sr\n",
    "import pickle\n",
    "import os\n",
    "os.environ['NUMBA_NUM_THREADS'] = '20'\n",
    "\n",
    "# Define the lattice shape\n",
    "L = 4  # Side of the square\n",
    "Lx = int(L/2)\n",
    "Ly = int(L/2)\n",
    "# graph = nk.graph.Square(L)\n",
    "graph = nk.graph.Grid([Lx,Ly], pbc=False)\n",
    "N = graph.n_nodes\n",
    "\n",
    "\n",
    "# Define the fermion filling and the Hilbert space\n",
    "N_f = int(Lx*Ly/2)\n",
    "hi = nkx.hilbert.SpinOrbitalFermions(N, s=1/2, n_fermions=N_f)\n",
    "# hi = nkx.hilbert.SpinOrbitalFermions(N, s=1/2, n_fermions_per_spin=(N_f//2,N_f//2))\n",
    "\n",
    "\n",
    "# Define the Hubbard Hamiltonian\n",
    "t = 1.0\n",
    "U = 8.0\n",
    "mu = 0.0\n",
    "\n",
    "H = 0.0\n",
    "for (i, j) in graph.edges(): # Definition of the Hubbard Hamiltonian\n",
    "    for spin in (1,-1):\n",
    "        H -= t * (cdag(hi,i,spin) * c(hi,j,spin) + cdag(hi,j,spin) * c(hi,i,spin))\n",
    "for i in graph.nodes():\n",
    "    H += U * nc(hi,i,+1) * nc(hi,i,-1)\n",
    "\n",
    "\n",
    "# Exact diagonalization of the Hamiltonian for benchmark\n",
    "sp_h = H.to_sparse() # Convert the Hamiltonian to a sparse matrix\n",
    "from scipy.sparse.linalg import eigsh\n",
    "from scipy.linalg import eigh\n",
    "try:\n",
    "    eig_vals, eig_vecs = eigsh(sp_h, k=2, which=\"SA\")\n",
    "    E_gs = eig_vals[0]\n",
    "    psi_gs = eig_vecs[:,0]\n",
    "except:\n",
    "    eig_val, eig_vec = eigh(sp_h.toarray())\n",
    "    E_gs = eig_val\n",
    "    psi_gs = eig_vec[:,0]\n",
    "\n",
    "print(\"Exact ground state energy per site:\", E_gs/N)"
   ]
  },
  {
   "cell_type": "code",
   "execution_count": 35,
   "metadata": {},
   "outputs": [],
   "source": [
    "import jax\n",
    "import numpy as np\n",
    "random_seed = np.random.randint(2**32 - 1)\n",
    "config = hi.random_state(key=jax.random.PRNGKey(random_seed))\n",
    "\n",
    "# --- Utils ---\n",
    "def from_netket_config_to_quimb_config(netket_configs):\n",
    "    def func(netket_config):\n",
    "        \"\"\"Translate netket spin-1/2 config to tensor network product state config\"\"\"\n",
    "        total_sites = len(netket_config)//2\n",
    "        spin_up = netket_config[:total_sites]\n",
    "        spin_down = netket_config[total_sites:]\n",
    "        sum_spin = spin_up + spin_down\n",
    "        quimb_config = np.zeros(total_sites, dtype=int)\n",
    "        for i in range(total_sites):\n",
    "            if sum_spin[i] == 0:\n",
    "                quimb_config[i] = 0\n",
    "            if sum_spin[i] == 2:\n",
    "                quimb_config[i] = 3\n",
    "            if sum_spin[i] == 1:\n",
    "                if spin_down[i] == 1:\n",
    "                    quimb_config[i] = 1\n",
    "                else:\n",
    "                    quimb_config[i] = 2\n",
    "        return quimb_config\n",
    "    if len(netket_configs.shape) == 1:\n",
    "        return func(netket_configs)\n",
    "    else:\n",
    "        # batched\n",
    "        return np.array([func(netket_config) for netket_config in netket_configs])\n",
    "\n",
    "def from_quimb_config_to_netket_config(quimb_config):\n",
    "    \"\"\"Translate tensor network product state config to netket spin-1/2 config\"\"\"\n",
    "    total_sites = len(quimb_config)\n",
    "    spin_up = np.zeros(total_sites, dtype=int)\n",
    "    spin_down = np.zeros(total_sites, dtype=int)\n",
    "    for i in range(total_sites):\n",
    "        if quimb_config[i] == 0:\n",
    "            spin_up[i] = 0\n",
    "            spin_down[i] = 0\n",
    "        if quimb_config[i] == 1:\n",
    "            spin_up[i] = 0\n",
    "            spin_down[i] = 1\n",
    "        if quimb_config[i] == 2:\n",
    "            spin_up[i] = 1\n",
    "            spin_down[i] = 0\n",
    "        if quimb_config[i] == 3:\n",
    "            spin_up[i] = 1\n",
    "            spin_down[i] = 1\n",
    "    return np.concatenate((spin_up, spin_down))\n"
   ]
  },
  {
   "cell_type": "markdown",
   "metadata": {},
   "source": [
    "# Spinful PEPS"
   ]
  },
  {
   "cell_type": "code",
   "execution_count": 3,
   "metadata": {},
   "outputs": [
    {
     "name": "stderr",
     "output_type": "stream",
     "text": [
      "n=20, tau=0.3000, energy~-0.765082: 100%|##########| 20/20 [00:00<00:00, 54.98it/s]\n"
     ]
    }
   ],
   "source": [
    "D = 4\n",
    "seed = 2\n",
    "symmetry = 'U1'\n",
    "spinless = False\n",
    "peps = generate_random_fpeps(Lx, Ly, D=4, seed=2, symmetry=symmetry, Nf=N_f, spinless=spinless)[0]\n",
    "edges = qtn.edges_2d_square(Lx, Ly, cyclic=False)\n",
    "site_info = sr.utils.parse_edges_to_site_info(\n",
    "    edges,\n",
    "    D,\n",
    "    phys_dim=4,\n",
    "    site_ind_id=\"k{},{}\",\n",
    "    site_tag_id=\"I{},{}\",\n",
    ")\n",
    "\n",
    "t = 1.0\n",
    "U = 8.0\n",
    "mu = 0.0\n",
    "\n",
    "terms = {\n",
    "    (sitea, siteb): sr.fermi_hubbard_local_array(\n",
    "        t=t, U=U, mu=mu,\n",
    "        symmetry=symmetry,\n",
    "        coordinations=(\n",
    "            site_info[sitea]['coordination'],\n",
    "            site_info[siteb]['coordination'],\n",
    "        ),\n",
    "    ).fuse((0, 1), (2, 3))\n",
    "    for (sitea, siteb) in peps.gen_bond_coos()\n",
    "}\n",
    "ham = qtn.LocalHam2D(Lx, Ly, terms)\n",
    "\n",
    "su = qtn.SimpleUpdateGen(peps, ham, compute_energy_per_site=True,D=D, compute_energy_opts={\"max_distance\":2}, gate_opts={'cutoff':1e-10})\n",
    "su.evolve(20, tau=0.3)\n",
    "peps = su.state\n",
    "gs = su.get_state()\n",
    "# peps.arrays"
   ]
  },
  {
   "cell_type": "code",
   "execution_count": 36,
   "metadata": {},
   "outputs": [
    {
     "data": {
      "text/plain": [
       "(np.float64(0.5), -0.7650824957671803)"
      ]
     },
     "execution_count": 36,
     "metadata": {},
     "output_type": "execute_result"
    }
   ],
   "source": [
    "N_terms = {\n",
    "    site: sr.fermi_number_operator_spinful_local_array(\n",
    "        symmetry=symmetry\n",
    "    )\n",
    "    for site in peps.gen_site_coos()\n",
    "}\n",
    "gs = su.get_state()\n",
    "gs.compute_local_expectation(\n",
    "    N_terms, normalized=True, max_bond=64,\n",
    ")/N, gs.compute_local_expectation(\n",
    "    ham.terms, normalized=True, max_bond=128,\n",
    ")/N,"
   ]
  },
  {
   "cell_type": "code",
   "execution_count": 38,
   "metadata": {},
   "outputs": [
    {
     "name": "stdout",
     "output_type": "stream",
     "text": [
      "-0.7650824957671805\n"
     ]
    }
   ],
   "source": [
    "# Netket Hamiltonian energy check\n",
    "import numpy as np\n",
    "all_configs = hi.all_states()\n",
    "if not spinless:\n",
    "    # all_configs = [from_netket_config_to_quimb_config(config) for config in all_configs]\n",
    "    all_configs = from_netket_config_to_quimb_config(all_configs)\n",
    "\n",
    "psi_vec = np.array([gs.get_amp(config).contract() for config in all_configs])\n",
    "\n",
    "hamiltonian = H.to_dense()\n",
    "psi_vec = psi_vec/np.linalg.norm(psi_vec)\n",
    "print((psi_vec.conj().T @ (hamiltonian @ psi_vec))/N)"
   ]
  },
  {
   "cell_type": "code",
   "execution_count": 42,
   "metadata": {},
   "outputs": [
    {
     "data": {
      "text/plain": [
       "(array([0, 1, 1, 0, 0, 0, 0, 0]), array([0, 2, 2, 0]))"
      ]
     },
     "execution_count": 42,
     "metadata": {},
     "output_type": "execute_result"
    }
   ],
   "source": [
    "config_0 = all_configs[20]\n",
    "netket_config_0 = from_quimb_config_to_netket_config(config_0)\n",
    "netket_config_0, config_0"
   ]
  },
  {
   "cell_type": "code",
   "execution_count": 28,
   "metadata": {},
   "outputs": [
    {
     "data": {
      "text/plain": [
       "(array([[1, 0, 1, 0, 0, 0, 0, 0],\n",
       "        [1, 1, 0, 0, 0, 0, 0, 0],\n",
       "        [0, 1, 0, 1, 0, 0, 0, 0],\n",
       "        [0, 0, 1, 1, 0, 0, 0, 0]]),\n",
       " array([-1.,  1., -1.,  1.]))"
      ]
     },
     "execution_count": 28,
     "metadata": {},
     "output_type": "execute_result"
    }
   ],
   "source": [
    "H.get_conn(netket_config_0)"
   ]
  },
  {
   "cell_type": "code",
   "execution_count": 35,
   "metadata": {},
   "outputs": [
    {
     "data": {
      "text/plain": [
       "-0.7665835745817513"
      ]
     },
     "execution_count": 35,
     "metadata": {},
     "output_type": "execute_result"
    }
   ],
   "source": [
    "# Quimb energy check\n",
    "gs.compute_local_expectation(\n",
    "    ham.terms, normalized=True, max_bond=64,\n",
    ")/N"
   ]
  },
  {
   "cell_type": "code",
   "execution_count": 36,
   "metadata": {},
   "outputs": [
    {
     "data": {
      "text/plain": [
       "np.float64(-0.7665835745817514)"
      ]
     },
     "execution_count": 36,
     "metadata": {},
     "output_type": "execute_result"
    }
   ],
   "source": [
    "def to_array_check(peps):\n",
    "    all_config = hi.all_states()\n",
    "    if not spinless:\n",
    "        all_config = [from_netket_config_to_quimb_config(config) for config in all_config]\n",
    "    psi = np.asarray([peps.get_amp(config, conj=True).contract() for config in all_config])\n",
    "    # print(psi)\n",
    "    psi = psi/do('linalg.norm', psi)\n",
    "    return psi\n",
    "\n",
    "def compute_energy_check(model, hamiltonian):\n",
    "    psi_gs = to_array_check(model)\n",
    "    return psi_gs.conj().T@(hamiltonian@psi_gs)/N\n",
    "\n",
    "hamiltonian = H\n",
    "\n",
    "compute_energy_check(peps, hamiltonian)"
   ]
  },
  {
   "cell_type": "code",
   "execution_count": 5,
   "metadata": {},
   "outputs": [
    {
     "data": {
      "text/plain": [
       "(2.0, 1, array([0., 0., 0., 2.]))"
      ]
     },
     "execution_count": 5,
     "metadata": {},
     "output_type": "execute_result"
    }
   ],
   "source": [
    "n_site = N_terms[(0,0)]\n",
    "inda, indb = 'a', 'b'\n",
    "product_state1 = sr.FermionicArray.from_blocks(blocks={(2,):np.array([1])}, duals=(True,),symmetry='U1', charge=2, oddpos=1)\n",
    "product_state2 = sr.FermionicArray.from_blocks(blocks={(2,):np.array([1])}, duals=(True,),symmetry='U1', charge=2, oddpos=2)\n",
    "n_site_tensor = qtn.Tensor(data=n_site, inds=(inda,indb), tags=(f'I{inda},{indb}',))\n",
    "product_state_tensor1 = qtn.Tensor(data=product_state1, inds=(inda,), tags=(f'I{inda}',))\n",
    "product_state_tensor2 = qtn.Tensor(data=product_state2, inds=(indb,), tags=(f'I{indb}',))\n",
    "(product_state_tensor1.conj()|n_site_tensor|product_state_tensor2).contract(), (product_state_tensor1|product_state_tensor1.conj()).contract(), (n_site_tensor|product_state_tensor1.conj()).contract().data.to_dense()"
   ]
  },
  {
   "cell_type": "markdown",
   "metadata": {},
   "source": [
    "# Cyclic PEPS"
   ]
  },
  {
   "cell_type": "code",
   "execution_count": 5,
   "metadata": {},
   "outputs": [],
   "source": [
    "peps = qtn.PEPS.rand(4, 4, 4, cyclic=True)"
   ]
  },
  {
   "cell_type": "code",
   "execution_count": 13,
   "metadata": {},
   "outputs": [],
   "source": [
    "# SU in quimb\n",
    "D = 4\n",
    "seed = 2\n",
    "symmetry = 'Z2'\n",
    "cyclic = True\n",
    "# peps, parity_config = generate_random_fpeps(Lx, Ly, D, seed, symmetry, Nf=N_f)\n",
    "\n",
    "edges = qtn.edges_2d_square(Lx, Ly, cyclic=cyclic)\n",
    "site_info = sr.utils.parse_edges_to_site_info(\n",
    "    edges,\n",
    "    D,\n",
    "    phys_dim=2,\n",
    "    site_ind_id=\"k{},{}\",\n",
    "    site_tag_id=\"I{},{}\",\n",
    ")\n",
    "\n",
    "peps = qtn.TensorNetwork()\n",
    "parity_config = np.zeros(Lx*Ly, dtype=int)\n",
    "rng = np.random.default_rng(seed)\n",
    "for site, info in sorted(site_info.items()):\n",
    "    tid = site[0] * Ly + site[1]\n",
    "    # bond index charge distribution\n",
    "    block_indices = [\n",
    "        sr.BlockIndex({0: d // 2, 1: d // 2}, dual=dual)\n",
    "        for d, dual in zip(info[\"shape\"][:-1], info[\"duals\"][:-1])\n",
    "    ]\n",
    "\n",
    "    # physical index\n",
    "    p = info['shape'][-1]\n",
    "    block_indices.append(\n",
    "        sr.BlockIndex({0: p // 2, 1: p // 2}, dual=info[\"duals\"][-1])\n",
    "    )\n",
    "\n",
    "    data = sr.Z2FermionicArray.random(\n",
    "        block_indices,\n",
    "        charge=1 if parity_config[tid] else 0,\n",
    "        seed=rng,\n",
    "        oddpos=2*tid,\n",
    "    )\n",
    "\n",
    "    peps |= qtn.Tensor(\n",
    "        data=data,\n",
    "        inds=info[\"inds\"],\n",
    "        tags=info[\"tags\"],\n",
    "    )\n",
    "\n",
    "# required to view general TN as an actual PEPS\n",
    "for i, j in site_info:\n",
    "    peps[f\"I{i},{j}\"].add_tag([f\"X{i}\", f\"Y{j}\"])\n",
    "\n",
    "peps.view_as_(\n",
    "    fPEPS,\n",
    "    site_ind_id=\"k{},{}\",\n",
    "    site_tag_id=\"I{},{}\",\n",
    "    x_tag_id=\"X{}\",\n",
    "    y_tag_id=\"Y{}\",\n",
    "    Lx=Lx,\n",
    "    Ly=Ly,\n",
    ")\n",
    "peps = peps.copy() # set symmetry during initialization"
   ]
  },
  {
   "cell_type": "code",
   "execution_count": null,
   "metadata": {},
   "outputs": [],
   "source": [
    "peps.draw()"
   ]
  }
 ],
 "metadata": {
  "kernelspec": {
   "display_name": "vmc_torch",
   "language": "python",
   "name": "python3"
  },
  "language_info": {
   "codemirror_mode": {
    "name": "ipython",
    "version": 3
   },
   "file_extension": ".py",
   "mimetype": "text/x-python",
   "name": "python",
   "nbconvert_exporter": "python",
   "pygments_lexer": "ipython3",
   "version": "3.9.20"
  }
 },
 "nbformat": 4,
 "nbformat_minor": 2
}
